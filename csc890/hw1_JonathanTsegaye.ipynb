{
 "cells": [
  {
   "cell_type": "code",
   "execution_count": 2,
   "id": "40b8b45a",
   "metadata": {},
   "outputs": [],
   "source": [
    "from os.path import exists\n",
    "import requests\n",
    "from typing import *\n",
    "\n",
    "import numpy as np\n",
    "import pandas as pd\n",
    "from tqdm.notebook import trange, tqdm"
   ]
  },
  {
   "cell_type": "markdown",
   "id": "1c3591ce",
   "metadata": {},
   "source": [
    "# Homework 1: Linear Algebra and Linear Regression\n",
    "\n",
    "1. Answer each question.\n",
    "2. Feel free to leave in testing code and other visualization code."
   ]
  },
  {
   "cell_type": "markdown",
   "id": "916d1cfa",
   "metadata": {},
   "source": [
    "## Problem 1 (30 pts)\n",
    "\n",
    "Determine if each column of a $(n x m)$ matrix $X$ is a basis for $R^n$ where $n \\geq 1$ and $m \\geq 1$.\n",
    "\n",
    "Example 1:\n",
    "$$\n",
    "A = \\begin{pmatrix}\n",
    "0.5 & 0 \\\\\n",
    "0 & -0.2 \n",
    "\\end{pmatrix}\n",
    "$$\n",
    "\n",
    "```\n",
    "check_basis(A) = true\n",
    "```\n",
    "\n",
    "Example 2:\n",
    "$$\n",
    "B = \\begin{pmatrix}\n",
    "0.5 \\\\\n",
    "0 \n",
    "\\end{pmatrix}\n",
    "$$\n",
    "\n",
    "```\n",
    "check_basis(B) = false\n",
    "```\n",
    "\n",
    "Example 3:\n",
    "$$\n",
    "C = \\begin{pmatrix}\n",
    "0.5 & 0 \\\\\n",
    "0.2 & -0.2 \\\\\n",
    "0.3 & -0.4 \n",
    "\\end{pmatrix}\n",
    "$$\n",
    "\n",
    "```\n",
    "check_basis(C) = false\n",
    "```\n",
    "\n",
    "Example 4:\n",
    "$$\n",
    "D = \\begin{pmatrix}\n",
    "0.5 & 0 & 1 \\\\\n",
    "0.2 & -0.2 & 1 \\\\\n",
    "\\end{pmatrix}\n",
    "$$\n",
    "\n",
    "```\n",
    "check_basis(D) = true\n",
    "```"
   ]
  },
  {
   "cell_type": "code",
   "execution_count": 24,
   "id": "b7843441",
   "metadata": {},
   "outputs": [
    {
     "name": "stdout",
     "output_type": "stream",
     "text": [
      "A:  True\n",
      "B:  False\n",
      "C:  False\n",
      "D:  True\n"
     ]
    }
   ],
   "source": [
    "def check_basis(X: np.ndarray) -> bool:\n",
    "    shape = X.shape\n",
    "# if the number of columns is less than rows, we cannot have a spanning set.\n",
    "# must have at least n vectors to span a R**n space\n",
    "    if shape[1] < shape[0]:\n",
    "        return False\n",
    "    b = np.zeros(X.shape)\n",
    "    for col in range(shape[1]-1):\n",
    "        curcol = [X[:,col]]\n",
    "        curcol = np.transpose(curcol)\n",
    "#Test linear independece of each vector\n",
    "        for nextcol in range(col+1, shape[1]):\n",
    "            nextcol = [X[:, nextcol]]\n",
    "            nextcol = np.transpose(nextcol)\n",
    "            A = np.concatenate((curcol, nextcol), axis =1)\n",
    "            # If any vector is not linearly independent, return false\n",
    "            try:\n",
    "                if (np.sum(np.linalg.solve(A, b)) != 0):\n",
    "                    return False\n",
    "            except:\n",
    "                return False\n",
    "    return True\n",
    "A = np.array([[0.5, 0], [0, -0.2]])\n",
    "print(\"A: \",check_basis(A))\n",
    "\n",
    "B = np.array([[0.5],[0]])\n",
    "print(\"B: \",check_basis(B))\n",
    "\n",
    "C = np.array([[0.5, 0], [0.2, -0.2],[0.3,-0.4]])\n",
    "print(\"C: \", check_basis(C))\n",
    "\n",
    "D = np.array([[0.5, 0,1], [0.2, -0.2,1]])\n",
    "print(\"D: \",check_basis(D))\n",
    "\n",
    "\n",
    "# TEST\n",
    "# E = np.array([[1, 2, 3], [4, 5, 6], [7, 8, 9]])\n",
    "# print(\"E: \",check_basis(E))\n",
    "\n",
    "            \n",
    "        "
   ]
  },
  {
   "cell_type": "code",
   "execution_count": 3,
   "id": "0058c70b",
   "metadata": {},
   "outputs": [
    {
     "data": {
      "text/plain": [
       "array([[ 0.5,  0. ,  1. ],\n",
       "       [ 0.2, -0.2,  1. ]])"
      ]
     },
     "execution_count": 3,
     "metadata": {},
     "output_type": "execute_result"
    }
   ],
   "source": [
    "a =np.array([[0.5,0,1],[0.2,-0.2,1]])\n",
    "a"
   ]
  },
  {
   "cell_type": "code",
   "execution_count": 4,
   "id": "040a51af",
   "metadata": {},
   "outputs": [
    {
     "name": "stdout",
     "output_type": "stream",
     "text": [
      "[[1.]\n",
      " [1.]]\n",
      "[[ 0. ]\n",
      " [-0.2]]\n"
     ]
    }
   ],
   "source": [
    "x = [a[:,2]]\n",
    "y = [a[:,1]]\n",
    "xt = np.transpose(x)\n",
    "yt = np.transpose(y)\n",
    "print(np.transpose(x))\n",
    "print(np.transpose(y))\n"
   ]
  },
  {
   "cell_type": "code",
   "execution_count": 5,
   "id": "63d3d90a",
   "metadata": {},
   "outputs": [
    {
     "data": {
      "text/plain": [
       "array([[ 1. ,  0. ],\n",
       "       [ 1. , -0.2]])"
      ]
     },
     "execution_count": 5,
     "metadata": {},
     "output_type": "execute_result"
    }
   ],
   "source": [
    "z = np.concatenate((xt,yt),axis=1)\n",
    "z"
   ]
  },
  {
   "cell_type": "markdown",
   "id": "d4526ee4",
   "metadata": {},
   "source": [
    "## Problem 2 (30 pts)\n",
    "\n",
    "We saw that we could solve\n",
    "$$\n",
    "Ax = b\n",
    "$$\n",
    "where $A$ is a $n \\times n$ matrix, $x$ is a $n \\times 1$ vector, and $b$ is a $n \\times 1$ vector."
   ]
  },
  {
   "cell_type": "markdown",
   "id": "9a9bcb2e",
   "metadata": {},
   "source": [
    "### Problem 2a (20 pts)\n",
    "\n",
    "Write a function that solves the matrix equation for $n \\times n$ $X$\n",
    "$$\n",
    "AX = B\n",
    "$$\n",
    "where $A$ is a $n \\times n$ matrix and $B$ is a $n \\times n$ matrix."
   ]
  },
  {
   "cell_type": "code",
   "execution_count": 6,
   "id": "f0cabba5",
   "metadata": {},
   "outputs": [
    {
     "data": {
      "text/plain": [
       "array([[2.],\n",
       "       [2.]])"
      ]
     },
     "execution_count": 6,
     "metadata": {},
     "output_type": "execute_result"
    }
   ],
   "source": [
    "a = np.array([[2,0],[0,1]])\n",
    "b = np.array([[4],[2]])\n",
    "def solve_matrix(A: np.ndarray, B: np.ndarray) -> np.ndarray:\n",
    "    x = np.dot(np.linalg.inv(A), B)\n",
    "    \n",
    "    return x\n",
    "    pass\n",
    "solve_matrix(a,b)"
   ]
  },
  {
   "cell_type": "markdown",
   "id": "fe9e5f83",
   "metadata": {},
   "source": [
    "### Problem 2b (10 pts)\n",
    "\n",
    "Write a function that solves the matrix equation for $n \\times n$ $X$\n",
    "$$\n",
    "A_1 A_2 X = B\n",
    "$$\n",
    "where $A_1$, $A_2$, and $B$ are $n \\times n$ matrices."
   ]
  },
  {
   "cell_type": "code",
   "execution_count": 7,
   "id": "06638aa1",
   "metadata": {},
   "outputs": [
    {
     "name": "stdout",
     "output_type": "stream",
     "text": [
      "[[1.]\n",
      " [2.]]\n"
     ]
    }
   ],
   "source": [
    "def solve_matrix2(A1: np.ndarray, A2: np.ndarray, B: np.ndarray) -> np.ndarray:\n",
    "    x = np.dot(np.dot(np.linalg.inv(A1), np.linalg.inv(A2)),B)\n",
    "    return x\n",
    "    pass\n",
    "print(solve_matrix2(a,a,b))"
   ]
  },
  {
   "cell_type": "markdown",
   "id": "bb03b443",
   "metadata": {},
   "source": [
    "## Problem 3 (40 pts)\n",
    "\n",
    "Now we'll get to practice using linear regression on a dataset."
   ]
  },
  {
   "cell_type": "code",
   "execution_count": 8,
   "id": "efa4c576",
   "metadata": {},
   "outputs": [],
   "source": [
    "if not exists('casp.csv'):\n",
    "    url = \"https://archive.ics.uci.edu/ml/machine-learning-databases/00265/CASP.csv\"\n",
    "    response = requests.get(url, stream=True)\n",
    "\n",
    "    with open(\"casp.csv\", \"wb\") as f:\n",
    "        for data in tqdm(response.iter_content()):\n",
    "            f.write(data)"
   ]
  },
  {
   "cell_type": "code",
   "execution_count": 9,
   "id": "720ddbdf",
   "metadata": {},
   "outputs": [
    {
     "data": {
      "text/html": [
       "<div>\n",
       "<style scoped>\n",
       "    .dataframe tbody tr th:only-of-type {\n",
       "        vertical-align: middle;\n",
       "    }\n",
       "\n",
       "    .dataframe tbody tr th {\n",
       "        vertical-align: top;\n",
       "    }\n",
       "\n",
       "    .dataframe thead th {\n",
       "        text-align: right;\n",
       "    }\n",
       "</style>\n",
       "<table border=\"1\" class=\"dataframe\">\n",
       "  <thead>\n",
       "    <tr style=\"text-align: right;\">\n",
       "      <th></th>\n",
       "      <th>RMSD</th>\n",
       "      <th>F1</th>\n",
       "      <th>F2</th>\n",
       "      <th>F3</th>\n",
       "      <th>F4</th>\n",
       "      <th>F5</th>\n",
       "      <th>F6</th>\n",
       "      <th>F7</th>\n",
       "      <th>F8</th>\n",
       "      <th>F9</th>\n",
       "    </tr>\n",
       "  </thead>\n",
       "  <tbody>\n",
       "    <tr>\n",
       "      <th>0</th>\n",
       "      <td>17.284</td>\n",
       "      <td>13558.30</td>\n",
       "      <td>4305.35</td>\n",
       "      <td>0.31754</td>\n",
       "      <td>162.1730</td>\n",
       "      <td>1.872791e+06</td>\n",
       "      <td>215.3590</td>\n",
       "      <td>4287.87</td>\n",
       "      <td>102</td>\n",
       "      <td>27.0302</td>\n",
       "    </tr>\n",
       "    <tr>\n",
       "      <th>1</th>\n",
       "      <td>6.021</td>\n",
       "      <td>6191.96</td>\n",
       "      <td>1623.16</td>\n",
       "      <td>0.26213</td>\n",
       "      <td>53.3894</td>\n",
       "      <td>8.034467e+05</td>\n",
       "      <td>87.2024</td>\n",
       "      <td>3328.91</td>\n",
       "      <td>39</td>\n",
       "      <td>38.5468</td>\n",
       "    </tr>\n",
       "    <tr>\n",
       "      <th>2</th>\n",
       "      <td>9.275</td>\n",
       "      <td>7725.98</td>\n",
       "      <td>1726.28</td>\n",
       "      <td>0.22343</td>\n",
       "      <td>67.2887</td>\n",
       "      <td>1.075648e+06</td>\n",
       "      <td>81.7913</td>\n",
       "      <td>2981.04</td>\n",
       "      <td>29</td>\n",
       "      <td>38.8119</td>\n",
       "    </tr>\n",
       "    <tr>\n",
       "      <th>3</th>\n",
       "      <td>15.851</td>\n",
       "      <td>8424.58</td>\n",
       "      <td>2368.25</td>\n",
       "      <td>0.28111</td>\n",
       "      <td>67.8325</td>\n",
       "      <td>1.210472e+06</td>\n",
       "      <td>109.4390</td>\n",
       "      <td>3248.22</td>\n",
       "      <td>70</td>\n",
       "      <td>39.0651</td>\n",
       "    </tr>\n",
       "    <tr>\n",
       "      <th>4</th>\n",
       "      <td>7.962</td>\n",
       "      <td>7460.84</td>\n",
       "      <td>1736.94</td>\n",
       "      <td>0.23280</td>\n",
       "      <td>52.4123</td>\n",
       "      <td>1.021020e+06</td>\n",
       "      <td>94.5234</td>\n",
       "      <td>2814.42</td>\n",
       "      <td>41</td>\n",
       "      <td>39.9147</td>\n",
       "    </tr>\n",
       "    <tr>\n",
       "      <th>...</th>\n",
       "      <td>...</td>\n",
       "      <td>...</td>\n",
       "      <td>...</td>\n",
       "      <td>...</td>\n",
       "      <td>...</td>\n",
       "      <td>...</td>\n",
       "      <td>...</td>\n",
       "      <td>...</td>\n",
       "      <td>...</td>\n",
       "      <td>...</td>\n",
       "    </tr>\n",
       "    <tr>\n",
       "      <th>45725</th>\n",
       "      <td>3.762</td>\n",
       "      <td>8037.12</td>\n",
       "      <td>2777.68</td>\n",
       "      <td>0.34560</td>\n",
       "      <td>64.3390</td>\n",
       "      <td>1.105797e+06</td>\n",
       "      <td>112.7460</td>\n",
       "      <td>3384.21</td>\n",
       "      <td>84</td>\n",
       "      <td>36.8036</td>\n",
       "    </tr>\n",
       "    <tr>\n",
       "      <th>45726</th>\n",
       "      <td>6.521</td>\n",
       "      <td>7978.76</td>\n",
       "      <td>2508.57</td>\n",
       "      <td>0.31440</td>\n",
       "      <td>75.8654</td>\n",
       "      <td>1.116725e+06</td>\n",
       "      <td>102.2770</td>\n",
       "      <td>3974.52</td>\n",
       "      <td>54</td>\n",
       "      <td>36.0470</td>\n",
       "    </tr>\n",
       "    <tr>\n",
       "      <th>45727</th>\n",
       "      <td>10.356</td>\n",
       "      <td>7726.65</td>\n",
       "      <td>2489.58</td>\n",
       "      <td>0.32220</td>\n",
       "      <td>70.9903</td>\n",
       "      <td>1.076560e+06</td>\n",
       "      <td>103.6780</td>\n",
       "      <td>3290.46</td>\n",
       "      <td>46</td>\n",
       "      <td>37.4718</td>\n",
       "    </tr>\n",
       "    <tr>\n",
       "      <th>45728</th>\n",
       "      <td>9.791</td>\n",
       "      <td>8878.93</td>\n",
       "      <td>3055.78</td>\n",
       "      <td>0.34416</td>\n",
       "      <td>94.0314</td>\n",
       "      <td>1.242266e+06</td>\n",
       "      <td>115.1950</td>\n",
       "      <td>3421.79</td>\n",
       "      <td>41</td>\n",
       "      <td>35.6045</td>\n",
       "    </tr>\n",
       "    <tr>\n",
       "      <th>45729</th>\n",
       "      <td>18.827</td>\n",
       "      <td>12732.40</td>\n",
       "      <td>4444.36</td>\n",
       "      <td>0.34905</td>\n",
       "      <td>157.6300</td>\n",
       "      <td>1.788897e+06</td>\n",
       "      <td>229.4590</td>\n",
       "      <td>4626.85</td>\n",
       "      <td>141</td>\n",
       "      <td>29.8118</td>\n",
       "    </tr>\n",
       "  </tbody>\n",
       "</table>\n",
       "<p>45730 rows × 10 columns</p>\n",
       "</div>"
      ],
      "text/plain": [
       "         RMSD        F1       F2       F3        F4            F5        F6  \\\n",
       "0      17.284  13558.30  4305.35  0.31754  162.1730  1.872791e+06  215.3590   \n",
       "1       6.021   6191.96  1623.16  0.26213   53.3894  8.034467e+05   87.2024   \n",
       "2       9.275   7725.98  1726.28  0.22343   67.2887  1.075648e+06   81.7913   \n",
       "3      15.851   8424.58  2368.25  0.28111   67.8325  1.210472e+06  109.4390   \n",
       "4       7.962   7460.84  1736.94  0.23280   52.4123  1.021020e+06   94.5234   \n",
       "...       ...       ...      ...      ...       ...           ...       ...   \n",
       "45725   3.762   8037.12  2777.68  0.34560   64.3390  1.105797e+06  112.7460   \n",
       "45726   6.521   7978.76  2508.57  0.31440   75.8654  1.116725e+06  102.2770   \n",
       "45727  10.356   7726.65  2489.58  0.32220   70.9903  1.076560e+06  103.6780   \n",
       "45728   9.791   8878.93  3055.78  0.34416   94.0314  1.242266e+06  115.1950   \n",
       "45729  18.827  12732.40  4444.36  0.34905  157.6300  1.788897e+06  229.4590   \n",
       "\n",
       "            F7   F8       F9  \n",
       "0      4287.87  102  27.0302  \n",
       "1      3328.91   39  38.5468  \n",
       "2      2981.04   29  38.8119  \n",
       "3      3248.22   70  39.0651  \n",
       "4      2814.42   41  39.9147  \n",
       "...        ...  ...      ...  \n",
       "45725  3384.21   84  36.8036  \n",
       "45726  3974.52   54  36.0470  \n",
       "45727  3290.46   46  37.4718  \n",
       "45728  3421.79   41  35.6045  \n",
       "45729  4626.85  141  29.8118  \n",
       "\n",
       "[45730 rows x 10 columns]"
      ]
     },
     "execution_count": 9,
     "metadata": {},
     "output_type": "execute_result"
    }
   ],
   "source": [
    "df = pd.read_csv('casp.csv')\n",
    "df"
   ]
  },
  {
   "cell_type": "markdown",
   "id": "e126e6dd",
   "metadata": {},
   "source": [
    "### Problem 3a (10 pts)\n",
    "\n",
    "Write a function that splits a data matrix X into two halves according to train which gives the percentage of the dataset to put in the first half. Each row of the data matrix corresponds to a point and each column corresponds to a feature.\n",
    "\n",
    "1. A number of 50 means 50% in the first half and 50% in the second half.\n",
    "2. A number of 20 means 20% in the first half and 80% in the second half."
   ]
  },
  {
   "cell_type": "code",
   "execution_count": 10,
   "id": "2ec55460",
   "metadata": {},
   "outputs": [],
   "source": [
    "a =np.array([[0.5,0,1],[0.2,-0.2,1],[0.5,0,1],[0.2,-0.2,1],[0.5,0,1],[0.2,-0.2,1],[0.5,0,1],[0.2,-0.2,1],[0.5,0,1],[0.2,-0.2,1]])"
   ]
  },
  {
   "cell_type": "code",
   "execution_count": 11,
   "id": "29cbfc90",
   "metadata": {},
   "outputs": [
    {
     "data": {
      "text/plain": [
       "([array([[ 0.5,  0. ,  1. ],\n",
       "         [ 0.2, -0.2,  1. ],\n",
       "         [ 0.5,  0. ,  1. ]])],\n",
       " [array([[ 0.2, -0.2,  1. ],\n",
       "         [ 0.5,  0. ,  1. ],\n",
       "         [ 0.2, -0.2,  1. ],\n",
       "         [ 0.5,  0. ,  1. ],\n",
       "         [ 0.2, -0.2,  1. ],\n",
       "         [ 0.5,  0. ,  1. ],\n",
       "         [ 0.2, -0.2,  1. ]])])"
      ]
     },
     "execution_count": 11,
     "metadata": {},
     "output_type": "execute_result"
    }
   ],
   "source": [
    "def split_dataset(X: np.ndarray, train: int) -> (np.ndarray, np.ndarray):\n",
    "    if 0 > train or train > 100:\n",
    "        raise ValueError(\"Train should be between 0 and 100\")\n",
    "    row = int((train * X.shape[0])/100)\n",
    "    return ([X[0:row,:]], [X[row:,:]])\n",
    "split_dataset(a, 30)"
   ]
  },
  {
   "cell_type": "markdown",
   "id": "027773ee",
   "metadata": {},
   "source": [
    "### Problem 3b (10 pts)\n",
    "\n",
    "Write a function that takes a Pandas dataframe `df`, a list of features `feature_keys` which are columns in a Pandas dataframe, and a Pandas key `y_key` that is a column corresponding to the regression value, and produces the weights of the linear regression.\n",
    "1. The constant weight should be the $0$-th index.\n",
    "2. The weights should be given in the order of the features."
   ]
  },
  {
   "cell_type": "code",
   "execution_count": 12,
   "id": "bffb557e",
   "metadata": {},
   "outputs": [
    {
     "data": {
      "text/plain": [
       "array([[1., 1.],\n",
       "       [2., 1.],\n",
       "       [3., 1.]])"
      ]
     },
     "execution_count": 12,
     "metadata": {},
     "output_type": "execute_result"
    }
   ],
   "source": [
    "A = np.concatenate([np.array([[1],[2],[3]]), np.ones((3,1))],axis=1)\n",
    "A"
   ]
  },
  {
   "cell_type": "code",
   "execution_count": 13,
   "id": "54f824a0",
   "metadata": {},
   "outputs": [
    {
     "data": {
      "text/plain": [
       "array([[1., 2., 3., 1.],\n",
       "       [4., 5., 6., 1.]])"
      ]
     },
     "execution_count": 13,
     "metadata": {},
     "output_type": "execute_result"
    }
   ],
   "source": [
    "X= np.array([[1,2,3],[4,5,6]])\n",
    "A = np.concatenate([X,np.ones((X.shape[0],1))],axis=1)\n",
    "A"
   ]
  },
  {
   "cell_type": "code",
   "execution_count": 14,
   "id": "b735364d",
   "metadata": {},
   "outputs": [],
   "source": [
    "# def fit_regression(X, y):\n",
    "#     A = np.concatenate([X, np.ones((X.shape[0],1))], axis=1)\n",
    "#     return np.linalg.solve(A.transpose() @ A, A.transpose() @ y)"
   ]
  },
  {
   "cell_type": "code",
   "execution_count": 24,
   "id": "ca355b87",
   "metadata": {},
   "outputs": [],
   "source": [
    "def fit_regression(df: pd.DataFrame, feature_keys: List[str], y_key: str) -> np.ndarray:\n",
    "    X = df[feature_keys]\n",
    "    y = df[y_key]\n",
    "    A = np.concatenate([X, np.ones((X.shape[0],1))], axis=1)\n",
    "    return np.linalg.solve(A.transpose() @ A, A.transpose() @ y)"
   ]
  },
  {
   "cell_type": "code",
   "execution_count": 31,
   "id": "dfc7cc77",
   "metadata": {},
   "outputs": [
    {
     "name": "stdout",
     "output_type": "stream",
     "text": [
      "[-1.53485667e-03  6.45846770e-04  4.77263933e+01]\n"
     ]
    }
   ],
   "source": [
    "feature_keys = [\"F1\",\"F2\"]\n",
    "y_key = \"F9\"\n",
    "print(fit_regression(df, [\"F1\",\"F2\"], \"F9\"))"
   ]
  },
  {
   "cell_type": "markdown",
   "id": "e3d1089a",
   "metadata": {},
   "source": [
    "### Problem 3c (10 pts)\n",
    "\n",
    "Write a prediction function that takes the weights of a linear regression, a data point, and produces a prediction."
   ]
  },
  {
   "cell_type": "code",
   "execution_count": 26,
   "id": "f05964a0",
   "metadata": {},
   "outputs": [
    {
     "data": {
      "text/plain": [
       "array([13558.3])"
      ]
     },
     "execution_count": 26,
     "metadata": {},
     "output_type": "execute_result"
    }
   ],
   "source": [
    "np.array([[13558.3]])[0]"
   ]
  },
  {
   "cell_type": "code",
   "execution_count": 27,
   "id": "7bf77390",
   "metadata": {},
   "outputs": [
    {
     "data": {
      "text/plain": [
       "array([[13558.3 ],\n",
       "       [ 6191.96],\n",
       "       [ 7725.98],\n",
       "       ...,\n",
       "       [ 7726.65],\n",
       "       [ 8878.93],\n",
       "       [12732.4 ]])"
      ]
     },
     "execution_count": 27,
     "metadata": {},
     "output_type": "execute_result"
    }
   ],
   "source": [
    "np.transpose(np.array([df[\"F1\"]]))"
   ]
  },
  {
   "cell_type": "code",
   "execution_count": 28,
   "id": "67f94370",
   "metadata": {},
   "outputs": [
    {
     "data": {
      "text/plain": [
       "47.72550431847543"
      ]
     },
     "execution_count": 28,
     "metadata": {},
     "output_type": "execute_result"
    }
   ],
   "source": [
    "def prediction(weights: np.ndarray, x: np.ndarray) -> float:\n",
    "    prediction = weights[0]\n",
    "    weightIdx = 1\n",
    "    for dataPoint in x:\n",
    "        prediction += weights[weightIdx]\n",
    "        weightIdx += 1\n",
    "    return prediction\n",
    "    pass\n",
    "prediction(fit_regression(df, [\"F1\",\"F2\"], \"F9\"), np.array([[13558.3],[122]]))"
   ]
  },
  {
   "cell_type": "markdown",
   "id": "60a8cbc6",
   "metadata": {},
   "source": [
    "### Problem 3d (10 pts)\n",
    "\n",
    "Write a function that computes the root mean square error (rmse) on a data matrix $X$ with rows $X_1, \\dots X_n$, and corresponding values $y = (y_1 \\dots y_n)$ given a prediction function $f$. The rmse is defined as\n",
    "$$\n",
    "\\sqrt{\\frac{1}{n}\\sum_{i=1}^n \\lVert f(X_i) - y_i \\rVert^2}\n",
    "$$"
   ]
  },
  {
   "cell_type": "code",
   "execution_count": 29,
   "id": "ab76e55c",
   "metadata": {},
   "outputs": [],
   "source": [
    "def rmse(prediction: Callable[[np.ndarray, np.ndarray], float], X: np.ndarray, y: np.ndarray) -> float:\n",
    "#     fit_regression(df: pd.DataFrame, feature_keys: List[str], y_key: str) \n",
    "    A = np.concatenate([X, np.ones((X.shape[0],1))], axis=1)\n",
    "    weights = np.linalg.solve(A.transpose() @ A, A.transpose() @ y)\n",
    "    predictions = []\n",
    "    n = y.shape[0]\n",
    "    qsum = 0\n",
    "    yIdx = 0\n",
    "    for data in X.values:\n",
    "        qsum += abs(prediction(weights,data) - y[yIdx])**2 / n\n",
    "    return np.sqrt(qsum)"
   ]
  },
  {
   "cell_type": "code",
   "execution_count": 32,
   "id": "67752736",
   "metadata": {},
   "outputs": [
    {
     "name": "stdout",
     "output_type": "stream",
     "text": [
      "20.695304318482957\n"
     ]
    }
   ],
   "source": [
    "print(rmse(prediction, df[feature_keys], df[y_key]))"
   ]
  },
  {
   "cell_type": "code",
   "execution_count": null,
   "id": "b0f69c88",
   "metadata": {},
   "outputs": [],
   "source": []
  }
 ],
 "metadata": {
  "kernelspec": {
   "display_name": "Python 3 (ipykernel)",
   "language": "python",
   "name": "python3"
  },
  "language_info": {
   "codemirror_mode": {
    "name": "ipython",
    "version": 3
   },
   "file_extension": ".py",
   "mimetype": "text/x-python",
   "name": "python",
   "nbconvert_exporter": "python",
   "pygments_lexer": "ipython3",
   "version": "3.7.3"
  }
 },
 "nbformat": 4,
 "nbformat_minor": 5
}
