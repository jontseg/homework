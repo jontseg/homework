{
 "cells": [
  {
   "cell_type": "code",
   "execution_count": 1,
   "id": "40b8b45a",
   "metadata": {},
   "outputs": [],
   "source": [
    "from os.path import exists\n",
    "import requests\n",
    "from typing import *\n",
    "\n",
    "import numpy as np\n",
    "import pandas as pd\n",
    "from tqdm.notebook import trange, tqdm"
   ]
  },
  {
   "cell_type": "markdown",
   "id": "1c3591ce",
   "metadata": {},
   "source": [
    "# Homework 1: Linear Algebra and Linear Regression\n",
    "\n",
    "1. Answer each question.\n",
    "2. Feel free to leave in testing code and other visualization code."
   ]
  },
  {
   "cell_type": "markdown",
   "id": "916d1cfa",
   "metadata": {},
   "source": [
    "## Problem 1 (30 pts)\n",
    "\n",
    "Determine if each column of a $(n x m)$ matrix $X$ is a basis for $R^n$ where $n \\geq 1$ and $m \\geq 1$.\n",
    "\n",
    "Example 1:\n",
    "$$\n",
    "A = \\begin{pmatrix}\n",
    "0.5 & 0 \\\\\n",
    "0 & -0.2 \n",
    "\\end{pmatrix}\n",
    "$$\n",
    "\n",
    "```\n",
    "check_basis(A) = true\n",
    "```\n",
    "\n",
    "Example 2:\n",
    "$$\n",
    "B = \\begin{pmatrix}\n",
    "0.5 \\\\\n",
    "0 \n",
    "\\end{pmatrix}\n",
    "$$\n",
    "\n",
    "```\n",
    "check_basis(B) = false\n",
    "```\n",
    "\n",
    "Example 3:\n",
    "$$\n",
    "C = \\begin{pmatrix}\n",
    "0.5 & 0 \\\\\n",
    "0.2 & -0.2 \\\\\n",
    "0.3 & -0.4 \n",
    "\\end{pmatrix}\n",
    "$$\n",
    "\n",
    "```\n",
    "check_basis(C) = false\n",
    "```\n",
    "\n",
    "Example 4:\n",
    "$$\n",
    "D = \\begin{pmatrix}\n",
    "0.5 & 0 & 1 \\\\\n",
    "0.2 & -0.2 & 1 \\\\\n",
    "\\end{pmatrix}\n",
    "$$\n",
    "\n",
    "```\n",
    "check_basis(D) = true\n",
    "```"
   ]
  },
  {
   "cell_type": "code",
   "execution_count": null,
   "id": "b7843441",
   "metadata": {},
   "outputs": [],
   "source": [
    "def check_basis(X: np.ndarray) -> bool:\n",
    "    pass"
   ]
  },
  {
   "cell_type": "markdown",
   "id": "d4526ee4",
   "metadata": {},
   "source": [
    "## Problem 2 (30 pts)\n",
    "\n",
    "We saw that we could solve\n",
    "$$\n",
    "Ax = b\n",
    "$$\n",
    "where $A$ is a $n \\times n$ matrix, $x$ is a $n \\times 1$ vector, and $b$ is a $n \\times 1$ vector."
   ]
  },
  {
   "cell_type": "markdown",
   "id": "9a9bcb2e",
   "metadata": {},
   "source": [
    "### Problem 2a (20 pts)\n",
    "\n",
    "Write a function that solves the matrix equation for $n \\times n$ $X$\n",
    "$$\n",
    "AX = B\n",
    "$$\n",
    "where $A$ is a $n \\times n$ matrix and $B$ is a $n \\times n$ matrix."
   ]
  },
  {
   "cell_type": "code",
   "execution_count": null,
   "id": "f0cabba5",
   "metadata": {},
   "outputs": [],
   "source": [
    "def solve_matrix(A: np.ndarray, B: np.ndarray) -> np.ndarray:\n",
    "    pass"
   ]
  },
  {
   "cell_type": "markdown",
   "id": "fe9e5f83",
   "metadata": {},
   "source": [
    "### Problem 2b (10 pts)\n",
    "\n",
    "Write a function that solves the matrix equation for $n \\times n$ $X$\n",
    "$$\n",
    "A_1 A_2 X = B\n",
    "$$\n",
    "where $A_1$, $A_2$, and $B$ are $n \\times n$ matrices."
   ]
  },
  {
   "cell_type": "code",
   "execution_count": null,
   "id": "06638aa1",
   "metadata": {},
   "outputs": [],
   "source": [
    "def solve_matrix2(A1: np.ndarray, A2: np.ndarray, B: np.ndarray) -> np.ndarray:\n",
    "    pass"
   ]
  },
  {
   "cell_type": "markdown",
   "id": "bb03b443",
   "metadata": {},
   "source": [
    "## Problem 3 (40 pts)\n",
    "\n",
    "Now we'll get to practice using linear regression on a dataset."
   ]
  },
  {
   "cell_type": "code",
   "execution_count": null,
   "id": "efa4c576",
   "metadata": {},
   "outputs": [],
   "source": [
    "if not exists('casp.csv'):\n",
    "    url = \"https://archive.ics.uci.edu/ml/machine-learning-databases/00265/CASP.csv\"\n",
    "    response = requests.get(url, stream=True)\n",
    "\n",
    "    with open(\"casp.csv\", \"wb\") as f:\n",
    "        for data in tqdm(response.iter_content()):\n",
    "            f.write(data)"
   ]
  },
  {
   "cell_type": "code",
   "execution_count": null,
   "id": "720ddbdf",
   "metadata": {},
   "outputs": [],
   "source": [
    "df = pd.read_csv('casp.csv')\n",
    "df"
   ]
  },
  {
   "cell_type": "markdown",
   "id": "e126e6dd",
   "metadata": {},
   "source": [
    "### Problem 3a (10 pts)\n",
    "\n",
    "Write a function that splits a data matrix X into two halves according to train which gives the percentage of the dataset to put in the first half. Each row of the data matrix corresponds to a point and each column corresponds to a feature.\n",
    "\n",
    "1. A number of 50 means 50% in the first half and 50% in the second half.\n",
    "2. A number of 20 means 20% in the first half and 80% in the second half."
   ]
  },
  {
   "cell_type": "code",
   "execution_count": null,
   "id": "29cbfc90",
   "metadata": {},
   "outputs": [],
   "source": [
    "def split_dataset(X: np.ndarray, train: int) -> (np.ndarray, np.ndarray):\n",
    "    if 0 < train or train > 100:\n",
    "        raise ValueError(\"Train should be between 0 and 100\")\n",
    "    \n",
    "    raise Error(\"TODO\")"
   ]
  },
  {
   "cell_type": "markdown",
   "id": "027773ee",
   "metadata": {},
   "source": [
    "### Problem 3b (10 pts)\n",
    "\n",
    "Write a function that takes a Pandas dataframe `df`, a list of features `feature_keys` which are columns in a Pandas dataframe, and a Pandas key `y_key` that is a column corresponding to the regression value, and produces the weights of the linear regression.\n",
    "1. The constant weight should be the $0$-th index.\n",
    "2. The weights should be given in the order of the features."
   ]
  },
  {
   "cell_type": "code",
   "execution_count": null,
   "id": "e3df4e73",
   "metadata": {},
   "outputs": [],
   "source": [
    "def fit_regression(df: pd.DataFrame, feature_keys: list[str], y_key: str) -> np.ndarray:\n",
    "    pass"
   ]
  },
  {
   "cell_type": "markdown",
   "id": "e3d1089a",
   "metadata": {},
   "source": [
    "### Problem 3c (10 pts)\n",
    "\n",
    "Write a prediction function that takes the weights of a linear regression, a data point, and produces a prediction."
   ]
  },
  {
   "cell_type": "code",
   "execution_count": null,
   "id": "67f94370",
   "metadata": {},
   "outputs": [],
   "source": [
    "def prediction(weights: np.ndarray, x: np.ndarray) -> float:\n",
    "    pass"
   ]
  },
  {
   "cell_type": "markdown",
   "id": "60a8cbc6",
   "metadata": {},
   "source": [
    "### Problem 3d (10 pts)\n",
    "\n",
    "Write a function that computes the root mean square error (rmse) on a data matrix $X$ with rows $X_1, \\dots X_n$, and corresponding values $y = (y_1 \\dots y_n)$ given a prediction function $f$. The rmse is defined as\n",
    "$$\n",
    "\\sqrt{\\frac{1}{n}\\sum_{i=1}^n \\lVert f(X_i) - y_i \\rVert^2}\n",
    "$$"
   ]
  },
  {
   "cell_type": "code",
   "execution_count": null,
   "id": "ab76e55c",
   "metadata": {},
   "outputs": [],
   "source": [
    "def rmse(prediction: Callable[[np.ndarray, np.ndarray], float], X: np.ndarray, y: np.ndarray) -> float:\n",
    "    pass"
   ]
  },
  {
   "cell_type": "code",
   "execution_count": null,
   "id": "67752736",
   "metadata": {},
   "outputs": [],
   "source": []
  }
 ],
 "metadata": {
  "kernelspec": {
   "display_name": "Python 3 (ipykernel)",
   "language": "python",
   "name": "python3"
  },
  "language_info": {
   "codemirror_mode": {
    "name": "ipython",
    "version": 3
   },
   "file_extension": ".py",
   "mimetype": "text/x-python",
   "name": "python",
   "nbconvert_exporter": "python",
   "pygments_lexer": "ipython3",
   "version": "3.7.3"
  }
 },
 "nbformat": 4,
 "nbformat_minor": 5
}
