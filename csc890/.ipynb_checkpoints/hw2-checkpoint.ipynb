{
 "cells": [
  {
   "cell_type": "code",
   "execution_count": 1,
   "id": "40b8b45a",
   "metadata": {},
   "outputs": [],
   "source": [
    "from os.path import exists\n",
    "import requests\n",
    "from typing import *\n",
    "\n",
    "import numpy as np\n",
    "import pandas as pd\n",
    "from tqdm.notebook import trange, tqdm"
   ]
  },
  {
   "cell_type": "markdown",
   "id": "1c3591ce",
   "metadata": {},
   "source": [
    "# Homework 2: Probability and Linear Regression\n",
    "\n",
    "1. Answer each question.\n",
    "2. Feel free to leave in testing code and other visualization code."
   ]
  },
  {
   "cell_type": "markdown",
   "id": "916d1cfa",
   "metadata": {},
   "source": [
    "## Problem 1 (40 pts): A Strange Regression Model\n",
    "\n",
    "Suppose we are fitting a regression model to a dataset $(x_i, y_i)_{1 \\leq i \\leq N}$\n",
    "\\begin{align*}\n",
    "p(y^i|x^i; \\theta) & = \\mathcal{N}(f_1(x_1^i) \\theta_1 + f_2(x_2^i) \\theta_2 + \\theta_3, 1) \\\\\n",
    "p(y |x; \\theta) & = \\prod_{i=1}^N p(y^i|x^i; \\theta)\n",
    "\\end{align*}\n",
    "where\n",
    "1. the inputs $x^i \\in \\mathbb{R}^2$ are 2-D vectors\n",
    "2. $f_1, f_2, f_3: \\mathbb{R} \\rightarrow \\mathbb{R}$ are arbitrary functions.\n",
    "3. $\\theta = (\\theta_1, \\theta_2, \\theta_3)$ is a vector of weights"
   ]
  },
  {
   "cell_type": "markdown",
   "id": "e48dd24a",
   "metadata": {},
   "source": [
    "### Problem 1a (10 pts)\n",
    "\n",
    "Implement the conditional density given below."
   ]
  },
  {
   "cell_type": "code",
   "execution_count": 2,
   "id": "e74537c8",
   "metadata": {},
   "outputs": [],
   "source": [
    "def model1_density(f1: Callable[[float], float], f2: Callable[[float], float], theta: np.ndarray, x: np.ndarray) -> float:\n",
    "    # f1 is function f_1\n",
    "    # f2 is function f_2\n",
    "    # theta is some choice of weights\n",
    "    # x is an input\n",
    "    pass"
   ]
  },
  {
   "cell_type": "markdown",
   "id": "068d0eee",
   "metadata": {},
   "source": [
    "### Problem 1b (15 pts)\n",
    "\n",
    "Write a function that solves for the weights by finding the approximate minimum of the conditional density, i.e., solve\n",
    "$$\n",
    "\\operatorname{argmin}_{\\theta} -p(y | x; \\theta)\n",
    "$$\n",
    "1. The input $X^{N \\times 2}$ is a $N \\times 2$ matrix where row $i$ of the matrix contains the input $x^i$.\n",
    "2. The input $Y^N$ is a length $N$ vector where each entry contains the corresponding value $y^i$."
   ]
  },
  {
   "cell_type": "code",
   "execution_count": 3,
   "id": "289ecd8b",
   "metadata": {},
   "outputs": [],
   "source": [
    "def solve_for_weights(f1: Callable[[float], float], f2: Callable[[float], float], X: np.ndarray, Y: np.ndarray) -> np.ndarray:\n",
    "    pass"
   ]
  },
  {
   "cell_type": "markdown",
   "id": "9bb5a24b",
   "metadata": {},
   "source": [
    "### Problem 1c (15 pts)\n",
    "\n",
    "Transform the probabilistic model into a system that can be solved with linear algebra.\n",
    "```ts\n",
    "def linear_algebra_solve(X, Y):\n",
    "    X_p = np.concatenate([X, np.ones((Y.size[0], 1))], axis=1)\n",
    "    return np.linalg.solve(X_p.transpose() @ X_p, X_p.transpose() @ Y)\n",
    "```\n",
    "That is, come up with new matrix $X'$ and vector $Y'$ such that it can be input into `linear_algebra_solve`ts to produce the same set of weights.\n"
   ]
  },
  {
   "cell_type": "code",
   "execution_count": 4,
   "id": "38d3e4c3",
   "metadata": {},
   "outputs": [],
   "source": [
    "def transform(f1: Callable[[float], float], f2: Callable[[float], float], X: np.ndarray, Y: np.ndarray) -> Tuple[np.ndarray, np.ndarray]:\n",
    "    return X, Y # TODO: change me"
   ]
  },
  {
   "cell_type": "markdown",
   "id": "d4526ee4",
   "metadata": {},
   "source": [
    "## Problem 2 (40 pts): Mixture Model\n",
    "\n",
    "Suppose that we are performing regression in a setting with the following density\n",
    "$$\n",
    "p(y|x; \\theta, \\beta) = \\frac{1}{2}p_1(y|x; \\theta) + \\frac{1}{2}p_2(y|x; \\beta)\n",
    "$$\n",
    "where both $p_1(y|x; \\theta)$ and $p_2(y|x; \\theta)$ are linear regressions."
   ]
  },
  {
   "cell_type": "markdown",
   "id": "55784262",
   "metadata": {},
   "source": [
    "### Problem 2a (10 pts)\n",
    "\n",
    "Write a function that generates synthetic data according to the following probabilistic model.\n",
    "\\begin{align*}\n",
    "z^i & \\sim Bern(0.5) \\\\\n",
    "y^i & \\sim \\begin{cases}\n",
    "\\mathcal{N}(\\theta x, 1) & \\mbox{when $Z^i = 0$} \\\\\n",
    "\\mathcal{N}(\\beta x, 1) & \\mbox{when $Z^i = 1$}\n",
    "\\end{cases}\n",
    "\\end{align*}\n",
    "In this example, we are assuming that the inputs are a single real number."
   ]
  },
  {
   "cell_type": "code",
   "execution_count": 5,
   "id": "0c337a40",
   "metadata": {},
   "outputs": [],
   "source": [
    "def generate_dataset(theta: np.ndarray, beta: np.ndarray) -> np.ndarray:\n",
    "    pass"
   ]
  },
  {
   "cell_type": "markdown",
   "id": "d93bb271",
   "metadata": {},
   "source": [
    "### Problem 2b (15 pts)\n",
    "\n",
    "Write a function that implements the conditional density\n",
    "$$\n",
    "p(y | x; \\theta, \\beta)\n",
    "$$\n",
    "assuming that each $y^i$ is conditionally independent of each other given $z_i$.\n"
   ]
  },
  {
   "cell_type": "code",
   "execution_count": 6,
   "id": "6dab3da4",
   "metadata": {},
   "outputs": [],
   "source": [
    "def mixture_model_density(theta: float, beta: float, X: np.ndarray, y: np.ndarray) -> float:\n",
    "    # X is a one dimensional array of x values\n",
    "    pass"
   ]
  },
  {
   "cell_type": "markdown",
   "id": "f6c57116",
   "metadata": {},
   "source": [
    "### Problem 2c (15 pts)\n",
    "\n",
    "Write a function that finds the optimal parameters of $\\theta$ and $\\beta$, i.e., \n",
    "$$\n",
    "\\operatorname{argmin}_{\\theta} p(y | x; \\theta, \\beta) \\,.\n",
    "$$\n",
    "You can use `generate_dataset` to test if your code is working."
   ]
  },
  {
   "cell_type": "code",
   "execution_count": 7,
   "id": "287fb2ce",
   "metadata": {},
   "outputs": [],
   "source": [
    "def solve_mixture_model_density(X: np.ndarray, Y: np.ndarray) -> Tuple[float, float]:\n",
    "    # X contains a length N array of inputs of dimension 1\n",
    "    # Y contains a length N array of outputs\n",
    "    theta = 0.0\n",
    "    beta = 0.0\n",
    "    \n",
    "    # TODO: FILL ME IN\n",
    "    \n",
    "    return theta, beta"
   ]
  },
  {
   "cell_type": "markdown",
   "id": "bb03b443",
   "metadata": {},
   "source": [
    "## Problem 3 (20 pts): Linear Regression, Duplicate Data\n",
    "\n",
    "Suppose we have a dataset $(x_i, y_i)_{1 \\leq i \\leq N}$.\n",
    "Suppose we duplicate this dataset so that it now contains a copy of each item.\n",
    "Explain in words what happens to the weights of the linear regression in terms of the linear algebra solution and in terms of the probabilistic interpretation. Compare and contrast the two solutions. You can additionally write code and give experimental evidence as well."
   ]
  },
  {
   "cell_type": "markdown",
   "id": "1d4f78cf",
   "metadata": {},
   "source": [
    "FILL ME IN"
   ]
  }
 ],
 "metadata": {
  "kernelspec": {
   "display_name": "Python 3 (ipykernel)",
   "language": "python",
   "name": "python3"
  },
  "language_info": {
   "codemirror_mode": {
    "name": "ipython",
    "version": 3
   },
   "file_extension": ".py",
   "mimetype": "text/x-python",
   "name": "python",
   "nbconvert_exporter": "python",
   "pygments_lexer": "ipython3",
   "version": "3.7.3"
  }
 },
 "nbformat": 4,
 "nbformat_minor": 5
}
