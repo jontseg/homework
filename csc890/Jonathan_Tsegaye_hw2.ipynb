{
 "cells": [
  {
   "cell_type": "code",
   "execution_count": 1,
   "id": "40b8b45a",
   "metadata": {},
   "outputs": [],
   "source": [
    "from os.path import exists\n",
    "import requests\n",
    "from typing import *\n",
    "\n",
    "import math \n",
    "import numpy as np\n",
    "import pandas as pd\n",
    "import scipy as sp\n",
    "import scipy.stats   # statistics package\n",
    "from tqdm.notebook import trange, tqdm"
   ]
  },
  {
   "cell_type": "markdown",
   "id": "1c3591ce",
   "metadata": {},
   "source": [
    "# Homework 2: Probability and Linear Regression\n",
    "\n",
    "1. Answer each question.\n",
    "2. Feel free to leave in testing code and other visualization code."
   ]
  },
  {
   "cell_type": "markdown",
   "id": "d053f01d",
   "metadata": {},
   "source": [
    "### Normal Distribution\n",
    "\n",
    "The famous Normal distribution or Gaussian distribution.\n",
    "\n",
    "$$\n",
    "X \\sim \\mathcal{N}(\\mu, \\sigma^2)\n",
    "$$\n",
    "\n",
    "means thats $X$ is a random variable with normal distribution with mean $\\mu$ and scale $\\sigma$."
   ]
  },
  {
   "cell_type": "markdown",
   "id": "d21bcc09",
   "metadata": {},
   "source": [
    "### Bayes Rule: Continuous Version\n",
    "\n",
    "Suppose $X$ and $Y$ are continuous random variables with joint density $p_{X, Y}(x, y)$.\n",
    "1. Then\n",
    "$$\n",
    "p_{X, Y}(x, y) = p_{X|Y}(x | y) p(y)\n",
    "$$\n",
    "when $p_{X|Y}(x | y)$ exists.\n",
    "2. Then\n",
    "$$\n",
    "p_{X, Y}(x, y) = p_{Y|X}(y | x) p(x)\n",
    "$$\n",
    "when $p_{Y|X}(y | x)$ exists."
   ]
  },
  {
   "cell_type": "markdown",
   "id": "742401d0",
   "metadata": {},
   "source": [
    "### Joint Density\n",
    "\n",
    "1. Like before we would like to talk about multiple continuous random variables.\n",
    "\n",
    "2. The **joint probability density function** (when it exists) of two random variables $X$ and $Y$ is written\n",
    "$$\n",
    "p_{X, Y}(x, y)\n",
    "$$\n",
    "and has the property that\n",
    "$$\n",
    "\\int_{\\infty}^\\infty \\int_{\\infty}^\\infty p_{X, Y}(x, y) dx dy = 1 \\,.\n",
    "$$\n",
    "\n",
    "3. The marginal probability density functions can be obtained by integration\n",
    "    - $p_X(x) = \\int_{-\\infty}^{\\infty} p_{X, Y}(x, y) dy$\n",
    "    - $p_Y(y) = \\int_{-\\infty}^{\\infty} p_{X, Y}(x, y) dx$"
   ]
  },
  {
   "cell_type": "markdown",
   "id": "916d1cfa",
   "metadata": {},
   "source": [
    "## Problem 1 (40 pts): A Strange Regression Model\n",
    "\n",
    "Suppose we are fitting a regression model to a dataset $(x_i, y_i)_{1 \\leq i \\leq N}$\n",
    "\\begin{align*}\n",
    "p(y^i|x^i; \\theta) & = \\mathcal{N}(f_1(x_1^i) \\theta_1 + f_2(x_2^i) \\theta_2 + \\theta_3, 1) \\\\\n",
    "p(y |x; \\theta) & = \\prod_{i=1}^N p(y^i|x^i; \\theta)\n",
    "\\end{align*}\n",
    "where\n",
    "1. the inputs $x^i \\in \\mathbb{R}^2$ are 2-D vectors\n",
    "2. $f_1, f_2, f_3: \\mathbb{R} \\rightarrow \\mathbb{R}$ are arbitrary functions.\n",
    "3. $\\theta = (\\theta_1, \\theta_2, \\theta_3)$ is a vector of weights"
   ]
  },
  {
   "cell_type": "markdown",
   "id": "e48dd24a",
   "metadata": {},
   "source": [
    "### Problem 1a (10 pts)\n",
    "\n",
    "Implement the conditional density given below."
   ]
  },
  {
   "cell_type": "code",
   "execution_count": 112,
   "id": "e8e29e5e",
   "metadata": {},
   "outputs": [],
   "source": [
    "def construct_distribution(theta, x,scale):\n",
    "    x = np.concatenate([x, np.ones((3, 1))], axis=1)\n",
    "    normals = [\n",
    "        sp.stats.norm(loc=np.dot(theta, x[0]), scale=scale),\n",
    "        sp.stats.norm(loc=np.dot(theta, x[1]), scale=scale),\n",
    "        sp.stats.norm(loc=np.dot(theta,x[2]), scale=scale)\n",
    "    ]\n",
    "    return normals\n"
   ]
  },
  {
   "cell_type": "code",
   "execution_count": 113,
   "id": "9fc8623d",
   "metadata": {},
   "outputs": [],
   "source": [
    "def model1_density(f1: Callable[[float], float], f2: Callable[[float], float], theta: np.ndarray, x: np.ndarray) -> Callable[[float], float]:\n",
    "    # f1 is function f_1\n",
    "    # f2 is function f_2\n",
    "    # theta is some choice of weights\n",
    "    # x is an input\n",
    "    # return a function from y to density\n",
    "    def y_toDensity(y:np.ndarray):\n",
    "        scale = 1\n",
    "        f1v = np.vectorize(f1)\n",
    "        f2v = np.vectorize(f2)\n",
    "        x[0] = f1v(x[0])\n",
    "        x[1] = f2v(x[1])\n",
    "        normals = construct_distribution(theta, x,scale)\n",
    "        res = 1\n",
    "        yIdx = 0\n",
    "        for norm in normals:\n",
    "            res *= norm.pdf(y[yIdx])\n",
    "            yIdx += 1\n",
    "        return res\n",
    "    return y_toDensity"
   ]
  },
  {
   "cell_type": "markdown",
   "id": "068d0eee",
   "metadata": {},
   "source": [
    "### Problem 1b (15 pts)\n",
    "\n",
    "Write a function that solves for the weights by finding the approximate minimum of the conditional density, i.e., solve\n",
    "$$\n",
    "\\operatorname{argmin}_{\\theta} -p(y | x; \\theta)\n",
    "$$\n",
    "1. The input $X^{N \\times 2}$ is a $N \\times 2$ matrix where row $i$ of the matrix contains the input $x^i$.\n",
    "2. The input $Y^N$ is a length $N$ vector where each entry contains the corresponding value $y^i$."
   ]
  },
  {
   "cell_type": "code",
   "execution_count": 109,
   "id": "5ab41540",
   "metadata": {},
   "outputs": [
    {
     "name": "stdout",
     "output_type": "stream",
     "text": [
      "Requirement already satisfied: tqdm in c:\\programdata\\anaconda3\\lib\\site-packages (4.63.0)\n",
      "Requirement already satisfied: colorama in c:\\users\\yoni\\appdata\\roaming\\python\\python37\\site-packages (from tqdm) (0.4.4)\n",
      "Note: you may need to restart the kernel to use updated packages.\n"
     ]
    },
    {
     "name": "stderr",
     "output_type": "stream",
     "text": [
      "WARNING: Ignoring invalid distribution -ordcloud (c:\\programdata\\anaconda3\\lib\\site-packages)\n",
      "WARNING: Ignoring invalid distribution -hardet (c:\\programdata\\anaconda3\\lib\\site-packages)\n",
      "WARNING: Ignoring invalid distribution -ordcloud (c:\\programdata\\anaconda3\\lib\\site-packages)\n",
      "WARNING: Ignoring invalid distribution -hardet (c:\\programdata\\anaconda3\\lib\\site-packages)\n",
      "WARNING: You are using pip version 22.0.3; however, version 22.2.2 is available.\n",
      "You should consider upgrading via the 'C:\\ProgramData\\Anaconda3\\python.exe -m pip install --upgrade pip' command.\n"
     ]
    }
   ],
   "source": [
    "pip install tqdm"
   ]
  },
  {
   "cell_type": "code",
   "execution_count": 110,
   "id": "7679acf8",
   "metadata": {},
   "outputs": [],
   "source": [
    "from tqdm import tqdm"
   ]
  },
  {
   "cell_type": "code",
   "execution_count": 111,
   "id": "34442efb",
   "metadata": {},
   "outputs": [
    {
     "name": "stderr",
     "output_type": "stream",
     "text": [
      "100%|██████████| 50/50 [00:00<00:00, 328.95it/s]\n"
     ]
    },
    {
     "data": {
      "text/plain": [
       "array([0., 0., 0.])"
      ]
     },
     "execution_count": 111,
     "metadata": {},
     "output_type": "execute_result"
    }
   ],
   "source": [
    "def solve_for_weights1(f1: Callable[[float], float], f2: Callable[[float], float], X: np.ndarray, Y: np.ndarray) -> np.ndarray:\n",
    "    thetas1 = np.linspace(0., 1)\n",
    "    thetas2 = np.linspace(0., 1.)\n",
    "    thetas3 = np.linspace(0., 1.)\n",
    "    best_theta = np.array([0., 0., 0.])\n",
    "    best_val = model1_density(f1, f2, best_theta, x)(Y)-1\n",
    "    for theta3 in tqdm(thetas3):\n",
    "        curr_theta = np.array([best_theta[0], best_theta[1], theta3])\n",
    "        curr_val = model1_density(f1,f2, curr_theta, X)(Y)-1\n",
    "        if curr_val < best_val:\n",
    "            best_val = curr_val\n",
    "            best_theta[2] = theta3\n",
    "    for theta1 in thetas1:\n",
    "        for theta2 in thetas2:\n",
    "            curr_theta = np.array([theta1, theta2, best_theta[2]])\n",
    "            curr_val = model1_density(f1,f2, curr_theta, X)(Y)*-1\n",
    "            if curr_val < best_val:\n",
    "                best_val = curr_val\n",
    "                best_theta[0] = theta1\n",
    "                best_theta[1] = theta2\n",
    "\n",
    "\n",
    "    # We are doing an argmin\n",
    "    return best_theta\n",
    "def f1(x):\n",
    "    return x\n",
    "def f2(x):\n",
    "    return x\n",
    "theta = np.array([1.,2.,3.])\n",
    "x=np.array([[1.,2.],[3.,4.],[5.,6.]])\n",
    "x_q = x.copy()\n",
    "x_q = np.concatenate([x_q, np.ones((3, 1))], axis=1)\n",
    "x_q[:,0] = f1(x_q[:,0])\n",
    "x_q[:,1] = f2(x_q[:,1])\n",
    "y = np.dot(x_q, theta)\n",
    "solve_for_weights1(f1,f2,x,y)"
   ]
  },
  {
   "cell_type": "markdown",
   "id": "9bb5a24b",
   "metadata": {},
   "source": [
    "### Problem 1c (15 pts)\n",
    "\n",
    "Transform the probabilistic model into a system that can be solved with linear algebra.\n",
    "```ts\n",
    "def linear_algebra_solve(X, Y):\n",
    "    X_p = np.concatenate([X, np.ones((Y.size[0], 1))], axis=1)\n",
    "    return np.linalg.solve(X_p.transpose() @ X_p, X_p.transpose() @ Y)\n",
    "```\n",
    "That is, come up with new matrix $X'$ and vector $Y'$ such that it can be input into `linear_algebra_solve`ts to produce the same set of weights.\n"
   ]
  },
  {
   "cell_type": "code",
   "execution_count": 117,
   "id": "38d3e4c3",
   "metadata": {},
   "outputs": [
    {
     "data": {
      "text/plain": [
       "(array([[1., 2.],\n",
       "        [3., 4.],\n",
       "        [5., 6.]]),\n",
       " array([ 8., 14., 20.]))"
      ]
     },
     "execution_count": 117,
     "metadata": {},
     "output_type": "execute_result"
    }
   ],
   "source": [
    "def transform(f1: Callable[[float], float], f2: Callable[[float], float], X: np.ndarray, Y: np.ndarray) -> Tuple[np.ndarray, np.ndarray]:\n",
    "    X_p = X.copy()\n",
    "    X_p[:,0] = f1(X_p[:,0])\n",
    "    X_p[:,1] = f2(X_p[:,1])\n",
    "    return X_p, Y # TODO: change me\n",
    "\n",
    "transform(f1, f2, x,y)"
   ]
  },
  {
   "cell_type": "code",
   "execution_count": 119,
   "id": "4aac3d65",
   "metadata": {},
   "outputs": [],
   "source": [
    "def linear_algebra_solve(X, Y):\n",
    "    print(X)\n",
    "    X_p = np.concatenate([X, np.ones((Y.shape[0], 1))], axis=1)\n",
    "    return np.linalg.solve(X_p.transpose() @ X_p, X_p.transpose() @ Y)"
   ]
  },
  {
   "cell_type": "code",
   "execution_count": 122,
   "id": "89de1994",
   "metadata": {},
   "outputs": [
    {
     "name": "stdout",
     "output_type": "stream",
     "text": [
      "[[1. 2.]\n",
      " [3. 4.]\n",
      " [5. 6.]]\n"
     ]
    },
    {
     "data": {
      "text/plain": [
       "array([-30.,  33., -28.])"
      ]
     },
     "execution_count": 122,
     "metadata": {},
     "output_type": "execute_result"
    }
   ],
   "source": [
    "X , Y = transform(f1, f2, x,y)\n",
    "linear_algebra_solve(X, Y)"
   ]
  },
  {
   "cell_type": "markdown",
   "id": "d4526ee4",
   "metadata": {},
   "source": [
    "## Problem 2 (40 pts): Mixture Model\n",
    "\n",
    "Suppose that we are performing regression in a setting with the following density\n",
    "$$\n",
    "p(y|x; \\theta, \\beta) = \\frac{1}{2}p_1(y|x; \\theta) + \\frac{1}{2}p_2(y|x; \\beta)\n",
    "$$\n",
    "where both $p_1(y|x; \\theta)$ and $p_2(y|x; \\theta)$ are linear regressions."
   ]
  },
  {
   "cell_type": "markdown",
   "id": "55784262",
   "metadata": {},
   "source": [
    "### Problem 2a (10 pts)\n",
    "\n",
    "Write a function that generates synthetic data according to the following probabilistic model.\n",
    "\\begin{align*}\n",
    "z^i & \\sim Bern(0.5) \\\\\n",
    "y^i & \\sim \\begin{cases}\n",
    "\\mathcal{N}(\\theta x, 1) & \\mbox{when $Z^i = 0$} \\\\\n",
    "\\mathcal{N}(\\beta x, 1) & \\mbox{when $Z^i = 1$}\n",
    "\\end{cases}\n",
    "\\end{align*}\n",
    "In this example, we are assuming that the inputs are a single real number."
   ]
  },
  {
   "cell_type": "code",
   "execution_count": 6,
   "id": "18bbcbce",
   "metadata": {},
   "outputs": [],
   "source": [
    "import matplotlib.pyplot as plt"
   ]
  },
  {
   "cell_type": "code",
   "execution_count": 107,
   "id": "0c337a40",
   "metadata": {},
   "outputs": [
    {
     "data": {
      "text/plain": [
       "<matplotlib.collections.PathCollection at 0x266fd469630>"
      ]
     },
     "execution_count": 107,
     "metadata": {},
     "output_type": "execute_result"
    },
    {
     "data": {
      "image/png": "[encoded data removed]",
      "text/plain": [
       "<Figure size 432x288 with 1 Axes>"
      ]
     },
     "metadata": {
      "needs_background": "light"
     },
     "output_type": "display_data"
    }
   ],
   "source": [
    "def generate_dataset(theta: np.ndarray, beta: np.ndarray, x: np.ndarray) -> np.ndarray:\n",
    "    bern = sp.stats.bernoulli(0.5)\n",
    "    y = np.array([])\n",
    "    for i in range(len(xs)):\n",
    "        z = bern.rvs()\n",
    "        if (z == 0):\n",
    "            norm1 = sp.stats.norm(np.dot(theta,x[i]), 1)\n",
    "            y = np.append(y,norm1.rvs())\n",
    "        else:\n",
    "            norm2 = sp.stats.norm(np.dot(beta,x[i]), 1)\n",
    "            y = np.append(y,norm2.rvs())\n",
    "    return y\n",
    "theta = np.array([-3])\n",
    "beta = np.array([3])\n",
    "xs = np.linspace(0, 20, num = 20)\n",
    "y = generate_dataset(theta, beta,xs)\n",
    "plt.scatter(xs, y)"
   ]
  },
  {
   "cell_type": "markdown",
   "id": "d93bb271",
   "metadata": {},
   "source": [
    "### Problem 2b (15 pts)\n",
    "\n",
    "Write a function that implements the conditional density\n",
    "$$\n",
    "p(y | x; \\theta, \\beta)\n",
    "$$\n",
    "assuming that each $y^i$ is conditionally independent of each other given $z_i$.\n"
   ]
  },
  {
   "cell_type": "code",
   "execution_count": 140,
   "id": "6dab3da4",
   "metadata": {},
   "outputs": [
    {
     "data": {
      "text/plain": [
       "[<matplotlib.lines.Line2D at 0x266fed56128>]"
      ]
     },
     "execution_count": 140,
     "metadata": {},
     "output_type": "execute_result"
    },
    {
     "data": {
      "image/png": "[encoded data removed]",
      "text/plain": [
       "<Figure size 432x288 with 1 Axes>"
      ]
     },
     "metadata": {
      "needs_background": "light"
     },
     "output_type": "display_data"
    }
   ],
   "source": [
    "def mixture_model_density(theta: float, beta: float, X: np.ndarray, y: np.ndarray) -> float:\n",
    "    # X is a one dimensional array of x values\n",
    "    res = 1\n",
    "    yIdx = 0\n",
    "    for i in range(len(X)):\n",
    "        norm1 = sp.stats.norm(loc=np.dot(theta,X[i]), scale=1.)\n",
    "        norm2 = sp.stats.norm(loc=np.dot(beta,X[i]), scale=1.)\n",
    "        res *= (0.5)*np.sum((norm1.pdf(y[yIdx]) + norm2.pdf(y[yIdx])))\n",
    "        yIdx += 1\n",
    "    return res\n",
    "theta = np.array([2])\n",
    "beta = np.array([-2])\n",
    "xs = np.linspace(0, 20, num = 100)\n",
    "y = generate_dataset(theta, beta,xs)\n",
    "mixture_model_density(theta, beta, xs, y)\n",
    "\n",
    "y_vals = [(.5* beta * val) + (.5*theta*val) for val in xs]\n",
    "fig, ax = plt.subplots()\n",
    "ax.scatter(xs, y)\n",
    "ax.plot(xs, y_vals)"
   ]
  },
  {
   "cell_type": "markdown",
   "id": "f6c57116",
   "metadata": {},
   "source": [
    "### Problem 2c (15 pts)\n",
    "\n",
    "Write a function that finds the optimal parameters of $\\theta$ and $\\beta$, i.e., \n",
    "$$\n",
    "\\operatorname{argmin}_{\\theta} p(y | x; \\theta, \\beta) \\,.\n",
    "$$\n",
    "You can use `generate_dataset` to test if your code is working."
   ]
  },
  {
   "cell_type": "code",
   "execution_count": 106,
   "id": "287fb2ce",
   "metadata": {},
   "outputs": [
    {
     "data": {
      "text/plain": [
       "(0.1020408163265306, 0.2040816326530612)"
      ]
     },
     "execution_count": 106,
     "metadata": {},
     "output_type": "execute_result"
    }
   ],
   "source": [
    "def solve_mixture_model_density(x: np.ndarray, y: np.ndarray) -> Tuple[float, float]:\n",
    "    # X contains a length N array of inputs of dimension 1\n",
    "    # Y contains a length N array of outputs\n",
    "#     theta = 0.0\n",
    "#     beta = 0.0\n",
    "    # TODO: FILL ME IN\n",
    "    thetas = np.linspace(0.,1.)\n",
    "    betas = np.linspace(0.,1.)\n",
    "    best = mixture_model_density([0.5], [0.5], x, y) * -1\n",
    "    besttheta = 0.5\n",
    "    bestbeta = 0.5\n",
    "    for theta in thetas:\n",
    "        for beta in betas:\n",
    "            curr = mixture_model_density(theta, beta, x, y) * -1\n",
    "            if curr < best:\n",
    "                best = curr\n",
    "                besttheta = theta\n",
    "                bestbeta = beta\n",
    "    return besttheta, bestbeta\n",
    "xs = np.linspace(0, 20, num = 20)\n",
    "y = y\n",
    "solve_mixture_model_density(xs,y)"
   ]
  },
  {
   "cell_type": "markdown",
   "id": "bb03b443",
   "metadata": {},
   "source": [
    "## Problem 3 (20 pts): Linear Regression, Duplicate Data\n",
    "\n",
    "Suppose we have a dataset $(x_i, y_i)_{1 \\leq i \\leq N}$.\n",
    "Suppose we duplicate this dataset so that it now contains a copy of each item.\n",
    "Explain in words what happens to the weights of the linear regression in terms of the linear algebra solution and in terms of the probabilistic interpretation. Compare and contrast the two solutions. You can additionally write code and give experimental evidence as well."
   ]
  },
  {
   "cell_type": "code",
   "execution_count": 115,
   "id": "09c8d622",
   "metadata": {},
   "outputs": [
    {
     "name": "stdout",
     "output_type": "stream",
     "text": [
      "[ 0.          1.05263158  2.10526316  3.15789474  4.21052632  5.26315789\n",
      "  6.31578947  7.36842105  8.42105263  9.47368421 10.52631579 11.57894737\n",
      " 12.63157895 13.68421053 14.73684211 15.78947368 16.84210526 17.89473684\n",
      " 18.94736842 20.          0.          1.05263158  2.10526316  3.15789474\n",
      "  4.21052632  5.26315789  6.31578947  7.36842105  8.42105263  9.47368421\n",
      " 10.52631579 11.57894737 12.63157895 13.68421053 14.73684211 15.78947368\n",
      " 16.84210526 17.89473684 18.94736842 20.        ]\n"
     ]
    }
   ],
   "source": [
    "xs = np.linspace(0, 20, num = 20)\n",
    "xs = np.append(xs,xs)\n",
    "# theta = np.array([-3])\n",
    "# beta = np.array([3])\n",
    "# xs = np.linspace(0, 20, num = 20)\n",
    "y = generate_dataset(theta, beta,xs)"
   ]
  },
  {
   "cell_type": "code",
   "execution_count": 142,
   "id": "e11ae41a",
   "metadata": {},
   "outputs": [
    {
     "name": "stdout",
     "output_type": "stream",
     "text": [
      "[[1. 2.]\n",
      " [3. 4.]\n",
      " [5. 6.]]\n",
      "best weights:  [-30.  33. -28.]\n"
     ]
    }
   ],
   "source": [
    "# One set of data\n",
    "theta = np.array([1.,2.,3.])\n",
    "x=np.array([[1.,2.],[3.,4.],[5.,6.]])\n",
    "x_q = x.copy()\n",
    "x_q = np.concatenate([x_q, np.ones((3, 1))], axis=1)\n",
    "x_q[:,0] = f1(x_q[:,0])\n",
    "x_q[:,1] = f2(x_q[:,1])\n",
    "y = np.dot(x_q, theta)\n",
    "X , Y = transform(f1, f2, x,y)\n",
    "print(\"best weights: \", linear_algebra_solve(X, Y))"
   ]
  },
  {
   "cell_type": "code",
   "execution_count": 144,
   "id": "06307487",
   "metadata": {},
   "outputs": [
    {
     "name": "stdout",
     "output_type": "stream",
     "text": [
      "[[1. 2.]\n",
      " [3. 4.]\n",
      " [5. 6.]\n",
      " [1. 2.]\n",
      " [3. 4.]\n",
      " [5. 6.]]\n",
      "best weights:  [-30.  33. -28.]\n"
     ]
    }
   ],
   "source": [
    "# Duplicate Set of data\n",
    "theta = np.array([1.,2.,3.])\n",
    "x=np.array([[1.,2.],[3.,4.],[5.,6.]])\n",
    "x = np.append(x,x,axis=0)\n",
    "x_q = x.copy()\n",
    "x_q = np.concatenate([x_q, np.ones((6, 1))], axis=1)\n",
    "x_q[:,0] = f1(x_q[:,0])\n",
    "x_q[:,1] = f2(x_q[:,1])\n",
    "y = np.dot(x_q, theta)\n",
    "X , Y = transform(f1, f2, x,y)\n",
    "print(\"best weights: \", linear_algebra_solve(X, Y))"
   ]
  },
  {
   "cell_type": "code",
   "execution_count": null,
   "id": "94b2154a",
   "metadata": {},
   "outputs": [],
   "source": [
    "def linear_algebra_solve(X, Y):\n",
    "    X_p = np.concatenate([X, np.ones((Y.size[0], 1))], axis=1)\n",
    "    return np.linalg.solve(X_p.transpose() @ X_p, X_p.transpose() @ Y)"
   ]
  },
  {
   "cell_type": "markdown",
   "id": "47c99c0a",
   "metadata": {},
   "source": [
    "The linear algebra solution produces the same weights due to the duplicated data producing duplicate y values. Thus when solving for Ax = b, we produce the same weights. We go from 3x2(x) @ 1x3 (ones) = 3x3(x/ones).\n",
    "\n",
    "6x3(x.transpose) @ 3x6(x) @ (solution matrix) = 3x6(x.transpose) @ (6x1)y\n",
    "produces a (3x1) y matrix. that is the same as the original solution with half the duplicated data. Since each row new row matches to its original y value."
   ]
  },
  {
   "cell_type": "markdown",
   "id": "31dbfb89",
   "metadata": {},
   "source": [
    "For the probabilistic model, if we duplicate the data, we do not change the mean. Probablistic distributions are based on the mean of input data, so if the mean does not shift by adding new data, the optimal weights will also not shift."
   ]
  },
  {
   "cell_type": "code",
   "execution_count": 171,
   "id": "8068141c",
   "metadata": {},
   "outputs": [
    {
     "name": "stdout",
     "output_type": "stream",
     "text": [
      "mean of original data:  4.0\n",
      "mean of duplicate data:  4.0\n"
     ]
    }
   ],
   "source": [
    "data = [1,3,5,2,10,3]\n",
    "print(\"mean of original data: \", np.mean(data))\n",
    "print(\"mean of duplicate data: \", np.mean(np.append(data,data)))"
   ]
  },
  {
   "cell_type": "code",
   "execution_count": 170,
   "id": "643bc1b4",
   "metadata": {},
   "outputs": [],
   "source": [
    "n = sp.stats.norm(loc = np.mean(data), scale=1)\n",
    "n2 = sp.stats.norm(loc = np.mean(np.append(data,data)), scale=1)\n",
    "v1 = n.rvs(100)\n",
    "v2 = n2.rvs(100)\n",
    "x = np.linspace(0, 100,100)"
   ]
  },
  {
   "cell_type": "code",
   "execution_count": 161,
   "id": "22090d4f",
   "metadata": {},
   "outputs": [
    {
     "data": {
      "text/plain": [
       "<matplotlib.collections.PathCollection at 0x266fd563f98>"
      ]
     },
     "execution_count": 161,
     "metadata": {},
     "output_type": "execute_result"
    },
    {
     "data": {
      "image/png": "[encoded data removed]",
      "text/plain": [
       "<Figure size 432x288 with 1 Axes>"
      ]
     },
     "metadata": {
      "needs_background": "light"
     },
     "output_type": "display_data"
    }
   ],
   "source": [
    "plt.scatter(x, v1)"
   ]
  },
  {
   "cell_type": "code",
   "execution_count": 162,
   "id": "1083b05a",
   "metadata": {},
   "outputs": [
    {
     "data": {
      "text/plain": [
       "<matplotlib.collections.PathCollection at 0x266fd58a5f8>"
      ]
     },
     "execution_count": 162,
     "metadata": {},
     "output_type": "execute_result"
    },
    {
     "data": {
      "image/png": "[encoded data removed]",
      "text/plain": [
       "<Figure size 432x288 with 1 Axes>"
      ]
     },
     "metadata": {
      "needs_background": "light"
     },
     "output_type": "display_data"
    }
   ],
   "source": [
    "plt.scatter(x, v2)"
   ]
  },
  {
   "cell_type": "markdown",
   "id": "1d4f78cf",
   "metadata": {},
   "source": [
    "FILL ME IN"
   ]
  }
 ],
 "metadata": {
  "kernelspec": {
   "display_name": "Python 3 (ipykernel)",
   "language": "python",
   "name": "python3"
  },
  "language_info": {
   "codemirror_mode": {
    "name": "ipython",
    "version": 3
   },
   "file_extension": ".py",
   "mimetype": "text/x-python",
   "name": "python",
   "nbconvert_exporter": "python",
   "pygments_lexer": "ipython3",
   "version": "3.9.7"
  }
 },
 "nbformat": 4,
 "nbformat_minor": 5
}
