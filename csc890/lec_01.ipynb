{
 "cells": [
  {
   "cell_type": "markdown",
   "id": "a0ae7851",
   "metadata": {},
   "source": [
    "# CSC 890: Advanced Artificial Intelligence"
   ]
  },
  {
   "cell_type": "markdown",
   "id": "efd8c943",
   "metadata": {},
   "source": [
    "## Who"
   ]
  },
  {
   "cell_type": "markdown",
   "id": "1d2f04e9",
   "metadata": {},
   "source": [
    "- Instructor: Dan Huang"
   ]
  },
  {
   "cell_type": "markdown",
   "id": "72bd64fb",
   "metadata": {},
   "source": [
    "## What is in this Class?"
   ]
  },
  {
   "cell_type": "markdown",
   "id": "3656bf3a",
   "metadata": {},
   "source": [
    "### Incomplete AI Taxonomy\n",
    "\n",
    "Source: ai-stars\n",
    "![ai-taxonomy.png](ai-taxonomy.png)"
   ]
  },
  {
   "cell_type": "markdown",
   "id": "19bbd270",
   "metadata": {},
   "source": [
    "### Where we are in the Taxonomy\n",
    "\n",
    "![ai-taxonomy-here.png](ai-taxonomy-here.png)"
   ]
  },
  {
   "cell_type": "markdown",
   "id": "98b8197c",
   "metadata": {},
   "source": [
    "### Machine learning paradigms that we will not cover\n",
    "\n",
    "1. Unsupervised learning: how to learn from unlabeled data.\n",
    "2. Reinforcement learning: how to learn from rewards."
   ]
  },
  {
   "cell_type": "markdown",
   "id": "02766572",
   "metadata": {},
   "source": [
    "### What will we focus on?\n",
    "\n",
    "Regression techniques that are applicable to scientific problems involving energy surfaces."
   ]
  },
  {
   "cell_type": "markdown",
   "id": "93a6f607",
   "metadata": {},
   "source": [
    "### Why only regression?\n",
    "\n",
    "1. Regression, i.e., supervised learning, has many applications in computer vision, natural language processing, image analysis.\n",
    "2. Learning the techniques of regression well will be beneficial for many other applications."
   ]
  },
  {
   "cell_type": "markdown",
   "id": "b685735f",
   "metadata": {},
   "source": [
    "### Why scientific problems involving energy surfaces?\n",
    "\n",
    "It's useful\n",
    "1. Computational chemistry uses potential energy surfaces to study chemical reactions on a computer.\n",
    "2. Drug developers can use energy surfaces to design and discover drugs.\n",
    "3. Materials scientists use energy surfaces to discover new materials.\n",
    "\n",
    "Young field of research! This means that there are plenty of opportunities to discover and explore."
   ]
  },
  {
   "cell_type": "markdown",
   "id": "8ffe6839",
   "metadata": {},
   "source": [
    "#### Alpha Fold\n",
    "\n",
    "![protein-fold.png](protein-fold.png)"
   ]
  },
  {
   "cell_type": "markdown",
   "id": "016637d0",
   "metadata": {},
   "source": [
    "## How\n",
    "\n",
    "Part I: Foundations\n",
    "- 2 homeworks (30%, 15% each, weeks 1 - 6)\n",
    "\n",
    "Part II: Research Foundations\n",
    "- Research Paper Discussion (40%, weeks 7 - 14)\n",
    "- Individual Final Project (30%, week 15)"
   ]
  },
  {
   "cell_type": "markdown",
   "id": "a7fd4fb4",
   "metadata": {},
   "source": [
    "# Lec 01: Linear Algebra and Linear Regression"
   ]
  },
  {
   "cell_type": "markdown",
   "id": "ed5a14e0",
   "metadata": {},
   "source": [
    "# Linear Algebra Review"
   ]
  },
  {
   "cell_type": "markdown",
   "id": "4841a23a",
   "metadata": {},
   "source": [
    "## Vector Space\n",
    "\n",
    "- Why vector space? It forms the foundation of representing data in many ML/AI applications.\n",
    "- Linear algebra works on the abstraction of a vector space."
   ]
  },
  {
   "cell_type": "markdown",
   "id": "56aed949",
   "metadata": {},
   "source": [
    "### Why Vector Space?\n",
    "\n",
    "- An example of a vector space is Euclidean space, e.g., $\\mathbb{R}^3$.\n",
    "- However there are many examples of vector spaces that are not Euclidean space, e.g., the space of linear functionals. These more abstract spaces are necessary for more advanced ML/AI models."
   ]
  },
  {
   "cell_type": "markdown",
   "id": "80bac40c",
   "metadata": {},
   "source": [
    "### Vector space abstractly\n",
    "\n",
    "Definition: a **vector space** is a tuple $(V, +, \\cdot)$.\n",
    "1. A **set** $V$ whose elements are called **vectors**.\n",
    "2. An **addition function** $+: V \\times V \\rightarrow V$.\n",
    "    - This function is often written in **infix** notation as $v + w$ instead of $+(v, w)$ where $v, w \\in V$.\n",
    "3. A **scalar multiplication** function $\\cdot: \\mathbb{R} \\times V \\rightarrow V$.\n",
    "    - This function is often written by juxtaposition as $cv$ instead of $c \\cdot v$.\n",
    "\n",
    "This tuple $(V, +, \\cdot)$ satisfies certain properties."
   ]
  },
  {
   "cell_type": "markdown",
   "id": "4bcf5ee6",
   "metadata": {},
   "source": [
    "#### 1. Addition is \"well-behaved\"\n",
    "\n",
    "1. **associativity**: (u + v) + w = u + (v + w)\n",
    "2. **commutativity**: u + v = v + u\n",
    "3. **identity**: There is an element called $0$ such that $0 + v = v$.\n",
    "4. **inverse**: There is an element called $-v$ associated with any $v$ such that $v + (-v) = 0$. We can abbreviate this as $v - v = 0$."
   ]
  },
  {
   "cell_type": "markdown",
   "id": "ad17e9ed",
   "metadata": {},
   "source": [
    "#### 2. Scalar multiplication is \"well-behaved\"\n",
    "\n",
    "1. **compatability**: $ab \\cdot v = a \\cdot (b \\cdot v)$\n",
    "2. **identity**: $1 \\cdot v = v$\n",
    "3. **distributivity scalar multiplication**: $c \\cdot (u + v) = cu + cv$\n",
    "4. **distributivity scalar addition**: $(a + b) \\cdot u = au + bu$"
   ]
  },
  {
   "cell_type": "markdown",
   "id": "c7efee2b",
   "metadata": {},
   "source": [
    "### Example: real line forms a vector space\n",
    "\n",
    "The tuple $(\\mathbb{R}, +, \\cdot)$ where\n",
    "1. $+$ is addition on real numbers\n",
    "2. $\\cdot$ is multiplication on real numbers\n",
    "is a vector space."
   ]
  },
  {
   "cell_type": "markdown",
   "id": "1c3b1ae0",
   "metadata": {},
   "source": [
    "We need to check that the addition and scalar multiplication are well behaved.\n",
    "\n",
    "Addition is \"well-behaved\":\n",
    "1. Real addition is associative.\n",
    "2. Real addition is commutative.\n",
    "3. The real number $0$ is an identity.\n",
    "4. For any real number $r$, $-r$ is the inverse.\n",
    "\n",
    "Scalar multiplication is \"well-behaved\":\n",
    "1. $(ab) \\cdot r = a \\cdot (b \\cdot r)$ because real multiplication is associative.\n",
    "2. The real number $1$ is an identity.\n",
    "3. $c(u + v) = cu + cv$ because real multiplication.\n",
    "4. $(a + b)u = au + bu$ because 3 holds and commutativity."
   ]
  },
  {
   "cell_type": "markdown",
   "id": "5a66b4d3",
   "metadata": {},
   "source": [
    "### Example: real plane forms a vector space\n",
    "\n",
    "The tuple $(\\mathbb{R}^2, +, \\cdot)$ where\n",
    "1. $+$ is component-wise addition on reals, i.e.,\n",
    "    - $(a_1, a_2) + (b_1, b_2) = (a_1 + b_1, a_2 + b_2)$\n",
    "2. $\\cdot$ is component-wise multiplication on real numbers\n",
    "    - $c \\cdot (a_1, a_2) = (c a_1, c a_2)$\n",
    "is a vector space."
   ]
  },
  {
   "cell_type": "markdown",
   "id": "258e05ad",
   "metadata": {},
   "source": [
    "### Example: Euclidean space forms a vector space\n",
    "\n",
    "The tuple $(\\mathbb{R}^D, +, \\cdot)$ for any natural number $D$ where\n",
    "1. $+$ is component-wise addition on reals, i.e.,\n",
    "    - $(a_1, \\dots, a_D) + (b_1, \\dots, b_D) = (a_1 + b_1, \\dots, a_D + b_D)$\n",
    "2. $\\cdot$ is component-wise multiplication on real numbers\n",
    "    - $c \\cdot (a_1, a_D) = (c a_1, \\dots, c a_D)$\n",
    "is a vector space."
   ]
  },
  {
   "cell_type": "markdown",
   "id": "9d0ae8db",
   "metadata": {},
   "source": [
    "### Summary\n",
    "\n",
    "- Looked at the formal definition of a vector space (over reals).\n",
    "    - The **field** that the vector space is over is not always the real field.\n",
    "- Looked at a few examples of a vector spaces.\n",
    "- Euclidean space will be most important example of a vector space in this course."
   ]
  },
  {
   "cell_type": "markdown",
   "id": "4e1803bc",
   "metadata": {},
   "source": [
    "## Let's make this computational!"
   ]
  },
  {
   "cell_type": "code",
   "execution_count": 2,
   "id": "853ab919",
   "metadata": {},
   "outputs": [],
   "source": [
    "import numpy as np               # popular library for numerical computation\n",
    "import matplotlib.pyplot as plt  # popular library for ploting in Python"
   ]
  },
  {
   "cell_type": "markdown",
   "id": "f4cd4031",
   "metadata": {},
   "source": [
    "### Real Plane\n",
    "\n",
    "One nice aspect of working with the real plane is that we can draw vectors."
   ]
  },
  {
   "cell_type": "code",
   "execution_count": 3,
   "id": "6dc9551d",
   "metadata": {},
   "outputs": [],
   "source": [
    "def draw_vecs(vecs):\n",
    "    V = []\n",
    "    origin_x = []\n",
    "    origin_y = []\n",
    "    for x in vecs:\n",
    "        if type(x) is tuple:\n",
    "            V += [x[1]]\n",
    "            origin_x += [x[0][0]]\n",
    "            origin_y += [x[0][1]]\n",
    "        else:\n",
    "            V += [x]\n",
    "            origin_x += [0]\n",
    "            origin_y += [0]\n",
    "    V = np.array(V)\n",
    "    origin = np.array([origin_x, origin_y])\n",
    "    W = V + np.transpose(origin)\n",
    "    plt.quiver(*origin, V[:,0], V[:,1], angles='xy', scale_units='xy', color=['r', 'g', 'b'], scale=1)\n",
    "    x_scale = .1 * (np.max(W[:,0]) - min(0, np.min(W[:,0])))\n",
    "    y_scale = .1 * (np.max(W[:,1]) - min(0, np.min(W[:,1])))\n",
    "    plt.xlim(min(0, np.min(W[:,0])) - x_scale, np.max(W[:,0]) + x_scale)\n",
    "    plt.ylim(min(0, np.min(W[:,1])) - y_scale, np.max(W[:,1]) + y_scale)"
   ]
  },
  {
   "cell_type": "code",
   "execution_count": 4,
   "id": "6f97ea29",
   "metadata": {},
   "outputs": [
    {
     "data": {
      "text/plain": [
       "array([1., 2.])"
      ]
     },
     "execution_count": 4,
     "metadata": {},
     "output_type": "execute_result"
    }
   ],
   "source": [
    "vec1 = np.array([1., 2.])   # D = 2\n",
    "vec1"
   ]
  },
  {
   "cell_type": "code",
   "execution_count": 5,
   "id": "cf41f707",
   "metadata": {},
   "outputs": [
    {
     "data": {
      "image/png": "[encoded data removed]",
      "text/plain": [
       "<Figure size 432x288 with 1 Axes>"
      ]
     },
     "metadata": {
      "needs_background": "light"
     },
     "output_type": "display_data"
    }
   ],
   "source": [
    "draw_vecs([vec1])"
   ]
  },
  {
   "cell_type": "code",
   "execution_count": 6,
   "id": "a8a9648e",
   "metadata": {},
   "outputs": [
    {
     "data": {
      "text/plain": [
       "array([2.3, 1.4])"
      ]
     },
     "execution_count": 6,
     "metadata": {},
     "output_type": "execute_result"
    }
   ],
   "source": [
    "vec2 = np.array([2.3, 1.4])   # D = 2\n",
    "vec2"
   ]
  },
  {
   "cell_type": "code",
   "execution_count": 7,
   "id": "1213d34b",
   "metadata": {},
   "outputs": [
    {
     "data": {
      "image/png": "[encoded data removed]",
      "text/plain": [
       "<Figure size 432x288 with 1 Axes>"
      ]
     },
     "metadata": {
      "needs_background": "light"
     },
     "output_type": "display_data"
    }
   ],
   "source": [
    "draw_vecs([vec2])"
   ]
  },
  {
   "cell_type": "markdown",
   "id": "ac79023f",
   "metadata": {},
   "source": [
    "#### Adding vector"
   ]
  },
  {
   "cell_type": "code",
   "execution_count": 8,
   "id": "4a9cc9b9",
   "metadata": {},
   "outputs": [
    {
     "name": "stdout",
     "output_type": "stream",
     "text": [
      "vec1 [1. 2.]\n",
      "vec2 [2.3 1.4]\n"
     ]
    },
    {
     "data": {
      "text/plain": [
       "array([3.3, 3.4])"
      ]
     },
     "execution_count": 8,
     "metadata": {},
     "output_type": "execute_result"
    }
   ],
   "source": [
    "print(\"vec1\", vec1)\n",
    "print(\"vec2\", vec2)\n",
    "vec1 + vec2    # note the component-wise addition"
   ]
  },
  {
   "cell_type": "code",
   "execution_count": 9,
   "id": "9829e5ac",
   "metadata": {},
   "outputs": [
    {
     "data": {
      "image/png": "[encoded data removed]",
      "text/plain": [
       "<Figure size 432x288 with 1 Axes>"
      ]
     },
     "metadata": {
      "needs_background": "light"
     },
     "output_type": "display_data"
    }
   ],
   "source": [
    "draw_vecs([vec1, (vec1, vec2), vec1 + vec2])"
   ]
  },
  {
   "cell_type": "markdown",
   "id": "6d9e17ca",
   "metadata": {},
   "source": [
    "#### Scaling vector"
   ]
  },
  {
   "cell_type": "code",
   "execution_count": 10,
   "id": "87b29970",
   "metadata": {},
   "outputs": [
    {
     "data": {
      "image/png": "[encoded data removed]",
      "text/plain": [
       "<Figure size 432x288 with 1 Axes>"
      ]
     },
     "metadata": {
      "needs_background": "light"
     },
     "output_type": "display_data"
    }
   ],
   "source": [
    "draw_vecs([vec1, .5*vec1])"
   ]
  },
  {
   "cell_type": "markdown",
   "id": "809feb42",
   "metadata": {},
   "source": [
    "### Aside: floating-point vs. real\n",
    "\n",
    "1. On pencil-paper, we use abstractions like real numbers which we can represent as an infinite sequence of digits.\n",
    "2. On computer, we use abstractions like **floating point** that we use to model real numbers with a finite sequence of digits.\n",
    "3. These are not the same thing and shows a discrepancy between what is done on pencil-paper and what is done on a computer. "
   ]
  },
  {
   "cell_type": "markdown",
   "id": "4a8f7cba",
   "metadata": {},
   "source": [
    "$1/9 + 1/9 + 1/9 + 1/9 + 1/9 + 1/9 + 1/9 + 1/9 + 1/9 = 1$ on the reals"
   ]
  },
  {
   "cell_type": "code",
   "execution_count": 11,
   "id": "6554991c",
   "metadata": {},
   "outputs": [
    {
     "data": {
      "text/plain": [
       "1.0000000000000002"
      ]
     },
     "execution_count": 11,
     "metadata": {},
     "output_type": "execute_result"
    }
   ],
   "source": [
    "x = 1./9 + 1./9 + 1./9 + 1./9 + 1./9 + 1./9 + 1./9 + 1./9 + 1./9\n",
    "x"
   ]
  },
  {
   "cell_type": "code",
   "execution_count": 12,
   "id": "98f28d57",
   "metadata": {},
   "outputs": [
    {
     "data": {
      "text/plain": [
       "False"
      ]
     },
     "execution_count": 12,
     "metadata": {},
     "output_type": "execute_result"
    }
   ],
   "source": [
    "x == 1."
   ]
  },
  {
   "cell_type": "markdown",
   "id": "8ef7035d",
   "metadata": {},
   "source": [
    "- Takeaway: it is important to keep the discrepancy between the two representations in mind.\n",
    "- In practice, we use floating-point because the underlying computer hardware has special arithmetic units for computing on floating-point.\n",
    "- Every now and then we will run into \"corner-cases\", i.e., cases where the mathematics works out and the computer implementation doesn't. And cases where the computer implementation \"works\" but the mathematics is ill-defined."
   ]
  },
  {
   "cell_type": "markdown",
   "id": "834f7161",
   "metadata": {},
   "source": [
    "### Back to Real Plane"
   ]
  },
  {
   "cell_type": "code",
   "execution_count": 13,
   "id": "9e992baa",
   "metadata": {},
   "outputs": [
    {
     "data": {
      "text/plain": [
       "(array([1., 2.]), array([2.3, 1.4]))"
      ]
     },
     "execution_count": 13,
     "metadata": {},
     "output_type": "execute_result"
    }
   ],
   "source": [
    "vec1, vec2"
   ]
  },
  {
   "cell_type": "code",
   "execution_count": 14,
   "id": "31ffcaf8",
   "metadata": {},
   "outputs": [
    {
     "data": {
      "text/plain": [
       "array([3., 6.])"
      ]
     },
     "execution_count": 14,
     "metadata": {},
     "output_type": "execute_result"
    }
   ],
   "source": [
    "3. * vec1      # note the component-wise multiplication"
   ]
  },
  {
   "cell_type": "code",
   "execution_count": 15,
   "id": "ae356398",
   "metadata": {},
   "outputs": [
    {
     "data": {
      "text/plain": [
       "array([ 9.9, 10.2])"
      ]
     },
     "execution_count": 15,
     "metadata": {},
     "output_type": "execute_result"
    }
   ],
   "source": [
    "3. * (vec1 + vec2)"
   ]
  },
  {
   "cell_type": "code",
   "execution_count": 16,
   "id": "8df28786",
   "metadata": {},
   "outputs": [
    {
     "data": {
      "text/plain": [
       "array([ 9.9, 10.2])"
      ]
     },
     "execution_count": 16,
     "metadata": {},
     "output_type": "execute_result"
    }
   ],
   "source": [
    "3. * vec1 + 3. * vec2"
   ]
  },
  {
   "cell_type": "code",
   "execution_count": 17,
   "id": "f9331e91",
   "metadata": {},
   "outputs": [
    {
     "data": {
      "text/plain": [
       "array([ True,  True])"
      ]
     },
     "execution_count": 17,
     "metadata": {},
     "output_type": "execute_result"
    }
   ],
   "source": [
    "# We can check distribution of scalar-multiplication (modulo floating-point complexities)\n",
    "3. * (vec1 + vec2) == 3. * vec1 + 3. * vec2"
   ]
  },
  {
   "cell_type": "code",
   "execution_count": 18,
   "id": "12423d3f",
   "metadata": {},
   "outputs": [
    {
     "data": {
      "image/png": "[encoded data removed]",
      "text/plain": [
       "<Figure size 432x288 with 1 Axes>"
      ]
     },
     "metadata": {
      "needs_background": "light"
     },
     "output_type": "display_data"
    }
   ],
   "source": [
    "# 1: Multiplying first then adding\n",
    "draw_vecs([3.*vec1, (3.*vec1, 3.*vec2), 3.*vec1 + 3.*vec2])"
   ]
  },
  {
   "cell_type": "code",
   "execution_count": 19,
   "id": "f6b9e389",
   "metadata": {},
   "outputs": [
    {
     "data": {
      "image/png": "[encoded data removed]",
      "text/plain": [
       "<Figure size 432x288 with 1 Axes>"
      ]
     },
     "metadata": {
      "needs_background": "light"
     },
     "output_type": "display_data"
    }
   ],
   "source": [
    "# 2: Adding then multiplying\n",
    "draw_vecs([3.*vec1, (3.*vec1, 3.*vec2), 3.*(vec1 + vec2)])"
   ]
  },
  {
   "cell_type": "markdown",
   "id": "65c290ac",
   "metadata": {},
   "source": [
    "## Summary\n",
    "\n",
    "1. Vectors and vector spaces are formally defined objects that are entirely abstract.\n",
    "2. We can manipulate vectors using `numpy`.\n",
    "3. An example of a vector space is Euclidean space which is the most important example.\n",
    "4. In $\\mathbb{R}^2$ and $\\mathbb{R}^3$, we can imagine vectors as arrows of the appropriate length and direction, but this is not what a vector is."
   ]
  },
  {
   "cell_type": "markdown",
   "id": "f8465538",
   "metadata": {},
   "source": [
    "## Linear Independence, Span, Basis\n",
    "\n",
    "1. Previously we saw the definition of a vector space which was this \"bag\" of vectors satisfying some properties.\n",
    "2. Now we want to see if there is a more tractable way to get a handle on this \"bag\" of vectors.\n",
    "3. This is where the idea of linear independence, span, and basis come into play."
   ]
  },
  {
   "cell_type": "markdown",
   "id": "4452c299",
   "metadata": {},
   "source": [
    "### Linear Combination\n",
    "\n",
    "Definition: a **linear combination** of a set of vectors $\\{v_1, \\dots, v_n\\}$ is any vector\n",
    "$$\n",
    "c_1 v_1 + \\dots + c_n v_n \n",
    "$$\n",
    "for any choice of scalars $c_1, \\dots, c_n$.\n",
    "\n",
    "The above vector can also be written as\n",
    "$$\n",
    "\\sum_{i=1}^n c_i v_i \\,.\n",
    "$$"
   ]
  },
  {
   "cell_type": "markdown",
   "id": "280fa796",
   "metadata": {},
   "source": [
    "### Linear Independence\n",
    "\n",
    "Definition: a set of vectors $\\{v_1, \\dots, v_n\\}$ is **linearly independent** if there is no linear combination of $\\{v_1, \\dots, v_n\\}$ (with non-zero scalars) such that \n",
    "$$\n",
    "\\sum_{i=1}^n c_i v_i = 0 \\,.\n",
    "$$\n",
    "\n",
    "Intuitively, a set of vectors is linearly independent if we cannot determine the \"origin\"."
   ]
  },
  {
   "cell_type": "markdown",
   "id": "28ba86e4",
   "metadata": {},
   "source": [
    "### Span\n",
    "\n",
    "Definition: a set of vectors $\\{v_1, \\dots, v_n\\}$ is **spans** the vector space $V$ if every vector can be written as a linear combination of $\\{v_1, \\dots, v_n\\}$."
   ]
  },
  {
   "cell_type": "markdown",
   "id": "0fce87d1",
   "metadata": {},
   "source": [
    "### Basis\n",
    "\n",
    "Definition: a set of vectors $\\{v_1, \\dots, v_n\\}$ is said to be a **basis** for a vector space $V$ if $\\{v_1, \\dots, v_n\\}$\n",
    "1. linearly independent\n",
    "2. and spans the vector space"
   ]
  },
  {
   "cell_type": "markdown",
   "id": "7d7bdb3c",
   "metadata": {},
   "source": [
    "### Takeaway\n",
    "\n",
    "1. We can reduce our understanding of a vector space to linear combinations of a basis!\n",
    "2. This pattern of taking a complex space and identifying a smaller subset with an operation (or operations) that lets us build more complex things out of it is a re-occuring theme in science and mathematics."
   ]
  },
  {
   "cell_type": "markdown",
   "id": "89ad7c52",
   "metadata": {},
   "source": [
    "### Example: Real plane\n",
    "\n",
    "Let's look at the definitions in the case of $\\mathbb{R}^2$."
   ]
  },
  {
   "cell_type": "code",
   "execution_count": 20,
   "id": "f19733dd",
   "metadata": {},
   "outputs": [
    {
     "data": {
      "image/png": "[encoded data removed]",
      "text/plain": [
       "<Figure size 432x288 with 1 Axes>"
      ]
     },
     "metadata": {
      "needs_background": "light"
     },
     "output_type": "display_data"
    }
   ],
   "source": [
    "# Is this collection linearly independent?\n",
    "vectors1 = [[1, 1], [1, 0], [1, 3]]\n",
    "draw_vecs(vectors1)"
   ]
  },
  {
   "cell_type": "markdown",
   "id": "60e7f686",
   "metadata": {},
   "source": [
    "`vectors1` is not linearly independent, spans $\\mathbb{R}^2$, and is not a basis"
   ]
  },
  {
   "cell_type": "code",
   "execution_count": 21,
   "id": "dfac72e0",
   "metadata": {},
   "outputs": [
    {
     "data": {
      "image/png": "[encoded data removed]",
      "text/plain": [
       "<Figure size 432x288 with 1 Axes>"
      ]
     },
     "metadata": {
      "needs_background": "light"
     },
     "output_type": "display_data"
    }
   ],
   "source": [
    "# Is this collection linearly independent?\n",
    "vectors2 = [[1, 1], [1, 0]]\n",
    "draw_vecs(vectors2)"
   ]
  },
  {
   "cell_type": "markdown",
   "id": "23bf34ec",
   "metadata": {},
   "source": [
    "`vectors2` is linearly independent, spans $\\mathbb{R}^2$, and is a basis"
   ]
  },
  {
   "cell_type": "code",
   "execution_count": 22,
   "id": "2e8fce66",
   "metadata": {},
   "outputs": [
    {
     "data": {
      "image/png": "[encoded data removed]",
      "text/plain": [
       "<Figure size 432x288 with 1 Axes>"
      ]
     },
     "metadata": {
      "needs_background": "light"
     },
     "output_type": "display_data"
    }
   ],
   "source": [
    "# Is this collection linearly independent?\n",
    "vectors3 = [[1, 1], [2, 2], [3, 3]]\n",
    "draw_vecs(vectors3)"
   ]
  },
  {
   "cell_type": "markdown",
   "id": "23ae4b27",
   "metadata": {},
   "source": [
    "`vectors3` is not linearly independent, does not span $\\mathbb{R}^2$, and is not a basis"
   ]
  },
  {
   "cell_type": "code",
   "execution_count": 23,
   "id": "a0b69859",
   "metadata": {},
   "outputs": [
    {
     "data": {
      "image/png": "[encoded data removed]",
      "text/plain": [
       "<Figure size 432x288 with 1 Axes>"
      ]
     },
     "metadata": {
      "needs_background": "light"
     },
     "output_type": "display_data"
    }
   ],
   "source": [
    "# Is this collection linearly independent?\n",
    "vectors4 = [[0, 1], [1, 0]]\n",
    "draw_vecs(vectors4)"
   ]
  },
  {
   "cell_type": "markdown",
   "id": "45bd229d",
   "metadata": {},
   "source": [
    "`vectors4` is linearly independent, spans $\\mathbb{R}^2$, and is a basis known as the **standard basis**"
   ]
  },
  {
   "cell_type": "markdown",
   "id": "a3465ce4",
   "metadata": {},
   "source": [
    "1. You may be wondering if there is a way to check if we have a basis.\n",
    "2. Hold that thought!\n",
    "3. There is, but we need to introduce a few more concepts first."
   ]
  },
  {
   "cell_type": "markdown",
   "id": "fef1114c",
   "metadata": {},
   "source": [
    "## Linear Maps and Matrices\n",
    "\n",
    "- Vector spaces gave us the data.\n",
    "- We now want to define \"functions\" on this data.\n",
    "- Linear maps and matrices are these \"functions\". \n",
    "- We'll introduce linear maps first, then the connection with matrices, and finally the computational version."
   ]
  },
  {
   "cell_type": "markdown",
   "id": "db3a8881",
   "metadata": {},
   "source": [
    "### Linear Map\n",
    "\n",
    "A map $f: V \\rightarrow W$ between two vector spaces $V$ and $W$ is a **linear map** if\n",
    "1. f(u + v) = f(u) + f(v)\n",
    "2. f(cv) = cf(v)"
   ]
  },
  {
   "cell_type": "markdown",
   "id": "15e653fe",
   "metadata": {},
   "source": [
    "#### Example 1: Linear Map"
   ]
  },
  {
   "cell_type": "code",
   "execution_count": 24,
   "id": "4e9ffb85",
   "metadata": {},
   "outputs": [
    {
     "name": "stdout",
     "output_type": "stream",
     "text": [
      "Add then function [13.2 13.6] function then add [13.2 13.6]\n",
      "Scale then function [ 8. 16.] function then scale [ 8. 16.]\n"
     ]
    }
   ],
   "source": [
    "def f(x):\n",
    "    return 3. * x + x\n",
    "\n",
    "print(\"Add then function\", f(vec1 + vec2), \"function then add\", f(vec1) + f(vec2))\n",
    "print(\"Scale then function\", 2. * f(vec1), \"function then scale\", 2. * f(vec1))"
   ]
  },
  {
   "cell_type": "markdown",
   "id": "09d15f8e",
   "metadata": {},
   "source": [
    "#### Example 2: Non-Linear Map"
   ]
  },
  {
   "cell_type": "code",
   "execution_count": 25,
   "id": "bac0af1b",
   "metadata": {},
   "outputs": [
    {
     "name": "stdout",
     "output_type": "stream",
     "text": [
      "Add then function [540364.93724669 806129.75912399] function then add [9951.72720878 3251.38439447]\n",
      "Scale then function [ 109.19630007 5961.91597408] function then scale [ 109.19630007 5961.91597408]\n"
     ]
    }
   ],
   "source": [
    "def g(x):\n",
    "    return np.exp(3. * x + x)\n",
    "\n",
    "print(\"Add then function\", g(vec1 + vec2), \"function then add\", g(vec1) + g(vec2))\n",
    "print(\"Scale then function\", 2. * g(vec1), \"function then scale\", 2. * g(vec1))"
   ]
  },
  {
   "cell_type": "markdown",
   "id": "8f1eb009",
   "metadata": {},
   "source": [
    "#### Example 3: Linear Map"
   ]
  },
  {
   "cell_type": "code",
   "execution_count": 26,
   "id": "865c033d",
   "metadata": {},
   "outputs": [
    {
     "name": "stdout",
     "output_type": "stream",
     "text": [
      "Add then function [-3.4  3.3] function then add [-3.4  3.3]\n",
      "Scale then function [-4.  2.] function then scale [-4.  2.]\n"
     ]
    }
   ],
   "source": [
    "def h(x):\n",
    "    theta = 90. * np.pi/180\n",
    "    return np.array(\n",
    "        [\n",
    "            x[0] * np.cos(theta) - x[1] * np.sin(theta),\n",
    "             x[0] * np.sin(theta) + x[1] * np.cos(theta)\n",
    "        ])\n",
    "    \n",
    "print(\"Add then function\", h(vec1 + vec2), \"function then add\", h(vec1) + h(vec2))\n",
    "print(\"Scale then function\", 2. * h(vec1), \"function then scale\", 2. * h(vec1))"
   ]
  },
  {
   "cell_type": "code",
   "execution_count": 27,
   "id": "69a3b42d",
   "metadata": {},
   "outputs": [
    {
     "data": {
      "image/png": "[encoded data removed]",
      "text/plain": [
       "<Figure size 432x288 with 1 Axes>"
      ]
     },
     "metadata": {
      "needs_background": "light"
     },
     "output_type": "display_data"
    }
   ],
   "source": [
    "draw_vecs([vec1, h(vec1), h(h(vec1)), h(h(h(vec1)))])"
   ]
  },
  {
   "cell_type": "markdown",
   "id": "da81b490",
   "metadata": {},
   "source": [
    "### Aside: Partial Application"
   ]
  },
  {
   "cell_type": "code",
   "execution_count": 28,
   "id": "93507f69",
   "metadata": {},
   "outputs": [
    {
     "name": "stdout",
     "output_type": "stream",
     "text": [
      "Add then function [-0.07071068  4.73761543] function then add [-0.07071068  4.73761543]\n",
      "Scale then function [-1.41421356  4.24264069] function then scale [-1.41421356  4.24264069]\n"
     ]
    },
    {
     "data": {
      "image/png": "[encoded data removed]",
      "text/plain": [
       "<Figure size 432x288 with 1 Axes>"
      ]
     },
     "metadata": {
      "needs_background": "light"
     },
     "output_type": "display_data"
    }
   ],
   "source": [
    "def h_p(angle, x):\n",
    "    theta = angle * np.pi/180\n",
    "    return np.array(\n",
    "        [\n",
    "            x[0] * np.cos(theta) - x[1] * np.sin(theta),\n",
    "             x[0] * np.sin(theta) + x[1] * np.cos(theta)\n",
    "        ])\n",
    "    \n",
    "from functools import partial\n",
    "angle = 45\n",
    "h2 = partial(h_p, angle)\n",
    "print(\"Add then function\", h2(vec1 + vec2), \"function then add\", h2(vec1) + h2(vec2))\n",
    "print(\"Scale then function\", 2. * h2(vec1), \"function then scale\", 2. * h2(vec1))\n",
    "draw_vecs([vec1, h2(vec1), h2((vec1)), h2(h2(h2(vec1)))])"
   ]
  },
  {
   "cell_type": "markdown",
   "id": "917fb7c1",
   "metadata": {},
   "source": [
    "### Where do Matrices Come In?\n",
    "\n",
    "1. As a reminder, we had the question of how to get a tractable hold on the vectors in a vector space.\n",
    "2. The solution was a basis.\n",
    "3. Similarly, we might have a similar question: is there a tractable hold on linear maps?\n",
    "4. The solution to this is a **matrix**."
   ]
  },
  {
   "cell_type": "markdown",
   "id": "2e0bbee5",
   "metadata": {},
   "source": [
    "#### Example: 2x2 Matrix\n",
    "\n",
    "$$\n",
    "\\begin{pmatrix}\n",
    "1 & 2 \\\\\n",
    "3 & 4\n",
    "\\end{pmatrix}\n",
    "$$"
   ]
  },
  {
   "cell_type": "code",
   "execution_count": 29,
   "id": "18923f95",
   "metadata": {},
   "outputs": [
    {
     "data": {
      "text/plain": [
       "array([[1, 2],\n",
       "       [3, 4]])"
      ]
     },
     "execution_count": 29,
     "metadata": {},
     "output_type": "execute_result"
    }
   ],
   "source": [
    "np.array([[1, 2], [3, 4]])"
   ]
  },
  {
   "cell_type": "markdown",
   "id": "ff7b47c0",
   "metadata": {},
   "source": [
    "#### Example: 2x3 Matrix\n",
    "\n",
    "$$\n",
    "\\begin{pmatrix}\n",
    "1 & 2 & 3 \\\\\n",
    "4 & 5 & 6\n",
    "\\end{pmatrix}\n",
    "$$"
   ]
  },
  {
   "cell_type": "code",
   "execution_count": 30,
   "id": "ac343486",
   "metadata": {},
   "outputs": [
    {
     "data": {
      "text/plain": [
       "array([[1, 2, 3],\n",
       "       [4, 5, 6]])"
      ]
     },
     "execution_count": 30,
     "metadata": {},
     "output_type": "execute_result"
    }
   ],
   "source": [
    "np.array([[1, 2, 3], [4, 5, 6]])"
   ]
  },
  {
   "cell_type": "markdown",
   "id": "529d0907",
   "metadata": {},
   "source": [
    "#### Example: nxm Matrix\n",
    "\n",
    "$$\n",
    "\\begin{pmatrix}\n",
    "a_{11} & \\dots & a_{1m} \\\\\n",
    "\\vdots & \\ddots & \\vdots \\\\\n",
    "a_{n1} & \\dots & a_{nm}\n",
    "\\end{pmatrix}\n",
    "$$"
   ]
  },
  {
   "cell_type": "code",
   "execution_count": 31,
   "id": "074bec2f",
   "metadata": {},
   "outputs": [
    {
     "data": {
      "text/plain": [
       "array([[0., 0., 0., 0., 0., 0., 0., 0., 0., 0.],\n",
       "       [0., 0., 0., 0., 0., 0., 0., 0., 0., 0.],\n",
       "       [0., 0., 0., 0., 0., 0., 0., 0., 0., 0.]])"
      ]
     },
     "execution_count": 31,
     "metadata": {},
     "output_type": "execute_result"
    }
   ],
   "source": [
    "np.zeros((3, 10))"
   ]
  },
  {
   "cell_type": "markdown",
   "id": "ca3b7dbc",
   "metadata": {},
   "source": [
    "### Matrix Multiplication"
   ]
  },
  {
   "cell_type": "markdown",
   "id": "eb70b55b",
   "metadata": {},
   "source": [
    "$$\n",
    "\\begin{pmatrix}\n",
    "a_{11} & \\dots & a_{1m} \\\\\n",
    "\\vdots & \\ddots & \\vdots \\\\\n",
    "a_{n1} & \\dots & a_{nm}\n",
    "\\end{pmatrix}\n",
    "\\begin{pmatrix}\n",
    "b_{11} & \\dots & b_{1k} \\\\\n",
    "\\vdots & \\ddots & \\vdots \\\\\n",
    "b_{m1} & \\dots & b_{mk}\n",
    "\\end{pmatrix} = \n",
    "\\begin{pmatrix}\n",
    "\\sum_{i=1}^m a_{1i}b_{i1} & \\dots & \\sum_{i=1}^m a_{1i}b_{ik} \\\\\n",
    "\\vdots & \\ddots & \\vdots \\\\\n",
    "\\sum_{i=1}^m a_{ni}b_{i1} & \\dots & \\sum_{i=1}^m a_{ni}b_{ik}\n",
    "\\end{pmatrix}\n",
    "$$"
   ]
  },
  {
   "cell_type": "code",
   "execution_count": 32,
   "id": "1349d40f",
   "metadata": {},
   "outputs": [
    {
     "data": {
      "text/plain": [
       "array([ 5., 11.])"
      ]
     },
     "execution_count": 32,
     "metadata": {},
     "output_type": "execute_result"
    }
   ],
   "source": [
    "np.array([[1, 2], [3, 4]]) @ vec1"
   ]
  },
  {
   "cell_type": "code",
   "execution_count": 33,
   "id": "749989f3",
   "metadata": {},
   "outputs": [
    {
     "data": {
      "text/plain": [
       "array([[ 7, 10],\n",
       "       [15, 22]])"
      ]
     },
     "execution_count": 33,
     "metadata": {},
     "output_type": "execute_result"
    }
   ],
   "source": [
    "np.array([[1, 2], [3, 4]]) @ np.array([[1, 2], [3, 4]])"
   ]
  },
  {
   "cell_type": "markdown",
   "id": "7fa21ede",
   "metadata": {},
   "source": [
    "### Matrix Multiplication: View 2\n",
    "\n",
    "Each column is a linear combination of the left matrix columns using the right matrix columns as the coefficients.\n",
    "\n",
    "$$\n",
    "\\begin{pmatrix}\n",
    "a_{11} & \\dots & a_{1m} \\\\\n",
    "\\vdots & \\ddots & \\vdots \\\\\n",
    "a_{n1} & \\dots & a_{nm}\n",
    "\\end{pmatrix}\n",
    "\\begin{pmatrix}\n",
    "b_{1j} \\\\\n",
    "\\vdots \\\\ \n",
    "b_{mj}\n",
    "\\end{pmatrix} = \n",
    "\\begin{pmatrix}\n",
    "b_{1j}\n",
    "\\begin{pmatrix}\n",
    "a_{11} \\\\\n",
    "\\vdots \\\\\n",
    "a_{n1}\n",
    "\\end{pmatrix} +\n",
    "\\dots +\n",
    "b_{mj}\n",
    "\\begin{pmatrix}\n",
    "a_{1m} \\\\\n",
    "\\vdots \\\\\n",
    "a_{nm}\n",
    "\\end{pmatrix}\n",
    "\\end{pmatrix}\n",
    "$$"
   ]
  },
  {
   "cell_type": "code",
   "execution_count": 34,
   "id": "9e2a4f77",
   "metadata": {},
   "outputs": [
    {
     "data": {
      "text/plain": [
       "(array([ 5., 11.]), array([ 5., 11.]))"
      ]
     },
     "execution_count": 34,
     "metadata": {},
     "output_type": "execute_result"
    }
   ],
   "source": [
    "np.array([[1, 2], [3, 4]]) @ vec1, np.array([1, 3]) * vec1[0] + np.array([2, 4]) * vec1[1]"
   ]
  },
  {
   "cell_type": "code",
   "execution_count": 35,
   "id": "0895631c",
   "metadata": {},
   "outputs": [
    {
     "name": "stdout",
     "output_type": "stream",
     "text": [
      "[[ 7 10]\n",
      " [15 22]]\n"
     ]
    },
    {
     "data": {
      "text/plain": [
       "array([[ 7, 10],\n",
       "       [15, 22]])"
      ]
     },
     "execution_count": 35,
     "metadata": {},
     "output_type": "execute_result"
    }
   ],
   "source": [
    "print(np.array([[1, 2], [3, 4]]) @ np.array([[1, 2], [3, 4]]))\n",
    "np.concatenate([(np.array([1, 3]) * 1 + np.array([2, 4]) * 3).reshape(2, -1),\n",
    "                (np.array([1, 3]) * 2 + np.array([2, 4]) * 4).reshape(2, -1)], axis=1)"
   ]
  },
  {
   "cell_type": "markdown",
   "id": "345b55cc",
   "metadata": {},
   "source": [
    "### Linear Maps and Matrices\n",
    "\n",
    "Theorem: every linear map can be represented as a matrix in some arbitrary choice of basis"
   ]
  },
  {
   "cell_type": "markdown",
   "id": "6b22671a",
   "metadata": {},
   "source": [
    "#### Example 1"
   ]
  },
  {
   "cell_type": "code",
   "execution_count": 36,
   "id": "2dd038b2",
   "metadata": {},
   "outputs": [
    {
     "name": "stdout",
     "output_type": "stream",
     "text": [
      "[4. 8.] [4. 8.]\n",
      "[9.2 5.6] [9.2 5.6]\n"
     ]
    }
   ],
   "source": [
    "def f(x):\n",
    "    return 3. * x + x\n",
    "\n",
    "def f_matrix(x):\n",
    "    matrix = (3. * np.eye(x.shape[0]) + np.eye(x.shape[0]))  # representation of linear map\n",
    "    return matrix @ x  # matrix multiplication, i.e., applying a linear map\n",
    "    \n",
    "print(f(vec1), f_matrix(vec1))\n",
    "print(f(vec2), f_matrix(vec2))"
   ]
  },
  {
   "cell_type": "markdown",
   "id": "ee36a111",
   "metadata": {},
   "source": [
    "#### Example 2"
   ]
  },
  {
   "cell_type": "code",
   "execution_count": 37,
   "id": "8ee00abb",
   "metadata": {},
   "outputs": [
    {
     "name": "stdout",
     "output_type": "stream",
     "text": [
      "[-2.  1.] [-2.  1.]\n",
      "[-1.4  2.3] [-1.4  2.3]\n"
     ]
    }
   ],
   "source": [
    "def h(x):\n",
    "    theta = 90. * np.pi/180\n",
    "    return np.array(\n",
    "        [\n",
    "            x[0] * np.cos(theta) - x[1] * np.sin(theta),\n",
    "             x[0] * np.sin(theta) + x[1] * np.cos(theta)\n",
    "        ])\n",
    "\n",
    "def h_matrix(x):\n",
    "    theta = 90. * np.pi/180\n",
    "    R = np.array([[np.cos(theta), -np.sin(theta)], [np.sin(theta), np.cos(theta)]])  # representation of linear map\n",
    "    return R @ x  # matrix multiplication, i.e., applying a linear map\n",
    "    \n",
    "print(h(vec1), h_matrix(vec1))\n",
    "print(h(vec2), h_matrix(vec2))"
   ]
  },
  {
   "cell_type": "markdown",
   "id": "2ee2e90d",
   "metadata": {},
   "source": [
    "#### Summary\n",
    "\n",
    "1. Every linear map can be represented with a matrix.\n",
    "2. The application of a linear map is given by matrix multiplication. That is, if $f$ is a linear map and $M$ is a matrix representing $f$, then $f(x) = Mx$."
   ]
  },
  {
   "cell_type": "markdown",
   "id": "50b1ed98",
   "metadata": {},
   "source": [
    "## Solving a System of Linear Equations"
   ]
  },
  {
   "cell_type": "markdown",
   "id": "4c88b757",
   "metadata": {},
   "source": [
    "### Example\n",
    "\n",
    "Find $x_1$ and $x_2$ such that both equations hold\n",
    "\\begin{align}\n",
    "1x_1 + 2x_2 & = 3 \\\\\n",
    "2x_1 + 3x_2 & = 5\n",
    "\\end{align}"
   ]
  },
  {
   "cell_type": "markdown",
   "id": "937623fd",
   "metadata": {},
   "source": [
    "### View 1: System of Linear Equations\n",
    "\n",
    "1. Double\n",
    "\\begin{align*}\n",
    "2x_1 + 4x_2 & = 6 \\tag{double} \\\\\n",
    "2x_1 + 3x_2 & = 5\n",
    "\\end{align*}\n",
    "\n",
    "2. Eliminate\n",
    "\\begin{align*}\n",
    "x_2 & = 1 \\tag{subtract}\n",
    "\\end{align*}\n",
    "\n",
    "3. Back-substitute\n",
    "\\begin{align*}\n",
    "1x_1 + 2 = 3 \\tag{back-substitute}\n",
    "\\end{align*}\n",
    "\n",
    "4. Simplify\n",
    "\\begin{align*}\n",
    "x_1 = 1 \\tag{simplify}\n",
    "\\end{align*}\n",
    "\n",
    "5. Solution, x_1 = 1 and x_2 = 1"
   ]
  },
  {
   "cell_type": "markdown",
   "id": "53308a3a",
   "metadata": {},
   "source": [
    "#### Solution as intersection of \"hyper-planes\""
   ]
  },
  {
   "cell_type": "code",
   "execution_count": 38,
   "id": "cd0ccccb",
   "metadata": {},
   "outputs": [
    {
     "data": {
      "text/plain": [
       "<matplotlib.legend.Legend at 0x1e1a8fad2b0>"
      ]
     },
     "execution_count": 38,
     "metadata": {},
     "output_type": "execute_result"
    },
    {
     "data": {
      "image/png": "[encoded data removed]",
      "text/plain": [
       "<Figure size 432x288 with 1 Axes>"
      ]
     },
     "metadata": {
      "needs_background": "light"
     },
     "output_type": "display_data"
    }
   ],
   "source": [
    "xs = np.linspace(0, 2)\n",
    "eq1 = np.array([(3 - x) / 2 for x in xs])\n",
    "eq2 = np.array([(5 - 2*x) / 3 for x in xs])\n",
    "plt.plot(xs, eq1, label='eq1')\n",
    "plt.plot(xs, eq2, label='eq2')\n",
    "plt.plot([1], [1], marker='o', markersize=10)\n",
    "plt.legend()"
   ]
  },
  {
   "cell_type": "markdown",
   "id": "c3ed66aa",
   "metadata": {},
   "source": [
    "### View 2: Matrix\n",
    "\n",
    "$$\n",
    "A = \\begin{pmatrix}\n",
    "1 & 2 \\\\\n",
    "2 & 3 \n",
    "\\end{pmatrix}\n",
    "$$\n",
    "\n",
    "$$\n",
    "b = \\begin{pmatrix}\n",
    "3 \\\\\n",
    "5\n",
    "\\end{pmatrix}\n",
    "$$\n",
    "\n",
    "$$\n",
    "x = \\begin{pmatrix}\n",
    "x_1 \\\\\n",
    "x_2\n",
    "\\end{pmatrix}\n",
    "$$\n",
    "\n",
    "Solve\n",
    "$$\n",
    "Ax = b\n",
    "$$\n",
    "for x."
   ]
  },
  {
   "cell_type": "markdown",
   "id": "f61d3403",
   "metadata": {},
   "source": [
    "#### How do we do this?\n",
    "\n",
    "1. Recall matrix multiplication uses a linear combination of the columns of A using the coefficients $x_1, x_2$.\n",
    "2. So we need to find the coefficients $x_1$ and $x_2$ that add up to $b$"
   ]
  },
  {
   "cell_type": "code",
   "execution_count": 39,
   "id": "b3bf2e72",
   "metadata": {},
   "outputs": [
    {
     "data": {
      "image/png": "[encoded data removed]",
      "text/plain": [
       "<Figure size 432x288 with 1 Axes>"
      ]
     },
     "metadata": {
      "needs_background": "light"
     },
     "output_type": "display_data"
    }
   ],
   "source": [
    "A = np.array([[1, 2], [2, 3]])\n",
    "b = np.array([3, 5])\n",
    "col1 = A[0,:]\n",
    "col2 = A[1,:]\n",
    "\n",
    "x1 = 1.5 # Adjust until the vectors add up to b\n",
    "x2 = 1.5 # Adjust until the vectors add up to b\n",
    "draw_vecs([x1*col1, (x1*col1, x2*col2), b])"
   ]
  },
  {
   "cell_type": "markdown",
   "id": "7d6a3a4b",
   "metadata": {},
   "source": [
    "### Summary\n",
    "\n",
    "1. View 1: each row of the A matrix is a hyper-plane. Find the intersection of the hyper-planes.\n",
    "2. View 2: each column of the A matrix is a vector. Find a linear combination of the columns that up to b.\n",
    "3. These views are equivalent.\n",
    "4. In a linear algebra course, you might spend a lot of time solving these equations. In this class, we'll just use `numpy`."
   ]
  },
  {
   "cell_type": "markdown",
   "id": "15290154",
   "metadata": {},
   "source": [
    "### Numpy implementation"
   ]
  },
  {
   "cell_type": "code",
   "execution_count": 40,
   "id": "21524a1f",
   "metadata": {},
   "outputs": [
    {
     "data": {
      "text/plain": [
       "array([1., 1.])"
      ]
     },
     "execution_count": 40,
     "metadata": {},
     "output_type": "execute_result"
    }
   ],
   "source": [
    "A = np.array([[1, 2], [2, 3]])\n",
    "b = np.array([3, 5])\n",
    "\n",
    "# Solving Ax = b for x and storing in variable x\n",
    "x = np.linalg.solve(A, b)\n",
    "x"
   ]
  },
  {
   "cell_type": "markdown",
   "id": "3f69c6b9",
   "metadata": {},
   "source": [
    "### Generalization to 3 dimensions"
   ]
  },
  {
   "cell_type": "code",
   "execution_count": 41,
   "id": "0c72b988",
   "metadata": {},
   "outputs": [
    {
     "data": {
      "text/plain": [
       "array([1., 1., 2.])"
      ]
     },
     "execution_count": 41,
     "metadata": {},
     "output_type": "execute_result"
    }
   ],
   "source": [
    "A = np.array([[1, 2, 1], [1, -3, 1], [1, -1, -1]])\n",
    "b = np.array([5, 0, -2])\n",
    "\n",
    "# Solving Ax = b for x and storing in variable x\n",
    "x = np.linalg.solve(A, b)\n",
    "x"
   ]
  },
  {
   "cell_type": "markdown",
   "id": "3e905dda",
   "metadata": {},
   "source": [
    "### Generalization to D dimensions\n",
    "\n",
    "There's nothing stopping us from getting to $D$ dimensions.\n",
    "\n",
    "$$\n",
    "\\begin{pmatrix}\n",
    "a_{11} & \\dots & a_{1D} \\\\\n",
    "\\vdots & \\ddots & \\vdots \\\\\n",
    "a_{D1} & \\dots & a_{DD} \\\\\n",
    "\\end{pmatrix}\n",
    "\\begin{pmatrix}\n",
    "x_1 \\\\\n",
    "\\vdots \\\\\n",
    "x_D\n",
    "\\end{pmatrix} = \n",
    "\\begin{pmatrix}\n",
    "b_1 \\\\\n",
    "\\vdots \\\\\n",
    "b_D\n",
    "\\end{pmatrix}\n",
    "$$"
   ]
  },
  {
   "cell_type": "markdown",
   "id": "5b4df1ac",
   "metadata": {},
   "source": [
    "### Questions you may have\n",
    "\n",
    "1. What happens when you don't have D equations in D unknowns?\n",
    "2. Enough linear algebra -- what can we do with it?"
   ]
  },
  {
   "cell_type": "markdown",
   "id": "5ab39031",
   "metadata": {},
   "source": [
    "### Enter machine learning and the supervised learning task of regression\n",
    "\n",
    "- Linear algebra has enormous number of applications beyond regression."
   ]
  },
  {
   "cell_type": "markdown",
   "id": "08d0743f",
   "metadata": {},
   "source": [
    "# Linear Regression"
   ]
  },
  {
   "cell_type": "markdown",
   "id": "c233214d",
   "metadata": {},
   "source": [
    "- Linear regression is the foundation for all regression tasks.\n",
    "- Linear regression deals with the problem of fitting a line to a collection of points.\n",
    "- This collection of points comes from a \"real-life\" dataset."
   ]
  },
  {
   "cell_type": "markdown",
   "id": "667634fc",
   "metadata": {},
   "source": [
    "## Example: 1 Dimension and 3 Points"
   ]
  },
  {
   "cell_type": "code",
   "execution_count": 42,
   "id": "da1ae2b7",
   "metadata": {},
   "outputs": [
    {
     "data": {
      "text/plain": [
       "[<matplotlib.lines.Line2D at 0x1e1a913ecc0>]"
      ]
     },
     "execution_count": 42,
     "metadata": {},
     "output_type": "execute_result"
    },
    {
     "data": {
      "image/png": "[encoded data removed]",
      "text/plain": [
       "<Figure size 432x288 with 1 Axes>"
      ]
     },
     "metadata": {
      "needs_background": "light"
     },
     "output_type": "display_data"
    }
   ],
   "source": [
    "x1 = [0.3]                     # each point has dimension 1\n",
    "x2 = [-0.5]               \n",
    "x3 = [.1]                \n",
    "b = [0.2, -.1, 1.3]\n",
    "X = np.array([x1, x2, x3])   # each row is one point\n",
    "\n",
    "plt.plot(X[:,0], b, marker='o', linestyle='none')"
   ]
  },
  {
   "cell_type": "code",
   "execution_count": 70,
   "id": "27c769f6",
   "metadata": {},
   "outputs": [
    {
     "data": {
      "text/plain": [
       "(3, 1)"
      ]
     },
     "execution_count": 70,
     "metadata": {},
     "output_type": "execute_result"
    }
   ],
   "source": [
    "X.shape"
   ]
  },
  {
   "cell_type": "markdown",
   "id": "3b8fe97d",
   "metadata": {},
   "source": [
    "## Question: Can you fit a line through these points?\n",
    "\n",
    "No! I can't exactly fit a line through these points.\n",
    "1. Follow up question: If I relax to the problem of fitting a line through these points approximately, what is the best approximation?\n",
    "2. Follow up question: Do I have to fit a line? Can I fit a curve?\n",
    "\n",
    "Today: Define a notion of best approximation and show how to find the solution"
   ]
  },
  {
   "cell_type": "markdown",
   "id": "b4d5504f",
   "metadata": {},
   "source": [
    "## Best Approximation?"
   ]
  },
  {
   "cell_type": "code",
   "execution_count": 43,
   "id": "e56e8266",
   "metadata": {},
   "outputs": [
    {
     "data": {
      "text/plain": [
       "[<matplotlib.lines.Line2D at 0x1e1a8f759b0>]"
      ]
     },
     "execution_count": 43,
     "metadata": {},
     "output_type": "execute_result"
    },
    {
     "data": {
      "image/png": "[encoded data removed]",
      "text/plain": [
       "<Figure size 432x288 with 1 Axes>"
      ]
     },
     "metadata": {
      "needs_background": "light"
     },
     "output_type": "display_data"
    }
   ],
   "source": [
    "x = [2, .3]  # How should we choose x so that this line is the \"best approximation\"?\n",
    "\n",
    "plt.plot(X[:,0], b, marker='o', linestyle='none')\n",
    "plt.plot(np.linspace(-1, .5), [x0 * x[0] + x[1] for x0 in np.linspace(-1, .5)])"
   ]
  },
  {
   "cell_type": "markdown",
   "id": "f9b9db8f",
   "metadata": {},
   "source": [
    "### Hypothetical reasoning 1\n",
    "\n",
    "If we could fit a line through all three points, we can cast the problem as solving the set of linear equations\n",
    "\n",
    "\\begin{align*}\n",
    ".3 \\hat{x}_1 + \\hat{x}_2 & = 0.2 \\\\\n",
    "-.5 \\hat{x}_1 + \\hat{x}_2 & = -.1 \\\\\n",
    "-.1 \\hat{x}_1 + \\hat{x}_2 & = 1.3 \\\\\n",
    "\\end{align*}\n",
    "\n",
    "for the unknowns $\\hat{x}_1$ and $\\hat{x}_2$"
   ]
  },
  {
   "cell_type": "markdown",
   "id": "ed24e4fc",
   "metadata": {},
   "source": [
    "### Hypothetical reasoning 2\n",
    "\n",
    "We can gather this into the matrix equation\n",
    "$$\n",
    "A\\hat{x} = b\n",
    "$$\n",
    "where\n",
    "\n",
    "$$\n",
    "A = \\begin{pmatrix}\n",
    ".3 & 1 \\\\\n",
    "-.5 & 1 \\\\\n",
    "-.1 & 1\n",
    "\\end{pmatrix} \\,,\n",
    "$$\n",
    ",\n",
    "$$\n",
    "\\hat{x} = \\begin{pmatrix}\n",
    "\\hat{x}_1 \\\\\n",
    "\\hat{x}_2\n",
    "\\end{pmatrix} \\,,\n",
    "$$\n",
    "and\n",
    "$$\n",
    "b = \\begin{pmatrix}\n",
    "0.2 \\\\\n",
    "-.1 \\\\\n",
    "1.3\n",
    "\\end{pmatrix} \\,.\n",
    "$$"
   ]
  },
  {
   "cell_type": "code",
   "execution_count": 44,
   "id": "e75345f4",
   "metadata": {},
   "outputs": [
    {
     "data": {
      "text/plain": [
       "(array([[ 0.3,  1. ],\n",
       "        [-0.5,  1. ],\n",
       "        [ 0.1,  1. ]]),\n",
       " [0.2, -0.1, 1.3])"
      ]
     },
     "execution_count": 44,
     "metadata": {},
     "output_type": "execute_result"
    }
   ],
   "source": [
    "A = np.concatenate([X, np.ones((3,1))], axis=1)\n",
    "A, b"
   ]
  },
  {
   "cell_type": "code",
   "execution_count": 45,
   "id": "03bde525",
   "metadata": {},
   "outputs": [
    {
     "name": "stdout",
     "output_type": "stream",
     "text": [
      "Last 2 dimensions of the array must be square\n"
     ]
    }
   ],
   "source": [
    "# What happens if you try to solve?\n",
    "try:\n",
    "    np.linalg.solve(A, b)\n",
    "except Exception as err:\n",
    "    print(err)  # numpy won't even let you try to solve this system of equations"
   ]
  },
  {
   "cell_type": "markdown",
   "id": "00873db5",
   "metadata": {},
   "source": [
    "### Hypothetical reasoning 3\n",
    "\n",
    "The equation above is equivalent to saying\n",
    "$$\n",
    "\\hat{x}_1 \\begin{pmatrix}\n",
    "0.3 \\\\\n",
    "-0.5 \\\\\n",
    "0.1\n",
    "\\end{pmatrix}\n",
    "+\n",
    "\\hat{x}_2 \\begin{pmatrix}\n",
    "1 \\\\\n",
    "1 \\\\\n",
    "1\n",
    "\\end{pmatrix}\n",
    "=\n",
    "b \\,.\n",
    "$$\n",
    "In other words, the choice of $\\hat{x}_1$ and $\\hat{x}_2$ give us a linear combination of the columns of $A$."
   ]
  },
  {
   "cell_type": "markdown",
   "id": "96eb0c30",
   "metadata": {},
   "source": [
    "### Hypothetical reasoning 4\n",
    "\n",
    "1. We can't fit a line (hyper-plane) directly through the points.\n",
    "2. Let's do this approximately by choosing the best $\\hat{x}_1$ and $\\hat{x}_2$ so that the \"error\" is minimized.\n",
    "3. In Euclidean geometry, this corresponds to choosing a \"perpendicular\" vector.\n",
    "4. We'll need to define error and \"perpendicular\" formally now."
   ]
  },
  {
   "cell_type": "markdown",
   "id": "b665a3b9",
   "metadata": {},
   "source": [
    "#### Residual (Error)\n",
    "\n",
    "The **residual** or the error vector for some solution $x$ is the vector\n",
    "$$\n",
    "\\epsilon_\\hat{x} = \n",
    "\\begin{pmatrix}\n",
    ".3 & 1 \\\\\n",
    "-.5 & 1 \\\\\n",
    "-.1 & 1\n",
    "\\end{pmatrix}\n",
    "\\hat{x} - \n",
    "\\begin{pmatrix}\n",
    "0.2 \\\\\n",
    "-.1 \\\\\n",
    "1.3\n",
    "\\end{pmatrix}\n",
    "$$"
   ]
  },
  {
   "cell_type": "markdown",
   "id": "a082d2a4",
   "metadata": {},
   "source": [
    "#### Graphic of Residual"
   ]
  },
  {
   "cell_type": "code",
   "execution_count": 46,
   "id": "225e477d",
   "metadata": {},
   "outputs": [
    {
     "data": {
      "text/plain": [
       "(array([[ 0.3,  1. ],\n",
       "        [-0.5,  1. ],\n",
       "        [ 0.1,  1. ]]),\n",
       " [0.2, -0.1, 1.3])"
      ]
     },
     "execution_count": 46,
     "metadata": {},
     "output_type": "execute_result"
    }
   ],
   "source": [
    "# Make matrix\n",
    "A = np.concatenate([X, np.ones((3,1))], axis=1)\n",
    "A, b"
   ]
  },
  {
   "cell_type": "code",
   "execution_count": 47,
   "id": "982c7701",
   "metadata": {},
   "outputs": [
    {
     "data": {
      "text/plain": [
       "<mpl_toolkits.mplot3d.art3d.Line3DCollection at 0x1e1a8eb06d8>"
      ]
     },
     "execution_count": 47,
     "metadata": {},
     "output_type": "execute_result"
    },
    {
     "data": {
      "image/png": "[encoded data removed]",
      "text/plain": [
       "<Figure size 432x288 with 1 Axes>"
      ]
     },
     "metadata": {
      "needs_background": "light"
     },
     "output_type": "display_data"
    }
   ],
   "source": [
    "def draw_columns(A):\n",
    "    # Construct all linear combinations of columns of A\n",
    "    hat_x1, hat_x2 = np.meshgrid(np.linspace(-1, 1.5), np.linspace(-1, 1.5))\n",
    "    x = np.zeros(hat_x1.shape)\n",
    "    y = np.zeros(hat_x1.shape)\n",
    "    z = np.zeros(hat_x1.shape)\n",
    "    for i in range(hat_x1.shape[0]):\n",
    "        for j in range(hat_x2.shape[0]):\n",
    "            # Constructing a linear combination of columns of A\n",
    "            vec = hat_x1[i][j] * A[:,0] + hat_x2[i][j] * A[:,1]\n",
    "            x[i][j] = vec[0]\n",
    "            y[i][j] = vec[1]\n",
    "            z[i][j] = vec[2]\n",
    "\n",
    "    # Plotting\n",
    "    ax = plt.axes(projection='3d')\n",
    "    ax.set_xlim([-1, 1.5])\n",
    "    ax.set_ylim([-1, 1.5])\n",
    "    ax.set_zlim([-2, 2])\n",
    "\n",
    "    ax.plot_surface(x, y, z, alpha=0.5)   # plot linear combinations of columns of A\n",
    "    return ax\n",
    "    \n",
    "ax = draw_columns(A)\n",
    "ax.quiver(0, 0, 0, b[0], b[1], b[2])  # plot targets"
   ]
  },
  {
   "cell_type": "markdown",
   "id": "7bbddc9e",
   "metadata": {},
   "source": [
    "#### Orthogonality (Perpendicular) and Dot Product\n",
    "\n",
    "The dot product of two vectors is\n",
    "$$\n",
    "(a_1, \\dots, a_D) \\cdot (b_1, \\dots, b_D) = a_1b_1 + \\dots + a_D b_D\n",
    "$$"
   ]
  },
  {
   "cell_type": "markdown",
   "id": "d60d08fd",
   "metadata": {},
   "source": [
    "### Example"
   ]
  },
  {
   "cell_type": "code",
   "execution_count": 48,
   "id": "83f7ac5b",
   "metadata": {},
   "outputs": [],
   "source": [
    "vec1 = np.array([0, 1])\n",
    "vec2 = np.array([1, 0])\n",
    "vec3 = np.array([1./np.sqrt(2), 1./np.sqrt(2)])"
   ]
  },
  {
   "cell_type": "code",
   "execution_count": 49,
   "id": "b7f2f890",
   "metadata": {},
   "outputs": [
    {
     "data": {
      "text/plain": [
       "(0, 0)"
      ]
     },
     "execution_count": 49,
     "metadata": {},
     "output_type": "execute_result"
    }
   ],
   "source": [
    "vec1[0] * vec2[0] + vec1[1] * vec2[1], np.dot(vec1, vec2)"
   ]
  },
  {
   "cell_type": "code",
   "execution_count": 50,
   "id": "68caacaa",
   "metadata": {},
   "outputs": [
    {
     "data": {
      "text/plain": [
       "(0.7071067811865475, 0.7071067811865475)"
      ]
     },
     "execution_count": 50,
     "metadata": {},
     "output_type": "execute_result"
    }
   ],
   "source": [
    "vec1[0] * vec3[0] + vec1[1] * vec3[1], np.dot(vec1, vec3)"
   ]
  },
  {
   "cell_type": "code",
   "execution_count": 51,
   "id": "98942e19",
   "metadata": {},
   "outputs": [
    {
     "data": {
      "text/plain": [
       "(0.7071067811865475, 0.7071067811865475)"
      ]
     },
     "execution_count": 51,
     "metadata": {},
     "output_type": "execute_result"
    }
   ],
   "source": [
    "vec2[0] * vec3[0] + vec2[1] * vec3[1], np.dot(vec2, vec3)"
   ]
  },
  {
   "cell_type": "markdown",
   "id": "8a207dcc",
   "metadata": {},
   "source": [
    "### Geometric Intuition"
   ]
  },
  {
   "cell_type": "code",
   "execution_count": 52,
   "id": "d293bf03",
   "metadata": {},
   "outputs": [
    {
     "data": {
      "image/png": "[encoded data removed]",
      "text/plain": [
       "<Figure size 432x288 with 1 Axes>"
      ]
     },
     "metadata": {
      "needs_background": "light"
     },
     "output_type": "display_data"
    }
   ],
   "source": [
    "draw_vecs([vec1, vec2, vec3])"
   ]
  },
  {
   "cell_type": "markdown",
   "id": "f84c42a0",
   "metadata": {},
   "source": [
    "#### Dot product gives us cosine of angle\n",
    "\n",
    "$$\n",
    "a \\cdot b = cos(\\theta)\n",
    "$$\n",
    "where $\\theta$ is the angle between vectors a and b"
   ]
  },
  {
   "cell_type": "code",
   "execution_count": 53,
   "id": "6bc03e3a",
   "metadata": {},
   "outputs": [
    {
     "name": "stdout",
     "output_type": "stream",
     "text": [
      "Angle in degrees 90.0\n",
      "Angle in degrees 45.00000000000001\n",
      "Angle in degrees 45.00000000000001\n"
     ]
    }
   ],
   "source": [
    "print(\"Angle in degrees\", np.arccos(np.dot(vec1, vec2)) * 180/np.pi)\n",
    "print(\"Angle in degrees\", np.arccos(np.dot(vec1, vec3)) * 180/np.pi)\n",
    "print(\"Angle in degrees\", np.arccos(np.dot(vec2, vec3)) * 180/np.pi)"
   ]
  },
  {
   "cell_type": "markdown",
   "id": "66780c2e",
   "metadata": {},
   "source": [
    "#### So dot product of 0 gives us orthogonality\n",
    "\n",
    "Two vectors are **orthogonal** if their dot product is 0."
   ]
  },
  {
   "cell_type": "markdown",
   "id": "bd9dbad8",
   "metadata": {},
   "source": [
    "### Chain-of-reasoning 4\n",
    "\n",
    "We want the angle between the residual to be orthogonal to\n",
    "$$\n",
    "\\begin{pmatrix}\n",
    ".3 \\\\\n",
    "-.5\\\\\n",
    "-.1\n",
    "\\end{pmatrix}\n",
    "$$\n",
    "and\n",
    "$$\n",
    "\\begin{pmatrix}\n",
    "1 \\\\\n",
    "1 \\\\\n",
    "1\n",
    "\\end{pmatrix}\n",
    "$$."
   ]
  },
  {
   "cell_type": "markdown",
   "id": "a99e16df",
   "metadata": {},
   "source": [
    "In other words,\n",
    "$$\n",
    "\\begin{pmatrix}\n",
    ".3 \\\\\n",
    "-.5\\\\\n",
    "-.1\n",
    "\\end{pmatrix}\n",
    " \\cdot \\epsilon_x = 0\n",
    "$$\n",
    "and\n",
    "$$\n",
    "\\begin{pmatrix}\n",
    "1 \\\\\n",
    "1 \\\\\n",
    "1\n",
    "\\end{pmatrix}\n",
    " \\cdot \\epsilon_x = 0\n",
    "$$"
   ]
  },
  {
   "cell_type": "markdown",
   "id": "5c9b16b7",
   "metadata": {},
   "source": [
    "We can gather this into the matrix equation\n",
    "\n",
    "$$\n",
    "\\begin{pmatrix}\n",
    ".3 & -.5 & -.1 \\\\\n",
    "1 & 1 & 1\n",
    "\\end{pmatrix}\n",
    "\\epsilon_x = \n",
    "\\begin{pmatrix}\n",
    "0 \\\\\n",
    "0\n",
    "\\end{pmatrix}\n",
    "$$"
   ]
  },
  {
   "cell_type": "markdown",
   "id": "fce5f046",
   "metadata": {},
   "source": [
    "### Aside: Transpose of a Matrix\n",
    "\n",
    "\n",
    "The **transpose** of a matrix is\n",
    "$$\n",
    "\\begin{pmatrix}\n",
    "a_{11} \\dots a_{1n} \\\\\n",
    "\\vdots \\ddots \\vdots \\\\\n",
    "a_{n1} \\dots a_{mn}\n",
    "\\end{pmatrix}^T = \n",
    "\\begin{pmatrix}\n",
    "a_{11} \\dots a_{n1} \\\\\n",
    "\\vdots \\ddots \\vdots \\\\\n",
    "a_{1n} \\dots a_{mn}\n",
    "\\end{pmatrix}\n",
    "$$"
   ]
  },
  {
   "cell_type": "markdown",
   "id": "b0568610",
   "metadata": {},
   "source": [
    "## Normal Equations\n",
    "\n",
    "More generally\n",
    "$$\n",
    "A^T (Ax - b) = 0\n",
    "$$\n",
    "or equivalently\n",
    "$$ \n",
    "A^TAx = A^Tb\n",
    "$$\n",
    "or equivalently\n",
    "$$ \n",
    "x = (A^TA)^{-1} A^Tb\n",
    "$$"
   ]
  },
  {
   "cell_type": "markdown",
   "id": "ba09d2e2",
   "metadata": {},
   "source": [
    "## How do we solve it?"
   ]
  },
  {
   "cell_type": "markdown",
   "id": "c0402ece",
   "metadata": {},
   "source": [
    "### Implementation Strategy 1\n",
    "\n",
    "$$ \n",
    "x = (A^TA)^{-1} A^Tb\n",
    "$$"
   ]
  },
  {
   "cell_type": "code",
   "execution_count": 67,
   "id": "3e2ee374",
   "metadata": {},
   "outputs": [
    {
     "data": {
      "text/plain": [
       "array([[ 0.3,  1. ],\n",
       "       [-0.5,  1. ],\n",
       "       [ 0.1,  1. ]])"
      ]
     },
     "execution_count": 67,
     "metadata": {},
     "output_type": "execute_result"
    }
   ],
   "source": [
    "A = np.concatenate([X, np.ones((3,1))], axis=1)\n",
    "A"
   ]
  },
  {
   "cell_type": "code",
   "execution_count": 68,
   "id": "4bd5aa62",
   "metadata": {},
   "outputs": [
    {
     "data": {
      "text/plain": [
       "[0.2, -0.1, 1.3]"
      ]
     },
     "execution_count": 68,
     "metadata": {},
     "output_type": "execute_result"
    }
   ],
   "source": [
    "b"
   ]
  },
  {
   "cell_type": "code",
   "execution_count": 55,
   "id": "df1c6712",
   "metadata": {},
   "outputs": [
    {
     "data": {
      "text/plain": [
       "array([0.82692308, 0.49423077])"
      ]
     },
     "execution_count": 55,
     "metadata": {},
     "output_type": "execute_result"
    }
   ],
   "source": [
    "x = np.linalg.inv(A.transpose() @ A) @ A.transpose() @ b\n",
    "x"
   ]
  },
  {
   "cell_type": "markdown",
   "id": "282f86fd",
   "metadata": {},
   "source": [
    "### Implementation Strategy 2\n",
    "\n",
    "Solve\n",
    "$$ \n",
    "(A^TA)x = A^Tb\n",
    "$$\n",
    "for x."
   ]
  },
  {
   "cell_type": "code",
   "execution_count": 56,
   "id": "14fcda59",
   "metadata": {},
   "outputs": [
    {
     "data": {
      "text/plain": [
       "array([0.82692308, 0.49423077])"
      ]
     },
     "execution_count": 56,
     "metadata": {},
     "output_type": "execute_result"
    }
   ],
   "source": [
    "np.linalg.solve(A.transpose() @ A, A.transpose() @ b)"
   ]
  },
  {
   "cell_type": "markdown",
   "id": "cc2cbea1",
   "metadata": {},
   "source": [
    "## Aside: Math vs. Computation\n",
    "\n",
    "1. Strategy 1 and strategy 2 both give us the same answer (thankfully).\n",
    "2. However, they have different computational properties.\n",
    "3. For example, matrix inversion is less stable than solving a system of linear equations.\n",
    "4. So strategy 2 is preferred over 1.\n",
    "5. Both matrix inversion and solving a system of linear equations have cubic complexity in the dimensions of the matrix. So this is a costly operation!"
   ]
  },
  {
   "cell_type": "markdown",
   "id": "d7fd3952",
   "metadata": {},
   "source": [
    "## Practice\n",
    "\n",
    "1. Let's try this on a real dataset!\n",
    "2. We'll use the UCI ML data repository which contains many datasets.\n",
    "3. In particular, we'll focus on just one dataset that contains some data: [https://archive.ics.uci.edu/ml/datasets/KEGG+Metabolic+Relation+Network+%28Directed%29](https://archive.ics.uci.edu/ml/datasets/KEGG+Metabolic+Relation+Network+%28Directed%29)"
   ]
  },
  {
   "cell_type": "markdown",
   "id": "6324168e",
   "metadata": {},
   "source": [
    "### Step 1: Get Data"
   ]
  },
  {
   "cell_type": "code",
   "execution_count": 59,
   "id": "5c6dc30c",
   "metadata": {},
   "outputs": [],
   "source": [
    "# Some code to download the data once if you don't already have it\n",
    "from tqdm.notebook import trange, tqdm\n",
    "import requests\n",
    "from os.path import exists\n",
    "\n",
    "if not exists(\"./Relation Network (Directed).data\"):\n",
    "    url = \"https://archive.ics.uci.edu/ml/machine-learning-databases/00220/Relation%20Network%20(Directed).data\"\n",
    "    response = requests.get(url, stream=True)\n",
    "\n",
    "    with open(\"./data/Relation Network (Directed).data\", \"wb\") as f:\n",
    "        for data in tqdm(response.iter_content()):\n",
    "            f.write(data)"
   ]
  },
  {
   "cell_type": "markdown",
   "id": "b0abb869",
   "metadata": {},
   "source": [
    "### Step 2: Read Data"
   ]
  },
  {
   "cell_type": "code",
   "execution_count": 60,
   "id": "bec74ba8",
   "metadata": {},
   "outputs": [
    {
     "data": {
      "text/html": [
       "<div>\n",
       "<style scoped>\n",
       "    .dataframe tbody tr th:only-of-type {\n",
       "        vertical-align: middle;\n",
       "    }\n",
       "\n",
       "    .dataframe tbody tr th {\n",
       "        vertical-align: top;\n",
       "    }\n",
       "\n",
       "    .dataframe thead th {\n",
       "        text-align: right;\n",
       "    }\n",
       "</style>\n",
       "<table border=\"1\" class=\"dataframe\">\n",
       "  <thead>\n",
       "    <tr style=\"text-align: right;\">\n",
       "      <th></th>\n",
       "      <th>0</th>\n",
       "      <th>1</th>\n",
       "      <th>2</th>\n",
       "      <th>3</th>\n",
       "      <th>4</th>\n",
       "      <th>5</th>\n",
       "      <th>6</th>\n",
       "      <th>7</th>\n",
       "      <th>8</th>\n",
       "      <th>9</th>\n",
       "      <th>...</th>\n",
       "      <th>14</th>\n",
       "      <th>15</th>\n",
       "      <th>16</th>\n",
       "      <th>17</th>\n",
       "      <th>18</th>\n",
       "      <th>19</th>\n",
       "      <th>20</th>\n",
       "      <th>21</th>\n",
       "      <th>22</th>\n",
       "      <th>23</th>\n",
       "    </tr>\n",
       "  </thead>\n",
       "  <tbody>\n",
       "    <tr>\n",
       "      <th>0</th>\n",
       "      <td>aac00010</td>\n",
       "      <td>26</td>\n",
       "      <td>43</td>\n",
       "      <td>2</td>\n",
       "      <td>7</td>\n",
       "      <td>1</td>\n",
       "      <td>211</td>\n",
       "      <td>3.222749</td>\n",
       "      <td>3.230769</td>\n",
       "      <td>0</td>\n",
       "      <td>...</td>\n",
       "      <td>27.000000</td>\n",
       "      <td>0</td>\n",
       "      <td>0.076923</td>\n",
       "      <td>3.307692</td>\n",
       "      <td>0.062418</td>\n",
       "      <td>1.653846</td>\n",
       "      <td>3.923077</td>\n",
       "      <td>0.375199</td>\n",
       "      <td>2.210114</td>\n",
       "      <td>0.221154</td>\n",
       "    </tr>\n",
       "    <tr>\n",
       "      <th>1</th>\n",
       "      <td>aac00020</td>\n",
       "      <td>27</td>\n",
       "      <td>52</td>\n",
       "      <td>2</td>\n",
       "      <td>10</td>\n",
       "      <td>1</td>\n",
       "      <td>226</td>\n",
       "      <td>3.411504</td>\n",
       "      <td>3.851852</td>\n",
       "      <td>0</td>\n",
       "      <td>...</td>\n",
       "      <td>26.629630</td>\n",
       "      <td>0</td>\n",
       "      <td>0.000000</td>\n",
       "      <td>3.851852</td>\n",
       "      <td>0.036567</td>\n",
       "      <td>1.925926</td>\n",
       "      <td>4.074074</td>\n",
       "      <td>0.399880</td>\n",
       "      <td>2.168687</td>\n",
       "      <td>0.290197</td>\n",
       "    </tr>\n",
       "    <tr>\n",
       "      <th>2</th>\n",
       "      <td>aac00030</td>\n",
       "      <td>26</td>\n",
       "      <td>53</td>\n",
       "      <td>2</td>\n",
       "      <td>6</td>\n",
       "      <td>1</td>\n",
       "      <td>202</td>\n",
       "      <td>2.732673</td>\n",
       "      <td>3.769231</td>\n",
       "      <td>0</td>\n",
       "      <td>...</td>\n",
       "      <td>14.961538</td>\n",
       "      <td>0</td>\n",
       "      <td>0.230769</td>\n",
       "      <td>4.076923</td>\n",
       "      <td>0.026604</td>\n",
       "      <td>2.038462</td>\n",
       "      <td>3.115385</td>\n",
       "      <td>0.430368</td>\n",
       "      <td>1.864288</td>\n",
       "      <td>0.230311</td>\n",
       "    </tr>\n",
       "    <tr>\n",
       "      <th>3</th>\n",
       "      <td>aac00040</td>\n",
       "      <td>20</td>\n",
       "      <td>28</td>\n",
       "      <td>1</td>\n",
       "      <td>8</td>\n",
       "      <td>1</td>\n",
       "      <td>65</td>\n",
       "      <td>2.523077</td>\n",
       "      <td>2.600000</td>\n",
       "      <td>0</td>\n",
       "      <td>...</td>\n",
       "      <td>4.950000</td>\n",
       "      <td>0</td>\n",
       "      <td>0.100000</td>\n",
       "      <td>2.800000</td>\n",
       "      <td>0.014474</td>\n",
       "      <td>1.400000</td>\n",
       "      <td>2.450000</td>\n",
       "      <td>0.481044</td>\n",
       "      <td>1.492500</td>\n",
       "      <td>0.210000</td>\n",
       "    </tr>\n",
       "    <tr>\n",
       "      <th>4</th>\n",
       "      <td>aac00051</td>\n",
       "      <td>15</td>\n",
       "      <td>33</td>\n",
       "      <td>1</td>\n",
       "      <td>4</td>\n",
       "      <td>2</td>\n",
       "      <td>85</td>\n",
       "      <td>1.858824</td>\n",
       "      <td>4.400000</td>\n",
       "      <td>0</td>\n",
       "      <td>...</td>\n",
       "      <td>5.000000</td>\n",
       "      <td>0</td>\n",
       "      <td>0.000000</td>\n",
       "      <td>4.400000</td>\n",
       "      <td>0.026740</td>\n",
       "      <td>2.200000</td>\n",
       "      <td>2.333333</td>\n",
       "      <td>0.518691</td>\n",
       "      <td>1.532326</td>\n",
       "      <td>0.267222</td>\n",
       "    </tr>\n",
       "    <tr>\n",
       "      <th>...</th>\n",
       "      <td>...</td>\n",
       "      <td>...</td>\n",
       "      <td>...</td>\n",
       "      <td>...</td>\n",
       "      <td>...</td>\n",
       "      <td>...</td>\n",
       "      <td>...</td>\n",
       "      <td>...</td>\n",
       "      <td>...</td>\n",
       "      <td>...</td>\n",
       "      <td>...</td>\n",
       "      <td>...</td>\n",
       "      <td>...</td>\n",
       "      <td>...</td>\n",
       "      <td>...</td>\n",
       "      <td>...</td>\n",
       "      <td>...</td>\n",
       "      <td>...</td>\n",
       "      <td>...</td>\n",
       "      <td>...</td>\n",
       "      <td>...</td>\n",
       "    </tr>\n",
       "    <tr>\n",
       "      <th>53408</th>\n",
       "      <td>zmo00770</td>\n",
       "      <td>20</td>\n",
       "      <td>25</td>\n",
       "      <td>2</td>\n",
       "      <td>5</td>\n",
       "      <td>1</td>\n",
       "      <td>62</td>\n",
       "      <td>2.112903</td>\n",
       "      <td>2.500000</td>\n",
       "      <td>0</td>\n",
       "      <td>...</td>\n",
       "      <td>5.550000</td>\n",
       "      <td>0</td>\n",
       "      <td>0.000000</td>\n",
       "      <td>2.500000</td>\n",
       "      <td>0.043910</td>\n",
       "      <td>1.250000</td>\n",
       "      <td>1.650000</td>\n",
       "      <td>0.377880</td>\n",
       "      <td>1.077955</td>\n",
       "      <td>0.157500</td>\n",
       "    </tr>\n",
       "    <tr>\n",
       "      <th>53409</th>\n",
       "      <td>zmo00780</td>\n",
       "      <td>4</td>\n",
       "      <td>3</td>\n",
       "      <td>1</td>\n",
       "      <td>3</td>\n",
       "      <td>1</td>\n",
       "      <td>6</td>\n",
       "      <td>1.666667</td>\n",
       "      <td>1.500000</td>\n",
       "      <td>0</td>\n",
       "      <td>...</td>\n",
       "      <td>1.000000</td>\n",
       "      <td>0</td>\n",
       "      <td>0.000000</td>\n",
       "      <td>1.500000</td>\n",
       "      <td>0.166667</td>\n",
       "      <td>0.750000</td>\n",
       "      <td>1.500000</td>\n",
       "      <td>0.541667</td>\n",
       "      <td>1.125000</td>\n",
       "      <td>0.000000</td>\n",
       "    </tr>\n",
       "    <tr>\n",
       "      <th>53410</th>\n",
       "      <td>zmo00785</td>\n",
       "      <td>5</td>\n",
       "      <td>6</td>\n",
       "      <td>1</td>\n",
       "      <td>3</td>\n",
       "      <td>1</td>\n",
       "      <td>10</td>\n",
       "      <td>1.500000</td>\n",
       "      <td>2.400000</td>\n",
       "      <td>0</td>\n",
       "      <td>...</td>\n",
       "      <td>1.000000</td>\n",
       "      <td>0</td>\n",
       "      <td>0.000000</td>\n",
       "      <td>2.400000</td>\n",
       "      <td>0.083333</td>\n",
       "      <td>1.200000</td>\n",
       "      <td>1.600000</td>\n",
       "      <td>0.593333</td>\n",
       "      <td>1.150000</td>\n",
       "      <td>0.166667</td>\n",
       "    </tr>\n",
       "    <tr>\n",
       "      <th>53411</th>\n",
       "      <td>zmo00790</td>\n",
       "      <td>16</td>\n",
       "      <td>24</td>\n",
       "      <td>3</td>\n",
       "      <td>4</td>\n",
       "      <td>1</td>\n",
       "      <td>39</td>\n",
       "      <td>1.666667</td>\n",
       "      <td>2.250000</td>\n",
       "      <td>0</td>\n",
       "      <td>...</td>\n",
       "      <td>2.250000</td>\n",
       "      <td>0</td>\n",
       "      <td>0.250000</td>\n",
       "      <td>2.500000</td>\n",
       "      <td>0.018056</td>\n",
       "      <td>1.250000</td>\n",
       "      <td>1.375000</td>\n",
       "      <td>0.454412</td>\n",
       "      <td>0.923438</td>\n",
       "      <td>0.188542</td>\n",
       "    </tr>\n",
       "    <tr>\n",
       "      <th>53412</th>\n",
       "      <td>zmo00860</td>\n",
       "      <td>11</td>\n",
       "      <td>10</td>\n",
       "      <td>2</td>\n",
       "      <td>4</td>\n",
       "      <td>1</td>\n",
       "      <td>21</td>\n",
       "      <td>1.857143</td>\n",
       "      <td>1.818182</td>\n",
       "      <td>0</td>\n",
       "      <td>...</td>\n",
       "      <td>1.636364</td>\n",
       "      <td>0</td>\n",
       "      <td>0.000000</td>\n",
       "      <td>1.818182</td>\n",
       "      <td>0.029221</td>\n",
       "      <td>0.909091</td>\n",
       "      <td>1.454545</td>\n",
       "      <td>0.468615</td>\n",
       "      <td>0.989394</td>\n",
       "      <td>0.068182</td>\n",
       "    </tr>\n",
       "  </tbody>\n",
       "</table>\n",
       "<p>53413 rows × 24 columns</p>\n",
       "</div>"
      ],
      "text/plain": [
       "             0   1   2   3   4   5    6         7         8   9   ...  \\\n",
       "0      aac00010  26  43   2   7   1  211  3.222749  3.230769   0  ...   \n",
       "1      aac00020  27  52   2  10   1  226  3.411504  3.851852   0  ...   \n",
       "2      aac00030  26  53   2   6   1  202  2.732673  3.769231   0  ...   \n",
       "3      aac00040  20  28   1   8   1   65  2.523077  2.600000   0  ...   \n",
       "4      aac00051  15  33   1   4   2   85  1.858824  4.400000   0  ...   \n",
       "...         ...  ..  ..  ..  ..  ..  ...       ...       ...  ..  ...   \n",
       "53408  zmo00770  20  25   2   5   1   62  2.112903  2.500000   0  ...   \n",
       "53409  zmo00780   4   3   1   3   1    6  1.666667  1.500000   0  ...   \n",
       "53410  zmo00785   5   6   1   3   1   10  1.500000  2.400000   0  ...   \n",
       "53411  zmo00790  16  24   3   4   1   39  1.666667  2.250000   0  ...   \n",
       "53412  zmo00860  11  10   2   4   1   21  1.857143  1.818182   0  ...   \n",
       "\n",
       "              14  15        16        17        18        19        20  \\\n",
       "0      27.000000   0  0.076923  3.307692  0.062418  1.653846  3.923077   \n",
       "1      26.629630   0  0.000000  3.851852  0.036567  1.925926  4.074074   \n",
       "2      14.961538   0  0.230769  4.076923  0.026604  2.038462  3.115385   \n",
       "3       4.950000   0  0.100000  2.800000  0.014474  1.400000  2.450000   \n",
       "4       5.000000   0  0.000000  4.400000  0.026740  2.200000  2.333333   \n",
       "...          ...  ..       ...       ...       ...       ...       ...   \n",
       "53408   5.550000   0  0.000000  2.500000  0.043910  1.250000  1.650000   \n",
       "53409   1.000000   0  0.000000  1.500000  0.166667  0.750000  1.500000   \n",
       "53410   1.000000   0  0.000000  2.400000  0.083333  1.200000  1.600000   \n",
       "53411   2.250000   0  0.250000  2.500000  0.018056  1.250000  1.375000   \n",
       "53412   1.636364   0  0.000000  1.818182  0.029221  0.909091  1.454545   \n",
       "\n",
       "             21        22        23  \n",
       "0      0.375199  2.210114  0.221154  \n",
       "1      0.399880  2.168687  0.290197  \n",
       "2      0.430368  1.864288  0.230311  \n",
       "3      0.481044  1.492500  0.210000  \n",
       "4      0.518691  1.532326  0.267222  \n",
       "...         ...       ...       ...  \n",
       "53408  0.377880  1.077955  0.157500  \n",
       "53409  0.541667  1.125000  0.000000  \n",
       "53410  0.593333  1.150000  0.166667  \n",
       "53411  0.454412  0.923438  0.188542  \n",
       "53412  0.468615  0.989394  0.068182  \n",
       "\n",
       "[53413 rows x 24 columns]"
      ]
     },
     "execution_count": 60,
     "metadata": {},
     "output_type": "execute_result"
    }
   ],
   "source": [
    "import pandas as pd\n",
    "\n",
    "df = pd.read_csv('Relation Network (Directed).data', header=None)\n",
    "df"
   ]
  },
  {
   "cell_type": "markdown",
   "id": "f1be0322",
   "metadata": {},
   "source": [
    "### Step 3: Explore Data"
   ]
  },
  {
   "cell_type": "code",
   "execution_count": 61,
   "id": "99c461c7",
   "metadata": {},
   "outputs": [],
   "source": [
    "def column_info(column: int, df: pd.DataFrame) -> {'min': float, 'max': float, 'mean': float, 'std': float}:\n",
    "    if df[column].dtype == object:\n",
    "        print(\"Cannot get statistics of object\")\n",
    "        return None\n",
    "    \n",
    "    \n",
    "    return {\n",
    "        'min': df[column].min(),\n",
    "        'max': df[column].max(),\n",
    "        'mean': df[column].mean(),\n",
    "        'std': df[column].std(),\n",
    "    }"
   ]
  },
  {
   "cell_type": "code",
   "execution_count": 62,
   "id": "b60ce20c",
   "metadata": {},
   "outputs": [
    {
     "name": "stdout",
     "output_type": "stream",
     "text": [
      "Cannot get statistics of object\n",
      "None\n",
      "{'min': 2, 'max': 116, 'mean': 14.053395240858967, 'std': 12.718932526109183}\n",
      "{'min': 1.0, 'max': 14.16393443, 'mean': 2.4440069526840316, 'std': 1.5407816728346586}\n"
     ]
    }
   ],
   "source": [
    "print(column_info(0, df))\n",
    "print(column_info(1, df))\n",
    "print(column_info(8, df))"
   ]
  },
  {
   "cell_type": "markdown",
   "id": "c0d97199",
   "metadata": {},
   "source": [
    "### Example 1\n",
    "\n",
    "Suppose we are regressing column 16 against column 17."
   ]
  },
  {
   "cell_type": "code",
   "execution_count": 63,
   "id": "4848b84a",
   "metadata": {},
   "outputs": [
    {
     "data": {
      "text/plain": [
       "[<matplotlib.lines.Line2D at 0x1e1ab9c4f60>]"
      ]
     },
     "execution_count": 63,
     "metadata": {},
     "output_type": "execute_result"
    },
    {
     "data": {
      "image/png": "[encoded data removed]",
      "text/plain": [
       "<Figure size 432x288 with 1 Axes>"
      ]
     },
     "metadata": {
      "needs_background": "light"
     },
     "output_type": "display_data"
    }
   ],
   "source": [
    "plt.plot(df[16], df[17], marker='o', linestyle='None')"
   ]
  },
  {
   "cell_type": "code",
   "execution_count": 64,
   "id": "f5335538",
   "metadata": {},
   "outputs": [],
   "source": [
    "def fit_regression(X, y):\n",
    "    A = np.concatenate([X, np.ones((X.shape[0],1))], axis=1)\n",
    "    return np.linalg.solve(A.transpose() @ A, A.transpose() @ y)"
   ]
  },
  {
   "cell_type": "code",
   "execution_count": 65,
   "id": "8f866a61",
   "metadata": {},
   "outputs": [
    {
     "name": "stdout",
     "output_type": "stream",
     "text": [
      "Weights [3.14784129 2.31050064]\n"
     ]
    },
    {
     "data": {
      "text/plain": [
       "[<matplotlib.lines.Line2D at 0x1e1a9017160>]"
      ]
     },
     "execution_count": 65,
     "metadata": {},
     "output_type": "execute_result"
    },
    {
     "data": {
      "image/png": "[encoded data removed]",
      "text/plain": [
       "<Figure size 432x288 with 1 Axes>"
      ]
     },
     "metadata": {
      "needs_background": "light"
     },
     "output_type": "display_data"
    }
   ],
   "source": [
    "weights = fit_regression(df[16].to_numpy().reshape(-1, 1), df[17].to_numpy())\n",
    "print(\"Weights\", weights)\n",
    "predictions = [weights[0] * x + weights[1] for x in df[16].to_numpy()]\n",
    "plt.plot(df[16], df[17], marker='o', linestyle='None')\n",
    "plt.plot(df[16], predictions)"
   ]
  },
  {
   "cell_type": "markdown",
   "id": "fe21297b",
   "metadata": {},
   "source": [
    "### Example 2\n",
    "\n",
    "Suppose we are regressing column 17 against column 18."
   ]
  },
  {
   "cell_type": "code",
   "execution_count": 63,
   "id": "24e10270",
   "metadata": {},
   "outputs": [
    {
     "data": {
      "text/plain": [
       "[<matplotlib.lines.Line2D at 0x13f71e7f0>]"
      ]
     },
     "execution_count": 63,
     "metadata": {},
     "output_type": "execute_result"
    },
    {
     "data": {
      "image/png": "[encoded data removed]",
      "text/plain": [
       "<Figure size 432x288 with 1 Axes>"
      ]
     },
     "metadata": {
      "needs_background": "light"
     },
     "output_type": "display_data"
    }
   ],
   "source": [
    "plt.plot(df[17], df[18], marker='o', linestyle='None')"
   ]
  },
  {
   "cell_type": "code",
   "execution_count": 64,
   "id": "22beaa0b",
   "metadata": {},
   "outputs": [
    {
     "name": "stdout",
     "output_type": "stream",
     "text": [
      "Weights [-0.00289117  0.02733539]\n"
     ]
    },
    {
     "data": {
      "text/plain": [
       "[<matplotlib.lines.Line2D at 0x13f73e160>]"
      ]
     },
     "execution_count": 64,
     "metadata": {},
     "output_type": "execute_result"
    },
    {
     "data": {
      "image/png": "[encoded data removed]",
      "text/plain": [
       "<Figure size 432x288 with 1 Axes>"
      ]
     },
     "metadata": {
      "needs_background": "light"
     },
     "output_type": "display_data"
    }
   ],
   "source": [
    "weights = fit_regression(df[17].to_numpy().reshape(-1, 1), df[18].to_numpy())\n",
    "predictions = [weights[0] * x + weights[1] for x in df[17].to_numpy()]\n",
    "print(\"Weights\", weights)\n",
    "plt.plot(df[17], df[18], marker='o', linestyle='None')\n",
    "plt.plot(df[17], predictions)"
   ]
  },
  {
   "cell_type": "markdown",
   "id": "a7d7dc35",
   "metadata": {},
   "source": [
    "### Example 3\n",
    "\n",
    "If we are using higher-dimensional regression\n",
    "1. We can't really plot the weights graphically anymore.\n",
    "2. However, the regression still works due to the linear algebra!"
   ]
  },
  {
   "cell_type": "code",
   "execution_count": 65,
   "id": "ce9fdf12",
   "metadata": {},
   "outputs": [
    {
     "name": "stdout",
     "output_type": "stream",
     "text": [
      "Weights [ 0.00854496 -0.00326081  0.02772432]\n"
     ]
    }
   ],
   "source": [
    "weights = fit_regression(df[[16,17]].to_numpy().reshape(-1, 2), df[18].to_numpy())\n",
    "print(\"Weights\", weights)\n",
    "predictions = [weights[0] * x[0] + weights[1] * x[1] + weights[2] for x in df[[16, 17]].to_numpy()]"
   ]
  },
  {
   "cell_type": "markdown",
   "id": "1b2debe5",
   "metadata": {},
   "source": [
    "### Loss\n",
    "\n",
    "- We can measure the difference between the prediction and the actual value by computing the loss.\n",
    "- One common loss is squared loss:\n",
    "$$\n",
    "\\text{squared loss} = \\sum_{i=1}^N (\\hat{y} - y)^2\n",
    "$$"
   ]
  },
  {
   "cell_type": "code",
   "execution_count": 66,
   "id": "5129beb2",
   "metadata": {},
   "outputs": [
    {
     "data": {
      "text/plain": [
       "63.72736233081981"
      ]
     },
     "execution_count": 66,
     "metadata": {},
     "output_type": "execute_result"
    }
   ],
   "source": [
    "np.sum((predictions - df[18].to_numpy())**2)"
   ]
  },
  {
   "cell_type": "markdown",
   "id": "30e03a0a",
   "metadata": {},
   "source": [
    "## Some questions you may have\n",
    "\n",
    "1. What's the best loss? (It depends, we'll look at this more.\n",
    "2. Can we fit any other kind of curve? Yes, this is what neural networks and gaussian processes do.\n",
    "3. Where does probability and optimization come in? More on this later!"
   ]
  },
  {
   "cell_type": "markdown",
   "id": "49783c0d",
   "metadata": {},
   "source": [
    "# Summary\n",
    "\n",
    "1. Review of linear algebra.\n",
    "2. First introduction to linear regression\n",
    "3. Next time: probability and Bayesian view of linear regression."
   ]
  },
  {
   "cell_type": "code",
   "execution_count": null,
   "id": "4b10372f",
   "metadata": {},
   "outputs": [],
   "source": []
  }
 ],
 "metadata": {
  "kernelspec": {
   "display_name": "Python 3 (ipykernel)",
   "language": "python",
   "name": "python3"
  },
  "language_info": {
   "codemirror_mode": {
    "name": "ipython",
    "version": 3
   },
   "file_extension": ".py",
   "mimetype": "text/x-python",
   "name": "python",
   "nbconvert_exporter": "python",
   "pygments_lexer": "ipython3",
   "version": "3.7.3"
  }
 },
 "nbformat": 4,
 "nbformat_minor": 5
}
