{
 "cells": [
  {
   "cell_type": "markdown",
   "id": "98e7156d",
   "metadata": {},
   "source": [
    "# Lec 02: Probability and Linear Regression"
   ]
  },
  {
   "cell_type": "markdown",
   "id": "1b0b6ddd",
   "metadata": {},
   "source": [
    "Today:\n",
    "1. Review\n",
    "2. Probability Mass Function\n",
    "3. Expectation\n",
    "4. Joint distribution\n",
    "5. Bayes rule / independence\n",
    "6. Cumulative distribution function / Towards Continuous Distriubtions\n",
    "7. Probability Density Function\n",
    "8. Normal Distribution\n",
    "9. Revisiting Linear Regression"
   ]
  },
  {
   "cell_type": "markdown",
   "id": "70970c59",
   "metadata": {},
   "source": [
    "## Review: Last time we looked at Linear Algebra and Linear Regression"
   ]
  },
  {
   "cell_type": "markdown",
   "id": "163b537b",
   "metadata": {},
   "source": [
    "### Problem\n",
    "\n",
    "Given points, how do we draw a line that is the best fit to those points?"
   ]
  },
  {
   "cell_type": "code",
   "execution_count": 8,
   "id": "87b1e50b",
   "metadata": {},
   "outputs": [
    {
     "ename": "NameError",
     "evalue": "name 'plt' is not defined",
     "output_type": "error",
     "traceback": [
      "\u001b[0;31m---------------------------------------------------------------------------\u001b[0m",
      "\u001b[0;31mNameError\u001b[0m                                 Traceback (most recent call last)",
      "\u001b[0;32m/var/folders/8b/6cqjyvv528bcwdg1g09k86sh0000gn/T/ipykernel_11908/1966522397.py\u001b[0m in \u001b[0;36m<module>\u001b[0;34m\u001b[0m\n\u001b[1;32m      5\u001b[0m \u001b[0mX\u001b[0m \u001b[0;34m=\u001b[0m \u001b[0mnp\u001b[0m\u001b[0;34m.\u001b[0m\u001b[0marray\u001b[0m\u001b[0;34m(\u001b[0m\u001b[0;34m[\u001b[0m\u001b[0mx1\u001b[0m\u001b[0;34m,\u001b[0m \u001b[0mx2\u001b[0m\u001b[0;34m,\u001b[0m \u001b[0mx3\u001b[0m\u001b[0;34m]\u001b[0m\u001b[0;34m)\u001b[0m   \u001b[0;31m# each row is one point\u001b[0m\u001b[0;34m\u001b[0m\u001b[0;34m\u001b[0m\u001b[0m\n\u001b[1;32m      6\u001b[0m \u001b[0;34m\u001b[0m\u001b[0m\n\u001b[0;32m----> 7\u001b[0;31m \u001b[0mplt\u001b[0m\u001b[0;34m.\u001b[0m\u001b[0mplot\u001b[0m\u001b[0;34m(\u001b[0m\u001b[0mX\u001b[0m\u001b[0;34m[\u001b[0m\u001b[0;34m:\u001b[0m\u001b[0;34m,\u001b[0m\u001b[0;36m0\u001b[0m\u001b[0;34m]\u001b[0m\u001b[0;34m,\u001b[0m \u001b[0mY\u001b[0m\u001b[0;34m,\u001b[0m \u001b[0mmarker\u001b[0m\u001b[0;34m=\u001b[0m\u001b[0;34m'o'\u001b[0m\u001b[0;34m,\u001b[0m \u001b[0mlinestyle\u001b[0m\u001b[0;34m=\u001b[0m\u001b[0;34m'none'\u001b[0m\u001b[0;34m)\u001b[0m\u001b[0;34m\u001b[0m\u001b[0;34m\u001b[0m\u001b[0m\n\u001b[0m\u001b[1;32m      8\u001b[0m \u001b[0mplt\u001b[0m\u001b[0;34m.\u001b[0m\u001b[0mxlabel\u001b[0m\u001b[0;34m(\u001b[0m\u001b[0;34m'X'\u001b[0m\u001b[0;34m)\u001b[0m\u001b[0;34m\u001b[0m\u001b[0;34m\u001b[0m\u001b[0m\n\u001b[1;32m      9\u001b[0m \u001b[0mplt\u001b[0m\u001b[0;34m.\u001b[0m\u001b[0mylabel\u001b[0m\u001b[0;34m(\u001b[0m\u001b[0;34m'Y'\u001b[0m\u001b[0;34m)\u001b[0m\u001b[0;34m\u001b[0m\u001b[0;34m\u001b[0m\u001b[0m\n",
      "\u001b[0;31mNameError\u001b[0m: name 'plt' is not defined"
     ]
    }
   ],
   "source": [
    "x1 = [0.3]                     # each point has dimension 1\n",
    "x2 = [-0.5]               \n",
    "x3 = [.1]                \n",
    "Y = [0.2, -.1, 1.3]\n",
    "X = np.array([x1, x2, x3])   # each row is one point\n",
    "\n",
    "plt.plot(X[:,0], Y, marker='o', linestyle='none')\n",
    "plt.xlabel('X')\n",
    "plt.ylabel('Y')\n",
    "plt.title('Example dataset')"
   ]
  },
  {
   "cell_type": "markdown",
   "id": "b9561eaa",
   "metadata": {},
   "source": [
    "### Method\n",
    "\n",
    "Solve\n",
    "$$ \n",
    "(X^TX)x = X^TY\n",
    "$$\n",
    "for x where\n",
    "$X$ is the matrix of inputs and $Y$ is the vector of outputs.\n",
    "\n",
    "1. A vector is an element of a vector space. An important example of a vector space is $\\mathbb{R}^D$.\n",
    "2. A matrix encodes a linear map.\n",
    "3. The equation above can be solved with gaussian elimination which is implemented in many numeric linear algebra packages."
   ]
  },
  {
   "cell_type": "code",
   "execution_count": 9,
   "id": "e5248813",
   "metadata": {},
   "outputs": [
    {
     "data": {
      "text/plain": [
       "array([0.82692308, 0.49423077])"
      ]
     },
     "execution_count": 9,
     "metadata": {},
     "output_type": "execute_result"
    }
   ],
   "source": [
    "def linear_algebra_solve(X, Y):\n",
    "    X_p = np.concatenate([X, np.ones((3, 1))], axis=1)\n",
    "    return np.linalg.solve(X_p.transpose() @ X_p, X_p.transpose() @ Y)\n",
    "\n",
    "linear_algebra_solve(X, Y)"
   ]
  },
  {
   "cell_type": "code",
   "execution_count": 10,
   "id": "33e62251",
   "metadata": {},
   "outputs": [
    {
     "ename": "NameError",
     "evalue": "name 'plt' is not defined",
     "output_type": "error",
     "traceback": [
      "\u001b[0;31m---------------------------------------------------------------------------\u001b[0m",
      "\u001b[0;31mNameError\u001b[0m                                 Traceback (most recent call last)",
      "\u001b[0;32m/var/folders/8b/6cqjyvv528bcwdg1g09k86sh0000gn/T/ipykernel_11908/3789911076.py\u001b[0m in \u001b[0;36m<module>\u001b[0;34m\u001b[0m\n\u001b[1;32m      5\u001b[0m \u001b[0mX\u001b[0m \u001b[0;34m=\u001b[0m \u001b[0mnp\u001b[0m\u001b[0;34m.\u001b[0m\u001b[0marray\u001b[0m\u001b[0;34m(\u001b[0m\u001b[0;34m[\u001b[0m\u001b[0mx1\u001b[0m\u001b[0;34m,\u001b[0m \u001b[0mx2\u001b[0m\u001b[0;34m,\u001b[0m \u001b[0mx3\u001b[0m\u001b[0;34m]\u001b[0m\u001b[0;34m)\u001b[0m   \u001b[0;31m# each row is one point\u001b[0m\u001b[0;34m\u001b[0m\u001b[0;34m\u001b[0m\u001b[0m\n\u001b[1;32m      6\u001b[0m \u001b[0;34m\u001b[0m\u001b[0m\n\u001b[0;32m----> 7\u001b[0;31m \u001b[0mplt\u001b[0m\u001b[0;34m.\u001b[0m\u001b[0mplot\u001b[0m\u001b[0;34m(\u001b[0m\u001b[0mX\u001b[0m\u001b[0;34m[\u001b[0m\u001b[0;34m:\u001b[0m\u001b[0;34m,\u001b[0m\u001b[0;36m0\u001b[0m\u001b[0;34m]\u001b[0m\u001b[0;34m,\u001b[0m \u001b[0mY\u001b[0m\u001b[0;34m,\u001b[0m \u001b[0mmarker\u001b[0m\u001b[0;34m=\u001b[0m\u001b[0;34m'o'\u001b[0m\u001b[0;34m,\u001b[0m \u001b[0mlinestyle\u001b[0m\u001b[0;34m=\u001b[0m\u001b[0;34m'none'\u001b[0m\u001b[0;34m,\u001b[0m \u001b[0mlabel\u001b[0m\u001b[0;34m=\u001b[0m\u001b[0;34m'data'\u001b[0m\u001b[0;34m)\u001b[0m\u001b[0;34m\u001b[0m\u001b[0;34m\u001b[0m\u001b[0m\n\u001b[0m\u001b[1;32m      8\u001b[0m \u001b[0mplt\u001b[0m\u001b[0;34m.\u001b[0m\u001b[0mxlabel\u001b[0m\u001b[0;34m(\u001b[0m\u001b[0;34m'X'\u001b[0m\u001b[0;34m)\u001b[0m\u001b[0;34m\u001b[0m\u001b[0;34m\u001b[0m\u001b[0m\n\u001b[1;32m      9\u001b[0m \u001b[0mplt\u001b[0m\u001b[0;34m.\u001b[0m\u001b[0mylabel\u001b[0m\u001b[0;34m(\u001b[0m\u001b[0;34m'Y'\u001b[0m\u001b[0;34m)\u001b[0m\u001b[0;34m\u001b[0m\u001b[0;34m\u001b[0m\u001b[0m\n",
      "\u001b[0;31mNameError\u001b[0m: name 'plt' is not defined"
     ]
    }
   ],
   "source": [
    "x1 = [0.3]                     # each point has dimension 1\n",
    "x2 = [-0.5]               \n",
    "x3 = [.1]                \n",
    "Y = [0.2, -.1, 1.3]\n",
    "X = np.array([x1, x2, x3])   # each row is one point\n",
    "\n",
    "plt.plot(X[:,0], Y, marker='o', linestyle='none', label='data')\n",
    "plt.xlabel('X')\n",
    "plt.ylabel('Y')\n",
    "plt.title('Example dataset')\n",
    "\n",
    "# Plot solution\n",
    "weights = linear_algebra_solve(X, Y)\n",
    "predictions = [weights[0] * x + weights[1] for x in X]\n",
    "plt.plot(X[:,0], predictions, label='best fit')\n",
    "plt.legend()"
   ]
  },
  {
   "cell_type": "markdown",
   "id": "b4f0a6cd",
   "metadata": {},
   "source": [
    "# Probability\n",
    "\n",
    "1. We'll now turn towards reviewing probability.\n",
    "2. Probability will give us another view of linear regression.\n",
    "3. Probability is used extensively in machine learning."
   ]
  },
  {
   "cell_type": "markdown",
   "id": "c769ccc1",
   "metadata": {},
   "source": [
    "## Example: Fair Coin\n",
    "\n",
    "1. Imagine you're flipping a coin.\n",
    "2. The outcome of this coin can either be heads (H) or tails (T).\n",
    "3. In other words, there is uncertainty in the outcome.\n",
    "4. Nevertheless, we can quantify this uncertainty by using the language of probability to say that both outcomes are equally likely."
   ]
  },
  {
   "cell_type": "markdown",
   "id": "89dddc41",
   "metadata": {},
   "source": [
    "### Discrete Probability = Desired Outcome / Total Outcomes\n",
    "\n",
    "1. How many outcomes are possible? 2, i.e., H or T\n",
    "2.\n",
    "$$\n",
    "\\text{desired probability} = \\frac{\\text{desired outcome}}{\\text{total outcomes}}\n",
    "$$"
   ]
  },
  {
   "cell_type": "markdown",
   "id": "28e52e9e",
   "metadata": {},
   "source": [
    "\\begin{align*}\n",
    "Pr(X = H) & = 0.5 \\tag{The probability of H is 1/2} \\\\\n",
    "Pr(X = T) & = 0.5 \\tag{The probability of T is 1/2}\n",
    "\\end{align*}\n",
    "\n",
    "1. X is a **random variable** that takes on values in $\\{H, T\\}$.\n",
    "2. The sum of probabilities of all outcomes should add to 1.\n",
    "3. The probability of disjoint sets of values is additive, e.g., $Pr(X \\in \\{H, T\\}) = Pr(X \\in \\{H\\}) + Pr(X \\in \\{T\\})$"
   ]
  },
  {
   "cell_type": "markdown",
   "id": "d57e39d9",
   "metadata": {},
   "source": [
    "## Example: Dice Roll\n",
    "\n",
    "\\begin{align*}\n",
    "Pr(X = 1) & = 1/6 \\\\\n",
    "Pr(X = 2) & = 1/6 \\\\\n",
    "Pr(X = 3) & = 1/6 \\\\\n",
    "Pr(X = 4) & = 1/6 \\\\\n",
    "Pr(X = 5) & = 1/6 \\\\\n",
    "Pr(X = 6) & = 1/6 \n",
    "\\end{align*}\n",
    "\n",
    "1. X is a **random variable** that takes on values in $\\{1, 2, 3, 4, 5, 6\\}$.\n",
    "2. The sum of probabilities of all outcomes should add to 1.\n",
    "3. The probability of disjoint sets of values is additive, e.g., $Pr(X \\mbox{ is odd}) = Pr(X = 1) + Pr(X = 3) + Pr(X = 5)$"
   ]
  },
  {
   "cell_type": "markdown",
   "id": "b97248c6",
   "metadata": {},
   "source": [
    "## Discrete Random Variable\n",
    "\n",
    "1. A **discrete random variable** $X$ takes on values in some set $\\mathcal{X} = \\{x_1, x_2, \\dots\\}$.\n",
    "2. The probabilities sum to one \n",
    "$$\n",
    "\\sum_{x \\in \\mathcal{X}} Pr(X = x) = 1\n",
    "$$\n",
    "3. The function $p(x) = Pr(X = x)$ is called a **probability mass function**."
   ]
  },
  {
   "cell_type": "markdown",
   "id": "7e181fb1",
   "metadata": {},
   "source": [
    "## Distribution of Discrete Random Variable\n",
    "\n",
    "1. A **discrete probability distribution** is determined by a probability mass function.\n",
    "2. We notate that a discrete random variable is drawn from a distribution with probability mass function $p$ as\n",
    "\\begin{align*}\n",
    "X \\sim p(x)\n",
    "\\end{align*}"
   ]
  },
  {
   "cell_type": "markdown",
   "id": "2f1172ce",
   "metadata": {},
   "source": [
    "## Bernoulli Distribution\n",
    "\n",
    "A **Bernoulli distribution**\n",
    "$$\n",
    "Bern(\\theta)\n",
    "$$\n",
    "is a discrete probability distribution such that\n",
    "\\begin{align*}\n",
    "Pr(X = 0) = \\theta \\\\\n",
    "Pr(X = 1) = 1 - \\theta\n",
    "\\end{align*}"
   ]
  },
  {
   "cell_type": "markdown",
   "id": "fbe539dd",
   "metadata": {},
   "source": [
    "## Example: Fair Coin Flip\n",
    "\n",
    "We write that X takes on the value of a fair coin flip as\n",
    "$$\n",
    "X \\sim Bern(0.5)\n",
    "$$"
   ]
  },
  {
   "cell_type": "markdown",
   "id": "720ff627",
   "metadata": {},
   "source": [
    "## Categorical Distribution\n",
    "\n",
    "A **Categorical distribution**\n",
    "$$\n",
    "Cat([\\pi_1, \\dots, \\pi_D])\n",
    "$$\n",
    "is a discrete probability distribution such that\n",
    "$$\n",
    "Pr(X = i) = \\pi_i\n",
    "$$\n",
    "for $1 \\leq i \\leq D$."
   ]
  },
  {
   "cell_type": "markdown",
   "id": "889059ed",
   "metadata": {},
   "source": [
    "## Example: Dice Roll\n",
    "\n",
    "We write that X takes on the value of a dice roll as\n",
    "$$\n",
    "X \\sim Cat([1/6, 1/6, 1/6, 1/6, 1/6, 1/6])\n",
    "$$"
   ]
  },
  {
   "cell_type": "markdown",
   "id": "27e29b04",
   "metadata": {},
   "source": [
    "\\begin{align*}\n",
    "Pr(X = 1) & = 1/6 \\\\\n",
    "Pr(X = 2) & = 1/6 \\\\\n",
    "Pr(X = 3) & = 1/6 \\\\\n",
    "Pr(X = 4) & = 1/6 \\\\\n",
    "Pr(X = 5) & = 1/6 \\\\\n",
    "Pr(X = 6) & = 1/6\n",
    "\\end{align*}"
   ]
  },
  {
   "cell_type": "markdown",
   "id": "51059ab1",
   "metadata": {},
   "source": [
    "## Let's make this Computational"
   ]
  },
  {
   "cell_type": "code",
   "execution_count": 11,
   "id": "d4ff51d7",
   "metadata": {},
   "outputs": [],
   "source": [
    "import numpy as np\n",
    "import scipy as sp   # scipy is a popular scientific computing library for Python\n",
    "import scipy.stats   # statistics package"
   ]
  },
  {
   "cell_type": "markdown",
   "id": "77eca962",
   "metadata": {},
   "source": [
    "### Create a Bernoulli distribution"
   ]
  },
  {
   "cell_type": "code",
   "execution_count": 12,
   "id": "9e7e489d",
   "metadata": {},
   "outputs": [
    {
     "data": {
      "text/plain": [
       "<scipy.stats._distn_infrastructure.rv_frozen at 0x7f8540d748e0>"
      ]
     },
     "execution_count": 12,
     "metadata": {},
     "output_type": "execute_result"
    }
   ],
   "source": [
    "bern = sp.stats.bernoulli(0.5)\n",
    "bern"
   ]
  },
  {
   "cell_type": "markdown",
   "id": "e72e49d7",
   "metadata": {},
   "source": [
    "### Random variable with Bernoulli distribution\n",
    "\n",
    "$$\n",
    "X \\sim Bern(0.5)\n",
    "$$"
   ]
  },
  {
   "cell_type": "code",
   "execution_count": 13,
   "id": "52105a09",
   "metadata": {},
   "outputs": [
    {
     "data": {
      "text/plain": [
       "1"
      ]
     },
     "execution_count": 13,
     "metadata": {},
     "output_type": "execute_result"
    }
   ],
   "source": [
    "# X is a program variable that is bound to a sample drawn from a Bernoulli distribution\n",
    "X = bern.rvs()\n",
    "X # run this a few times, it's a random variable "
   ]
  },
  {
   "cell_type": "markdown",
   "id": "4c5ebfba",
   "metadata": {},
   "source": [
    "### Aside: Histogram\n",
    "\n",
    "1. A random variable takes on a value with a certain probability\n",
    "2. We can display this in a **histogram**"
   ]
  },
  {
   "cell_type": "code",
   "execution_count": 14,
   "id": "1be17e23",
   "metadata": {},
   "outputs": [
    {
     "data": {
      "text/plain": [
       "(array([49.,  0.,  0.,  0.,  0.,  0.,  0.,  0.,  0., 51.]),\n",
       " array([0. , 0.1, 0.2, 0.3, 0.4, 0.5, 0.6, 0.7, 0.8, 0.9, 1. ]),\n",
       " <BarContainer object of 10 artists>)"
      ]
     },
     "execution_count": 14,
     "metadata": {},
     "output_type": "execute_result"
    },
    {
     "data": {
      "image/png": "[encoded data removed]",
      "text/plain": [
       "<Figure size 432x288 with 1 Axes>"
      ]
     },
     "metadata": {
      "needs_background": "light"
     },
     "output_type": "display_data"
    }
   ],
   "source": [
    "import matplotlib.pyplot as plt\n",
    "Xs = bern.rvs(size=100) # draw 100 samples\n",
    "plt.hist(Xs)"
   ]
  },
  {
   "cell_type": "markdown",
   "id": "21e4c7f1",
   "metadata": {},
   "source": [
    "### Probability Mass Function\n",
    "\n",
    "\\begin{align*}\n",
    "Pr(X = 0) & = 0.5 \\\\\n",
    "Pr(X = 1) & = 0.5 \\\\\n",
    "\\end{align*}"
   ]
  },
  {
   "cell_type": "code",
   "execution_count": 15,
   "id": "fcd79c8a",
   "metadata": {},
   "outputs": [
    {
     "data": {
      "text/plain": [
       "0.5"
      ]
     },
     "execution_count": 15,
     "metadata": {},
     "output_type": "execute_result"
    }
   ],
   "source": [
    "# probability mass function of 0\n",
    "bern.pmf(0)"
   ]
  },
  {
   "cell_type": "code",
   "execution_count": 16,
   "id": "79aa790a",
   "metadata": {},
   "outputs": [
    {
     "data": {
      "text/plain": [
       "0.5"
      ]
     },
     "execution_count": 16,
     "metadata": {},
     "output_type": "execute_result"
    }
   ],
   "source": [
    "# probability mass function of 1\n",
    "bern.pmf(1)"
   ]
  },
  {
   "cell_type": "markdown",
   "id": "66e29395",
   "metadata": {},
   "source": [
    "### Create a Categorical Distribution\n",
    "\n",
    "$$\n",
    "Cat([1/6, 1/6, 1/6, 1/6, 1/6, 1/6])\n",
    "$$"
   ]
  },
  {
   "cell_type": "code",
   "execution_count": 17,
   "id": "b2532386",
   "metadata": {},
   "outputs": [
    {
     "data": {
      "text/plain": [
       "<scipy.stats._distn_infrastructure.rv_sample at 0x7f8510036730>"
      ]
     },
     "execution_count": 17,
     "metadata": {},
     "output_type": "execute_result"
    }
   ],
   "source": [
    "cat = sp.stats.rv_discrete(values=([1, 2, 3, 4, 5, 6], [1./6., 1./6., 1./6., 1./6., 1./6., 1./6.]))\n",
    "cat"
   ]
  },
  {
   "cell_type": "markdown",
   "id": "15eb1e56",
   "metadata": {},
   "source": [
    "### Random Variable with Categorical Distribution\n",
    "\n",
    "$$\n",
    "X \\sim Cat([1/6, 1/6, 1/6, 1/6, 1/6, 1/6])\n",
    "$$"
   ]
  },
  {
   "cell_type": "code",
   "execution_count": 18,
   "id": "0ae89f45",
   "metadata": {},
   "outputs": [
    {
     "data": {
      "text/plain": [
       "5"
      ]
     },
     "execution_count": 18,
     "metadata": {},
     "output_type": "execute_result"
    }
   ],
   "source": [
    "cat.rvs() # run several times"
   ]
  },
  {
   "cell_type": "code",
   "execution_count": 19,
   "id": "c58042dd",
   "metadata": {},
   "outputs": [
    {
     "data": {
      "text/plain": [
       "(array([11., 19., 19., 13., 20., 18.]),\n",
       " array([1, 2, 3, 4, 5, 6, 7]),\n",
       " <BarContainer object of 6 artists>)"
      ]
     },
     "execution_count": 19,
     "metadata": {},
     "output_type": "execute_result"
    },
    {
     "data": {
      "image/png": "[encoded data removed]",
      "text/plain": [
       "<Figure size 432x288 with 1 Axes>"
      ]
     },
     "metadata": {
      "needs_background": "light"
     },
     "output_type": "display_data"
    }
   ],
   "source": [
    "Xs = cat.rvs(size=100) # draw 100 samples\n",
    "plt.hist(Xs, bins=[1,2,3,4,5,6,7])"
   ]
  },
  {
   "cell_type": "code",
   "execution_count": 20,
   "id": "e280eecf",
   "metadata": {},
   "outputs": [
    {
     "data": {
      "text/plain": [
       "(0.16666666666666666,\n",
       " 0.16666666666666666,\n",
       " 0.16666666666666666,\n",
       " 0.16666666666666666,\n",
       " 0.16666666666666666,\n",
       " 0.16666666666666666)"
      ]
     },
     "execution_count": 20,
     "metadata": {},
     "output_type": "execute_result"
    }
   ],
   "source": [
    "# probability mass function\n",
    "cat.pmf(1), cat.pmf(2), cat.pmf(3), cat.pmf(4), cat.pmf(5), cat.pmf(6)"
   ]
  },
  {
   "cell_type": "markdown",
   "id": "c44c571e",
   "metadata": {},
   "source": [
    "## Expectation of Discrete Random Variable\n",
    "\n",
    "1. We will now introduce language for talking about the value of a random variable \"on average\".\n",
    "2. The formal concept is called **expectation**."
   ]
  },
  {
   "cell_type": "markdown",
   "id": "cb2c08c4",
   "metadata": {},
   "source": [
    "### Expectation Formally\n",
    "\n",
    "$$\n",
    "\\mathbb{E} X = \\sum_{x \\in \\mathcal{X}} x Pr(X = x)\n",
    "$$\n",
    "\n",
    "The set of values that $X$ can take on with non-zero probability is the **support** of X."
   ]
  },
  {
   "cell_type": "markdown",
   "id": "8b40fd10",
   "metadata": {},
   "source": [
    "### Example 1: Fair Coin\n",
    "\n",
    "\\begin{align*}\n",
    "X & \\sim Bern(0.5) \\\\\n",
    "\\mathbb{E} X  & = 0 \\cdot 0.5 + 1 \\cdot 0.5 = 0.5\n",
    "\\end{align*}\n",
    "\n",
    "The support of X is $\\{ 0, 1 \\}$."
   ]
  },
  {
   "cell_type": "markdown",
   "id": "8fd57db0",
   "metadata": {},
   "source": [
    "### Example 2: Biased Coin\n",
    "\n",
    "\\begin{align*}\n",
    "X & \\sim Bern(0.7) \\\\\n",
    "\\mathbb{E} X  & = 0 \\cdot 0.7 + 1 \\cdot 0.3 = 0.3\n",
    "\\end{align*}\n",
    "\n",
    "The support of X is $\\{0, 1 \\}$."
   ]
  },
  {
   "cell_type": "markdown",
   "id": "c91403b4",
   "metadata": {},
   "source": [
    "### Example 3: Dice Roll\n",
    "\n",
    "\\begin{align*}\n",
    "X & \\sim Cat([1/6, 1/6, 1/6, 1/6, 1/6, 1/6]) \\\\\n",
    "\\mathbb{E} X  & = 1 \\cdot 1/6 + 2 \\cdot 1/6 + 3 \\cdot 1/6 + 4 \\cdot 1/6 + 5 \\cdot 1/6 + 6 \\cdot 1/6 = 21/6\n",
    "\\end{align*}\n",
    "\n",
    "The support of $X$ is $\\{ 1, 2, 3, 4, 5, 6 \\}$"
   ]
  },
  {
   "cell_type": "markdown",
   "id": "25d14483",
   "metadata": {},
   "source": [
    "### Fair Coin: Computational "
   ]
  },
  {
   "cell_type": "code",
   "execution_count": 21,
   "id": "7072cf42",
   "metadata": {},
   "outputs": [
    {
     "data": {
      "text/plain": [
       "(0, 1)"
      ]
     },
     "execution_count": 21,
     "metadata": {},
     "output_type": "execute_result"
    }
   ],
   "source": [
    "bern = sp.stats.bernoulli(0.5)\n",
    "bern.support()"
   ]
  },
  {
   "cell_type": "code",
   "execution_count": 22,
   "id": "c523ea93",
   "metadata": {},
   "outputs": [
    {
     "data": {
      "text/plain": [
       "0.5"
      ]
     },
     "execution_count": 22,
     "metadata": {},
     "output_type": "execute_result"
    }
   ],
   "source": [
    "def expectation(dist):\n",
    "    tmp = 0\n",
    "    for v in dist.support():    # loop over support\n",
    "        tmp += v * dist.pmf(v)  # add up value times the probability\n",
    "    return tmp\n",
    "\n",
    "expectation(bern)"
   ]
  },
  {
   "cell_type": "code",
   "execution_count": 23,
   "id": "26f676b9",
   "metadata": {},
   "outputs": [
    {
     "data": {
      "text/plain": [
       "0.5"
      ]
     },
     "execution_count": 23,
     "metadata": {},
     "output_type": "execute_result"
    }
   ],
   "source": [
    "# This is a common operation that we have a built-in method for computing expectation\n",
    "bern.expect()"
   ]
  },
  {
   "cell_type": "markdown",
   "id": "27d5e4c9",
   "metadata": {},
   "source": [
    "### Biased Coin Again: Computational "
   ]
  },
  {
   "cell_type": "code",
   "execution_count": 24,
   "id": "23920123",
   "metadata": {},
   "outputs": [
    {
     "name": "stdout",
     "output_type": "stream",
     "text": [
      "Support (0, 1)\n",
      "Expectation 0.7\n"
     ]
    }
   ],
   "source": [
    "biased_bern = sp.stats.bernoulli(0.7)\n",
    "print(\"Support\", biased_bern.support())\n",
    "print(\"Expectation\", biased_bern.expect())"
   ]
  },
  {
   "cell_type": "markdown",
   "id": "d0efd023",
   "metadata": {},
   "source": [
    "### Categorical Again: Computational"
   ]
  },
  {
   "cell_type": "code",
   "execution_count": 25,
   "id": "57cb92d9",
   "metadata": {},
   "outputs": [
    {
     "name": "stdout",
     "output_type": "stream",
     "text": [
      "Support (1, 6)\n",
      "Expectation 3.5\n"
     ]
    }
   ],
   "source": [
    "cat = sp.stats.rv_discrete(values=([1, 2, 3, 4, 5, 6], [1./6., 1./6., 1./6., 1./6., 1./6., 1./6.]))\n",
    "print(\"Support\", cat.support())\n",
    "print(\"Expectation\", cat.expect())"
   ]
  },
  {
   "cell_type": "markdown",
   "id": "8f2c679a",
   "metadata": {},
   "source": [
    "## Multiple Random Variables?\n",
    "\n",
    "1. So far, we've only worked with 1 random variable.\n",
    "2. What happens if we have more than 1 random variable?\n",
    "3. We'll have to introduce more interesting concepts such as **joint distributions**, **independence**, and **conditional independence**."
   ]
  },
  {
   "cell_type": "markdown",
   "id": "a72d1407",
   "metadata": {},
   "source": [
    "## Joint Distributions"
   ]
  },
  {
   "cell_type": "markdown",
   "id": "5cf7f918",
   "metadata": {},
   "source": [
    "### Example: Two Fair Coins\n",
    "\n",
    "1. Suppose we flip two fair coins.\n",
    "2. How do we extend our notion of discrete distribution to encompass the distribution of outcomes across both fair coins?\n",
    "3. This is what is known as a **joint distribution**."
   ]
  },
  {
   "cell_type": "markdown",
   "id": "c8636659",
   "metadata": {},
   "source": [
    "### Revisiting Discrete Probability = Desired Outcome / Total Outcomes\n",
    "\n",
    "1. Total outcomes = 4:\n",
    "    - HH (first coin is heads, second coin is heads)\n",
    "    - HT (first coin is heads, second coin is tails)\n",
    "    - TH (first coin is tails, second coin is heads)\n",
    "    - TT (first coin is tails, second coin is tails)\n",
    "2. Thus the joint probability of any outcome is $1/4 = 0.25$."
   ]
  },
  {
   "cell_type": "markdown",
   "id": "86df4ede",
   "metadata": {},
   "source": [
    "### Wait: Why not?\n",
    "\n",
    "1. There is an alternative way of counting where total outcomes = 3:\n",
    "    - HH (both heads)\n",
    "    - HT (1 head and 1 tails)\n",
    "    - TT (both tails)\n",
    "2. Thus the joint probability of any outcome is $1/3 = 0.33$."
   ]
  },
  {
   "cell_type": "markdown",
   "id": "21f7bbb6",
   "metadata": {},
   "source": [
    "There are two ways to get 1 head and 1 tails. "
   ]
  },
  {
   "cell_type": "markdown",
   "id": "71aae5a0",
   "metadata": {},
   "source": [
    "### Joint Distribution with 2 Fair Coins\n",
    "\n",
    "\\begin{align*}\n",
    "Pr(X = H, Y = H) & = 0.25 \\tag{first heads, second heads} \\\\\n",
    "Pr(X = H, Y = T) & = 0.25 \\tag{first heads, second tails} \\\\\n",
    "Pr(X = T, Y = H) & = 0.25 \\tag{first tails, second heads} \\\\\n",
    "Pr(X = T, Y = T) & = 0.25 \\tag{first tails, second tails}\n",
    "\\end{align*}\n",
    "\n",
    "Let's define a \\texttt{TwoBern} distribution to have the PMF above."
   ]
  },
  {
   "cell_type": "markdown",
   "id": "e6c31daa",
   "metadata": {},
   "source": [
    "### Joint Distribution as a Table\n",
    "\n",
    "|        | X = H  | X = T |\n",
    "| ------ | ------ | ----- |\n",
    "| Y = H  | 0.25   | 0.25  |\n",
    "| Y = T  | 0.25   | 0.25  |"
   ]
  },
  {
   "cell_type": "markdown",
   "id": "6e41cf74",
   "metadata": {},
   "source": [
    "### Random Vector Notation\n",
    "\n",
    "$$\n",
    "\\begin{pmatrix}\n",
    "X \\\\\n",
    "Y\n",
    "\\end{pmatrix} \\sim TwoBern()\n",
    "$$\n",
    "\n",
    "We now have a **random vector**, a vector of random variables!\n",
    "1. The first component is the random variable $X$.\n",
    "2. The second component is the random variable $Y$.\n",
    "3. This concept of vector is the same one from linear algebra.\n",
    "4. The entire vector comes from the joint distribution TwoBern."
   ]
  },
  {
   "cell_type": "markdown",
   "id": "ba7e6e92",
   "metadata": {},
   "source": [
    "## Marginal Distribution\n",
    "\n",
    "1. How is a joint distribution related to a univariate, i.e., single variable distribution?\n",
    "2. This is where the idea of a **marginal distribution** comes in."
   ]
  },
  {
   "cell_type": "markdown",
   "id": "4eb88137",
   "metadata": {},
   "source": [
    "The **marginal distribution** of $X$ is obtained by summing out over all possibilities of $Y$\n",
    "$$\n",
    "Pr(X = x) = \\sum_{y \\in \\mathcal{Y}} Pr(X = x, Y = y) \\,.\n",
    "$$"
   ]
  },
  {
   "cell_type": "markdown",
   "id": "5c7b5254",
   "metadata": {},
   "source": [
    "#### Marginal Distribution of X as Table\n",
    "\n",
    "Take joint distribution\n",
    "\n",
    "|        | X = H  | X = T |\n",
    "| ------ | ------ | ----- |\n",
    "| Y = H  | 0.25   | 0.25  |\n",
    "| Y = T  | 0.25   | 0.25  |\n",
    "\n",
    "and sum vertically\n",
    "\n",
    "|        | X = H or X = T  |\n",
    "| ------ | ------ |\n",
    "| Y = H  | 0.5   |\n",
    "| Y = T  | 0.5   |"
   ]
  },
  {
   "cell_type": "markdown",
   "id": "605fdad8",
   "metadata": {},
   "source": [
    "Similarly, the **marginal distribution** of $Y$ is obtained by summing out over all possibilities of $X$\n",
    "$$\n",
    "Pr(Y = y) = \\sum_{x \\in \\mathcal{X}} Pr(X = x, Y = y) \\,.\n",
    "$$"
   ]
  },
  {
   "cell_type": "markdown",
   "id": "84a8cf15",
   "metadata": {},
   "source": [
    "#### Marginal Distribution of Y as Table\n",
    "\n",
    "Take join distribution\n",
    "\n",
    "|        | X = H  | X = T |\n",
    "| ------ | ------ | ----- |\n",
    "| Y = H  | 0.25   | 0.25  |\n",
    "| Y = T  | 0.25   | 0.25  |\n",
    "\n",
    "and sum horizontally\n",
    "\n",
    "|        | X = H  | X = T |\n",
    "| ------ | ------ | ----- |\n",
    "| Y = H or Y = T  | 0.5   | 0.5  |\n"
   ]
  },
  {
   "cell_type": "markdown",
   "id": "f137961e",
   "metadata": {},
   "source": [
    "### Computatationally"
   ]
  },
  {
   "cell_type": "code",
   "execution_count": 26,
   "id": "d46f9094",
   "metadata": {},
   "outputs": [
    {
     "data": {
      "text/plain": [
       "'01'"
      ]
     },
     "execution_count": 26,
     "metadata": {},
     "output_type": "execute_result"
    }
   ],
   "source": [
    "numToHT = {\n",
    "    0: '00',  # encodes the random vector (0 0)\n",
    "    1: '01',  # encodes the random vector (0 1)\n",
    "    2: '10',  # encodes the random vector (1 0)\n",
    "    3: '11',  # encodes the random vector (1 1)\n",
    "}\n",
    "twobern = sp.stats.rv_discrete(values=([0, 1, 2, 3], [1/4., 1/4., 1/4., 1/4.]))\n",
    "numToHT[twobern.rvs()]"
   ]
  },
  {
   "cell_type": "code",
   "execution_count": 27,
   "id": "493bf179",
   "metadata": {},
   "outputs": [
    {
     "data": {
      "text/plain": [
       "(array([24.,  0.,  0., 26.,  0.,  0., 27.,  0.,  0., 23.]),\n",
       " array([0. , 0.3, 0.6, 0.9, 1.2, 1.5, 1.8, 2.1, 2.4, 2.7, 3. ]),\n",
       " <BarContainer object of 10 artists>)"
      ]
     },
     "execution_count": 27,
     "metadata": {},
     "output_type": "execute_result"
    },
    {
     "data": {
      "image/png": "[encoded data removed]",
      "text/plain": [
       "<Figure size 432x288 with 1 Axes>"
      ]
     },
     "metadata": {
      "needs_background": "light"
     },
     "output_type": "display_data"
    }
   ],
   "source": [
    "tmp = []\n",
    "for i in range(0, 100):\n",
    "    X = twobern.rvs()\n",
    "    tmp += [numToHT[X]]\n",
    "plt.hist(tmp)"
   ]
  },
  {
   "cell_type": "code",
   "execution_count": 28,
   "id": "d4913244",
   "metadata": {},
   "outputs": [
    {
     "data": {
      "text/plain": [
       "0.5"
      ]
     },
     "execution_count": 28,
     "metadata": {},
     "output_type": "execute_result"
    }
   ],
   "source": [
    "# marginal of Pr(X = 0)\n",
    "twobern.pmf(0) + twobern.pmf(1)"
   ]
  },
  {
   "cell_type": "code",
   "execution_count": 29,
   "id": "a72fc04d",
   "metadata": {},
   "outputs": [
    {
     "data": {
      "text/plain": [
       "0.5"
      ]
     },
     "execution_count": 29,
     "metadata": {},
     "output_type": "execute_result"
    }
   ],
   "source": [
    "# marginal of Pr(X = 1)\n",
    "twobern.pmf(2) + twobern.pmf(3)"
   ]
  },
  {
   "cell_type": "code",
   "execution_count": 30,
   "id": "463686d1",
   "metadata": {},
   "outputs": [
    {
     "data": {
      "text/plain": [
       "0.5"
      ]
     },
     "execution_count": 30,
     "metadata": {},
     "output_type": "execute_result"
    }
   ],
   "source": [
    "# marginal of Pr(Y = 0)\n",
    "twobern.pmf(0) + twobern.pmf(2)"
   ]
  },
  {
   "cell_type": "code",
   "execution_count": 31,
   "id": "0cff8803",
   "metadata": {},
   "outputs": [
    {
     "data": {
      "text/plain": [
       "0.5"
      ]
     },
     "execution_count": 31,
     "metadata": {},
     "output_type": "execute_result"
    }
   ],
   "source": [
    "# marginal of Pr(Y = 1)\n",
    "twobern.pmf(1) + twobern.pmf(3)"
   ]
  },
  {
   "cell_type": "markdown",
   "id": "369545e4",
   "metadata": {},
   "source": [
    "### How are Marginals related Joint Distributions?\n",
    "\n",
    "1. Can we build the joint distribution from univariate distributions?\n",
    "2. In particular, we may have noticed that the marginals are exactly the Bern(0.5) distribution.\n",
    "3. In answering these questions, we'll need the concepts of **independence** and **conditional independence**."
   ]
  },
  {
   "cell_type": "markdown",
   "id": "4b546e96",
   "metadata": {},
   "source": [
    "## Independence\n",
    "\n",
    "1. Two random variables $X$ and $Y$ are said to be **independent** if $Pr(X = x, Y = y) = Pr(X = x) Pr(Y = y)$.\n",
    "2. In other words, two random variables are independent if their joint distribution factorizes into a product of their marginal distributions."
   ]
  },
  {
   "cell_type": "markdown",
   "id": "b3c4afc5",
   "metadata": {},
   "source": [
    "### Are variables drawn from TwoBern independent?\n",
    "\n",
    "\\begin{align*}\n",
    "Pr(X = H, Y = H) & = 0.25 = 0.5 \\cdot 0.5 = Pr(X = H) Pr(Y = H) \\\\\n",
    "Pr(X = H, Y = T) & = 0.25 = 0.5 \\cdot 0.5 = Pr(X = H) Pr(Y = T) \\\\\n",
    "Pr(X = T, Y = H) & = 0.25 = 0.5 \\cdot 0.5 = Pr(X = T) Pr(Y = H) \\\\\n",
    "Pr(X = T, Y = T) & = 0.25 = 0.5 \\cdot 0.5 = Pr(X = T) Pr(Y = T)\n",
    "\\end{align*}\n",
    "\n",
    "So yes we have **independent** variables.\n",
    "\n",
    "In this case, we can notate the random vector $(X \\,\\, Y)^T$ as being drawn as below\n",
    "\\begin{align*}\n",
    "X \\sim Bern(0.5) \\\\\n",
    "Y \\sim Bern(0.5)\n",
    "\\end{align*}\n",
    "\n",
    "Intuitively, this means that sampling from $X$ is not affected by sampling from $Y$, and vice versa."
   ]
  },
  {
   "cell_type": "markdown",
   "id": "8247cb19",
   "metadata": {},
   "source": [
    "### Building an Independent Joint Distribution"
   ]
  },
  {
   "cell_type": "code",
   "execution_count": 32,
   "id": "f61a239f",
   "metadata": {},
   "outputs": [
    {
     "data": {
      "text/plain": [
       "(array([30.,  0.,  0., 24.,  0.,  0., 19.,  0.,  0., 27.]),\n",
       " array([0. , 0.3, 0.6, 0.9, 1.2, 1.5, 1.8, 2.1, 2.4, 2.7, 3. ]),\n",
       " <BarContainer object of 10 artists>)"
      ]
     },
     "execution_count": 32,
     "metadata": {},
     "output_type": "execute_result"
    },
    {
     "data": {
      "image/png": "[encoded data removed]",
      "text/plain": [
       "<Figure size 432x288 with 1 Axes>"
      ]
     },
     "metadata": {
      "needs_background": "light"
     },
     "output_type": "display_data"
    }
   ],
   "source": [
    "bern = sp.stats.bernoulli(0.5)\n",
    "tmp = []\n",
    "for i in range(0, 100):\n",
    "    X = bern.rvs()\n",
    "    Y = bern.rvs()\n",
    "    tmp += [f\"{X}{Y}\"]\n",
    "plt.hist(tmp)"
   ]
  },
  {
   "cell_type": "markdown",
   "id": "2d7e298f",
   "metadata": {},
   "source": []
  },
  {
   "cell_type": "markdown",
   "id": "514bfc12",
   "metadata": {},
   "source": [
    "### Example: Non-Independent Joint Distribution"
   ]
  },
  {
   "cell_type": "markdown",
   "id": "ff5b5547",
   "metadata": {},
   "source": [
    "#### Joint distribution\n",
    "\n",
    "\\begin{align*}\n",
    "Pr(X = H, Y = H) & = 0.083 \\\\\n",
    "Pr(X = H, Y = T) & = 0.4167 \\\\\n",
    "Pr(X = T, Y = H) & = 0.4167 \\\\\n",
    "Pr(X = T, Y = T) & = 0.083 \\\\\n",
    "\\end{align*}"
   ]
  },
  {
   "cell_type": "markdown",
   "id": "2284a101",
   "metadata": {},
   "source": [
    "#### Marginal distribution of X\n",
    "\n",
    "\\begin{align*}\n",
    "Pr(X = H) & = 0.083 + 0.4167 = 0.5 \\\\\n",
    "Pr(X = T) & = 0.4167 + 0.083 = 0.5 \\\\\n",
    "\\end{align*}"
   ]
  },
  {
   "cell_type": "markdown",
   "id": "d2d190ca",
   "metadata": {},
   "source": [
    "#### Marginal distribution of Y\n",
    "\n",
    "\\begin{align*}\n",
    "Pr(Y = H) & = 0.4167 + 0.083 = 0.5 \\\\\n",
    "Pr(Y = T) & = 0.083 + 0.4167 = 0.5 \\\\\n",
    "\\end{align*}"
   ]
  },
  {
   "cell_type": "markdown",
   "id": "48875e47",
   "metadata": {},
   "source": [
    "#### Not independent!\n",
    "\n",
    "Every combination of $Pr(X = x) Pr(Y = y) = 0.25$ which is not equal to the joint distribution"
   ]
  },
  {
   "cell_type": "markdown",
   "id": "8927ed17",
   "metadata": {},
   "source": [
    "### Question: How would a non-independent joint distribution arise?"
   ]
  },
  {
   "cell_type": "markdown",
   "id": "7a79ca2b",
   "metadata": {},
   "source": [
    "## Conditional Distributions, Bayes Rule, and Conditional Independence"
   ]
  },
  {
   "cell_type": "markdown",
   "id": "ac0b88c2",
   "metadata": {},
   "source": [
    "### Conditional Distributions\n",
    "\n",
    "A **conditional distribution** is notated\n",
    "$$\n",
    "Pr(X = x | Y = y)\n",
    "$$\n",
    "and gives the distribution of $X$ for a fixed value of $Y$."
   ]
  },
  {
   "cell_type": "markdown",
   "id": "77287fc2",
   "metadata": {},
   "source": [
    "### Example: Two Coin Flips\n",
    "\n",
    "1. Let's say that we flipped a coin $Y$.\n",
    "2. We can define a conditional distribution of $X$ given $Y$ is heads.\n",
    "\n",
    "\\begin{align*}\n",
    "Pr(X = H | Y = H) & = 0.4 \\\\\n",
    "Pr(X = T | Y = H) & = 0.6\n",
    "\\end{align*}"
   ]
  },
  {
   "cell_type": "code",
   "execution_count": 33,
   "id": "a9ecfc76",
   "metadata": {},
   "outputs": [
    {
     "data": {
      "text/plain": [
       "(array([601.,   0.,   0.,   0.,   0.,   0.,   0.,   0.,   0., 399.]),\n",
       " array([0. , 0.1, 0.2, 0.3, 0.4, 0.5, 0.6, 0.7, 0.8, 0.9, 1. ]),\n",
       " <BarContainer object of 10 artists>)"
      ]
     },
     "execution_count": 33,
     "metadata": {},
     "output_type": "execute_result"
    },
    {
     "data": {
      "image/png": "[encoded data removed]",
      "text/plain": [
       "<Figure size 432x288 with 1 Axes>"
      ]
     },
     "metadata": {
      "needs_background": "light"
     },
     "output_type": "display_data"
    }
   ],
   "source": [
    "bern_given_yheads = sp.stats.bernoulli(0.4)\n",
    "Xs = bern_given_yheads.rvs(size=1000) # draw 100 samples\n",
    "plt.hist(Xs)"
   ]
  },
  {
   "cell_type": "markdown",
   "id": "e623c8c3",
   "metadata": {},
   "source": [
    "### Example: Two Coin Flips Continued\n",
    "\n",
    "1. Similarly we can define a conditional distribution of $X$ given $Y$ is tails.\n",
    "\n",
    "\\begin{align*}\n",
    "Pr(X = H | Y = H) & = 0.6 \\\\\n",
    "Pr(X = T | Y = H) & = 0.4\n",
    "\\end{align*}\n",
    "\n",
    "2. Note that this is conditional because depending on the value of Y, we use a different distribution for $X$."
   ]
  },
  {
   "cell_type": "code",
   "execution_count": 34,
   "id": "9443ac32",
   "metadata": {},
   "outputs": [
    {
     "data": {
      "text/plain": [
       "(array([405.,   0.,   0.,   0.,   0.,   0.,   0.,   0.,   0., 595.]),\n",
       " array([0. , 0.1, 0.2, 0.3, 0.4, 0.5, 0.6, 0.7, 0.8, 0.9, 1. ]),\n",
       " <BarContainer object of 10 artists>)"
      ]
     },
     "execution_count": 34,
     "metadata": {},
     "output_type": "execute_result"
    },
    {
     "data": {
      "image/png": "[encoded data removed]",
      "text/plain": [
       "<Figure size 432x288 with 1 Axes>"
      ]
     },
     "metadata": {
      "needs_background": "light"
     },
     "output_type": "display_data"
    }
   ],
   "source": [
    "bern_given_ytails = sp.stats.bernoulli(0.6)\n",
    "Xs = bern_given_ytails.rvs(size=1000) # draw 100 samples\n",
    "plt.hist(Xs)"
   ]
  },
  {
   "cell_type": "markdown",
   "id": "c019bb5d",
   "metadata": {},
   "source": [
    "### Example: Two Coin Flips Continued\n",
    "\n",
    "\n",
    "1. We can gather this information as two tables.\n",
    "\n",
    "|        | X = H  | X = T |\n",
    "| ------ | ------ | ----- |\n",
    "| Y = H  | 0.4    | 0.6   |\n",
    "\n",
    "|        | X = H  | X = T |\n",
    "| ------ | ------ | ----- |\n",
    "| Y = T  | 0.6    | 0.4   |\n",
    "\n",
    "\n",
    "2. However, how do we create a joint distribution?\n",
    "3. We can't simply just put the two tables together.\n",
    "\n",
    "|        | X = H  | X = T |\n",
    "| ------ | ------ | ----- |\n",
    "| Y = H  | 0.4    | 0.6   |\n",
    "| Y = T  | 0.6    | 0.4   |\n",
    "\n",
    "4. This is where **Bayes Rule** comes in."
   ]
  },
  {
   "cell_type": "markdown",
   "id": "19a72aaa",
   "metadata": {},
   "source": [
    "### Bayes Rule\n",
    "\n",
    "1. Bayes rule enables us to relate conditional distributions to joint distributions.\n",
    "2. It is given below.\n",
    "\n",
    "$$\n",
    "Pr(X = \\cdot, Y = y) = Pr(X = \\cdot | Y = y) Pr(Y = y)\n",
    "$$\n",
    "\n",
    "The notation $\\cdot$ means $X$ can take on any value $x$."
   ]
  },
  {
   "cell_type": "markdown",
   "id": "a3ff3b8e",
   "metadata": {},
   "source": [
    "### Example: Two Coin Flips Continued\n",
    "\n",
    "|        | X = H               | X = T                 |\n",
    "| ------ | ------------------- | --------------------- |\n",
    "| Y = H  | 0.4 Pr(Y = H)       | 0.6 Pr(Y = H)         |\n",
    "| Y = T  | 0.6 (1 - Pr(Y = H)) | 0.4 (1 - Pr(Y = H))   |\n",
    "\n",
    "1. This definition maintains consistency with the marginals of $Y$\n",
    "2. Summing horizontally, we get\n",
    "\n",
    "|        | X = H or X = T      |\n",
    "| ------ | ------------------- |\n",
    "| Y = H  | Pr(Y = H)           |\n",
    "| Y = T  |(1 - Pr(Y = H))      |"
   ]
  },
  {
   "cell_type": "code",
   "execution_count": 35,
   "id": "48fd1696",
   "metadata": {},
   "outputs": [
    {
     "data": {
      "text/plain": [
       "(array([207.,   0.,   0.,   0.,   0.,   0.,   0.,   0.,   0., 793.]),\n",
       " array([0. , 0.1, 0.2, 0.3, 0.4, 0.5, 0.6, 0.7, 0.8, 0.9, 1. ]),\n",
       " <BarContainer object of 10 artists>)"
      ]
     },
     "execution_count": 35,
     "metadata": {},
     "output_type": "execute_result"
    },
    {
     "data": {
      "image/png": "[encoded data removed]",
      "text/plain": [
       "<Figure size 432x288 with 1 Axes>"
      ]
     },
     "metadata": {
      "needs_background": "light"
     },
     "output_type": "display_data"
    }
   ],
   "source": [
    "def joint_rvs(theta):\n",
    "    bern_y = sp.stats.bernoulli(theta)\n",
    "    y = bern_y.rvs()\n",
    "    if y == 0:\n",
    "        bern_given_yheads = sp.stats.bernoulli(0.4)\n",
    "        return (bern_given_yheads.rvs(), y)\n",
    "    else:\n",
    "        bern_given_ytails = sp.stats.bernoulli(0.6)\n",
    "        return (bern_given_ytails.rvs(), y)\n",
    "\n",
    "Ys = []\n",
    "theta = 0.8\n",
    "for i in range(0, 1000):\n",
    "    Ys += [joint_rvs(theta)[1]]  # Sampling Y with probability theta\n",
    "# Marginal of Y\n",
    "plt.hist(Ys)"
   ]
  },
  {
   "cell_type": "code",
   "execution_count": 36,
   "id": "2ea46aa6",
   "metadata": {},
   "outputs": [
    {
     "ename": "ModuleNotFoundError",
     "evalue": "No module named 'dsplot'",
     "output_type": "error",
     "traceback": [
      "\u001b[0;31m---------------------------------------------------------------------------\u001b[0m",
      "\u001b[0;31mModuleNotFoundError\u001b[0m                       Traceback (most recent call last)",
      "\u001b[0;32m/var/folders/8b/6cqjyvv528bcwdg1g09k86sh0000gn/T/ipykernel_11908/3081697730.py\u001b[0m in \u001b[0;36m<module>\u001b[0;34m\u001b[0m\n\u001b[0;32m----> 1\u001b[0;31m \u001b[0;32mimport\u001b[0m \u001b[0mdsplot\u001b[0m\u001b[0;34m\u001b[0m\u001b[0;34m\u001b[0m\u001b[0m\n\u001b[0m\u001b[1;32m      2\u001b[0m \u001b[0;32mfrom\u001b[0m \u001b[0mdsplot\u001b[0m\u001b[0;34m.\u001b[0m\u001b[0mgraph\u001b[0m \u001b[0;32mimport\u001b[0m \u001b[0mGraph\u001b[0m\u001b[0;34m\u001b[0m\u001b[0;34m\u001b[0m\u001b[0m\n\u001b[1;32m      3\u001b[0m \u001b[0;32mimport\u001b[0m \u001b[0mmatplotlib\u001b[0m\u001b[0;34m.\u001b[0m\u001b[0mimage\u001b[0m \u001b[0;32mas\u001b[0m \u001b[0mmpimg\u001b[0m\u001b[0;34m\u001b[0m\u001b[0;34m\u001b[0m\u001b[0m\n\u001b[1;32m      4\u001b[0m \u001b[0;34m\u001b[0m\u001b[0m\n\u001b[1;32m      5\u001b[0m graph = Graph(\n",
      "\u001b[0;31mModuleNotFoundError\u001b[0m: No module named 'dsplot'"
     ]
    }
   ],
   "source": [
    "import dsplot\n",
    "from dsplot.graph import Graph\n",
    "import matplotlib.image as mpimg\n",
    "\n",
    "graph = Graph(\n",
    "    {\n",
    "        0: ['Y=H', 'Y=T'],\n",
    "        'Y=H': ['X=H|Y=H', 'X=T|Y=H'],\n",
    "        'Y=T': ['X=H|Y=T', 'X=T|Y=T'], 'X=H|Y=H': [],\n",
    "        'X=T|Y=H': [],\n",
    "        'X=H|Y=T': [],\n",
    "        'X=T|Y=T': []\n",
    "    },\n",
    "    directed=True,\n",
    ")\n",
    "graph.plot(output_path='graph.png', orientation='TB')\n",
    "img = mpimg.imread('graph.png')\n",
    "plt.figure(figsize=(20,10))\n",
    "plt.imshow(img)"
   ]
  },
  {
   "cell_type": "markdown",
   "id": "73339d7e",
   "metadata": {},
   "source": [
    "### Graphical View of Conditional Probabilities\n",
    "\n",
    "1. $Pr(X = \\cdot | Y = H)$ is the left branch of the tree\n",
    "2. $Pr(X = \\cdot | Y = T)$ is the right branch of the tree\n",
    "3. The sum of probabilities across every row of the tree is 1\n",
    "4. The sum of probabilities of a node's child is equal to the probability of the parent node"
   ]
  },
  {
   "cell_type": "markdown",
   "id": "3c3ab713",
   "metadata": {},
   "source": [
    "### Observation 1\n",
    "\n",
    "Bayes rule is symmetric\n",
    "\n",
    "\\begin{align*}\n",
    "Pr(X = x, Y = y) & = Pr(X = x | Y = y) Pr(Y = y) \\\\\n",
    "& =  Pr(Y = y | X = x) Pr(X = x) \\\\\n",
    "& = Pr(Y = y, X = x)\n",
    "\\end{align*}"
   ]
  },
  {
   "cell_type": "markdown",
   "id": "a4a2dbf7",
   "metadata": {},
   "source": [
    "### Observation 2\n",
    "\n",
    "Bayes rule works on arbitrary number of random variables\n",
    "\n",
    "\\begin{align*}\n",
    "Pr(X = x, Y = y, Z = z) & = Pr((X = x, Y = y), Z = z) \\\\\n",
    "& = Pr((X = x, Y = y) | Z = z) Pr(Z = z) \\\\\n",
    "& = Pr(X = x | Y = y, Z = z) Pr(Y = y | Z = z) Pr(Z = z) \\\\\n",
    "\\end{align*}"
   ]
  },
  {
   "cell_type": "markdown",
   "id": "d5470729",
   "metadata": {},
   "source": [
    "### Conditional Independence\n",
    "\n",
    "Suppose we have random variables $X$, $Y$, and $Z$.\n",
    "\n",
    "1. $X$ and $Y$ are said to be **conditionally independent** given $Z$ if $Pr(X = \\cdot | Z = z)$ is independent of $Pr(Y = \\cdot | Z = z)$\n",
    "2. In other words, \n",
    "$$\n",
    "Pr(X = \\cdot, Y = \\cdot, Z = z) = Pr(X = \\cdot | Z = z) Pr(Y = \\cdot | Z = z) Pr(Z = z)\n",
    "$$\n",
    "3. Equivalently,\n",
    "$Pr(X = \\cdot | Y = \\cdot, Z = z) = Pr(X = \\cdot | Z = z)$\n",
    "and symmetrically\n",
    "$Pr(Y = \\cdot | X = \\cdot, Z = z) = Pr(Y = \\cdot | Z = z)$"
   ]
  },
  {
   "cell_type": "markdown",
   "id": "5dbef022",
   "metadata": {},
   "source": [
    "### Famous: Monty Hall Problem\n",
    "\n",
    "1. Suppose you have to choose between 3 doors, 1 which has a prize behind it.\n",
    "2. You are asked to pick a door. If there is a prize behind that door, you keep it.\n",
    "3. You pick a door.\n",
    "4. Now, the prize organizer opens 1 door that does not have a prize behind it and shows it to you.\n",
    "5. Do you switch the door?\n"
   ]
  },
  {
   "cell_type": "markdown",
   "id": "2d8c0beb",
   "metadata": {},
   "source": [
    "### Incorrect Reasoning\n",
    "\n",
    "1. I pick a door at random so I have a 1/3 chance of getting the prize.\n",
    "2. Whether or not the opened door has a prize behind it does not change the 1/3 chance I have of winning.\n",
    "3. Therefore it does not matter whether or not I change doors."
   ]
  },
  {
   "cell_type": "markdown",
   "id": "1e6bea41",
   "metadata": {},
   "source": [
    "### Correct Reasoning\n",
    "\n",
    "1. Don't switch: $Pr(win) = Pr(\\text{choose correctly}) = 1/3$\n",
    "2. Switch:\n",
    "\\begin{align*}\n",
    "Pr(win) & = Pr(win | \\text{choose incorrect}) \\cdot Pr(\\text{choose incorrect}) +  Pr(win | \\text{choose incorrect}) \\cdot Pr(\\text{choose correct})\\\\\n",
    "& = 1 \\cdot 2/3 + 0 \\cdot 1/3 \\\\\n",
    "& = 2/3\n",
    "\\end{align*}"
   ]
  },
  {
   "cell_type": "code",
   "execution_count": null,
   "id": "46b88f27",
   "metadata": {},
   "outputs": [],
   "source": [
    "graph = Graph(\n",
    "    {\n",
    "        0: ['correct', 'incorrect'],\n",
    "        'correct': [],\n",
    "        'incorrect': ['switch correct', 'switch wrong'],\n",
    "        'switch correct': [],\n",
    "        'switch wrong': []\n",
    "    },\n",
    "    directed=True,\n",
    "    edges= {\n",
    "        '0correct': '1/3',\n",
    "        '0incorrect': '2/3',\n",
    "        'incorrectswitch correct': '1/2',\n",
    "        'incorrectswitch wrong': '1/2'\n",
    "    }\n",
    ")\n",
    "graph.plot(output_path='graph.png', orientation='TB')\n",
    "img = mpimg.imread('graph.png')\n",
    "plt.figure(figsize=(20,10))\n",
    "plt.imshow(img)"
   ]
  },
  {
   "cell_type": "markdown",
   "id": "acd6906f",
   "metadata": {},
   "source": [
    "### Conditional Probabilities Are Tricky\n",
    "\n",
    "1. It will take time to build intuition for conditional probabilities.\n",
    "2. When in doubt, you can always go back to the definitions."
   ]
  },
  {
   "cell_type": "markdown",
   "id": "b735729b",
   "metadata": {},
   "source": [
    "## Continuous Random Variable\n",
    "\n",
    "1. Previously, we worked with discrete random variables.\n",
    "2. Now we will look at continuous random variables.\n",
    "3. Continuous random variables are needed to model real numbers and Eucliean space.\n",
    "4. The technical machinery required for a uniform treatment of discrete and continuous random variables is **measure theory**.\n",
    "5. We will stick with the applied side in this class."
   ]
  },
  {
   "cell_type": "markdown",
   "id": "ddf20e9e",
   "metadata": {},
   "source": [
    "### Cumulative Distribution Function\n",
    "\n",
    "1. Unlike the discrete case where we can reason about the probability of a specific outcome, we cannot do that in the continuous case.\n",
    "2. Instead, we can only reason about the probability of a continuum range of events.\n",
    "3. This idea is captured with the idea of a **cumulative distribution function** or CDF."
   ]
  },
  {
   "cell_type": "markdown",
   "id": "5195c652",
   "metadata": {},
   "source": [
    "#### Definition\n",
    "\n",
    "The CDF $F_X$ of a random variable $X$ is\n",
    "\n",
    "$$\n",
    "F_X(x) = Pr(X \\leq x)\n",
    "$$"
   ]
  },
  {
   "cell_type": "markdown",
   "id": "0bf90371",
   "metadata": {},
   "source": [
    "#### Example: Uniform CDF\n",
    "\n",
    "Let a random variable $X$ take on values in the interval $(a, b)$ uniformly at random. Then\n",
    "$$\n",
    "F_X(x) = \n",
    "\\begin{cases}\n",
    "0 & \\mbox{$x \\leq a$} \\\\\n",
    "\\frac{x - a}{b - a} & \\mbox{$a < x < b$} \\\\\n",
    "1 & \\mbox{$x \\geq b$}\n",
    "\\end{cases}\n",
    "$$"
   ]
  },
  {
   "cell_type": "code",
   "execution_count": 37,
   "id": "533a07a0",
   "metadata": {},
   "outputs": [],
   "source": [
    "def uniform_cdf(a, b, x):\n",
    "    if x <= a:\n",
    "        return 0\n",
    "    elif x > a and x <= b:\n",
    "        return (x - a) / (b - a)\n",
    "    else:\n",
    "        return 1"
   ]
  },
  {
   "cell_type": "code",
   "execution_count": 38,
   "id": "2f05fd07",
   "metadata": {},
   "outputs": [
    {
     "data": {
      "text/plain": [
       "Text(0.5, 1.0, 'Uniform CDF')"
      ]
     },
     "execution_count": 38,
     "metadata": {},
     "output_type": "execute_result"
    },
    {
     "data": {
      "image/png": "[encoded data removed]",
      "text/plain": [
       "<Figure size 432x288 with 1 Axes>"
      ]
     },
     "metadata": {
      "needs_background": "light"
     },
     "output_type": "display_data"
    }
   ],
   "source": [
    "xs = np.linspace(-1, 2)\n",
    "ys = [uniform_cdf(0, 1, x) for x in xs]\n",
    "plt.plot(xs, ys)\n",
    "plt.title('Uniform CDF')"
   ]
  },
  {
   "cell_type": "markdown",
   "id": "cd4e1416",
   "metadata": {},
   "source": [
    "### Probability of Landing in an Interval for a Uniform\n",
    "\n",
    "The probability of landing in the interval $(0.0, 0.5)$ is\n",
    "\\begin{align*}\n",
    "Pr(X \\in (0.0, 0.5)) & = F_X(0.5) - F_X(0.0) \\\\\n",
    "& = 0.5\n",
    "\\end{align*}"
   ]
  },
  {
   "cell_type": "markdown",
   "id": "944c1754",
   "metadata": {},
   "source": [
    "### Probability of Landing in an Interval for a Uniform: Continued\n",
    "\n",
    "In fact, the probability of landing in the interval $(x, y)$ when $(x, y) \\subseteq (a, b)$ is\n",
    "\\begin{align*}\n",
    "Pr(X \\in (x, y)) & = F_X(y) - F_X(x) \\\\\n",
    "& = y - x \\tag{length of interval (x, y)}\n",
    "\\end{align*}"
   ]
  },
  {
   "cell_type": "markdown",
   "id": "7de5771d",
   "metadata": {},
   "source": [
    "### Probability Density Function\n",
    "\n",
    "1. The **probability density function** or pdf is the derivative of the CDF.\n",
    "$$\n",
    "p_X(x) = \\frac{d}{dx}F_X(x)\n",
    "$$\n",
    "2. Not every continuous distribution has a pdf."
   ]
  },
  {
   "cell_type": "markdown",
   "id": "7e1e1b98",
   "metadata": {},
   "source": [
    "### Example: Uniform PDF\n",
    "\n",
    "Let a random variable $X$ take on values in the interval $(a, b)$ uniformly at random. Then\n",
    "$$\n",
    "p_X(x) = \n",
    "\\begin{cases}\n",
    "0 & \\mbox{$x \\leq a$} \\\\\n",
    "\\frac{1}{b - a} & \\mbox{$a < x < b$} \\\\\n",
    "0 & \\mbox{$x \\geq b$}\n",
    "\\end{cases}\n",
    "$$"
   ]
  },
  {
   "cell_type": "code",
   "execution_count": 39,
   "id": "cf3c892f",
   "metadata": {},
   "outputs": [],
   "source": [
    "# Coding the pdf\n",
    "def uniform_pdf(a, b, x):\n",
    "    if x <= a:\n",
    "        return 0\n",
    "    elif x > a and x <= b:\n",
    "        return 1 / (b - a)\n",
    "    else:\n",
    "        return 0"
   ]
  },
  {
   "cell_type": "code",
   "execution_count": 35,
   "id": "ea38f34e",
   "metadata": {},
   "outputs": [
    {
     "data": {
      "text/plain": [
       "Text(0.5, 1.0, 'Uniform PDF')"
      ]
     },
     "execution_count": 35,
     "metadata": {},
     "output_type": "execute_result"
    },
    {
     "data": {
      "image/png": "[encoded data removed]",
      "text/plain": [
       "<Figure size 432x288 with 1 Axes>"
      ]
     },
     "metadata": {
      "needs_background": "light"
     },
     "output_type": "display_data"
    }
   ],
   "source": [
    "# Plotting the pdf\n",
    "xs = np.linspace(-1, 2)\n",
    "ys = [uniform_pdf(0, 1, x) for x in xs]\n",
    "plt.plot(xs, ys)\n",
    "plt.title('Uniform PDF')"
   ]
  },
  {
   "cell_type": "markdown",
   "id": "24b06a25",
   "metadata": {},
   "source": [
    "#### Warning\n",
    "\n",
    "1. The pdf does not give the probability of that event!\n",
    "2. For example, the $p_X(.5) = 1$ does not not mean that the probability of .5 is $1$.\n",
    "3. The cdf gives the probability of any interval.\n",
    "4. Indeed, the probability of any single point is 0!"
   ]
  },
  {
   "cell_type": "markdown",
   "id": "e61df17e",
   "metadata": {},
   "source": [
    "### Continuous Distributions: Computationally\n",
    "\n",
    "Just like discrete distributions, we have continuous distributions."
   ]
  },
  {
   "cell_type": "code",
   "execution_count": 36,
   "id": "ef590a33",
   "metadata": {},
   "outputs": [
    {
     "data": {
      "text/plain": [
       "(array([109.,  98., 107.,  80., 113., 113.,  85., 108., 105.,  82.]),\n",
       " array([7.79485654e-04, 1.00671201e-01, 2.00562916e-01, 3.00454631e-01,\n",
       "        4.00346347e-01, 5.00238062e-01, 6.00129777e-01, 7.00021492e-01,\n",
       "        7.99913208e-01, 8.99804923e-01, 9.99696638e-01]),\n",
       " <BarContainer object of 10 artists>)"
      ]
     },
     "execution_count": 36,
     "metadata": {},
     "output_type": "execute_result"
    },
    {
     "data": {
      "image/png": "[encoded data removed]",
      "text/plain": [
       "<Figure size 432x288 with 1 Axes>"
      ]
     },
     "metadata": {
      "needs_background": "light"
     },
     "output_type": "display_data"
    }
   ],
   "source": [
    "uniform = sp.stats.uniform(0, 1)\n",
    "Xs = uniform.rvs(size=1000)\n",
    "plt.hist(Xs)"
   ]
  },
  {
   "cell_type": "code",
   "execution_count": 37,
   "id": "cca30beb",
   "metadata": {},
   "outputs": [
    {
     "data": {
      "text/plain": [
       "<matplotlib.legend.Legend at 0x7fbdd1b746a0>"
      ]
     },
     "execution_count": 37,
     "metadata": {},
     "output_type": "execute_result"
    },
    {
     "data": {
      "image/png": "[encoded data removed]",
      "text/plain": [
       "<Figure size 432x288 with 1 Axes>"
      ]
     },
     "metadata": {
      "needs_background": "light"
     },
     "output_type": "display_data"
    }
   ],
   "source": [
    "xs = np.linspace(-1, 2)\n",
    "ys = [uniform.pdf(x) for x in xs]\n",
    "cdfs = [uniform.cdf(x) for x in xs]\n",
    "plt.plot(xs, ys, label='pdf')\n",
    "plt.plot(xs, cdfs, label='cdf')\n",
    "plt.title('Uniform PDF')\n",
    "plt.legend()"
   ]
  },
  {
   "cell_type": "markdown",
   "id": "a2adf0f6",
   "metadata": {},
   "source": [
    "### Normal Distribution\n",
    "\n",
    "The famous Normal distribution or Gaussian distribution.\n",
    "\n",
    "$$\n",
    "X \\sim \\mathcal{N}(\\mu, \\sigma^2)\n",
    "$$\n",
    "\n",
    "means thats $X$ is a random variable with normal distribution with mean $\\mu$ and scale $\\sigma$."
   ]
  },
  {
   "cell_type": "code",
   "execution_count": 38,
   "id": "bf5ebda2",
   "metadata": {},
   "outputs": [
    {
     "data": {
      "text/plain": [
       "(array([  2.,  11.,  46., 117., 200., 254., 193., 119.,  47.,  11.]),\n",
       " array([-3.50470803, -2.8676446 , -2.23058117, -1.59351774, -0.95645432,\n",
       "        -0.31939089,  0.31767254,  0.95473597,  1.5917994 ,  2.22886283,\n",
       "         2.86592626]),\n",
       " <BarContainer object of 10 artists>)"
      ]
     },
     "execution_count": 38,
     "metadata": {},
     "output_type": "execute_result"
    },
    {
     "data": {
      "image/png": "[encoded data removed]",
      "text/plain": [
       "<Figure size 432x288 with 1 Axes>"
      ]
     },
     "metadata": {
      "needs_background": "light"
     },
     "output_type": "display_data"
    }
   ],
   "source": [
    "normal = sp.stats.norm(loc=0.0, scale=1.0)\n",
    "Xs = normal.rvs(size=1000)\n",
    "plt.hist(Xs)"
   ]
  },
  {
   "cell_type": "code",
   "execution_count": 39,
   "id": "8fafbf39",
   "metadata": {},
   "outputs": [
    {
     "data": {
      "text/plain": [
       "<matplotlib.legend.Legend at 0x7fbdd1f1d0a0>"
      ]
     },
     "execution_count": 39,
     "metadata": {},
     "output_type": "execute_result"
    },
    {
     "data": {
      "image/png": "[encoded data removed]",
      "text/plain": [
       "<Figure size 432x288 with 1 Axes>"
      ]
     },
     "metadata": {
      "needs_background": "light"
     },
     "output_type": "display_data"
    }
   ],
   "source": [
    "xs = np.linspace(-5, 5)\n",
    "ys = [normal.pdf(x) for x in xs]\n",
    "plt.plot(xs, ys, label='pdf')\n",
    "plt.title('Normal PDF')\n",
    "plt.legend()"
   ]
  },
  {
   "cell_type": "markdown",
   "id": "43f2067f",
   "metadata": {},
   "source": [
    "### Normal PDF\n",
    "\n",
    "1. $\\mu$ is called the mean or location.\n",
    "2. $\\sigma$ is called the scale ($\\sigma^2$ is the variance).\n",
    "\n",
    "$$\n",
    "p_X(x) = \\frac{1}{\\sqrt{2\\pi\\sigma^2}}e^{(x - \\mu)^2/(2\\sigma^2)}\n",
    "$$"
   ]
  },
  {
   "cell_type": "code",
   "execution_count": 40,
   "id": "351dc05a",
   "metadata": {},
   "outputs": [
    {
     "data": {
      "text/plain": [
       "<matplotlib.legend.Legend at 0x7fbdd1e09070>"
      ]
     },
     "execution_count": 40,
     "metadata": {},
     "output_type": "execute_result"
    },
    {
     "data": {
      "image/png": "[encoded data removed]",
      "text/plain": [
       "<Figure size 432x288 with 1 Axes>"
      ]
     },
     "metadata": {
      "needs_background": "light"
     },
     "output_type": "display_data"
    }
   ],
   "source": [
    "xs = np.linspace(-5, 5)\n",
    "ys = [normal.pdf(x) for x in xs]\n",
    "zs = [normal.cdf(x) for x in xs]\n",
    "plt.plot(xs, ys, label='pdf')\n",
    "plt.plot(xs, zs, label='cdf')\n",
    "plt.title('Normal PDF')\n",
    "plt.legend()"
   ]
  },
  {
   "cell_type": "markdown",
   "id": "eccc0cac",
   "metadata": {},
   "source": [
    "### Normal CDF\n",
    "\n",
    "\\begin{align*}\n",
    "F_X(c) & = \\int_{-\\infty}^c p_X(x) dx \\\\\n",
    "       & = \\int_{-\\infty}^c \\frac{1}{\\sqrt{2\\pi\\sigma^2}}e^{(x - \\mu)^2/(2\\sigma^2)} dx \n",
    "\\end{align*}\n",
    "\n",
    "1. The normal CDF does not have a closed form solution meaning that there is no nice formula for the CDF."
   ]
  },
  {
   "cell_type": "markdown",
   "id": "4576fe58",
   "metadata": {},
   "source": [
    "### Summary\n",
    "\n",
    "1. You can always look up the pdf/cdf of many distributions.\n",
    "2. The Normal distribution is very important."
   ]
  },
  {
   "cell_type": "markdown",
   "id": "755bcf50",
   "metadata": {},
   "source": [
    "## Expectation of a Continuous Random Variable\n",
    "\n",
    "1. The continuous analog of summation is integration.\n",
    "2. Thus the expectation of a continuous random variable with pdf $p_X$ is defined as\n",
    "$$\n",
    "\\mathbb{E}(X) = \\int_{-\\infty}^\\infty x p_X(x) dx \\,.\n",
    "$$"
   ]
  },
  {
   "cell_type": "markdown",
   "id": "c27c799b",
   "metadata": {},
   "source": [
    "### Joint Density\n",
    "\n",
    "1. Like before we would like to talk about multiple continuous random variables.\n",
    "\n",
    "2. The **joint probability density function** (when it exists) of two random variables $X$ and $Y$ is written\n",
    "$$\n",
    "p_{X, Y}(x, y)\n",
    "$$\n",
    "and has the property that\n",
    "$$\n",
    "\\int_{\\infty}^\\infty \\int_{\\infty}^\\infty p_{X, Y}(x, y) dx dy = 1 \\,.\n",
    "$$\n",
    "\n",
    "3. The marginal probability density functions can be obtained by integration\n",
    "    - $p_X(x) = \\int_{-\\infty}^{\\infty} p_{X, Y}(x, y) dy$\n",
    "    - $p_Y(y) = \\int_{-\\infty}^{\\infty} p_{X, Y}(x, y) dx$"
   ]
  },
  {
   "cell_type": "markdown",
   "id": "14942ea1",
   "metadata": {},
   "source": [
    "### Conditional Density\n",
    "\n",
    "A **conditional density** is notated\n",
    "$$\n",
    "p_{X|Y}(x | y)\n",
    "$$\n",
    "and is a probability density function of X for a fixed value of $Y$."
   ]
  },
  {
   "cell_type": "markdown",
   "id": "61c0270d",
   "metadata": {},
   "source": [
    "### Bayes Rule: Continuous Version\n",
    "\n",
    "Suppose $X$ and $Y$ are continuous random variables with joint density $p_{X, Y}(x, y)$.\n",
    "1. Then\n",
    "$$\n",
    "p_{X, Y}(x, y) = p_{X|Y}(x | y) p(y)\n",
    "$$\n",
    "when $p_{X|Y}(x | y)$ exists.\n",
    "2. Then\n",
    "$$\n",
    "p_{X, Y}(x, y) = p_{Y|X}(y | x) p(x)\n",
    "$$\n",
    "when $p_{Y|X}(y | x)$ exists."
   ]
  },
  {
   "cell_type": "markdown",
   "id": "6858dfee",
   "metadata": {},
   "source": [
    "### Example: Tic-Tac-Toe Board\n",
    "\n",
    "Suppose we have a uniform distribution over a unit square, i.e.,\n",
    "$$\n",
    "p_{X, Y}(x, y) = \\begin{cases}\n",
    "1 & \\mbox{$(x, y) \\in (0, 1) \\times (0, 1)$} \\\\\n",
    "0 & \\mbox{otherwise}\n",
    "\\end{cases}\n",
    "$$"
   ]
  },
  {
   "cell_type": "code",
   "execution_count": 41,
   "id": "cf7af000",
   "metadata": {},
   "outputs": [
    {
     "data": {
      "image/png": "[encoded data removed]",
      "text/plain": [
       "<Figure size 432x288 with 1 Axes>"
      ]
     },
     "metadata": {
      "needs_background": "light"
     },
     "output_type": "display_data"
    }
   ],
   "source": [
    "def draw_tictactoe(scale=1./3.):\n",
    "    from matplotlib.patches import Rectangle\n",
    "\n",
    "    fig, ax = plt.subplots()\n",
    "    ax.set_xlim(0, 1)\n",
    "    ax.set_ylim(0, 1)\n",
    "    for i in range(0, 3):\n",
    "        for j in range(0, 3):\n",
    "            ax.add_patch(Rectangle((i*scale, j*scale), scale, scale, fill=False))\n",
    "    return ax\n",
    "\n",
    "ax = draw_tictactoe()"
   ]
  },
  {
   "cell_type": "markdown",
   "id": "85539e89",
   "metadata": {},
   "source": [
    "### Probability of middle square using joint density\n",
    "\n",
    "\\begin{align*}\n",
    "Pr((X, Y) \\in \\text{middle square}) & = \\int_{1/3}^{2/3} \\int_{1/3}^{2/3} p_{X, Y}(x, y) dx dy \\\\\n",
    "& = \\int_{1/3}^{2/3} \\int_{1/3}^{2/3} dx dy \\\\\n",
    "& = \\int_{1/3}^{2/3} x|_{1/3}^{2/3} dy \\\\\n",
    "& = \\int_{1/3}^{2/3} 1/3 dy \\\\\n",
    "& = 1/3 \\int_{1/3}^{2/3} dy \\\\\n",
    "& = 1/3 (y |_{1/3}^{2/3}) \\\\\n",
    "& = 1/9\n",
    "\\end{align*}"
   ]
  },
  {
   "cell_type": "markdown",
   "id": "180d7fce",
   "metadata": {},
   "source": [
    "### Pictoral check"
   ]
  },
  {
   "cell_type": "code",
   "execution_count": 42,
   "id": "cd3fdec1",
   "metadata": {},
   "outputs": [
    {
     "data": {
      "text/plain": [
       "<matplotlib.patches.Rectangle at 0x7fbda0826ca0>"
      ]
     },
     "execution_count": 42,
     "metadata": {},
     "output_type": "execute_result"
    },
    {
     "data": {
      "image/png": "[encoded data removed]",
      "text/plain": [
       "<Figure size 432x288 with 1 Axes>"
      ]
     },
     "metadata": {
      "needs_background": "light"
     },
     "output_type": "display_data"
    }
   ],
   "source": [
    "from matplotlib.patches import Rectangle\n",
    "ax = draw_tictactoe()\n",
    "scale = 1./3.\n",
    "ax.add_patch(Rectangle((1./3., 1./3.), scale, scale, fill=True))"
   ]
  },
  {
   "cell_type": "markdown",
   "id": "8da73612",
   "metadata": {},
   "source": [
    "1. Recall that we have a uniform distribution over the tic-tac-toe board.\n",
    "2. There are 9 squares.\n",
    "3. The probability of 1 square is $1/9$"
   ]
  },
  {
   "cell_type": "markdown",
   "id": "3e4cf247",
   "metadata": {},
   "source": [
    "# Revisiting Linear Regression\n",
    "\n",
    "- Ok we saw a bunch of probability and calculus.\n",
    "- How does this relate to the problem of regression?"
   ]
  },
  {
   "cell_type": "markdown",
   "id": "b0ba6146",
   "metadata": {},
   "source": [
    "## Probabilistic Model\n",
    "\n",
    "1. Let $\\theta_d$ for $1 \\leq d \\leq D + 1$ be the weights that we learn in a linear regression.\n",
    "2. Suppose we have a dataset of $N$ points $(x^{i}, y^{i})_{1 \\leq i \\leq N}$.\n",
    "3. Finally suppose we have a model\n",
    "$$\n",
    "Y^{i} | X^{i} \\sim \\mathcal{N}((\\theta_1 \\dots \\theta_{D+1}) \\cdot (x_1^i \\dots x_D^i 1), \\sigma^2) \\,.\n",
    "$$\n",
    "where $X^{i}$ is the random variable corresponding to the inputs, $Y^{i}$ is the random variable corresponding to the outputs, and $Y^{i} | X^{i}$ is the random variable of $Y^{i}$ given that $X^{i}$ is taking on a certain value with the appropriate distribution.\n",
    "4. Then the choice of $\\theta$ that maximizes the conditional density\n",
    "$$\n",
    "p(y | x ; \\theta) = \\Pi_{i=1}^N p(y^{i} | x^{i} ; \\theta)\n",
    "$$\n",
    "gives the same solution as the linear algebra solution from before."
   ]
  },
  {
   "cell_type": "markdown",
   "id": "fe13f675",
   "metadata": {},
   "source": [
    "### Let's unpack this with an example"
   ]
  },
  {
   "cell_type": "code",
   "execution_count": 40,
   "id": "1656cca5",
   "metadata": {},
   "outputs": [
    {
     "data": {
      "text/plain": [
       "Text(0.5, 1.0, 'Example dataset')"
      ]
     },
     "execution_count": 40,
     "metadata": {},
     "output_type": "execute_result"
    },
    {
     "data": {
      "image/png": "[encoded data removed]",
      "text/plain": [
       "<Figure size 432x288 with 1 Axes>"
      ]
     },
     "metadata": {
      "needs_background": "light"
     },
     "output_type": "display_data"
    }
   ],
   "source": [
    "x1 = [0.3]                     # each point has dimension 1\n",
    "x2 = [-0.5]               \n",
    "x3 = [.1]                \n",
    "Y = [0.2, -.1, 1.3]\n",
    "X = np.array([x1, x2, x3])   # each row is one point\n",
    "\n",
    "plt.plot(X[:,0], Y, marker='o', linestyle='none')\n",
    "plt.xlabel('X')\n",
    "plt.ylabel('Y')\n",
    "plt.title('Example dataset')"
   ]
  },
  {
   "cell_type": "markdown",
   "id": "565ea91e",
   "metadata": {},
   "source": [
    "### Construct the distribution\n",
    "\n",
    "We need to construct\n",
    "$$\n",
    "\\mathcal{N}((\\theta_1 \\dots \\theta_{D+1}) \\cdot (x_1^i \\dots x_D^i 1), \\sigma^2)\n",
    "$$"
   ]
  },
  {
   "cell_type": "code",
   "execution_count": 44,
   "id": "83df4c4b",
   "metadata": {},
   "outputs": [],
   "source": [
    "def construct_distribution(theta, scale):\n",
    "    X_p = np.concatenate([X, np.ones((3, 1))], axis=1)\n",
    "    print(X_p)\n",
    "    normals = [\n",
    "        sp.stats.norm(loc=np.dot(theta, X_p[0]), scale=scale),\n",
    "        sp.stats.norm(loc=np.dot(theta, X_p[1]), scale=scale),\n",
    "        sp.stats.norm(loc=np.dot(theta, X_p[2]), scale=scale)\n",
    "    ]\n",
    "    return normals"
   ]
  },
  {
   "cell_type": "markdown",
   "id": "963eb6a4",
   "metadata": {},
   "source": [
    "### Construct the conditional density"
   ]
  },
  {
   "cell_type": "code",
   "execution_count": 45,
   "id": "dec9742e",
   "metadata": {},
   "outputs": [],
   "source": [
    "import numpy as np"
   ]
  },
  {
   "cell_type": "code",
   "execution_count": 46,
   "id": "a51dec0f",
   "metadata": {},
   "outputs": [
    {
     "name": "stdout",
     "output_type": "stream",
     "text": [
      "[[ 0.3  1. ]\n",
      " [-0.5  1. ]\n",
      " [ 0.1  1. ]]\n",
      "0.36052696246164795\n"
     ]
    },
    {
     "data": {
      "text/plain": [
       "0.04073915541027458"
      ]
     },
     "execution_count": 46,
     "metadata": {},
     "output_type": "execute_result"
    }
   ],
   "source": [
    "theta = np.array([0.5, 0.5])\n",
    "\n",
    "def conditional_density(theta, scale):\n",
    "    normals = construct_distribution(theta, scale)\n",
    "    print(normals[0].pdf(Y[0]))\n",
    "    return normals[0].pdf(Y[0]) * normals[1].pdf(Y[1]) * normals[2].pdf(Y[2])\n",
    "    \n",
    "conditional_density(theta, 1.0)"
   ]
  },
  {
   "cell_type": "markdown",
   "id": "950ca5a7",
   "metadata": {},
   "source": [
    "### Find the theta\n",
    "\n",
    "- We'll use a grid search where we just enumerate a grid of values.\n",
    "- Later we'll learn how to use optimization techniques to better search the space."
   ]
  },
  {
   "cell_type": "code",
   "execution_count": 48,
   "id": "75f3d31c",
   "metadata": {},
   "outputs": [
    {
     "name": "stdout",
     "output_type": "stream",
     "text": [
      "Best theta [0.81632653 0.48979592] Density 0.041516358671785464\n"
     ]
    }
   ],
   "source": [
    "thetas1 = np.linspace(0.0, 1.0)\n",
    "thetas2 = np.linspace(0.0, 1.0)\n",
    "\n",
    "# Enumerate a grid of theta1 and theta2 to find the best theta\n",
    "best = 0.0\n",
    "best_theta = np.zeros(2)\n",
    "for theta1 in thetas1:\n",
    "    for theta2 in thetas2:\n",
    "        tmp = conditional_density(np.array([theta1, theta2]), 1.0) \n",
    "        if tmp > best:\n",
    "            best_theta[0] = theta1\n",
    "            best_theta[1] = theta2\n",
    "            best = tmp\n",
    "print(\"Best theta\", best_theta, \"Density\", best)"
   ]
  },
  {
   "cell_type": "code",
   "execution_count": 49,
   "id": "e2a91ae5",
   "metadata": {},
   "outputs": [
    {
     "data": {
      "text/plain": [
       "array([0.82692308, 0.49423077])"
      ]
     },
     "execution_count": 49,
     "metadata": {},
     "output_type": "execute_result"
    }
   ],
   "source": [
    "def linear_algebra_solve(X, Y):\n",
    "    X_p = np.concatenate([X, np.ones((3, 1))], axis=1)\n",
    "    return np.linalg.solve(X_p.transpose() @ X_p, X_p.transpose() @ Y)\n",
    "\n",
    "linear_algebra_solve(X, Y)"
   ]
  },
  {
   "cell_type": "markdown",
   "id": "9dc94825",
   "metadata": {},
   "source": [
    "### We got the \"Same Answer\"\n",
    "\n",
    "1. The grid that we searched does not exactly contain the solution which is why the numbers don't exactly match up\n",
    "2. Moreover, there are floating point issues to consider."
   ]
  },
  {
   "cell_type": "markdown",
   "id": "57b6afac",
   "metadata": {},
   "source": [
    "### Higher dimensions?\n",
    "\n",
    "1. Yes the probabilistic version works for higher dimensions.\n",
    "2. However, our searching mechanism is too slow to work for higher dimensions."
   ]
  },
  {
   "cell_type": "markdown",
   "id": "13a320b1",
   "metadata": {},
   "source": [
    "### Some Questions You May Have\n",
    "\n",
    "$$\n",
    "Y^{i} | X^{i} \\sim \\mathcal{N}((\\theta_1 \\dots \\theta_{D+1}) \\cdot (x_1^i \\dots x_D^i 1), \\sigma^2) \\,.\n",
    "$$"
   ]
  },
  {
   "cell_type": "markdown",
   "id": "0dc543b1",
   "metadata": {},
   "source": [
    "### Question 1: Why Doesn't the Scale Matter?"
   ]
  },
  {
   "cell_type": "code",
   "execution_count": 50,
   "id": "ab3fc6e7",
   "metadata": {},
   "outputs": [
    {
     "name": "stdout",
     "output_type": "stream",
     "text": [
      "Best theta [0.81632653 0.48979592] Density 6.322445407741327e-05\n"
     ]
    }
   ],
   "source": [
    "thetas1 = np.linspace(0.0, 1.0)\n",
    "thetas2 = np.linspace(0.0, 1.0)\n",
    "\n",
    "# Enumerate a grid of theta1 and theta2 to find the best theta\n",
    "best = 0.0\n",
    "best_theta = np.zeros(2)\n",
    "for theta1 in thetas1:\n",
    "    for theta2 in thetas2:\n",
    "        tmp = conditional_density(np.array([theta1, theta2]), 10.0) # Changed scaled to 10\n",
    "        if tmp > best:\n",
    "            best_theta[0] = theta1\n",
    "            best_theta[1] = theta2\n",
    "            best = tmp\n",
    "print(\"Best theta\", best_theta, \"Density\", best)"
   ]
  },
  {
   "cell_type": "markdown",
   "id": "4d445ac2",
   "metadata": {},
   "source": [
    "### Question 2: What if we add a distribution to theta?\n",
    "\n",
    "1. This is known as a **Bayesian** approach.\n",
    "2. This can be used to express constraints on the values of $\\theta$."
   ]
  },
  {
   "cell_type": "markdown",
   "id": "8e147b89",
   "metadata": {},
   "source": [
    "### Question 3: What if we add a distribution to X?\n",
    "\n",
    "1. This is known as **generative modeling** where we also model the distribution on $X$."
   ]
  },
  {
   "cell_type": "markdown",
   "id": "661430fc",
   "metadata": {},
   "source": [
    "# Summary\n",
    "\n",
    "1. We looked at univariate discrete probability.\n",
    "2. We looked at multi-variate discrete probability.\n",
    "3. We looked at the generalization to continuous probability.\n",
    "4. We saw how linear regression could be interpreted in a probabilistic manner."
   ]
  },
  {
   "cell_type": "code",
   "execution_count": null,
   "id": "df0d87bc",
   "metadata": {},
   "outputs": [],
   "source": []
  }
 ],
 "metadata": {
  "kernelspec": {
   "display_name": "Python 3 (ipykernel)",
   "language": "python",
   "name": "python3"
  },
  "language_info": {
   "codemirror_mode": {
    "name": "ipython",
    "version": 3
   },
   "file_extension": ".py",
   "mimetype": "text/x-python",
   "name": "python",
   "nbconvert_exporter": "python",
   "pygments_lexer": "ipython3",
   "version": "3.9.7"
  }
 },
 "nbformat": 4,
 "nbformat_minor": 5
}
