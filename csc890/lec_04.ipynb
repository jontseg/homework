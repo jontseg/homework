{
 "cells": [
  {
   "cell_type": "code",
   "execution_count": 2,
   "id": "4aa360c8",
   "metadata": {},
   "outputs": [],
   "source": [
    "%matplotlib inline\n",
    "\n",
    "from functools import partial\n",
    "from typing import *\n",
    "\n",
    "import numpy as np\n",
    "import scipy as sp   # scipy is a popular scientific computing library for Python\n",
    "import scipy.stats   # statistics package\n",
    "import matplotlib.pyplot as plt"
   ]
  },
  {
   "cell_type": "markdown",
   "id": "768c6b2a",
   "metadata": {},
   "source": [
    "# Lec 04: Gaussian Processes and Linear Regression"
   ]
  },
  {
   "cell_type": "markdown",
   "id": "14e5a15a",
   "metadata": {},
   "source": [
    "## Goal\n",
    "\n",
    "1. The goal today is to introduce our first **non-linear** regression model, a Gaussian Process (GP).\n",
    "2. GPs are a fundamental probabilistic regression model and have applications in scientific regression, Bayesian optimization.\n",
    "3. Under certain conditions, GPs can also be shown to be equivalent to neural networks powering deep learning.\n",
    "4. Along the way of introducing the GP model, we will need to introduce more probability and linear algebra."
   ]
  },
  {
   "cell_type": "markdown",
   "id": "cb0cc04c",
   "metadata": {},
   "source": [
    "## Outline \n",
    "\n",
    "1. Vector space of random variables\n",
    "2. Linearity of expectation\n",
    "3. Aside: Monte Carlo expectation\n",
    "4. Multivariate Normal Distribution\n",
    "    - Covariance Matrix\n",
    "    - Hermitian + PSD matrix\n",
    "    - Cholesky Decomposition\n",
    "    - PDF + determinant\n",
    "    - Correlation\n",
    "    - Marginals\n",
    "    - Conditionals\n",
    "5. Gaussian Process Regression"
   ]
  },
  {
   "cell_type": "markdown",
   "id": "2c5ffa87",
   "metadata": {},
   "source": [
    "## More Probability"
   ]
  },
  {
   "cell_type": "markdown",
   "id": "75598af2",
   "metadata": {},
   "source": [
    "### 1 Random Variable Summary\n",
    "\n",
    "\n",
    "| Concept          | X Discrete   | X Continuous |\n",
    "| -----------------| -----------  | ------------ |\n",
    "| Mass/Density     | pmf $p_X(x)$ | pdf $p_X(x)$ |\n",
    "| CDF $F_X(c)$     | $$\\sum_{x \\leq c} p(x)$$ | $$\\int_{\\infty}^c p(x) dx $$ |\n",
    "| cdf vs. pmf/pdf  | $$p_X(c) = F_X(c) - F_X(c-1)$$ | $$\\frac{d}{dx}F_X(c) = p_X(c)$$ |\n",
    "| Probability      | probability of x is $$p_X(x)$$ | probability of interval $(a, b)$ is $F_X(b) - F_X(a)$ |\n",
    "| Expectation $$\\mathbb{E}(X)$$   | $$\\sum_{x \\in \\mathcal{X}} x p_X(x)$$ | $$\\int_{-\\infty}^\\infty x p_X(x) dx$$ |"
   ]
  },
  {
   "cell_type": "markdown",
   "id": "96e53c73",
   "metadata": {},
   "source": [
    "### 2 Random Variables Summary\n",
    "\n",
    "| Concept          | X, Y Discrete   | X,Y Continuous |\n",
    "| -----------------| --------------  | -------------- |\n",
    "| Joint pmf/pdf    | pmf $p_{X, Y}(x, y)$  | pdf $p_{X, Y}(x, y)$ |\n",
    "| Marginal of X    | $$p_X(x) = \\sum_{y \\in \\mathcal{Y}} p_{X, Y}(x, y)$$ | $$p_X(x) = \\int_{-\\infty}^\\infty p_{X, Y}(x, y) dy$$|\n",
    "| Marginal of Y    | $$p_Y(x) = \\sum_{x \\in \\mathcal{X}} p_{X, Y}(x, y)$$ | $$p_Y(y) = \\int_{-\\infty}^\\infty p_{X, Y}(x, y) dx$$|\n",
    "| Conditional X given Y | conditional mass $p(x | y)$ | conditional density $p(x | y)$ | \n",
    "| Conditional Y given X | conditional mass $p(y | x)$ | conditional density $p(y | x)$ | \n",
    "| Factorizing distribution | $p(x, y) = p(y | x)p(x) = p(x | y)p(y)$ | $p(x, y) = p(y | x)p(x) = p(x | y)p(y)$ |\n",
    "\n",
    "The situation with two random variables can be generalized to settings with $N$ random variables."
   ]
  },
  {
   "cell_type": "markdown",
   "id": "7f393dfa",
   "metadata": {},
   "source": [
    "### Random variables can be made into a vector space\n",
    "\n",
    "1. We need to define a $+$.\n",
    "2. We need to define a scaling $\\cdot$."
   ]
  },
  {
   "cell_type": "code",
   "execution_count": 3,
   "id": "0daf29a9",
   "metadata": {},
   "outputs": [
    {
     "data": {
      "text/plain": [
       "<matplotlib.legend.Legend at 0x7fdcba3bd610>"
      ]
     },
     "execution_count": 3,
     "metadata": {},
     "output_type": "execute_result"
    },
    {
     "data": {
      "image/png": "[encoded data removed]",
      "text/plain": [
       "<Figure size 432x288 with 1 Axes>"
      ]
     },
     "metadata": {
      "needs_background": "light"
     },
     "output_type": "display_data"
    }
   ],
   "source": [
    "X = sp.stats.norm(loc=0.0, scale=1.0).rvs(size=100) # The random variable X\n",
    "Y = sp.stats.norm(loc=0.0, scale=1.0).rvs(size=100) # The random variable Y\n",
    "X_plus_Y = X + Y        # The random variable X + Y\n",
    "                        # Add the random value in X with the random value in Y\n",
    "plt.hist(X, label='X')\n",
    "plt.hist(X_plus_Y, alpha=0.2, label='X + Y')\n",
    "plt.legend()"
   ]
  },
  {
   "cell_type": "code",
   "execution_count": 4,
   "id": "54bd3f12",
   "metadata": {},
   "outputs": [
    {
     "data": {
      "text/plain": [
       "<matplotlib.legend.Legend at 0x7fdcb057dfa0>"
      ]
     },
     "execution_count": 4,
     "metadata": {},
     "output_type": "execute_result"
    },
    {
     "data": {
      "image/png": "[encoded data removed]",
      "text/plain": [
       "<Figure size 432x288 with 1 Axes>"
      ]
     },
     "metadata": {
      "needs_background": "light"
     },
     "output_type": "display_data"
    }
   ],
   "source": [
    "X = sp.stats.norm(loc=0.0, scale=1.0).rvs(size=100) # The random variable X\n",
    "Y = X                   # Note, we can also create a random variable that is identically X\n",
    "X_plus_Y = X + Y        # The random variable X + Y\n",
    "                        # Add the random value in X with the random value in Y\n",
    "plt.hist(X, label='X')\n",
    "plt.hist(X_plus_Y, alpha=0.2, label='X + Y')\n",
    "plt.legend()"
   ]
  },
  {
   "cell_type": "code",
   "execution_count": 5,
   "id": "3d8b9ed0",
   "metadata": {},
   "outputs": [
    {
     "data": {
      "text/plain": [
       "<matplotlib.legend.Legend at 0x7fdcb050ccd0>"
      ]
     },
     "execution_count": 5,
     "metadata": {},
     "output_type": "execute_result"
    },
    {
     "data": {
      "image/png": "[encoded data removed]",
      "text/plain": [
       "<Figure size 432x288 with 1 Axes>"
      ]
     },
     "metadata": {
      "needs_background": "light"
     },
     "output_type": "display_data"
    }
   ],
   "source": [
    "X = sp.stats.norm(loc=0.0, scale=1.0).rvs(size=100) # The random variable X\n",
    "scale_X = 2.*X          # The random variable 2X\n",
    "plt.hist(X, label='X')\n",
    "plt.hist(scale_X, alpha=0.2, label='2X')\n",
    "plt.legend()"
   ]
  },
  {
   "cell_type": "markdown",
   "id": "d996dd10",
   "metadata": {},
   "source": [
    "### Definition: Vector Space of Random Variables\n",
    "\n",
    "1. Let $V$ be the set of continuous random variables.\n",
    "2. Suppose $X$ and $Y$ are continuous random variables. Then $X + Y$ is a continuous random variable which is a random variable that is the result of adding the random value in $X$ and the random value in $Y$. This statement can be made precise with measure theory.\n",
    "3. Suppose $X$ is a continuous random variable. Then $c \\cdot X$ is a continuous random variable which is the result of scaling the random value of $X$ by $c$.\n",
    "\n",
    "This tuple $(V, +, \\cdot)$ is a vector space after routine check of the axioms."
   ]
  },
  {
   "cell_type": "markdown",
   "id": "8892f4f0",
   "metadata": {},
   "source": [
    "### Property: Linearity of Expectation\n",
    "\n",
    "Recall that a function $f: V \\rightarrow W$ between two vector spaces $V$ and $W$ was linear if\n",
    "1. $f(c x) = c f(x)$ and\n",
    "2. $f(x + y) = f(x) + f(y)$.\n",
    "\n",
    "In the same way, expectation is a **linear functional**. A functional is a mapping $V \\rightarrow \\mathbb{R}$ where $V$ is some vector space. In this case, $V$ is a space of random variables.\n",
    "1. $\\mathbb{E}(cX) = c \\mathbb{E}(X)$.\n",
    "2. $\\mathbb{E}(X + Y) = \\mathbb{E}(X) + \\mathbb{E}(Y)$"
   ]
  },
  {
   "cell_type": "markdown",
   "id": "3b125f76",
   "metadata": {},
   "source": [
    "### Checking Linearity of Expectation\n",
    "\n",
    "Suppose that $X$ is a continuous random variable.\n",
    "\n",
    "\\begin{align*}\n",
    "\\mathbb{E}(cX) & = \\int_{-\\infty}^\\infty cx p_X(x) dx \\tag{definition} \\\\\n",
    "& = c \\int_{-\\infty}^\\infty x p_X(x) dx \\tag{integral property} \\\\\n",
    "& = c \\mathbb{E}(X) \\tag{definition} \\\\\n",
    "\\end{align*}\n",
    "\n",
    "Suppose that $X$ and $Y$ are two continuous random variables, not necessarily independent.\n",
    "\n",
    "\\begin{align*}\n",
    "\\mathbb{E}(X + Y) & = \\int_{-\\infty}^\\infty \\int_{-\\infty}^\\infty (x + y) p_{X, Y}(x, y) dx dy  \\tag{definition} \\\\\n",
    "& = \\int_{-\\infty}^\\infty \\int_{-\\infty}^\\infty x p_{X, Y}(x, y) dx dy + \\int_{-\\infty}^\\infty \\int_{-\\infty}^\\infty y p_{X, Y}(x, y) dx dy  \\tag{distribute} \\\\\n",
    "& = \\int_{-\\infty}^\\infty \\int_{-\\infty}^\\infty x p_{X, Y}(x, y) dy dx + \\int_{-\\infty}^\\infty \\int_{-\\infty}^\\infty y p_{X, Y}(x, y) dx dy  \\tag{Fubini} \\\\\n",
    "& = \\int_{-\\infty}^\\infty x p_{X}(x) dx + \\int_{-\\infty}^\\infty y p_{X, Y}(x, y) dy \\tag{marginal} \\\\\n",
    "& = \\mathbb{E}(X) + \\mathbb{E}(Y) \\tag{definition} \\\\\n",
    "\\end{align*}"
   ]
  },
  {
   "cell_type": "code",
   "execution_count": 6,
   "id": "df79c77a",
   "metadata": {},
   "outputs": [
    {
     "data": {
      "text/plain": [
       "<matplotlib.legend.Legend at 0x7fdcba5e1b80>"
      ]
     },
     "execution_count": 6,
     "metadata": {},
     "output_type": "execute_result"
    },
    {
     "data": {
      "image/png": "[encoded data removed]",
      "text/plain": [
       "<Figure size 432x288 with 1 Axes>"
      ]
     },
     "metadata": {
      "needs_background": "light"
     },
     "output_type": "display_data"
    }
   ],
   "source": [
    "X = sp.stats.norm(loc=0.0, scale=1.0).rvs(size=100) # The random variable X\n",
    "Y = sp.stats.norm(loc=0.0, scale=1.0).rvs(size=100) # The random variable Y\n",
    "X_plus_Y = X + Y        # The random variable X + Y\n",
    "                        # Add the random value in X with the random value in Y\n",
    "plt.hist(X, label='X')\n",
    "plt.hist(X_plus_Y, alpha=0.2, label='X + Y')\n",
    "plt.legend()"
   ]
  },
  {
   "cell_type": "markdown",
   "id": "bde8342b",
   "metadata": {},
   "source": [
    "### Aside: Monte Carlo Expectation\n",
    "\n",
    "- How might we make an expectation computational?\n",
    "- In particular, what if we don't know how to evaluate the integrals?\n",
    "- We can use a computational method called **Monte Carlo** integration which approximates the integral.\n",
    "\n",
    "$$\n",
    "\\mathbb{E}(f(X)) \\approx \\frac{1}{N}\\sum_{i=1}^N f(x_i)\n",
    "$$\n",
    "where each $x_i$ is drawn **independently and identically** (iid) from the distribution $F_X(c)$ and $f$ is some arbitrary function."
   ]
  },
  {
   "cell_type": "code",
   "execution_count": 7,
   "id": "57cdddf1",
   "metadata": {},
   "outputs": [
    {
     "data": {
      "text/plain": [
       "0.015644949517072546"
      ]
     },
     "execution_count": 7,
     "metadata": {},
     "output_type": "execute_result"
    }
   ],
   "source": [
    "def monte_carlo_expectation(dist, N, f):\n",
    "    Xs = dist.rvs(size=N)\n",
    "    Xs = np.array([f(x) for x in Xs])\n",
    "    return Xs.sum() / N\n",
    "\n",
    "dist = sp.stats.norm(loc=0.0, scale=1.0)        # Creating a normal distribution centered at 0\n",
    "monte_carlo_expectation(dist, 100, lambda x: x) # Expecting somewhere around 0.0"
   ]
  },
  {
   "cell_type": "code",
   "execution_count": 8,
   "id": "b4d540ce",
   "metadata": {},
   "outputs": [
    {
     "data": {
      "text/plain": [
       "Text(0.5, 1.0, 'Behavior of Monte Carlo Expectation as a Function of N')"
      ]
     },
     "execution_count": 8,
     "metadata": {},
     "output_type": "execute_result"
    },
    {
     "data": {
      "image/png": "[encoded data removed]",
      "text/plain": [
       "<Figure size 432x288 with 1 Axes>"
      ]
     },
     "metadata": {
      "needs_background": "light"
     },
     "output_type": "display_data"
    }
   ],
   "source": [
    "es = [monte_carlo_expectation(sp.stats.norm(loc=0, scale=1.0), N, lambda x: x) for N in range(10, 1010, 100)]\n",
    "plt.scatter(range(10, 1010, 100), es)\n",
    "plt.xlabel('N')\n",
    "plt.ylabel('Expectation (should be 0)')\n",
    "plt.title('Behavior of Monte Carlo Expectation as a Function of N')"
   ]
  },
  {
   "cell_type": "code",
   "execution_count": 9,
   "id": "d73ff691",
   "metadata": {},
   "outputs": [
    {
     "data": {
      "text/plain": [
       "Text(0.5, 1.0, 'Behavior of Monte Carlo Expectation as a Function of scale')"
      ]
     },
     "execution_count": 9,
     "metadata": {},
     "output_type": "execute_result"
    },
    {
     "data": {
      "image/png": "[encoded data removed]",
      "text/plain": [
       "<Figure size 432x288 with 1 Axes>"
      ]
     },
     "metadata": {
      "needs_background": "light"
     },
     "output_type": "display_data"
    }
   ],
   "source": [
    "es = [monte_carlo_expectation(sp.stats.norm(loc=0, scale=scale), 1000, lambda x: x) for scale in np.linspace(1.0, 10.0)]\n",
    "plt.scatter(np.linspace(1.0, 10.0), es)\n",
    "plt.xlabel('N')\n",
    "plt.ylabel('Expectation (should be 0)')\n",
    "plt.title('Behavior of Monte Carlo Expectation as a Function of scale')"
   ]
  },
  {
   "cell_type": "markdown",
   "id": "65df711c",
   "metadata": {},
   "source": [
    "### Summary\n",
    "\n",
    "You may have observed that the Monte Carlo estimate is affected by at least two factors.\n",
    "1. First, larger $N$ decreases the spread between how far the estimate is away from its true value.\n",
    "2. Second, the larger the scale of normal distribution, the larger the spread between the estimate and its true value.\n",
    "\n",
    "This notion of \"spread\" is captured mathematically with the concept of **variance**."
   ]
  },
  {
   "cell_type": "markdown",
   "id": "065b3526",
   "metadata": {},
   "source": [
    "### Definition: Variance\n",
    "\n",
    "The variance is defined as below and captures the deviation of a random variable from it's mean.\n",
    "\n",
    "\\begin{align*}\n",
    "Var(X) & = \\mathbb{E}(X - \\mathbb{E}(X))^2 \\tag{definition} \\\\\n",
    "& = \\mathbb{E}(X^2 - 2X\\mathbb{E}(X) + (\\mathbb{E}(X))^2) \\tag{distributivity} \\\\\n",
    "& = \\mathbb{E}(X^2) - 2\\mathbb{E}(X)\\mathbb{E}(X) + \\mathbb{E}(X))^2 \\tag{linearity of expectation} \\\\\n",
    "& = \\mathbb{E}(X^2) - \\mathbb{E}(X)^2 \\tag{simplification}\n",
    "\\end{align*}"
   ]
  },
  {
   "cell_type": "code",
   "execution_count": 10,
   "id": "e1569f24",
   "metadata": {},
   "outputs": [
    {
     "data": {
      "text/plain": [
       "Text(0.5, 1.0, 'Variance of Normal Distribution')"
      ]
     },
     "execution_count": 10,
     "metadata": {},
     "output_type": "execute_result"
    },
    {
     "data": {
      "image/png": "[encoded data removed]",
      "text/plain": [
       "<Figure size 432x288 with 1 Axes>"
      ]
     },
     "metadata": {
      "needs_background": "light"
     },
     "output_type": "display_data"
    }
   ],
   "source": [
    "plt.hist(sp.stats.norm(loc=0.0, scale=1.0).rvs(size=100), label='Variance = 1.0')\n",
    "plt.hist(sp.stats.norm(loc=0.0, scale=2.0).rvs(size=100), label='Variance = 4.0', alpha=0.8)\n",
    "plt.hist(sp.stats.norm(loc=0.0, scale=3.0).rvs(size=100), label='Variance = 9.0', alpha=0.6)\n",
    "plt.legend()\n",
    "plt.title('Variance of Normal Distribution')"
   ]
  },
  {
   "cell_type": "code",
   "execution_count": 11,
   "id": "df1baafb",
   "metadata": {},
   "outputs": [
    {
     "data": {
      "text/plain": [
       "1.0051245393097097"
      ]
     },
     "execution_count": 11,
     "metadata": {},
     "output_type": "execute_result"
    }
   ],
   "source": [
    "def estimate_variance(dist, N):\n",
    "    second_moment = monte_carlo_expectation(dist, N, lambda x: x**2)\n",
    "    mean_squared = monte_carlo_expectation(dist, N, lambda x: x)**2\n",
    "    return second_moment - mean_squared\n",
    "\n",
    "# Monte carlo estimate of variance of normal distribution\n",
    "dist = sp.stats.norm(loc=0.0, scale=1.0)\n",
    "estimate_variance(dist, 1000)"
   ]
  },
  {
   "cell_type": "markdown",
   "id": "b773a484",
   "metadata": {},
   "source": [
    "#### Property: Variance is not linear\n",
    "\n",
    "\\begin{align*}\n",
    "Var(aX) & = \\mathbb{E}((aX)^2) - \\mathbb{E}(aX)^2 \\tag{definition} \\\\\n",
    "& = a^2\\mathbb{E}(X^2) - a^2\\mathbb{E}(X)^2 \\tag{linearity of expectation} \\\\\n",
    "& = a^2 Var(x) \\tag{simplification}\n",
    "\\end{align*}"
   ]
  },
  {
   "cell_type": "markdown",
   "id": "4fdc6e5f",
   "metadata": {},
   "source": [
    "### Summary\n",
    "\n",
    "1. The idea of expectation is key to probability and machine learning.\n",
    "2. Importantly, expectation is linear!\n",
    "3. Expectation can be estimated numerically with Monte Carlo integration with some error.\n",
    "4. Concepts such as variance are built out of expectation.\n",
    "5. Variance is not linear!"
   ]
  },
  {
   "cell_type": "markdown",
   "id": "9060c7b5",
   "metadata": {},
   "source": [
    "## Multivariate Normal Distribution\n",
    "\n",
    "1. A multi-dimensional generalization of the normal distribution.\n",
    "2. A very important multi-dimensional distribution to understand as it is used extensively in probabilistic machine learning.\n",
    "3. It contains many ideas from linear algebra and probability that we will try to highlight.\n",
    "4. If I had to choose one probability distribution to study, it would be this one."
   ]
  },
  {
   "cell_type": "markdown",
   "id": "113e168b",
   "metadata": {},
   "source": [
    "### Definition: Multivariate Normal Distribution\n",
    "\n",
    "A **multivariate normal** distribution is notated $\\mathcal{N}(\\mu, \\Sigma)$, and is parameterized by a $D$-dimensional mean vector $\\mu$ and a $D \\times D$ **covariance matrix** $\\Sigma$. We'll introduce covariance matrices shortly, but let's start with a sampling view.\n",
    "\n",
    "$$\n",
    "X \\sim \\mathcal{N}(\\mu, \\Sigma)\n",
    "$$\n",
    "where produces $X$ which is a $D$-dimensional random vector."
   ]
  },
  {
   "cell_type": "code",
   "execution_count": 12,
   "id": "720c32ba",
   "metadata": {},
   "outputs": [
    {
     "name": "stdout",
     "output_type": "stream",
     "text": [
      "mu: \n",
      " [0. 0.]\n",
      "sigma: \n",
      " [[1. 0.]\n",
      " [0. 1.]]\n"
     ]
    },
    {
     "data": {
      "text/plain": [
       "array([1.04321966, 0.93725528])"
      ]
     },
     "execution_count": 12,
     "metadata": {},
     "output_type": "execute_result"
    }
   ],
   "source": [
    "# mean at 0, 0\n",
    "D = 2\n",
    "mu = np.zeros(D)\n",
    "print(\"mu: \\n\",mu)\n",
    "# let's use a 2x2 identity matrix as a covariance matrix\n",
    "sigma = np.eye(D)\n",
    "print(\"sigma: \\n\", sigma)\n",
    "# 2-D multivariate normal\n",
    "mvnorm = scipy.stats.multivariate_normal(mean=mu, cov=sigma)\n",
    "# 2-D samples\n",
    "mvnorm.rvs()"
   ]
  },
  {
   "cell_type": "code",
   "execution_count": 13,
   "id": "07b956b4",
   "metadata": {},
   "outputs": [
    {
     "data": {
      "text/plain": [
       "Text(0.5, 1.0, 'Samples from a Multivariate Normal')"
      ]
     },
     "execution_count": 13,
     "metadata": {},
     "output_type": "execute_result"
    },
    {
     "data": {
      "image/png": "[encoded data removed]",
      "text/plain": [
       "<Figure size 432x432 with 1 Axes>"
      ]
     },
     "metadata": {
      "needs_background": "light"
     },
     "output_type": "display_data"
    }
   ],
   "source": [
    "Xs = mvnorm.rvs(size=100)\n",
    "fig = plt.figure(figsize=(6,6))\n",
    "plt.scatter(Xs[:,0], Xs[:, 1])\n",
    "plt.xlim(-3, 3); plt.ylim(-3, 3)\n",
    "plt.xlabel('1st component'); plt.ylabel('2nd component');\n",
    "plt.title('Samples from a Multivariate Normal')"
   ]
  },
  {
   "cell_type": "markdown",
   "id": "b1560e7a",
   "metadata": {},
   "source": [
    "#### Definition: Sample Mean\n",
    "\n",
    "Suppose we have $N$ samples from a multivariate normal distribution $X_i$.\n",
    "The **sample mean** is defined as\n",
    "$$\n",
    "\\bar{\\mu} = \\frac{1}{N} \\sum_{i=1}^N X_i\n",
    "$$"
   ]
  },
  {
   "cell_type": "code",
   "execution_count": 14,
   "id": "82b77b98",
   "metadata": {},
   "outputs": [
    {
     "name": "stdout",
     "output_type": "stream",
     "text": [
      "Actual mean [0. 0.]\n",
      "Sample mean [-0.10611625  0.05759418]\n"
     ]
    }
   ],
   "source": [
    "def sample_mean(X: np.ndarray) -> np.ndarray:\n",
    "    return X.mean(axis=0)\n",
    "\n",
    "print(\"Actual mean\", mu)\n",
    "print(\"Sample mean\", sample_mean(Xs))"
   ]
  },
  {
   "cell_type": "code",
   "execution_count": 15,
   "id": "46541aba",
   "metadata": {},
   "outputs": [
    {
     "data": {
      "text/plain": [
       "<matplotlib.legend.Legend at 0x7fdcb06fb700>"
      ]
     },
     "execution_count": 15,
     "metadata": {},
     "output_type": "execute_result"
    },
    {
     "data": {
      "image/png": "[encoded data removed]",
      "text/plain": [
       "<Figure size 432x432 with 1 Axes>"
      ]
     },
     "metadata": {
      "needs_background": "light"
     },
     "output_type": "display_data"
    }
   ],
   "source": [
    "# Draw samples\n",
    "Xs = mvnorm.rvs(size=100)\n",
    "fig = plt.figure(figsize=(6,6))\n",
    "# Plot samples\n",
    "plt.scatter(Xs[:,0], Xs[:, 1], label='Samples', s=10)\n",
    "# Plot mean\n",
    "plt.scatter([sample_mean(Xs)[0]], [sample_mean(Xs)[1]], label='Mean')\n",
    "# Figure information\n",
    "plt.xlabel('1st component'); plt.ylabel('2nd component')\n",
    "plt.title('Sample Mean'); plt.legend()"
   ]
  },
  {
   "cell_type": "markdown",
   "id": "fad4a8dd",
   "metadata": {},
   "source": [
    "#### Property: Mean Shift\n",
    "\n",
    "Normal distributions have the nice property that\n",
    "$$\n",
    "X \\sim \\mathcal{N}(\\mu, \\Sigma)\n",
    "$$\n",
    "is equivalent to\n",
    "$$\n",
    "Y \\sim \\mathcal{N}(0, \\Sigma)\n",
    "X = Y + \\mu\n",
    "$$."
   ]
  },
  {
   "cell_type": "code",
   "execution_count": 16,
   "id": "d1c670ed",
   "metadata": {},
   "outputs": [],
   "source": [
    "mu2 = np.array([1.0, 2.0])\n",
    "# let's use an identity matrix as a covariance matrix\n",
    "sigma = np.array([[1.0, 0.0], [0.0, 1.0]])\n",
    "# 2-D multivariate normal\n",
    "mvnorm2 = scipy.stats.multivariate_normal(mean=mu2, cov=sigma)"
   ]
  },
  {
   "cell_type": "code",
   "execution_count": 17,
   "id": "4f593903",
   "metadata": {},
   "outputs": [
    {
     "data": {
      "text/plain": [
       "<matplotlib.legend.Legend at 0x7fdcb07e0ac0>"
      ]
     },
     "execution_count": 17,
     "metadata": {},
     "output_type": "execute_result"
    },
    {
     "data": {
      "image/png": "[encoded data removed]",
      "text/plain": [
       "<Figure size 432x432 with 1 Axes>"
      ]
     },
     "metadata": {
      "needs_background": "light"
     },
     "output_type": "display_data"
    }
   ],
   "source": [
    "# 2-D samples\n",
    "Xs2 = mvnorm2.rvs(size=100)\n",
    "Xs3 = Xs + mu2\n",
    "# Create figure\n",
    "fig = plt.figure(figsize=(6,6))\n",
    "# Plot original\n",
    "plt.scatter(Xs2[:,0], Xs2[:, 1], label='N(mu, Sigma)', s=10, )\n",
    "plt.scatter([sample_mean(Xs2)[0]], [sample_mean(Xs2)[1]], label='Mean')\n",
    "# Plot shifted\n",
    "plt.scatter(Xs3[:,0], Xs3[:, 1], label='N(0, Sigma) + mu', s=10)\n",
    "plt.scatter([sample_mean(Xs3)[0]], [sample_mean(Xs3)[1]], label='Shifted Mean')\n",
    "# Figure information\n",
    "plt.xlabel('1st component'); plt.ylabel('2nd component')\n",
    "plt.title('Sample Mean'); plt.legend()"
   ]
  },
  {
   "cell_type": "markdown",
   "id": "52293540",
   "metadata": {},
   "source": [
    "### What about \"covariance matrix\"?\n",
    "\n",
    "We'll need to introduce more probabilistic concepts and linear algebra to begin unpacking this term."
   ]
  },
  {
   "cell_type": "markdown",
   "id": "e6dec775",
   "metadata": {},
   "source": [
    "### Definition: Covariance\n",
    "\n",
    "The **covariance** between two random variables $X$ and $Y$ measures the linear dependence between two random variables.\n",
    "\n",
    "\\begin{align*}\n",
    "Cov(X, Y) & = \\mathbb{E}( (X - \\mathbb{E}(X))(Y - \\mathbb{E}(Y))) \\tag{definition} \\\\\n",
    "& = \\mathbb{E}( XY - Y\\mathbb{E}(X) - X\\mathbb{E}(Y) + (\\mathbb{E}(X))(\\mathbb{E}(Y)) ) \\tag{distributivity} \\\\\n",
    "& = \\mathbb{E}(XY) - \\mathbb{E}(Y)\\mathbb{E}(X) - \\mathbb{E}(X)\\mathbb{E}(Y) + (\\mathbb{E}(X))(\\mathbb{E}(Y)) ) \\tag{linearity of expectation} \\\\\n",
    "& = \\mathbb{E}(XY) - \\mathbb{E}(X)\\mathbb{E}(Y) \\tag{simplication}\n",
    "\\end{align*}\n",
    "\n",
    "The expectation is with respect to (w.r.t.) the joint distribution of $X$ and $Y$."
   ]
  },
  {
   "cell_type": "markdown",
   "id": "11131a87",
   "metadata": {},
   "source": [
    "#### Covariance's relationship with variance\n",
    "\n",
    "\\begin{align*}\n",
    "Cov(X, X) & = \\mathbb{E}(XX) - \\mathbb{E}(X)\\mathbb{E}(X) \\\\\n",
    "& = \\mathbb{E}(X^2) - \\mathbb{E}(X)^2 \\\\\n",
    "& = Var(X)\n",
    "\\end{align*}"
   ]
  },
  {
   "cell_type": "markdown",
   "id": "b24b7658",
   "metadata": {},
   "source": [
    "#### Definition: Covariance Matrix\n",
    "\n",
    "Let $X = (X_1 \\dots X_N)$ be a random vector. The **covariance matrix** is defined as\n",
    "\\begin{align*}\n",
    "Cov(X) & = \\mathbb{E}((X - \\mathbb{E}(X))(X - \\mathbb{E}(X))^T) \\\\\n",
    "& = \\begin{pmatrix}\n",
    "Cov(X_1, X_1) & \\dots & Cov(X_1, X_N) \\\\\n",
    "\\vdots & \\ddots & \\vdots \\\\\n",
    "Cov(X_N, X_1) & \\dots & Cov(X_N, X_N) \\\\\n",
    "\\end{pmatrix}\n",
    "\\end{align*}"
   ]
  },
  {
   "cell_type": "markdown",
   "id": "0624c7c6",
   "metadata": {},
   "source": [
    "#### Definition: Cross-Covariance\n",
    "\n",
    "Let $X = (X_1 \\dots X_N)$ and $Y = (Y_1 \\dots Y_N)$ be two random vectors.\n",
    "The **cross-covariance** is defined as\n",
    "\\begin{align*}\n",
    "Cov(X, Y) & = \\mathbb{E}((X - \\mathbb{E}(X))(Y - \\mathbb{E}(Y))^T) \\\\\n",
    "& = \\begin{pmatrix}\n",
    "Cov(X_1, Y_1) & \\dots & Cov(X_1, Y_N) \\\\\n",
    "\\vdots & \\ddots & \\vdots \\\\\n",
    "Cov(X_N, Y_1) & \\dots & Cov(X_N, Y_N) \\\\\n",
    "\\end{pmatrix}\n",
    "\\end{align*}\n",
    "\n",
    "There's a lot more to say about the covariance matrix. First, let's get back to sampling view."
   ]
  },
  {
   "cell_type": "markdown",
   "id": "960365ca",
   "metadata": {},
   "source": [
    "#### Definition: Sample Covariance\n",
    "\n",
    "Suppose the matrix contains all the samples centered with the sample mean as rows.\n",
    "$$\n",
    "X = \\begin{pmatrix}\n",
    "X_1 - \\bar{\\mu} \\\\\n",
    "\\vdots \\\\\n",
    "X_N - \\bar{\\mu}\n",
    "\\end{pmatrix}^{N \\times D}\n",
    "$$\n",
    "\n",
    "Then the **sample covariance** is defined as\n",
    "$$\n",
    "\\bar{\\Sigma} = \\frac{1}{N-1} X^T X\n",
    "$$"
   ]
  },
  {
   "cell_type": "code",
   "execution_count": 18,
   "id": "9624bbf5",
   "metadata": {},
   "outputs": [
    {
     "name": "stdout",
     "output_type": "stream",
     "text": [
      "Actual covariance\n",
      " [[1. 0.]\n",
      " [0. 1.]]\n",
      "Sample covariance\n",
      " [[1.11000494 0.00606583]\n",
      " [0.00606583 0.93224563]]\n"
     ]
    }
   ],
   "source": [
    "def sample_covariance(X: np.ndarray) -> np.ndarray:\n",
    "    return (X - X.mean(axis=0)).transpose() @ (X - X.mean(axis=0)) / (X.shape[0] - 1)\n",
    "\n",
    "print(\"Actual covariance\\n\", sigma)\n",
    "print(\"Sample covariance\\n\", sample_covariance(Xs))"
   ]
  },
  {
   "cell_type": "markdown",
   "id": "67b643f2",
   "metadata": {},
   "source": [
    "### Hermitian and Positive Semi-Definite Matrices\n",
    "\n",
    "A **covariance** matrix is a special kind of matrix. It has two special properties.\n",
    "1. It is an example of a **Hermitian** matrix, i.e., $\\Sigma^T = \\Sigma$.\n",
    "2. It is an example of a **positive semi-definite** matrix, i.e., $\\Sigma = A^TA$ for some matrix $A$."
   ]
  },
  {
   "cell_type": "markdown",
   "id": "5a1c6ab1",
   "metadata": {},
   "source": [
    "#### Property 1: Hermitian\n",
    "\n",
    "We need to check that the covariance is symmetric, i.e., $Cov(X, Y) = Cov(Y, X)$.\n",
    "\n",
    "\\begin{align*}\n",
    "Cov(X, Y) & = \\mathbb{E}(XY) - \\mathbb{E}(X)\\mathbb{E}(Y) \\tag{definition} \\\\\n",
    "& = \\mathbb{E}(YX) - \\mathbb{E}(Y)\\mathbb{E}(X) \\tag{commutativity of multiplication} \\\\\n",
    "& = Cov(Y, X) \\tag{definition}\n",
    "\\end{align*}"
   ]
  },
  {
   "cell_type": "markdown",
   "id": "e3df09c3",
   "metadata": {},
   "source": [
    "#### Property 2: Positive Semi-Definite\n",
    "\n",
    "Let's check an example first.\n",
    "\n",
    "$$\n",
    "\\begin{pmatrix}\n",
    "Cov(X_1, X_1) & Cov(X_1, X_2) \\\\\n",
    "Cov(X_2, X_1) & Cov(X_2, X_2)\n",
    "\\end{pmatrix}\n",
    "=\n",
    "\\begin{pmatrix}\n",
    "a & 0 \\\\\n",
    "b & c\n",
    "\\end{pmatrix}\n",
    "\\begin{pmatrix}\n",
    "a & b \\\\\n",
    "0 & c\n",
    "\\end{pmatrix}\n",
    "$$"
   ]
  },
  {
   "cell_type": "markdown",
   "id": "c2b594b6",
   "metadata": {},
   "source": [
    "#### Checking Property 2 in the 2x2 case\n",
    "\n",
    "Working out the matrix multiplication, we have\n",
    "\n",
    "\\begin{align*}\n",
    "Cov(X_1, X_1) & = a^2 \\\\\n",
    "Cov(X_1, X_2) & = ab \\\\\n",
    "Cov(X_2, X_2) & = b^2 + c^2 \\\\\n",
    "\\end{align*}\n",
    "\n",
    "Thus\n",
    "\\begin{align*}\n",
    "a & = \\sqrt{Cov(X_1, X_1)} \\\\\n",
    "b & = Cov(X_1, X_2) / a \\\\\n",
    "c & = \\sqrt{Cov(X_2, X_2) - b^2} \n",
    "\\end{align*}"
   ]
  },
  {
   "cell_type": "markdown",
   "id": "d1ac7ef8",
   "metadata": {},
   "source": [
    "#### Checking property 2 in the 2x2 case continued\n",
    "\n",
    "But wait, this only makes sense if\n",
    "$$\n",
    "Cov(X_2, X_2) \\geq b^2\n",
    "$$\n",
    "which occurs if and only if (iff)\n",
    "$$\n",
    "Cov(X_2, X_2) \\geq Cov(X_1, X_2)^2/Cov(X_1, X_1)\n",
    "$$\n",
    "iff\n",
    "$$\n",
    "Cov(X_1, X_2)^2 \\leq Cov(X_1, X_1) Cov(X_2, X_2)\n",
    "$$\n",
    "iff\n",
    "$$\n",
    "|Cov(X_1, X_2)|^2 \\leq Var(X_1) Var(X_2)\n",
    "$$\n",
    "iff\n",
    "$$\n",
    "|\\mathbb{E}((X_1 - \\mu_{X_1})(X_2 - \\mu_{X_2})|^2 \\leq \\mathbb{E}((X_1 - \\mu_{X_1})^2)\\mathbb{E}((X_2 - \\mu_{X_2})^2)\n",
    "$$\n",
    "iff\n",
    "$$\n",
    "|\\mathbb{E}(Z_1 Z_2)|^2 \\leq \\mathbb{E}(Z_1^2)\\mathbb{E}(Z_2^2)\n",
    "$$\n",
    "where $Z_1 = X_1 - \\mu_{X_1}$ and $Z_2 = X_2 - \\mu_{X_2}$."
   ]
  },
  {
   "cell_type": "markdown",
   "id": "4c5e3d7d",
   "metadata": {},
   "source": [
    "### Enter the Cauchy-Schwarz Inequality\n",
    "\n",
    "The inequality \n",
    "$$\n",
    "|\\mathbb{E}(Z_1 Z_2)|^2 \\leq \\mathbb{E}(Z_1^2)\\mathbb{E}(Z_2^2)\n",
    "$$\n",
    "is known as the **Cauchy-Schwarz Inequality**.\n",
    "\n",
    "To unpack this, we'll need some definitions."
   ]
  },
  {
   "cell_type": "markdown",
   "id": "207004f6",
   "metadata": {},
   "source": [
    "#### Definition: Inner product \n",
    "\n",
    "An inner product $\\langle \\cdot, \\cdot \\rangle: V \\times V \\rightarrow \\mathbb{R}$ on a real-valued vector space is a function such that\n",
    "1. symmetric: $\\langle x, y \\rangle = \\langle y, x \\rangle$\n",
    "2. linear in first argument: $\\langle ax + by, z \\rangle = a\\langle x, z \\rangle b\\langle y, z \\rangle$\n",
    "3. positive semi-definite: $\\langle x, x \\rangle > 0$ whenever $X$ is not $0$"
   ]
  },
  {
   "cell_type": "markdown",
   "id": "2a8b67a5",
   "metadata": {},
   "source": [
    "#### Cauchy-Schwarz on Vector Spaces\n",
    "\n",
    "For a general vector space $V$ and inner product $\\langle \\cdot, \\cdot \\rangle: V \\times V \\rightarrow \\mathbb{R}$ (e.g., the dot product) we have that the **Cauchy-Schwarz inequality** holds:\n",
    "$$\n",
    "|\\langle x, y \\rangle|^2 \\leq \\langle x, x \\rangle \\langle y, y \\rangle\n",
    "$$"
   ]
  },
  {
   "cell_type": "markdown",
   "id": "70a2f38f",
   "metadata": {},
   "source": [
    "#### Example: Inner product on Random Variables as a Vector Space\n",
    "\n",
    "Define $\\langle X, Y \\rangle = \\mathbb{E}(XY)$. We need to check that it is\n",
    "1. Symmetric: $\\mathbb{E}(XY) = \\mathbb{E}(YX)$. Yes.\n",
    "2. Linear in first argument: $\\mathbb{E}((aX + bY)Z) = \\mathbb{E}(aXZ + bYZ) = a\\mathbb{E}(XZ) + b\\mathbb{E}(YZ)$. Yes.\n",
    "3. Positive definite: $\\mathbb{E}(X^2) > 0$ whenever $X$ is not constant $0$. Yes."
   ]
  },
  {
   "cell_type": "markdown",
   "id": "a78e516f",
   "metadata": {},
   "source": [
    "#### Summary\n",
    "\n",
    "1. We wanted to show that the covariance matrix is positive-semi definite in the 2x2 case.\n",
    "2. We did some linear algebra and ran into the Cauchy-Schwarz inequality.\n",
    "3. This inequality is defined on vector spaces and gives one application of interpreting random variables as a vector space"
   ]
  },
  {
   "cell_type": "markdown",
   "id": "ce37be38",
   "metadata": {},
   "source": [
    "### Definition: Correlation\n",
    "\n",
    "Let's look at the inequality\n",
    "$$\n",
    "|Cov(X_1, X_2)|^2 \\leq Var(X_1) Var(X_2)\n",
    "$$\n",
    "again. We can rewrite this as\n",
    "$$\n",
    "-1 \\leq \\frac{Cov(X_1, X_2)}{\\sqrt{Var(X_1) Var(X_2)}} \\leq 1 \\,.\n",
    "$$\n",
    "The quantity in the middle called the **correlation**:\n",
    "$$\n",
    "\\rho(X_1, X_2) = \\frac{Cov(X_1, X_2)}{\\sqrt{Var(X_1) Var(X_2)}} \\,.\n",
    "$$\n",
    "Correlation is a \"unitless\" version of covariance, and Cauchy-Schwarz shows that it is bounded between -1 and 1."
   ]
  },
  {
   "cell_type": "markdown",
   "id": "015b9b30",
   "metadata": {},
   "source": [
    "#### Property 2: DxD case\n",
    "\n",
    "We can generalize to the $D \\times D$ case by induction on $D$."
   ]
  },
  {
   "cell_type": "markdown",
   "id": "0f02d345",
   "metadata": {},
   "source": [
    "### Cholesky Decomposition\n",
    "\n",
    "The \"strategy\" we took above highlights an important matrix factorization of covariance matrices called **Cholesky Decomposition**.\n",
    "\n",
    "Every symetric and positive semi-definite matrix $P$ can be factored into\n",
    "$$\n",
    "P = LL^T\n",
    "$$\n",
    "where $L$ is a lower-triangular matrix, i.e., all the entries in the top right triangle are $0$."
   ]
  },
  {
   "cell_type": "markdown",
   "id": "9e10510f",
   "metadata": {},
   "source": [
    "#### Application 1: Cholesky decomposition applied to sample covariance"
   ]
  },
  {
   "cell_type": "code",
   "execution_count": 18,
   "id": "b3bb1732",
   "metadata": {},
   "outputs": [
    {
     "data": {
      "text/plain": [
       "<matplotlib.legend.Legend at 0x1555530a0>"
      ]
     },
     "execution_count": 18,
     "metadata": {},
     "output_type": "execute_result"
    },
    {
     "data": {
      "image/png": "[encoded data removed]",
      "text/plain": [
       "<Figure size 432x432 with 1 Axes>"
      ]
     },
     "metadata": {
      "needs_background": "light"
     },
     "output_type": "display_data"
    }
   ],
   "source": [
    "# Recall our draws from the multivariate Normal distribution\n",
    "fig = plt.figure(figsize=(6,6))\n",
    "plt.scatter(Xs[:,0], Xs[:, 1], label='Samples', s=10)\n",
    "plt.scatter([sample_mean(Xs)[0]], [sample_mean(Xs)[1]], label='Mean')\n",
    "plt.xlabel('1st component'); plt.ylabel('2nd component')\n",
    "plt.title('Samples'); plt.legend()"
   ]
  },
  {
   "cell_type": "code",
   "execution_count": 19,
   "id": "c30a60fd",
   "metadata": {},
   "outputs": [
    {
     "name": "stdout",
     "output_type": "stream",
     "text": [
      "Sample covariance [[0.94735591 0.18601659]\n",
      " [0.18601659 1.14397438]]\n"
     ]
    }
   ],
   "source": [
    "# recall the sample covariance\n",
    "A = sample_covariance(Xs)\n",
    "print(\"Sample covariance\", A)"
   ]
  },
  {
   "cell_type": "code",
   "execution_count": 20,
   "id": "edd998ef",
   "metadata": {},
   "outputs": [
    {
     "data": {
      "text/plain": [
       "array([[0.9733221 , 0.        ],\n",
       "       [0.19111514, 1.05235421]])"
      ]
     },
     "execution_count": 20,
     "metadata": {},
     "output_type": "execute_result"
    }
   ],
   "source": [
    "# Applying the Cholesky decomposition to the sample covariance matrix\n",
    "L = np.linalg.cholesky(A)\n",
    "L"
   ]
  },
  {
   "cell_type": "code",
   "execution_count": 21,
   "id": "df757bdc",
   "metadata": {},
   "outputs": [
    {
     "data": {
      "text/plain": [
       "(array([[0.94735591, 0.18601659],\n",
       "        [0.18601659, 1.14397438]]),\n",
       " array([[0.94735591, 0.18601659],\n",
       "        [0.18601659, 1.14397438]]))"
      ]
     },
     "execution_count": 21,
     "metadata": {},
     "output_type": "execute_result"
    }
   ],
   "source": [
    "L @ L.transpose(), A"
   ]
  },
  {
   "cell_type": "markdown",
   "id": "4a3aeb2a",
   "metadata": {},
   "source": [
    "#### Application 2: Cholesky decomposition applied to covariance matrix of multivariate normal\n",
    "\n",
    "We were applying the Cholesky decomposition to the covariance matrix in the 2x2 case.\n",
    "\\begin{align*}\n",
    "a & = \\sqrt{Cov(X_1, X_1)} \\\\\n",
    "b & = Cov(X_1, X_2) / a \\\\\n",
    "c & = \\sqrt{Cov(X_2, X_2) - b^2} \n",
    "\\end{align*}"
   ]
  },
  {
   "cell_type": "code",
   "execution_count": 22,
   "id": "59b398db",
   "metadata": {},
   "outputs": [
    {
     "name": "stdout",
     "output_type": "stream",
     "text": [
      "Checking 2x2 case: a\n"
     ]
    },
    {
     "data": {
      "text/plain": [
       "(0.9733220977493454, 0.9733220977493454)"
      ]
     },
     "execution_count": 22,
     "metadata": {},
     "output_type": "execute_result"
    }
   ],
   "source": [
    "print(\"Checking 2x2 case: a\")\n",
    "np.sqrt(A[0, 0]), L[0, 0]"
   ]
  },
  {
   "cell_type": "code",
   "execution_count": 23,
   "id": "4104e475",
   "metadata": {},
   "outputs": [
    {
     "name": "stdout",
     "output_type": "stream",
     "text": [
      "Checking 2x2 case: b\n"
     ]
    },
    {
     "data": {
      "text/plain": [
       "(0.19111513871039262, 0.19111513871039262)"
      ]
     },
     "execution_count": 23,
     "metadata": {},
     "output_type": "execute_result"
    }
   ],
   "source": [
    "print(\"Checking 2x2 case: b\")\n",
    "A[1, 0] / np.sqrt(A[0, 0]), L[1, 0]"
   ]
  },
  {
   "cell_type": "code",
   "execution_count": 24,
   "id": "51ef5f69",
   "metadata": {},
   "outputs": [
    {
     "name": "stdout",
     "output_type": "stream",
     "text": [
      "Checking 2x2 case: c\n"
     ]
    },
    {
     "data": {
      "text/plain": [
       "(1.052354209707843, 1.052354209707843)"
      ]
     },
     "execution_count": 24,
     "metadata": {},
     "output_type": "execute_result"
    }
   ],
   "source": [
    "print(\"Checking 2x2 case: c\")\n",
    "np.sqrt(A[1, 1] - L[1, 0]**2), L[1, 1]"
   ]
  },
  {
   "cell_type": "markdown",
   "id": "2d415d9c",
   "metadata": {},
   "source": [
    "#### Application 3: Sampling from a Multivariate Normal\n",
    "\n",
    "Normal distributions have the nice property that\n",
    "$$\n",
    "X \\sim \\mathcal{N}(0, \\Sigma)\n",
    "$$\n",
    "is equivalent to\n",
    "\\begin{align*}\n",
    "Z & \\sim \\mathcal{N}(0, I) \\\\\n",
    "Y & = LZ\n",
    "\\end{align*}\n",
    "where $\\Sigma = LL^T$."
   ]
  },
  {
   "cell_type": "markdown",
   "id": "edac8036",
   "metadata": {},
   "source": [
    "#### Why does this work?\n",
    "\n",
    "\\begin{align*}\n",
    "Cov(Y) & = L Cov(Z) L^T \\tag{covariance of linear transformation} \\\\\n",
    " & = L I L^T \\\\\n",
    " & = L L^T \\\\\n",
    " & = \\Sigma \\\\\n",
    " & = Cov(X)\n",
    "\\end{align*}"
   ]
  },
  {
   "cell_type": "code",
   "execution_count": 25,
   "id": "e09b07eb",
   "metadata": {},
   "outputs": [
    {
     "data": {
      "text/plain": [
       "array([[0.238705  , 0.17458479],\n",
       "       [0.17458479, 1.08752466]])"
      ]
     },
     "execution_count": 25,
     "metadata": {},
     "output_type": "execute_result"
    }
   ],
   "source": [
    "# Create a matrix following Cholesky decomposition\n",
    "L = np.array([[sp.stats.norm().rvs(), 0.0], [sp.stats.norm().rvs(), sp.stats.norm().rvs()]])\n",
    "A = L @ L.transpose()\n",
    "A"
   ]
  },
  {
   "cell_type": "code",
   "execution_count": 26,
   "id": "3a441449",
   "metadata": {},
   "outputs": [
    {
     "data": {
      "text/plain": [
       "array([[0.48857445, 0.        ],\n",
       "       [0.35733507, 0.97971236]])"
      ]
     },
     "execution_count": 26,
     "metadata": {},
     "output_type": "execute_result"
    }
   ],
   "source": [
    "L2 = np.linalg.cholesky(A)\n",
    "L2"
   ]
  },
  {
   "cell_type": "code",
   "execution_count": 27,
   "id": "84ad74be",
   "metadata": {},
   "outputs": [
    {
     "data": {
      "text/plain": [
       "(array([[0.238705  , 0.17458479],\n",
       "        [0.17458479, 1.08752466]]),\n",
       " array([[0.238705  , 0.17458479],\n",
       "        [0.17458479, 1.08752466]]))"
      ]
     },
     "execution_count": 27,
     "metadata": {},
     "output_type": "execute_result"
    }
   ],
   "source": [
    "# Ntoice that the factorization is not unique\n",
    "L @ L.transpose(), L2 @ L2.transpose()"
   ]
  },
  {
   "cell_type": "code",
   "execution_count": 28,
   "id": "6f464d5c",
   "metadata": {},
   "outputs": [
    {
     "name": "stdout",
     "output_type": "stream",
     "text": [
      "Sample covariance 1 [[0.29747419 0.27918798]\n",
      " [0.27918798 1.05460793]]\n",
      "Sample covariance 2 [[0.23127815 0.20717324]\n",
      " [0.20717324 1.01041051]]\n"
     ]
    },
    {
     "data": {
      "text/plain": [
       "<matplotlib.legend.Legend at 0x1555cbd60>"
      ]
     },
     "execution_count": 28,
     "metadata": {},
     "output_type": "execute_result"
    },
    {
     "data": {
      "image/png": "[encoded data removed]",
      "text/plain": [
       "<Figure size 432x432 with 1 Axes>"
      ]
     },
     "metadata": {
      "needs_background": "light"
     },
     "output_type": "display_data"
    }
   ],
   "source": [
    "# Sample first normal distribution\n",
    "mvnorm1 = scipy.stats.multivariate_normal(mean=np.zeros(2), cov=A)\n",
    "Xs1 = mvnorm1.rvs(size=100)\n",
    "print(\"Sample covariance 1\", sample_covariance(Xs1))\n",
    "\n",
    "# Sample second normal distribution\n",
    "mvnorm2 = scipy.stats.multivariate_normal(mean=np.zeros(2), cov=np.eye(2))\n",
    "Xs2 = np.array([L2 @ x for x in mvnorm2.rvs(size=100)])\n",
    "print(\"Sample covariance 2\", sample_covariance(Xs2))\n",
    "\n",
    "# Plot the distribution\n",
    "fig = plt.figure(figsize=(6,6))\n",
    "plt.scatter(Xs1[:,0], Xs1[:, 1], label='Sigma', s=10)\n",
    "plt.scatter(Xs2[:,0], Xs2[:, 1], label='Cholesky', s=10)\n",
    "plt.xlim(-6, 6); plt.ylim(-6, 6)\n",
    "plt.xlabel('1st component'); plt.ylabel('2nd component')\n",
    "plt.title('Sampling from a Multivariate Normal with Cholesky')\n",
    "plt.legend()"
   ]
  },
  {
   "cell_type": "markdown",
   "id": "91b6c155",
   "metadata": {},
   "source": [
    "#### Summary\n",
    "\n",
    "1. Given a centered multivariate matrix of data points\n",
    "$$\n",
    "X = \\begin{pmatrix}\n",
    "X_1 - \\bar{\\mu} \\\\\n",
    "\\vdots \\\\\n",
    "X_N - \\bar{\\mu}\n",
    "\\end{pmatrix}^{N \\times D}\n",
    "$$\n",
    "we can construct a sample covariance matrix.\n",
    "2. This covariance matrix is symmetric and positive semi-definite.\n",
    "3. We can thus apply Cholesky decomposition to factor this matrix.\n",
    "4. Along the way, we encountered important concepts such as Cauchy-Shwarz inequality and correlation.\n",
    "5. Cholesky decomposition can be used to generate samples from a multivariate normal distribution with identity covariance matrix."
   ]
  },
  {
   "cell_type": "markdown",
   "id": "32717fcd",
   "metadata": {},
   "source": [
    "### Eigenvalue Decomposition\n",
    "\n",
    "1. The Cholesky decomposition gives one way to factorize a covariance matrix.\n",
    "2. We might wonder if it's possible to further simplify the description of a covariance matrix.\n",
    "3. Eigenvalue decomposition is one way to do this."
   ]
  },
  {
   "cell_type": "markdown",
   "id": "b670eb70",
   "metadata": {},
   "source": [
    "#### Definition: Eigenvalues and Eigenvectors\n",
    "\n",
    "An **eigenvector** and **eigenvalue** of a matrix $A$ is any non-zero vector $x$ and scalar $\\lambda$ such that\n",
    "$$\n",
    "Ax = \\lambda x \\,.\n",
    "$$\n",
    "\n",
    "In words, an eigenvector of a linear transformation is one where it does not change it's direction."
   ]
  },
  {
   "cell_type": "markdown",
   "id": "d12851b7",
   "metadata": {},
   "source": [
    "### Definition: Eigendecomposition\n",
    "\n",
    "A matrix is said to have an **eigendecomposition** if it can be written as\n",
    "$$\n",
    "\\Sigma = \\begin{pmatrix}\n",
    "| & \\vdots & | \\\\\n",
    "u_1 & \\dots & u_n \\\\\n",
    "| & \\vdots & |\n",
    "\\end{pmatrix}\n",
    "\\begin{pmatrix}\n",
    "\\lambda_1 & \\dots & 0 \\\\\n",
    "0 & \\dots & 0 \\\\\n",
    "0 & 0 & \\lambda_n \\\\\n",
    "\\end{pmatrix}\n",
    "\\begin{pmatrix}\n",
    "| & \\vdots & | \\\\\n",
    "u_1 & \\dots & u_n \\\\\n",
    "| & \\vdots & |\n",
    "\\end{pmatrix}^{-1}\n",
    "$$\n",
    "where each $u_i$ and $\\lambda_i$ is an eigenvector and eigenvalue respectively."
   ]
  },
  {
   "cell_type": "markdown",
   "id": "0f66afaa",
   "metadata": {},
   "source": [
    "#### Properties: Covariance matrix eigen decomposition\n",
    "\n",
    "1. All $\\lambda_i$ are distinct and positive.\n",
    "2. All $u_i$ are orthogonal."
   ]
  },
  {
   "cell_type": "code",
   "execution_count": 29,
   "id": "4110cc92",
   "metadata": {},
   "outputs": [
    {
     "data": {
      "text/plain": [
       "(array([0.37893533, 1.56274356]),\n",
       " array([[-0.99713975,  0.07557995],\n",
       "        [-0.07557995, -0.99713975]]))"
      ]
     },
     "execution_count": 29,
     "metadata": {},
     "output_type": "execute_result"
    }
   ],
   "source": [
    "# Create a matrix following Cholesky decomposition\n",
    "def random_2x2_covariance():\n",
    "    L = np.array([[sp.stats.norm().rvs(), 0.0], [sp.stats.norm().rvs(), sp.stats.norm().rvs()]])\n",
    "    return L @ L.transpose()\n",
    "A = random_2x2_covariance()\n",
    "eigvals, eigvecs = np.linalg.eig(A)\n",
    "eigvals, eigvecs # all positive"
   ]
  },
  {
   "cell_type": "code",
   "execution_count": 30,
   "id": "34f90af6",
   "metadata": {},
   "outputs": [
    {
     "data": {
      "text/plain": [
       "(array([[ 0.38569763, -0.08921625],\n",
       "        [-0.08921625,  1.55598125]]),\n",
       " array([[ 0.38569763, -0.08921625],\n",
       "        [-0.08921625,  1.55598125]]))"
      ]
     },
     "execution_count": 30,
     "metadata": {},
     "output_type": "execute_result"
    }
   ],
   "source": [
    "eigvecs @ np.diag(eigvals) @ np.linalg.inv(eigvecs), A"
   ]
  },
  {
   "cell_type": "code",
   "execution_count": 31,
   "id": "ea97b057",
   "metadata": {},
   "outputs": [
    {
     "data": {
      "text/plain": [
       "8.335493373897034e-19"
      ]
     },
     "execution_count": 31,
     "metadata": {},
     "output_type": "execute_result"
    }
   ],
   "source": [
    "# Orthogonal\n",
    "np.dot(eigvecs[:,0], eigvecs[:,1])"
   ]
  },
  {
   "cell_type": "markdown",
   "id": "b30d5b00",
   "metadata": {},
   "source": [
    "#### Definition: Unitary Matrix\n",
    "\n",
    "A square matrix $U$ is called **unitary** if\n",
    "$$\n",
    "U^{-1} = U^T \\,.\n",
    "$$"
   ]
  },
  {
   "cell_type": "markdown",
   "id": "ff27fbd6",
   "metadata": {},
   "source": [
    "#### Property: the matrix of eigenvectors is unitary\n",
    "\n",
    "$$\n",
    "\\begin{pmatrix}\n",
    "- & u_1^T & - \\\\\n",
    "- & \\dots & - \\\\\n",
    "- & u_n^T & -\n",
    "\\end{pmatrix}\n",
    "\\begin{pmatrix}\n",
    "| & \\vdots & | \\\\\n",
    "u_1 & \\dots & u_n \\\\\n",
    "| & \\vdots & |\n",
    "\\end{pmatrix} = \n",
    "\\begin{pmatrix}\n",
    "1 & \\dots & 0 \\\\\n",
    "0 & \\dots & 0 \\\\\n",
    "0 & \\dots & 1 \\\\\n",
    "\\end{pmatrix}\n",
    "$$\n",
    "\n",
    "1. Clearly $u_i^T u_i = 1$.\n",
    "2. Since eigenvectors are orthogonal, $u_i^T u_j = 0$ for distinct $i$ and $j$.\n",
    "3. Thus the transpose of the matrix is it's inverse."
   ]
  },
  {
   "cell_type": "code",
   "execution_count": 32,
   "id": "ff28448d",
   "metadata": {},
   "outputs": [
    {
     "data": {
      "text/plain": [
       "(array([[-0.99713975, -0.07557995],\n",
       "        [ 0.07557995, -0.99713975]]),\n",
       " array([[-0.99713975, -0.07557995],\n",
       "        [ 0.07557995, -0.99713975]]))"
      ]
     },
     "execution_count": 32,
     "metadata": {},
     "output_type": "execute_result"
    }
   ],
   "source": [
    "np.linalg.inv(eigvecs), eigvecs.transpose()"
   ]
  },
  {
   "cell_type": "code",
   "execution_count": 33,
   "id": "8e58f884",
   "metadata": {},
   "outputs": [
    {
     "data": {
      "text/plain": [
       "8.335493373897034e-19"
      ]
     },
     "execution_count": 33,
     "metadata": {},
     "output_type": "execute_result"
    }
   ],
   "source": [
    "np.dot(eigvecs[:,0], eigvecs[:,1])"
   ]
  },
  {
   "cell_type": "markdown",
   "id": "b8101a67",
   "metadata": {},
   "source": [
    "#### So what?\n",
    "\n",
    "Every covariance matrix $\\Sigma$ can be rewritten as\n",
    "\\begin{align*}\n",
    "\\Sigma & = U\\Lambda U^T \\tag{eigendecomposition} \\\\\n",
    " & = U\\sqrt{\\Lambda}\\sqrt{\\Lambda}U^T \\tag{diagonal matrix multiplication} \\\\\n",
    " & = U\\sqrt{\\Lambda}\\sqrt{\\Lambda}^TU^T \\tag{diagonal is own transpose}\\\\\n",
    " & = (U\\sqrt{\\Lambda})(U\\sqrt{\\Lambda})^T \\tag{transpose}\n",
    "\\end{align*}\n",
    "\n",
    "1. Note that $\\sqrt{\\Lambda}$ is a diagonal matrix, so it can only scale vectors.\n",
    "2. Recall that $U$ is unitary.\n",
    "    - In particular, $(Ux)^T(Uy) = x^TU^TUy = x^T U^{-1}Uy = x^T y$.\n",
    "    - This means that unitary matrices preserves the angles between vectors.\n",
    "    - In other words, a unitary matrix is a \"rotation\".\n",
    "3. So a covariance matrix gives us a stretch (the eigenvalue part) followed by a rotation (the eigenvector part)"
   ]
  },
  {
   "cell_type": "code",
   "execution_count": 34,
   "id": "18b90741",
   "metadata": {},
   "outputs": [
    {
     "data": {
      "text/plain": [
       "Text(0.5, 1.0, 'Principal Directions')"
      ]
     },
     "execution_count": 34,
     "metadata": {},
     "output_type": "execute_result"
    },
    {
     "data": {
      "image/png": "[encoded data removed]",
      "text/plain": [
       "<Figure size 432x432 with 1 Axes>"
      ]
     },
     "metadata": {
      "needs_background": "light"
     },
     "output_type": "display_data"
    }
   ],
   "source": [
    "fig = plt.figure(figsize=(6,6))\n",
    "plt.scatter(Xs[:,0], Xs[:, 1], label='Samples', s=10)\n",
    "plt.xlabel('1st component'); plt.ylabel('2nd component')\n",
    "origin = np.array([[0, 0],[0, 0]]) # origin point\n",
    "plt.quiver(*origin, eigvecs[0,:], eigvecs[1,:], angles='xy', scale_units='xy', color=['r', 'g', 'b'], scale=1, label='columns')\n",
    "plt.xlim(-2, 2); plt.ylim(-2, 2); plt.legend()\n",
    "plt.title('Principal Directions')"
   ]
  },
  {
   "cell_type": "markdown",
   "id": "2ae638e0",
   "metadata": {},
   "source": [
    "### Multivariate Normal PDF\n",
    "\n",
    "Now we'll finally introduce the pdf for the multivariate normal. The pdf of a multivariate normal is\n",
    "$$\n",
    "p_X(x) = \\frac{1}{(2\\pi)^{D/2}\\sqrt{|\\Sigma|}}\\exp^{-(x - \\mu)^T \\Sigma^{-1} (x - \\mu)/2}\n",
    "$$\n",
    "where $|\\Sigma|$ is the **determinant** of a matrix and $D$ is the dimension of $x$ and $\\mu$."
   ]
  },
  {
   "cell_type": "markdown",
   "id": "213108af",
   "metadata": {},
   "source": [
    "#### Aside: Determinant\n",
    "\n",
    "1. There's a lot that can be said about determinants.\n",
    "2. For our purposes, it's good enough to think about the determinant of a matrix as the \"volume\" of the parallelpiped created from the matrix columns as elements.\n",
    "3. For example, the identity matrix\n",
    "$$\n",
    "\\begin{pmatrix}\n",
    "2 & 0 \\\\\n",
    "0 & 3 \\\\\n",
    "\\end{pmatrix}\n",
    "$$\n",
    "has determinant 6 because the parallelpiped with sides $(2 \\, 0)$ and $(0 \\, 3)$ creates a square with volume 6.\n",
    "4. The determinant of a **diagonal matrix** is thus the product of the elements on the diagonal, i.e.,\n",
    "$$\n",
    "\\left| \\begin{pmatrix}\n",
    "a_1 & \\dots & 0 \\\\\n",
    "0 & \\ddots & 0 \\\\\n",
    "0 & \\dots & a_D \\\\\n",
    "\\end{pmatrix} \\right| = \\prod_{d=1}^D a_d\n",
    "$$\n",
    "5. The determinant has the following nice properties\n",
    "$$\n",
    "|AB| = |A| |B| \\,.\n",
    "$$ and\n",
    "$$\n",
    "|A^{-1}| = |A|^{-1}\n",
    "$$\n",
    "This property can be used to compute determinants in practice.\n",
    "6. The determinant of an invertible matrix is non-zero, i.e., $A^{-1}$ exists iff $|A| \\neq 0$."
   ]
  },
  {
   "cell_type": "code",
   "execution_count": 35,
   "id": "f8f735a1",
   "metadata": {},
   "outputs": [
    {
     "data": {
      "text/plain": [
       "6.0"
      ]
     },
     "execution_count": 35,
     "metadata": {},
     "output_type": "execute_result"
    }
   ],
   "source": [
    "sp.linalg.det(np.array([[2.0, 0.0], [0.0, 3.0]]))"
   ]
  },
  {
   "cell_type": "code",
   "execution_count": 36,
   "id": "67cad02d",
   "metadata": {},
   "outputs": [
    {
     "data": {
      "text/plain": [
       "8.0"
      ]
     },
     "execution_count": 36,
     "metadata": {},
     "output_type": "execute_result"
    }
   ],
   "source": [
    "sp.linalg.det(np.array([[2.0, 2.0], [-1.0, 3.0]]))"
   ]
  },
  {
   "cell_type": "code",
   "execution_count": 37,
   "id": "e08faaa7",
   "metadata": {},
   "outputs": [
    {
     "data": {
      "text/plain": [
       "48.0"
      ]
     },
     "execution_count": 37,
     "metadata": {},
     "output_type": "execute_result"
    }
   ],
   "source": [
    "sp.linalg.det(np.array([[2.0, 0.0], [0.0, 3.0]]) @ np.array([[2.0, 2.0], [-1.0, 3.0]]))"
   ]
  },
  {
   "cell_type": "code",
   "execution_count": 38,
   "id": "a446ce9a",
   "metadata": {},
   "outputs": [
    {
     "data": {
      "application/javascript": [
       "/* Put everything inside the global mpl namespace */\n",
       "/* global mpl */\n",
       "window.mpl = {};\n",
       "\n",
       "mpl.get_websocket_type = function () {\n",
       "    if (typeof WebSocket !== 'undefined') {\n",
       "        return WebSocket;\n",
       "    } else if (typeof MozWebSocket !== 'undefined') {\n",
       "        return MozWebSocket;\n",
       "    } else {\n",
       "        alert(\n",
       "            'Your browser does not have WebSocket support. ' +\n",
       "                'Please try Chrome, Safari or Firefox ≥ 6. ' +\n",
       "                'Firefox 4 and 5 are also supported but you ' +\n",
       "                'have to enable WebSockets in about:config.'\n",
       "        );\n",
       "    }\n",
       "};\n",
       "\n",
       "mpl.figure = function (figure_id, websocket, ondownload, parent_element) {\n",
       "    this.id = figure_id;\n",
       "\n",
       "    this.ws = websocket;\n",
       "\n",
       "    this.supports_binary = this.ws.binaryType !== undefined;\n",
       "\n",
       "    if (!this.supports_binary) {\n",
       "        var warnings = document.getElementById('mpl-warnings');\n",
       "        if (warnings) {\n",
       "            warnings.style.display = 'block';\n",
       "            warnings.textContent =\n",
       "                'This browser does not support binary websocket messages. ' +\n",
       "                'Performance may be slow.';\n",
       "        }\n",
       "    }\n",
       "\n",
       "    this.imageObj = new Image();\n",
       "\n",
       "    this.context = undefined;\n",
       "    this.message = undefined;\n",
       "    this.canvas = undefined;\n",
       "    this.rubberband_canvas = undefined;\n",
       "    this.rubberband_context = undefined;\n",
       "    this.format_dropdown = undefined;\n",
       "\n",
       "    this.image_mode = 'full';\n",
       "\n",
       "    this.root = document.createElement('div');\n",
       "    this.root.setAttribute('style', 'display: inline-block');\n",
       "    this._root_extra_style(this.root);\n",
       "\n",
       "    parent_element.appendChild(this.root);\n",
       "\n",
       "    this._init_header(this);\n",
       "    this._init_canvas(this);\n",
       "    this._init_toolbar(this);\n",
       "\n",
       "    var fig = this;\n",
       "\n",
       "    this.waiting = false;\n",
       "\n",
       "    this.ws.onopen = function () {\n",
       "        fig.send_message('supports_binary', { value: fig.supports_binary });\n",
       "        fig.send_message('send_image_mode', {});\n",
       "        if (fig.ratio !== 1) {\n",
       "            fig.send_message('set_dpi_ratio', { dpi_ratio: fig.ratio });\n",
       "        }\n",
       "        fig.send_message('refresh', {});\n",
       "    };\n",
       "\n",
       "    this.imageObj.onload = function () {\n",
       "        if (fig.image_mode === 'full') {\n",
       "            // Full images could contain transparency (where diff images\n",
       "            // almost always do), so we need to clear the canvas so that\n",
       "            // there is no ghosting.\n",
       "            fig.context.clearRect(0, 0, fig.canvas.width, fig.canvas.height);\n",
       "        }\n",
       "        fig.context.drawImage(fig.imageObj, 0, 0);\n",
       "    };\n",
       "\n",
       "    this.imageObj.onunload = function () {\n",
       "        fig.ws.close();\n",
       "    };\n",
       "\n",
       "    this.ws.onmessage = this._make_on_message_function(this);\n",
       "\n",
       "    this.ondownload = ondownload;\n",
       "};\n",
       "\n",
       "mpl.figure.prototype._init_header = function () {\n",
       "    var titlebar = document.createElement('div');\n",
       "    titlebar.classList =\n",
       "        'ui-dialog-titlebar ui-widget-header ui-corner-all ui-helper-clearfix';\n",
       "    var titletext = document.createElement('div');\n",
       "    titletext.classList = 'ui-dialog-title';\n",
       "    titletext.setAttribute(\n",
       "        'style',\n",
       "        'width: 100%; text-align: center; padding: 3px;'\n",
       "    );\n",
       "    titlebar.appendChild(titletext);\n",
       "    this.root.appendChild(titlebar);\n",
       "    this.header = titletext;\n",
       "};\n",
       "\n",
       "mpl.figure.prototype._canvas_extra_style = function (_canvas_div) {};\n",
       "\n",
       "mpl.figure.prototype._root_extra_style = function (_canvas_div) {};\n",
       "\n",
       "mpl.figure.prototype._init_canvas = function () {\n",
       "    var fig = this;\n",
       "\n",
       "    var canvas_div = (this.canvas_div = document.createElement('div'));\n",
       "    canvas_div.setAttribute(\n",
       "        'style',\n",
       "        'border: 1px solid #ddd;' +\n",
       "            'box-sizing: content-box;' +\n",
       "            'clear: both;' +\n",
       "            'min-height: 1px;' +\n",
       "            'min-width: 1px;' +\n",
       "            'outline: 0;' +\n",
       "            'overflow: hidden;' +\n",
       "            'position: relative;' +\n",
       "            'resize: both;'\n",
       "    );\n",
       "\n",
       "    function on_keyboard_event_closure(name) {\n",
       "        return function (event) {\n",
       "            return fig.key_event(event, name);\n",
       "        };\n",
       "    }\n",
       "\n",
       "    canvas_div.addEventListener(\n",
       "        'keydown',\n",
       "        on_keyboard_event_closure('key_press')\n",
       "    );\n",
       "    canvas_div.addEventListener(\n",
       "        'keyup',\n",
       "        on_keyboard_event_closure('key_release')\n",
       "    );\n",
       "\n",
       "    this._canvas_extra_style(canvas_div);\n",
       "    this.root.appendChild(canvas_div);\n",
       "\n",
       "    var canvas = (this.canvas = document.createElement('canvas'));\n",
       "    canvas.classList.add('mpl-canvas');\n",
       "    canvas.setAttribute('style', 'box-sizing: content-box;');\n",
       "\n",
       "    this.context = canvas.getContext('2d');\n",
       "\n",
       "    var backingStore =\n",
       "        this.context.backingStorePixelRatio ||\n",
       "        this.context.webkitBackingStorePixelRatio ||\n",
       "        this.context.mozBackingStorePixelRatio ||\n",
       "        this.context.msBackingStorePixelRatio ||\n",
       "        this.context.oBackingStorePixelRatio ||\n",
       "        this.context.backingStorePixelRatio ||\n",
       "        1;\n",
       "\n",
       "    this.ratio = (window.devicePixelRatio || 1) / backingStore;\n",
       "\n",
       "    var rubberband_canvas = (this.rubberband_canvas = document.createElement(\n",
       "        'canvas'\n",
       "    ));\n",
       "    rubberband_canvas.setAttribute(\n",
       "        'style',\n",
       "        'box-sizing: content-box; position: absolute; left: 0; top: 0; z-index: 1;'\n",
       "    );\n",
       "\n",
       "    // Apply a ponyfill if ResizeObserver is not implemented by browser.\n",
       "    if (this.ResizeObserver === undefined) {\n",
       "        if (window.ResizeObserver !== undefined) {\n",
       "            this.ResizeObserver = window.ResizeObserver;\n",
       "        } else {\n",
       "            var obs = _JSXTOOLS_RESIZE_OBSERVER({});\n",
       "            this.ResizeObserver = obs.ResizeObserver;\n",
       "        }\n",
       "    }\n",
       "\n",
       "    this.resizeObserverInstance = new this.ResizeObserver(function (entries) {\n",
       "        var nentries = entries.length;\n",
       "        for (var i = 0; i < nentries; i++) {\n",
       "            var entry = entries[i];\n",
       "            var width, height;\n",
       "            if (entry.contentBoxSize) {\n",
       "                if (entry.contentBoxSize instanceof Array) {\n",
       "                    // Chrome 84 implements new version of spec.\n",
       "                    width = entry.contentBoxSize[0].inlineSize;\n",
       "                    height = entry.contentBoxSize[0].blockSize;\n",
       "                } else {\n",
       "                    // Firefox implements old version of spec.\n",
       "                    width = entry.contentBoxSize.inlineSize;\n",
       "                    height = entry.contentBoxSize.blockSize;\n",
       "                }\n",
       "            } else {\n",
       "                // Chrome <84 implements even older version of spec.\n",
       "                width = entry.contentRect.width;\n",
       "                height = entry.contentRect.height;\n",
       "            }\n",
       "\n",
       "            // Keep the size of the canvas and rubber band canvas in sync with\n",
       "            // the canvas container.\n",
       "            if (entry.devicePixelContentBoxSize) {\n",
       "                // Chrome 84 implements new version of spec.\n",
       "                canvas.setAttribute(\n",
       "                    'width',\n",
       "                    entry.devicePixelContentBoxSize[0].inlineSize\n",
       "                );\n",
       "                canvas.setAttribute(\n",
       "                    'height',\n",
       "                    entry.devicePixelContentBoxSize[0].blockSize\n",
       "                );\n",
       "            } else {\n",
       "                canvas.setAttribute('width', width * fig.ratio);\n",
       "                canvas.setAttribute('height', height * fig.ratio);\n",
       "            }\n",
       "            canvas.setAttribute(\n",
       "                'style',\n",
       "                'width: ' + width + 'px; height: ' + height + 'px;'\n",
       "            );\n",
       "\n",
       "            rubberband_canvas.setAttribute('width', width);\n",
       "            rubberband_canvas.setAttribute('height', height);\n",
       "\n",
       "            // And update the size in Python. We ignore the initial 0/0 size\n",
       "            // that occurs as the element is placed into the DOM, which should\n",
       "            // otherwise not happen due to the minimum size styling.\n",
       "            if (fig.ws.readyState == 1 && width != 0 && height != 0) {\n",
       "                fig.request_resize(width, height);\n",
       "            }\n",
       "        }\n",
       "    });\n",
       "    this.resizeObserverInstance.observe(canvas_div);\n",
       "\n",
       "    function on_mouse_event_closure(name) {\n",
       "        return function (event) {\n",
       "            return fig.mouse_event(event, name);\n",
       "        };\n",
       "    }\n",
       "\n",
       "    rubberband_canvas.addEventListener(\n",
       "        'mousedown',\n",
       "        on_mouse_event_closure('button_press')\n",
       "    );\n",
       "    rubberband_canvas.addEventListener(\n",
       "        'mouseup',\n",
       "        on_mouse_event_closure('button_release')\n",
       "    );\n",
       "    rubberband_canvas.addEventListener(\n",
       "        'dblclick',\n",
       "        on_mouse_event_closure('dblclick')\n",
       "    );\n",
       "    // Throttle sequential mouse events to 1 every 20ms.\n",
       "    rubberband_canvas.addEventListener(\n",
       "        'mousemove',\n",
       "        on_mouse_event_closure('motion_notify')\n",
       "    );\n",
       "\n",
       "    rubberband_canvas.addEventListener(\n",
       "        'mouseenter',\n",
       "        on_mouse_event_closure('figure_enter')\n",
       "    );\n",
       "    rubberband_canvas.addEventListener(\n",
       "        'mouseleave',\n",
       "        on_mouse_event_closure('figure_leave')\n",
       "    );\n",
       "\n",
       "    canvas_div.addEventListener('wheel', function (event) {\n",
       "        if (event.deltaY < 0) {\n",
       "            event.step = 1;\n",
       "        } else {\n",
       "            event.step = -1;\n",
       "        }\n",
       "        on_mouse_event_closure('scroll')(event);\n",
       "    });\n",
       "\n",
       "    canvas_div.appendChild(canvas);\n",
       "    canvas_div.appendChild(rubberband_canvas);\n",
       "\n",
       "    this.rubberband_context = rubberband_canvas.getContext('2d');\n",
       "    this.rubberband_context.strokeStyle = '#000000';\n",
       "\n",
       "    this._resize_canvas = function (width, height, forward) {\n",
       "        if (forward) {\n",
       "            canvas_div.style.width = width + 'px';\n",
       "            canvas_div.style.height = height + 'px';\n",
       "        }\n",
       "    };\n",
       "\n",
       "    // Disable right mouse context menu.\n",
       "    this.rubberband_canvas.addEventListener('contextmenu', function (_e) {\n",
       "        event.preventDefault();\n",
       "        return false;\n",
       "    });\n",
       "\n",
       "    function set_focus() {\n",
       "        canvas.focus();\n",
       "        canvas_div.focus();\n",
       "    }\n",
       "\n",
       "    window.setTimeout(set_focus, 100);\n",
       "};\n",
       "\n",
       "mpl.figure.prototype._init_toolbar = function () {\n",
       "    var fig = this;\n",
       "\n",
       "    var toolbar = document.createElement('div');\n",
       "    toolbar.classList = 'mpl-toolbar';\n",
       "    this.root.appendChild(toolbar);\n",
       "\n",
       "    function on_click_closure(name) {\n",
       "        return function (_event) {\n",
       "            return fig.toolbar_button_onclick(name);\n",
       "        };\n",
       "    }\n",
       "\n",
       "    function on_mouseover_closure(tooltip) {\n",
       "        return function (event) {\n",
       "            if (!event.currentTarget.disabled) {\n",
       "                return fig.toolbar_button_onmouseover(tooltip);\n",
       "            }\n",
       "        };\n",
       "    }\n",
       "\n",
       "    fig.buttons = {};\n",
       "    var buttonGroup = document.createElement('div');\n",
       "    buttonGroup.classList = 'mpl-button-group';\n",
       "    for (var toolbar_ind in mpl.toolbar_items) {\n",
       "        var name = mpl.toolbar_items[toolbar_ind][0];\n",
       "        var tooltip = mpl.toolbar_items[toolbar_ind][1];\n",
       "        var image = mpl.toolbar_items[toolbar_ind][2];\n",
       "        var method_name = mpl.toolbar_items[toolbar_ind][3];\n",
       "\n",
       "        if (!name) {\n",
       "            /* Instead of a spacer, we start a new button group. */\n",
       "            if (buttonGroup.hasChildNodes()) {\n",
       "                toolbar.appendChild(buttonGroup);\n",
       "            }\n",
       "            buttonGroup = document.createElement('div');\n",
       "            buttonGroup.classList = 'mpl-button-group';\n",
       "            continue;\n",
       "        }\n",
       "\n",
       "        var button = (fig.buttons[name] = document.createElement('button'));\n",
       "        button.classList = 'mpl-widget';\n",
       "        button.setAttribute('role', 'button');\n",
       "        button.setAttribute('aria-disabled', 'false');\n",
       "        button.addEventListener('click', on_click_closure(method_name));\n",
       "        button.addEventListener('mouseover', on_mouseover_closure(tooltip));\n",
       "\n",
       "        var icon_img = document.createElement('img');\n",
       "        icon_img.src = '_images/' + image + '.png';\n",
       "        icon_img.srcset = '_images/' + image + '_large.png 2x';\n",
       "        icon_img.alt = tooltip;\n",
       "        button.appendChild(icon_img);\n",
       "\n",
       "        buttonGroup.appendChild(button);\n",
       "    }\n",
       "\n",
       "    if (buttonGroup.hasChildNodes()) {\n",
       "        toolbar.appendChild(buttonGroup);\n",
       "    }\n",
       "\n",
       "    var fmt_picker = document.createElement('select');\n",
       "    fmt_picker.classList = 'mpl-widget';\n",
       "    toolbar.appendChild(fmt_picker);\n",
       "    this.format_dropdown = fmt_picker;\n",
       "\n",
       "    for (var ind in mpl.extensions) {\n",
       "        var fmt = mpl.extensions[ind];\n",
       "        var option = document.createElement('option');\n",
       "        option.selected = fmt === mpl.default_extension;\n",
       "        option.innerHTML = fmt;\n",
       "        fmt_picker.appendChild(option);\n",
       "    }\n",
       "\n",
       "    var status_bar = document.createElement('span');\n",
       "    status_bar.classList = 'mpl-message';\n",
       "    toolbar.appendChild(status_bar);\n",
       "    this.message = status_bar;\n",
       "};\n",
       "\n",
       "mpl.figure.prototype.request_resize = function (x_pixels, y_pixels) {\n",
       "    // Request matplotlib to resize the figure. Matplotlib will then trigger a resize in the client,\n",
       "    // which will in turn request a refresh of the image.\n",
       "    this.send_message('resize', { width: x_pixels, height: y_pixels });\n",
       "};\n",
       "\n",
       "mpl.figure.prototype.send_message = function (type, properties) {\n",
       "    properties['type'] = type;\n",
       "    properties['figure_id'] = this.id;\n",
       "    this.ws.send(JSON.stringify(properties));\n",
       "};\n",
       "\n",
       "mpl.figure.prototype.send_draw_message = function () {\n",
       "    if (!this.waiting) {\n",
       "        this.waiting = true;\n",
       "        this.ws.send(JSON.stringify({ type: 'draw', figure_id: this.id }));\n",
       "    }\n",
       "};\n",
       "\n",
       "mpl.figure.prototype.handle_save = function (fig, _msg) {\n",
       "    var format_dropdown = fig.format_dropdown;\n",
       "    var format = format_dropdown.options[format_dropdown.selectedIndex].value;\n",
       "    fig.ondownload(fig, format);\n",
       "};\n",
       "\n",
       "mpl.figure.prototype.handle_resize = function (fig, msg) {\n",
       "    var size = msg['size'];\n",
       "    if (size[0] !== fig.canvas.width || size[1] !== fig.canvas.height) {\n",
       "        fig._resize_canvas(size[0], size[1], msg['forward']);\n",
       "        fig.send_message('refresh', {});\n",
       "    }\n",
       "};\n",
       "\n",
       "mpl.figure.prototype.handle_rubberband = function (fig, msg) {\n",
       "    var x0 = msg['x0'] / fig.ratio;\n",
       "    var y0 = (fig.canvas.height - msg['y0']) / fig.ratio;\n",
       "    var x1 = msg['x1'] / fig.ratio;\n",
       "    var y1 = (fig.canvas.height - msg['y1']) / fig.ratio;\n",
       "    x0 = Math.floor(x0) + 0.5;\n",
       "    y0 = Math.floor(y0) + 0.5;\n",
       "    x1 = Math.floor(x1) + 0.5;\n",
       "    y1 = Math.floor(y1) + 0.5;\n",
       "    var min_x = Math.min(x0, x1);\n",
       "    var min_y = Math.min(y0, y1);\n",
       "    var width = Math.abs(x1 - x0);\n",
       "    var height = Math.abs(y1 - y0);\n",
       "\n",
       "    fig.rubberband_context.clearRect(\n",
       "        0,\n",
       "        0,\n",
       "        fig.canvas.width / fig.ratio,\n",
       "        fig.canvas.height / fig.ratio\n",
       "    );\n",
       "\n",
       "    fig.rubberband_context.strokeRect(min_x, min_y, width, height);\n",
       "};\n",
       "\n",
       "mpl.figure.prototype.handle_figure_label = function (fig, msg) {\n",
       "    // Updates the figure title.\n",
       "    fig.header.textContent = msg['label'];\n",
       "};\n",
       "\n",
       "mpl.figure.prototype.handle_cursor = function (fig, msg) {\n",
       "    var cursor = msg['cursor'];\n",
       "    switch (cursor) {\n",
       "        case 0:\n",
       "            cursor = 'pointer';\n",
       "            break;\n",
       "        case 1:\n",
       "            cursor = 'default';\n",
       "            break;\n",
       "        case 2:\n",
       "            cursor = 'crosshair';\n",
       "            break;\n",
       "        case 3:\n",
       "            cursor = 'move';\n",
       "            break;\n",
       "    }\n",
       "    fig.rubberband_canvas.style.cursor = cursor;\n",
       "};\n",
       "\n",
       "mpl.figure.prototype.handle_message = function (fig, msg) {\n",
       "    fig.message.textContent = msg['message'];\n",
       "};\n",
       "\n",
       "mpl.figure.prototype.handle_draw = function (fig, _msg) {\n",
       "    // Request the server to send over a new figure.\n",
       "    fig.send_draw_message();\n",
       "};\n",
       "\n",
       "mpl.figure.prototype.handle_image_mode = function (fig, msg) {\n",
       "    fig.image_mode = msg['mode'];\n",
       "};\n",
       "\n",
       "mpl.figure.prototype.handle_history_buttons = function (fig, msg) {\n",
       "    for (var key in msg) {\n",
       "        if (!(key in fig.buttons)) {\n",
       "            continue;\n",
       "        }\n",
       "        fig.buttons[key].disabled = !msg[key];\n",
       "        fig.buttons[key].setAttribute('aria-disabled', !msg[key]);\n",
       "    }\n",
       "};\n",
       "\n",
       "mpl.figure.prototype.handle_navigate_mode = function (fig, msg) {\n",
       "    if (msg['mode'] === 'PAN') {\n",
       "        fig.buttons['Pan'].classList.add('active');\n",
       "        fig.buttons['Zoom'].classList.remove('active');\n",
       "    } else if (msg['mode'] === 'ZOOM') {\n",
       "        fig.buttons['Pan'].classList.remove('active');\n",
       "        fig.buttons['Zoom'].classList.add('active');\n",
       "    } else {\n",
       "        fig.buttons['Pan'].classList.remove('active');\n",
       "        fig.buttons['Zoom'].classList.remove('active');\n",
       "    }\n",
       "};\n",
       "\n",
       "mpl.figure.prototype.updated_canvas_event = function () {\n",
       "    // Called whenever the canvas gets updated.\n",
       "    this.send_message('ack', {});\n",
       "};\n",
       "\n",
       "// A function to construct a web socket function for onmessage handling.\n",
       "// Called in the figure constructor.\n",
       "mpl.figure.prototype._make_on_message_function = function (fig) {\n",
       "    return function socket_on_message(evt) {\n",
       "        if (evt.data instanceof Blob) {\n",
       "            var img = evt.data;\n",
       "            if (img.type !== 'image/png') {\n",
       "                /* FIXME: We get \"Resource interpreted as Image but\n",
       "                 * transferred with MIME type text/plain:\" errors on\n",
       "                 * Chrome.  But how to set the MIME type?  It doesn't seem\n",
       "                 * to be part of the websocket stream */\n",
       "                img.type = 'image/png';\n",
       "            }\n",
       "\n",
       "            /* Free the memory for the previous frames */\n",
       "            if (fig.imageObj.src) {\n",
       "                (window.URL || window.webkitURL).revokeObjectURL(\n",
       "                    fig.imageObj.src\n",
       "                );\n",
       "            }\n",
       "\n",
       "            fig.imageObj.src = (window.URL || window.webkitURL).createObjectURL(\n",
       "                img\n",
       "            );\n",
       "            fig.updated_canvas_event();\n",
       "            fig.waiting = false;\n",
       "            return;\n",
       "        } else if (\n",
       "            typeof evt.data === 'string' &&\n",
       "            evt.data.slice(0, 21) === 'data:image/png;base64'\n",
       "        ) {\n",
       "            fig.imageObj.src = evt.data;\n",
       "            fig.updated_canvas_event();\n",
       "            fig.waiting = false;\n",
       "            return;\n",
       "        }\n",
       "\n",
       "        var msg = JSON.parse(evt.data);\n",
       "        var msg_type = msg['type'];\n",
       "\n",
       "        // Call the  \"handle_{type}\" callback, which takes\n",
       "        // the figure and JSON message as its only arguments.\n",
       "        try {\n",
       "            var callback = fig['handle_' + msg_type];\n",
       "        } catch (e) {\n",
       "            console.log(\n",
       "                \"No handler for the '\" + msg_type + \"' message type: \",\n",
       "                msg\n",
       "            );\n",
       "            return;\n",
       "        }\n",
       "\n",
       "        if (callback) {\n",
       "            try {\n",
       "                // console.log(\"Handling '\" + msg_type + \"' message: \", msg);\n",
       "                callback(fig, msg);\n",
       "            } catch (e) {\n",
       "                console.log(\n",
       "                    \"Exception inside the 'handler_\" + msg_type + \"' callback:\",\n",
       "                    e,\n",
       "                    e.stack,\n",
       "                    msg\n",
       "                );\n",
       "            }\n",
       "        }\n",
       "    };\n",
       "};\n",
       "\n",
       "// from http://stackoverflow.com/questions/1114465/getting-mouse-location-in-canvas\n",
       "mpl.findpos = function (e) {\n",
       "    //this section is from http://www.quirksmode.org/js/events_properties.html\n",
       "    var targ;\n",
       "    if (!e) {\n",
       "        e = window.event;\n",
       "    }\n",
       "    if (e.target) {\n",
       "        targ = e.target;\n",
       "    } else if (e.srcElement) {\n",
       "        targ = e.srcElement;\n",
       "    }\n",
       "    if (targ.nodeType === 3) {\n",
       "        // defeat Safari bug\n",
       "        targ = targ.parentNode;\n",
       "    }\n",
       "\n",
       "    // pageX,Y are the mouse positions relative to the document\n",
       "    var boundingRect = targ.getBoundingClientRect();\n",
       "    var x = e.pageX - (boundingRect.left + document.body.scrollLeft);\n",
       "    var y = e.pageY - (boundingRect.top + document.body.scrollTop);\n",
       "\n",
       "    return { x: x, y: y };\n",
       "};\n",
       "\n",
       "/*\n",
       " * return a copy of an object with only non-object keys\n",
       " * we need this to avoid circular references\n",
       " * http://stackoverflow.com/a/24161582/3208463\n",
       " */\n",
       "function simpleKeys(original) {\n",
       "    return Object.keys(original).reduce(function (obj, key) {\n",
       "        if (typeof original[key] !== 'object') {\n",
       "            obj[key] = original[key];\n",
       "        }\n",
       "        return obj;\n",
       "    }, {});\n",
       "}\n",
       "\n",
       "mpl.figure.prototype.mouse_event = function (event, name) {\n",
       "    var canvas_pos = mpl.findpos(event);\n",
       "\n",
       "    if (name === 'button_press') {\n",
       "        this.canvas.focus();\n",
       "        this.canvas_div.focus();\n",
       "    }\n",
       "\n",
       "    var x = canvas_pos.x * this.ratio;\n",
       "    var y = canvas_pos.y * this.ratio;\n",
       "\n",
       "    this.send_message(name, {\n",
       "        x: x,\n",
       "        y: y,\n",
       "        button: event.button,\n",
       "        step: event.step,\n",
       "        guiEvent: simpleKeys(event),\n",
       "    });\n",
       "\n",
       "    /* This prevents the web browser from automatically changing to\n",
       "     * the text insertion cursor when the button is pressed.  We want\n",
       "     * to control all of the cursor setting manually through the\n",
       "     * 'cursor' event from matplotlib */\n",
       "    event.preventDefault();\n",
       "    return false;\n",
       "};\n",
       "\n",
       "mpl.figure.prototype._key_event_extra = function (_event, _name) {\n",
       "    // Handle any extra behaviour associated with a key event\n",
       "};\n",
       "\n",
       "mpl.figure.prototype.key_event = function (event, name) {\n",
       "    // Prevent repeat events\n",
       "    if (name === 'key_press') {\n",
       "        if (event.key === this._key) {\n",
       "            return;\n",
       "        } else {\n",
       "            this._key = event.key;\n",
       "        }\n",
       "    }\n",
       "    if (name === 'key_release') {\n",
       "        this._key = null;\n",
       "    }\n",
       "\n",
       "    var value = '';\n",
       "    if (event.ctrlKey && event.key !== 'Control') {\n",
       "        value += 'ctrl+';\n",
       "    }\n",
       "    else if (event.altKey && event.key !== 'Alt') {\n",
       "        value += 'alt+';\n",
       "    }\n",
       "    else if (event.shiftKey && event.key !== 'Shift') {\n",
       "        value += 'shift+';\n",
       "    }\n",
       "\n",
       "    value += 'k' + event.key;\n",
       "\n",
       "    this._key_event_extra(event, name);\n",
       "\n",
       "    this.send_message(name, { key: value, guiEvent: simpleKeys(event) });\n",
       "    return false;\n",
       "};\n",
       "\n",
       "mpl.figure.prototype.toolbar_button_onclick = function (name) {\n",
       "    if (name === 'download') {\n",
       "        this.handle_save(this, null);\n",
       "    } else {\n",
       "        this.send_message('toolbar_button', { name: name });\n",
       "    }\n",
       "};\n",
       "\n",
       "mpl.figure.prototype.toolbar_button_onmouseover = function (tooltip) {\n",
       "    this.message.textContent = tooltip;\n",
       "};\n",
       "\n",
       "///////////////// REMAINING CONTENT GENERATED BY embed_js.py /////////////////\n",
       "// prettier-ignore\n",
       "var _JSXTOOLS_RESIZE_OBSERVER=function(A){var t,i=new WeakMap,n=new WeakMap,a=new WeakMap,r=new WeakMap,o=new Set;function s(e){if(!(this instanceof s))throw new TypeError(\"Constructor requires 'new' operator\");i.set(this,e)}function h(){throw new TypeError(\"Function is not a constructor\")}function c(e,t,i,n){e=0 in arguments?Number(arguments[0]):0,t=1 in arguments?Number(arguments[1]):0,i=2 in arguments?Number(arguments[2]):0,n=3 in arguments?Number(arguments[3]):0,this.right=(this.x=this.left=e)+(this.width=i),this.bottom=(this.y=this.top=t)+(this.height=n),Object.freeze(this)}function d(){t=requestAnimationFrame(d);var s=new WeakMap,p=new Set;o.forEach((function(t){r.get(t).forEach((function(i){var r=t instanceof window.SVGElement,o=a.get(t),d=r?0:parseFloat(o.paddingTop),f=r?0:parseFloat(o.paddingRight),l=r?0:parseFloat(o.paddingBottom),u=r?0:parseFloat(o.paddingLeft),g=r?0:parseFloat(o.borderTopWidth),m=r?0:parseFloat(o.borderRightWidth),w=r?0:parseFloat(o.borderBottomWidth),b=u+f,F=d+l,v=(r?0:parseFloat(o.borderLeftWidth))+m,W=g+w,y=r?0:t.offsetHeight-W-t.clientHeight,E=r?0:t.offsetWidth-v-t.clientWidth,R=b+v,z=F+W,M=r?t.width:parseFloat(o.width)-R-E,O=r?t.height:parseFloat(o.height)-z-y;if(n.has(t)){var k=n.get(t);if(k[0]===M&&k[1]===O)return}n.set(t,[M,O]);var S=Object.create(h.prototype);S.target=t,S.contentRect=new c(u,d,M,O),s.has(i)||(s.set(i,[]),p.add(i)),s.get(i).push(S)}))})),p.forEach((function(e){i.get(e).call(e,s.get(e),e)}))}return s.prototype.observe=function(i){if(i instanceof window.Element){r.has(i)||(r.set(i,new Set),o.add(i),a.set(i,window.getComputedStyle(i)));var n=r.get(i);n.has(this)||n.add(this),cancelAnimationFrame(t),t=requestAnimationFrame(d)}},s.prototype.unobserve=function(i){if(i instanceof window.Element&&r.has(i)){var n=r.get(i);n.has(this)&&(n.delete(this),n.size||(r.delete(i),o.delete(i))),n.size||r.delete(i),o.size||cancelAnimationFrame(t)}},A.DOMRectReadOnly=c,A.ResizeObserver=s,A.ResizeObserverEntry=h,A}; // eslint-disable-line\n",
       "mpl.toolbar_items = [[\"Home\", \"Reset original view\", \"fa fa-home icon-home\", \"home\"], [\"Back\", \"Back to previous view\", \"fa fa-arrow-left icon-arrow-left\", \"back\"], [\"Forward\", \"Forward to next view\", \"fa fa-arrow-right icon-arrow-right\", \"forward\"], [\"\", \"\", \"\", \"\"], [\"Pan\", \"Left button pans, Right button zooms\\nx/y fixes axis, CTRL fixes aspect\", \"fa fa-arrows icon-move\", \"pan\"], [\"Zoom\", \"Zoom to rectangle\\nx/y fixes axis, CTRL fixes aspect\", \"fa fa-square-o icon-check-empty\", \"zoom\"], [\"\", \"\", \"\", \"\"], [\"Download\", \"Download plot\", \"fa fa-floppy-o icon-save\", \"download\"]];\n",
       "\n",
       "mpl.extensions = [\"eps\", \"jpeg\", \"pgf\", \"pdf\", \"png\", \"ps\", \"raw\", \"svg\", \"tif\"];\n",
       "\n",
       "mpl.default_extension = \"png\";/* global mpl */\n",
       "\n",
       "var comm_websocket_adapter = function (comm) {\n",
       "    // Create a \"websocket\"-like object which calls the given IPython comm\n",
       "    // object with the appropriate methods. Currently this is a non binary\n",
       "    // socket, so there is still some room for performance tuning.\n",
       "    var ws = {};\n",
       "\n",
       "    ws.binaryType = comm.kernel.ws.binaryType;\n",
       "    ws.readyState = comm.kernel.ws.readyState;\n",
       "    function updateReadyState(_event) {\n",
       "        if (comm.kernel.ws) {\n",
       "            ws.readyState = comm.kernel.ws.readyState;\n",
       "        } else {\n",
       "            ws.readyState = 3; // Closed state.\n",
       "        }\n",
       "    }\n",
       "    comm.kernel.ws.addEventListener('open', updateReadyState);\n",
       "    comm.kernel.ws.addEventListener('close', updateReadyState);\n",
       "    comm.kernel.ws.addEventListener('error', updateReadyState);\n",
       "\n",
       "    ws.close = function () {\n",
       "        comm.close();\n",
       "    };\n",
       "    ws.send = function (m) {\n",
       "        //console.log('sending', m);\n",
       "        comm.send(m);\n",
       "    };\n",
       "    // Register the callback with on_msg.\n",
       "    comm.on_msg(function (msg) {\n",
       "        //console.log('receiving', msg['content']['data'], msg);\n",
       "        var data = msg['content']['data'];\n",
       "        if (data['blob'] !== undefined) {\n",
       "            data = {\n",
       "                data: new Blob(msg['buffers'], { type: data['blob'] }),\n",
       "            };\n",
       "        }\n",
       "        // Pass the mpl event to the overridden (by mpl) onmessage function.\n",
       "        ws.onmessage(data);\n",
       "    });\n",
       "    return ws;\n",
       "};\n",
       "\n",
       "mpl.mpl_figure_comm = function (comm, msg) {\n",
       "    // This is the function which gets called when the mpl process\n",
       "    // starts-up an IPython Comm through the \"matplotlib\" channel.\n",
       "\n",
       "    var id = msg.content.data.id;\n",
       "    // Get hold of the div created by the display call when the Comm\n",
       "    // socket was opened in Python.\n",
       "    var element = document.getElementById(id);\n",
       "    var ws_proxy = comm_websocket_adapter(comm);\n",
       "\n",
       "    function ondownload(figure, _format) {\n",
       "        window.open(figure.canvas.toDataURL());\n",
       "    }\n",
       "\n",
       "    var fig = new mpl.figure(id, ws_proxy, ondownload, element);\n",
       "\n",
       "    // Call onopen now - mpl needs it, as it is assuming we've passed it a real\n",
       "    // web socket which is closed, not our websocket->open comm proxy.\n",
       "    ws_proxy.onopen();\n",
       "\n",
       "    fig.parent_element = element;\n",
       "    fig.cell_info = mpl.find_output_cell(\"<div id='\" + id + \"'></div>\");\n",
       "    if (!fig.cell_info) {\n",
       "        console.error('Failed to find cell for figure', id, fig);\n",
       "        return;\n",
       "    }\n",
       "    fig.cell_info[0].output_area.element.on(\n",
       "        'cleared',\n",
       "        { fig: fig },\n",
       "        fig._remove_fig_handler\n",
       "    );\n",
       "};\n",
       "\n",
       "mpl.figure.prototype.handle_close = function (fig, msg) {\n",
       "    var width = fig.canvas.width / fig.ratio;\n",
       "    fig.cell_info[0].output_area.element.off(\n",
       "        'cleared',\n",
       "        fig._remove_fig_handler\n",
       "    );\n",
       "    fig.resizeObserverInstance.unobserve(fig.canvas_div);\n",
       "\n",
       "    // Update the output cell to use the data from the current canvas.\n",
       "    fig.push_to_output();\n",
       "    var dataURL = fig.canvas.toDataURL();\n",
       "    // Re-enable the keyboard manager in IPython - without this line, in FF,\n",
       "    // the notebook keyboard shortcuts fail.\n",
       "    IPython.keyboard_manager.enable();\n",
       "    fig.parent_element.innerHTML =\n",
       "        '<img src=\"' + dataURL + '\" width=\"' + width + '\">';\n",
       "    fig.close_ws(fig, msg);\n",
       "};\n",
       "\n",
       "mpl.figure.prototype.close_ws = function (fig, msg) {\n",
       "    fig.send_message('closing', msg);\n",
       "    // fig.ws.close()\n",
       "};\n",
       "\n",
       "mpl.figure.prototype.push_to_output = function (_remove_interactive) {\n",
       "    // Turn the data on the canvas into data in the output cell.\n",
       "    var width = this.canvas.width / this.ratio;\n",
       "    var dataURL = this.canvas.toDataURL();\n",
       "    this.cell_info[1]['text/html'] =\n",
       "        '<img src=\"' + dataURL + '\" width=\"' + width + '\">';\n",
       "};\n",
       "\n",
       "mpl.figure.prototype.updated_canvas_event = function () {\n",
       "    // Tell IPython that the notebook contents must change.\n",
       "    IPython.notebook.set_dirty(true);\n",
       "    this.send_message('ack', {});\n",
       "    var fig = this;\n",
       "    // Wait a second, then push the new image to the DOM so\n",
       "    // that it is saved nicely (might be nice to debounce this).\n",
       "    setTimeout(function () {\n",
       "        fig.push_to_output();\n",
       "    }, 1000);\n",
       "};\n",
       "\n",
       "mpl.figure.prototype._init_toolbar = function () {\n",
       "    var fig = this;\n",
       "\n",
       "    var toolbar = document.createElement('div');\n",
       "    toolbar.classList = 'btn-toolbar';\n",
       "    this.root.appendChild(toolbar);\n",
       "\n",
       "    function on_click_closure(name) {\n",
       "        return function (_event) {\n",
       "            return fig.toolbar_button_onclick(name);\n",
       "        };\n",
       "    }\n",
       "\n",
       "    function on_mouseover_closure(tooltip) {\n",
       "        return function (event) {\n",
       "            if (!event.currentTarget.disabled) {\n",
       "                return fig.toolbar_button_onmouseover(tooltip);\n",
       "            }\n",
       "        };\n",
       "    }\n",
       "\n",
       "    fig.buttons = {};\n",
       "    var buttonGroup = document.createElement('div');\n",
       "    buttonGroup.classList = 'btn-group';\n",
       "    var button;\n",
       "    for (var toolbar_ind in mpl.toolbar_items) {\n",
       "        var name = mpl.toolbar_items[toolbar_ind][0];\n",
       "        var tooltip = mpl.toolbar_items[toolbar_ind][1];\n",
       "        var image = mpl.toolbar_items[toolbar_ind][2];\n",
       "        var method_name = mpl.toolbar_items[toolbar_ind][3];\n",
       "\n",
       "        if (!name) {\n",
       "            /* Instead of a spacer, we start a new button group. */\n",
       "            if (buttonGroup.hasChildNodes()) {\n",
       "                toolbar.appendChild(buttonGroup);\n",
       "            }\n",
       "            buttonGroup = document.createElement('div');\n",
       "            buttonGroup.classList = 'btn-group';\n",
       "            continue;\n",
       "        }\n",
       "\n",
       "        button = fig.buttons[name] = document.createElement('button');\n",
       "        button.classList = 'btn btn-default';\n",
       "        button.href = '#';\n",
       "        button.title = name;\n",
       "        button.innerHTML = '<i class=\"fa ' + image + ' fa-lg\"></i>';\n",
       "        button.addEventListener('click', on_click_closure(method_name));\n",
       "        button.addEventListener('mouseover', on_mouseover_closure(tooltip));\n",
       "        buttonGroup.appendChild(button);\n",
       "    }\n",
       "\n",
       "    if (buttonGroup.hasChildNodes()) {\n",
       "        toolbar.appendChild(buttonGroup);\n",
       "    }\n",
       "\n",
       "    // Add the status bar.\n",
       "    var status_bar = document.createElement('span');\n",
       "    status_bar.classList = 'mpl-message pull-right';\n",
       "    toolbar.appendChild(status_bar);\n",
       "    this.message = status_bar;\n",
       "\n",
       "    // Add the close button to the window.\n",
       "    var buttongrp = document.createElement('div');\n",
       "    buttongrp.classList = 'btn-group inline pull-right';\n",
       "    button = document.createElement('button');\n",
       "    button.classList = 'btn btn-mini btn-primary';\n",
       "    button.href = '#';\n",
       "    button.title = 'Stop Interaction';\n",
       "    button.innerHTML = '<i class=\"fa fa-power-off icon-remove icon-large\"></i>';\n",
       "    button.addEventListener('click', function (_evt) {\n",
       "        fig.handle_close(fig, {});\n",
       "    });\n",
       "    button.addEventListener(\n",
       "        'mouseover',\n",
       "        on_mouseover_closure('Stop Interaction')\n",
       "    );\n",
       "    buttongrp.appendChild(button);\n",
       "    var titlebar = this.root.querySelector('.ui-dialog-titlebar');\n",
       "    titlebar.insertBefore(buttongrp, titlebar.firstChild);\n",
       "};\n",
       "\n",
       "mpl.figure.prototype._remove_fig_handler = function (event) {\n",
       "    var fig = event.data.fig;\n",
       "    if (event.target !== this) {\n",
       "        // Ignore bubbled events from children.\n",
       "        return;\n",
       "    }\n",
       "    fig.close_ws(fig, {});\n",
       "};\n",
       "\n",
       "mpl.figure.prototype._root_extra_style = function (el) {\n",
       "    el.style.boxSizing = 'content-box'; // override notebook setting of border-box.\n",
       "};\n",
       "\n",
       "mpl.figure.prototype._canvas_extra_style = function (el) {\n",
       "    // this is important to make the div 'focusable\n",
       "    el.setAttribute('tabindex', 0);\n",
       "    // reach out to IPython and tell the keyboard manager to turn it's self\n",
       "    // off when our div gets focus\n",
       "\n",
       "    // location in version 3\n",
       "    if (IPython.notebook.keyboard_manager) {\n",
       "        IPython.notebook.keyboard_manager.register_events(el);\n",
       "    } else {\n",
       "        // location in version 2\n",
       "        IPython.keyboard_manager.register_events(el);\n",
       "    }\n",
       "};\n",
       "\n",
       "mpl.figure.prototype._key_event_extra = function (event, _name) {\n",
       "    var manager = IPython.notebook.keyboard_manager;\n",
       "    if (!manager) {\n",
       "        manager = IPython.keyboard_manager;\n",
       "    }\n",
       "\n",
       "    // Check for shift+enter\n",
       "    if (event.shiftKey && event.which === 13) {\n",
       "        this.canvas_div.blur();\n",
       "        // select the cell after this one\n",
       "        var index = IPython.notebook.find_cell_index(this.cell_info[0]);\n",
       "        IPython.notebook.select(index + 1);\n",
       "    }\n",
       "};\n",
       "\n",
       "mpl.figure.prototype.handle_save = function (fig, _msg) {\n",
       "    fig.ondownload(fig, null);\n",
       "};\n",
       "\n",
       "mpl.find_output_cell = function (html_output) {\n",
       "    // Return the cell and output element which can be found *uniquely* in the notebook.\n",
       "    // Note - this is a bit hacky, but it is done because the \"notebook_saving.Notebook\"\n",
       "    // IPython event is triggered only after the cells have been serialised, which for\n",
       "    // our purposes (turning an active figure into a static one), is too late.\n",
       "    var cells = IPython.notebook.get_cells();\n",
       "    var ncells = cells.length;\n",
       "    for (var i = 0; i < ncells; i++) {\n",
       "        var cell = cells[i];\n",
       "        if (cell.cell_type === 'code') {\n",
       "            for (var j = 0; j < cell.output_area.outputs.length; j++) {\n",
       "                var data = cell.output_area.outputs[j];\n",
       "                if (data.data) {\n",
       "                    // IPython >= 3 moved mimebundle to data attribute of output\n",
       "                    data = data.data;\n",
       "                }\n",
       "                if (data['text/html'] === html_output) {\n",
       "                    return [cell, data, j];\n",
       "                }\n",
       "            }\n",
       "        }\n",
       "    }\n",
       "};\n",
       "\n",
       "// Register the function which deals with the matplotlib target/channel.\n",
       "// The kernel may be null if the page has been refreshed.\n",
       "if (IPython.notebook.kernel !== null) {\n",
       "    IPython.notebook.kernel.comm_manager.register_target(\n",
       "        'matplotlib',\n",
       "        mpl.mpl_figure_comm\n",
       "    );\n",
       "}\n"
      ],
      "text/plain": [
       "<IPython.core.display.Javascript object>"
      ]
     },
     "metadata": {},
     "output_type": "display_data"
    },
    {
     "data": {
      "text/html": [
       "<img src=\"data:image/png;base64,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\" width=\"432\">"
      ],
      "text/plain": [
       "<IPython.core.display.HTML object>"
      ]
     },
     "metadata": {},
     "output_type": "display_data"
    },
    {
     "data": {
      "text/plain": [
       "Text(0.5, 0.92, '2D Multivariate Normal PDF')"
      ]
     },
     "execution_count": 38,
     "metadata": {},
     "output_type": "execute_result"
    }
   ],
   "source": [
    "mu = np.zeros(2)\n",
    "sigma = np.eye(2)\n",
    "mvnorm = scipy.stats.multivariate_normal(mean=mu, cov=sigma)\n",
    "\n",
    "x = np.linspace(-6., 6.); y = np.linspace(-6., 6.)\n",
    "xx, yy = np.meshgrid(x, y, indexing='ij') # Grid of |x| * |y| values\n",
    "zz = np.array([[mvnorm.pdf([xx[i, j], yy[i, j]]) for j in range(len(y))] for i in range(len(x))])\n",
    "\n",
    "%matplotlib notebook\n",
    "fig = plt.figure(figsize=(6,6)); ax = fig.add_subplot(111, projection='3d')\n",
    "ax.plot_surface(xx, yy, zz)\n",
    "plt.title('2D Multivariate Normal PDF')"
   ]
  },
  {
   "cell_type": "code",
   "execution_count": 39,
   "id": "0a0dc4cb",
   "metadata": {},
   "outputs": [
    {
     "name": "stdout",
     "output_type": "stream",
     "text": [
      "[[ 6.76085813 -2.4782782 ]\n",
      " [-2.4782782   1.75642864]]\n"
     ]
    },
    {
     "data": {
      "application/javascript": [
       "/* Put everything inside the global mpl namespace */\n",
       "/* global mpl */\n",
       "window.mpl = {};\n",
       "\n",
       "mpl.get_websocket_type = function () {\n",
       "    if (typeof WebSocket !== 'undefined') {\n",
       "        return WebSocket;\n",
       "    } else if (typeof MozWebSocket !== 'undefined') {\n",
       "        return MozWebSocket;\n",
       "    } else {\n",
       "        alert(\n",
       "            'Your browser does not have WebSocket support. ' +\n",
       "                'Please try Chrome, Safari or Firefox ≥ 6. ' +\n",
       "                'Firefox 4 and 5 are also supported but you ' +\n",
       "                'have to enable WebSockets in about:config.'\n",
       "        );\n",
       "    }\n",
       "};\n",
       "\n",
       "mpl.figure = function (figure_id, websocket, ondownload, parent_element) {\n",
       "    this.id = figure_id;\n",
       "\n",
       "    this.ws = websocket;\n",
       "\n",
       "    this.supports_binary = this.ws.binaryType !== undefined;\n",
       "\n",
       "    if (!this.supports_binary) {\n",
       "        var warnings = document.getElementById('mpl-warnings');\n",
       "        if (warnings) {\n",
       "            warnings.style.display = 'block';\n",
       "            warnings.textContent =\n",
       "                'This browser does not support binary websocket messages. ' +\n",
       "                'Performance may be slow.';\n",
       "        }\n",
       "    }\n",
       "\n",
       "    this.imageObj = new Image();\n",
       "\n",
       "    this.context = undefined;\n",
       "    this.message = undefined;\n",
       "    this.canvas = undefined;\n",
       "    this.rubberband_canvas = undefined;\n",
       "    this.rubberband_context = undefined;\n",
       "    this.format_dropdown = undefined;\n",
       "\n",
       "    this.image_mode = 'full';\n",
       "\n",
       "    this.root = document.createElement('div');\n",
       "    this.root.setAttribute('style', 'display: inline-block');\n",
       "    this._root_extra_style(this.root);\n",
       "\n",
       "    parent_element.appendChild(this.root);\n",
       "\n",
       "    this._init_header(this);\n",
       "    this._init_canvas(this);\n",
       "    this._init_toolbar(this);\n",
       "\n",
       "    var fig = this;\n",
       "\n",
       "    this.waiting = false;\n",
       "\n",
       "    this.ws.onopen = function () {\n",
       "        fig.send_message('supports_binary', { value: fig.supports_binary });\n",
       "        fig.send_message('send_image_mode', {});\n",
       "        if (fig.ratio !== 1) {\n",
       "            fig.send_message('set_dpi_ratio', { dpi_ratio: fig.ratio });\n",
       "        }\n",
       "        fig.send_message('refresh', {});\n",
       "    };\n",
       "\n",
       "    this.imageObj.onload = function () {\n",
       "        if (fig.image_mode === 'full') {\n",
       "            // Full images could contain transparency (where diff images\n",
       "            // almost always do), so we need to clear the canvas so that\n",
       "            // there is no ghosting.\n",
       "            fig.context.clearRect(0, 0, fig.canvas.width, fig.canvas.height);\n",
       "        }\n",
       "        fig.context.drawImage(fig.imageObj, 0, 0);\n",
       "    };\n",
       "\n",
       "    this.imageObj.onunload = function () {\n",
       "        fig.ws.close();\n",
       "    };\n",
       "\n",
       "    this.ws.onmessage = this._make_on_message_function(this);\n",
       "\n",
       "    this.ondownload = ondownload;\n",
       "};\n",
       "\n",
       "mpl.figure.prototype._init_header = function () {\n",
       "    var titlebar = document.createElement('div');\n",
       "    titlebar.classList =\n",
       "        'ui-dialog-titlebar ui-widget-header ui-corner-all ui-helper-clearfix';\n",
       "    var titletext = document.createElement('div');\n",
       "    titletext.classList = 'ui-dialog-title';\n",
       "    titletext.setAttribute(\n",
       "        'style',\n",
       "        'width: 100%; text-align: center; padding: 3px;'\n",
       "    );\n",
       "    titlebar.appendChild(titletext);\n",
       "    this.root.appendChild(titlebar);\n",
       "    this.header = titletext;\n",
       "};\n",
       "\n",
       "mpl.figure.prototype._canvas_extra_style = function (_canvas_div) {};\n",
       "\n",
       "mpl.figure.prototype._root_extra_style = function (_canvas_div) {};\n",
       "\n",
       "mpl.figure.prototype._init_canvas = function () {\n",
       "    var fig = this;\n",
       "\n",
       "    var canvas_div = (this.canvas_div = document.createElement('div'));\n",
       "    canvas_div.setAttribute(\n",
       "        'style',\n",
       "        'border: 1px solid #ddd;' +\n",
       "            'box-sizing: content-box;' +\n",
       "            'clear: both;' +\n",
       "            'min-height: 1px;' +\n",
       "            'min-width: 1px;' +\n",
       "            'outline: 0;' +\n",
       "            'overflow: hidden;' +\n",
       "            'position: relative;' +\n",
       "            'resize: both;'\n",
       "    );\n",
       "\n",
       "    function on_keyboard_event_closure(name) {\n",
       "        return function (event) {\n",
       "            return fig.key_event(event, name);\n",
       "        };\n",
       "    }\n",
       "\n",
       "    canvas_div.addEventListener(\n",
       "        'keydown',\n",
       "        on_keyboard_event_closure('key_press')\n",
       "    );\n",
       "    canvas_div.addEventListener(\n",
       "        'keyup',\n",
       "        on_keyboard_event_closure('key_release')\n",
       "    );\n",
       "\n",
       "    this._canvas_extra_style(canvas_div);\n",
       "    this.root.appendChild(canvas_div);\n",
       "\n",
       "    var canvas = (this.canvas = document.createElement('canvas'));\n",
       "    canvas.classList.add('mpl-canvas');\n",
       "    canvas.setAttribute('style', 'box-sizing: content-box;');\n",
       "\n",
       "    this.context = canvas.getContext('2d');\n",
       "\n",
       "    var backingStore =\n",
       "        this.context.backingStorePixelRatio ||\n",
       "        this.context.webkitBackingStorePixelRatio ||\n",
       "        this.context.mozBackingStorePixelRatio ||\n",
       "        this.context.msBackingStorePixelRatio ||\n",
       "        this.context.oBackingStorePixelRatio ||\n",
       "        this.context.backingStorePixelRatio ||\n",
       "        1;\n",
       "\n",
       "    this.ratio = (window.devicePixelRatio || 1) / backingStore;\n",
       "\n",
       "    var rubberband_canvas = (this.rubberband_canvas = document.createElement(\n",
       "        'canvas'\n",
       "    ));\n",
       "    rubberband_canvas.setAttribute(\n",
       "        'style',\n",
       "        'box-sizing: content-box; position: absolute; left: 0; top: 0; z-index: 1;'\n",
       "    );\n",
       "\n",
       "    // Apply a ponyfill if ResizeObserver is not implemented by browser.\n",
       "    if (this.ResizeObserver === undefined) {\n",
       "        if (window.ResizeObserver !== undefined) {\n",
       "            this.ResizeObserver = window.ResizeObserver;\n",
       "        } else {\n",
       "            var obs = _JSXTOOLS_RESIZE_OBSERVER({});\n",
       "            this.ResizeObserver = obs.ResizeObserver;\n",
       "        }\n",
       "    }\n",
       "\n",
       "    this.resizeObserverInstance = new this.ResizeObserver(function (entries) {\n",
       "        var nentries = entries.length;\n",
       "        for (var i = 0; i < nentries; i++) {\n",
       "            var entry = entries[i];\n",
       "            var width, height;\n",
       "            if (entry.contentBoxSize) {\n",
       "                if (entry.contentBoxSize instanceof Array) {\n",
       "                    // Chrome 84 implements new version of spec.\n",
       "                    width = entry.contentBoxSize[0].inlineSize;\n",
       "                    height = entry.contentBoxSize[0].blockSize;\n",
       "                } else {\n",
       "                    // Firefox implements old version of spec.\n",
       "                    width = entry.contentBoxSize.inlineSize;\n",
       "                    height = entry.contentBoxSize.blockSize;\n",
       "                }\n",
       "            } else {\n",
       "                // Chrome <84 implements even older version of spec.\n",
       "                width = entry.contentRect.width;\n",
       "                height = entry.contentRect.height;\n",
       "            }\n",
       "\n",
       "            // Keep the size of the canvas and rubber band canvas in sync with\n",
       "            // the canvas container.\n",
       "            if (entry.devicePixelContentBoxSize) {\n",
       "                // Chrome 84 implements new version of spec.\n",
       "                canvas.setAttribute(\n",
       "                    'width',\n",
       "                    entry.devicePixelContentBoxSize[0].inlineSize\n",
       "                );\n",
       "                canvas.setAttribute(\n",
       "                    'height',\n",
       "                    entry.devicePixelContentBoxSize[0].blockSize\n",
       "                );\n",
       "            } else {\n",
       "                canvas.setAttribute('width', width * fig.ratio);\n",
       "                canvas.setAttribute('height', height * fig.ratio);\n",
       "            }\n",
       "            canvas.setAttribute(\n",
       "                'style',\n",
       "                'width: ' + width + 'px; height: ' + height + 'px;'\n",
       "            );\n",
       "\n",
       "            rubberband_canvas.setAttribute('width', width);\n",
       "            rubberband_canvas.setAttribute('height', height);\n",
       "\n",
       "            // And update the size in Python. We ignore the initial 0/0 size\n",
       "            // that occurs as the element is placed into the DOM, which should\n",
       "            // otherwise not happen due to the minimum size styling.\n",
       "            if (fig.ws.readyState == 1 && width != 0 && height != 0) {\n",
       "                fig.request_resize(width, height);\n",
       "            }\n",
       "        }\n",
       "    });\n",
       "    this.resizeObserverInstance.observe(canvas_div);\n",
       "\n",
       "    function on_mouse_event_closure(name) {\n",
       "        return function (event) {\n",
       "            return fig.mouse_event(event, name);\n",
       "        };\n",
       "    }\n",
       "\n",
       "    rubberband_canvas.addEventListener(\n",
       "        'mousedown',\n",
       "        on_mouse_event_closure('button_press')\n",
       "    );\n",
       "    rubberband_canvas.addEventListener(\n",
       "        'mouseup',\n",
       "        on_mouse_event_closure('button_release')\n",
       "    );\n",
       "    rubberband_canvas.addEventListener(\n",
       "        'dblclick',\n",
       "        on_mouse_event_closure('dblclick')\n",
       "    );\n",
       "    // Throttle sequential mouse events to 1 every 20ms.\n",
       "    rubberband_canvas.addEventListener(\n",
       "        'mousemove',\n",
       "        on_mouse_event_closure('motion_notify')\n",
       "    );\n",
       "\n",
       "    rubberband_canvas.addEventListener(\n",
       "        'mouseenter',\n",
       "        on_mouse_event_closure('figure_enter')\n",
       "    );\n",
       "    rubberband_canvas.addEventListener(\n",
       "        'mouseleave',\n",
       "        on_mouse_event_closure('figure_leave')\n",
       "    );\n",
       "\n",
       "    canvas_div.addEventListener('wheel', function (event) {\n",
       "        if (event.deltaY < 0) {\n",
       "            event.step = 1;\n",
       "        } else {\n",
       "            event.step = -1;\n",
       "        }\n",
       "        on_mouse_event_closure('scroll')(event);\n",
       "    });\n",
       "\n",
       "    canvas_div.appendChild(canvas);\n",
       "    canvas_div.appendChild(rubberband_canvas);\n",
       "\n",
       "    this.rubberband_context = rubberband_canvas.getContext('2d');\n",
       "    this.rubberband_context.strokeStyle = '#000000';\n",
       "\n",
       "    this._resize_canvas = function (width, height, forward) {\n",
       "        if (forward) {\n",
       "            canvas_div.style.width = width + 'px';\n",
       "            canvas_div.style.height = height + 'px';\n",
       "        }\n",
       "    };\n",
       "\n",
       "    // Disable right mouse context menu.\n",
       "    this.rubberband_canvas.addEventListener('contextmenu', function (_e) {\n",
       "        event.preventDefault();\n",
       "        return false;\n",
       "    });\n",
       "\n",
       "    function set_focus() {\n",
       "        canvas.focus();\n",
       "        canvas_div.focus();\n",
       "    }\n",
       "\n",
       "    window.setTimeout(set_focus, 100);\n",
       "};\n",
       "\n",
       "mpl.figure.prototype._init_toolbar = function () {\n",
       "    var fig = this;\n",
       "\n",
       "    var toolbar = document.createElement('div');\n",
       "    toolbar.classList = 'mpl-toolbar';\n",
       "    this.root.appendChild(toolbar);\n",
       "\n",
       "    function on_click_closure(name) {\n",
       "        return function (_event) {\n",
       "            return fig.toolbar_button_onclick(name);\n",
       "        };\n",
       "    }\n",
       "\n",
       "    function on_mouseover_closure(tooltip) {\n",
       "        return function (event) {\n",
       "            if (!event.currentTarget.disabled) {\n",
       "                return fig.toolbar_button_onmouseover(tooltip);\n",
       "            }\n",
       "        };\n",
       "    }\n",
       "\n",
       "    fig.buttons = {};\n",
       "    var buttonGroup = document.createElement('div');\n",
       "    buttonGroup.classList = 'mpl-button-group';\n",
       "    for (var toolbar_ind in mpl.toolbar_items) {\n",
       "        var name = mpl.toolbar_items[toolbar_ind][0];\n",
       "        var tooltip = mpl.toolbar_items[toolbar_ind][1];\n",
       "        var image = mpl.toolbar_items[toolbar_ind][2];\n",
       "        var method_name = mpl.toolbar_items[toolbar_ind][3];\n",
       "\n",
       "        if (!name) {\n",
       "            /* Instead of a spacer, we start a new button group. */\n",
       "            if (buttonGroup.hasChildNodes()) {\n",
       "                toolbar.appendChild(buttonGroup);\n",
       "            }\n",
       "            buttonGroup = document.createElement('div');\n",
       "            buttonGroup.classList = 'mpl-button-group';\n",
       "            continue;\n",
       "        }\n",
       "\n",
       "        var button = (fig.buttons[name] = document.createElement('button'));\n",
       "        button.classList = 'mpl-widget';\n",
       "        button.setAttribute('role', 'button');\n",
       "        button.setAttribute('aria-disabled', 'false');\n",
       "        button.addEventListener('click', on_click_closure(method_name));\n",
       "        button.addEventListener('mouseover', on_mouseover_closure(tooltip));\n",
       "\n",
       "        var icon_img = document.createElement('img');\n",
       "        icon_img.src = '_images/' + image + '.png';\n",
       "        icon_img.srcset = '_images/' + image + '_large.png 2x';\n",
       "        icon_img.alt = tooltip;\n",
       "        button.appendChild(icon_img);\n",
       "\n",
       "        buttonGroup.appendChild(button);\n",
       "    }\n",
       "\n",
       "    if (buttonGroup.hasChildNodes()) {\n",
       "        toolbar.appendChild(buttonGroup);\n",
       "    }\n",
       "\n",
       "    var fmt_picker = document.createElement('select');\n",
       "    fmt_picker.classList = 'mpl-widget';\n",
       "    toolbar.appendChild(fmt_picker);\n",
       "    this.format_dropdown = fmt_picker;\n",
       "\n",
       "    for (var ind in mpl.extensions) {\n",
       "        var fmt = mpl.extensions[ind];\n",
       "        var option = document.createElement('option');\n",
       "        option.selected = fmt === mpl.default_extension;\n",
       "        option.innerHTML = fmt;\n",
       "        fmt_picker.appendChild(option);\n",
       "    }\n",
       "\n",
       "    var status_bar = document.createElement('span');\n",
       "    status_bar.classList = 'mpl-message';\n",
       "    toolbar.appendChild(status_bar);\n",
       "    this.message = status_bar;\n",
       "};\n",
       "\n",
       "mpl.figure.prototype.request_resize = function (x_pixels, y_pixels) {\n",
       "    // Request matplotlib to resize the figure. Matplotlib will then trigger a resize in the client,\n",
       "    // which will in turn request a refresh of the image.\n",
       "    this.send_message('resize', { width: x_pixels, height: y_pixels });\n",
       "};\n",
       "\n",
       "mpl.figure.prototype.send_message = function (type, properties) {\n",
       "    properties['type'] = type;\n",
       "    properties['figure_id'] = this.id;\n",
       "    this.ws.send(JSON.stringify(properties));\n",
       "};\n",
       "\n",
       "mpl.figure.prototype.send_draw_message = function () {\n",
       "    if (!this.waiting) {\n",
       "        this.waiting = true;\n",
       "        this.ws.send(JSON.stringify({ type: 'draw', figure_id: this.id }));\n",
       "    }\n",
       "};\n",
       "\n",
       "mpl.figure.prototype.handle_save = function (fig, _msg) {\n",
       "    var format_dropdown = fig.format_dropdown;\n",
       "    var format = format_dropdown.options[format_dropdown.selectedIndex].value;\n",
       "    fig.ondownload(fig, format);\n",
       "};\n",
       "\n",
       "mpl.figure.prototype.handle_resize = function (fig, msg) {\n",
       "    var size = msg['size'];\n",
       "    if (size[0] !== fig.canvas.width || size[1] !== fig.canvas.height) {\n",
       "        fig._resize_canvas(size[0], size[1], msg['forward']);\n",
       "        fig.send_message('refresh', {});\n",
       "    }\n",
       "};\n",
       "\n",
       "mpl.figure.prototype.handle_rubberband = function (fig, msg) {\n",
       "    var x0 = msg['x0'] / fig.ratio;\n",
       "    var y0 = (fig.canvas.height - msg['y0']) / fig.ratio;\n",
       "    var x1 = msg['x1'] / fig.ratio;\n",
       "    var y1 = (fig.canvas.height - msg['y1']) / fig.ratio;\n",
       "    x0 = Math.floor(x0) + 0.5;\n",
       "    y0 = Math.floor(y0) + 0.5;\n",
       "    x1 = Math.floor(x1) + 0.5;\n",
       "    y1 = Math.floor(y1) + 0.5;\n",
       "    var min_x = Math.min(x0, x1);\n",
       "    var min_y = Math.min(y0, y1);\n",
       "    var width = Math.abs(x1 - x0);\n",
       "    var height = Math.abs(y1 - y0);\n",
       "\n",
       "    fig.rubberband_context.clearRect(\n",
       "        0,\n",
       "        0,\n",
       "        fig.canvas.width / fig.ratio,\n",
       "        fig.canvas.height / fig.ratio\n",
       "    );\n",
       "\n",
       "    fig.rubberband_context.strokeRect(min_x, min_y, width, height);\n",
       "};\n",
       "\n",
       "mpl.figure.prototype.handle_figure_label = function (fig, msg) {\n",
       "    // Updates the figure title.\n",
       "    fig.header.textContent = msg['label'];\n",
       "};\n",
       "\n",
       "mpl.figure.prototype.handle_cursor = function (fig, msg) {\n",
       "    var cursor = msg['cursor'];\n",
       "    switch (cursor) {\n",
       "        case 0:\n",
       "            cursor = 'pointer';\n",
       "            break;\n",
       "        case 1:\n",
       "            cursor = 'default';\n",
       "            break;\n",
       "        case 2:\n",
       "            cursor = 'crosshair';\n",
       "            break;\n",
       "        case 3:\n",
       "            cursor = 'move';\n",
       "            break;\n",
       "    }\n",
       "    fig.rubberband_canvas.style.cursor = cursor;\n",
       "};\n",
       "\n",
       "mpl.figure.prototype.handle_message = function (fig, msg) {\n",
       "    fig.message.textContent = msg['message'];\n",
       "};\n",
       "\n",
       "mpl.figure.prototype.handle_draw = function (fig, _msg) {\n",
       "    // Request the server to send over a new figure.\n",
       "    fig.send_draw_message();\n",
       "};\n",
       "\n",
       "mpl.figure.prototype.handle_image_mode = function (fig, msg) {\n",
       "    fig.image_mode = msg['mode'];\n",
       "};\n",
       "\n",
       "mpl.figure.prototype.handle_history_buttons = function (fig, msg) {\n",
       "    for (var key in msg) {\n",
       "        if (!(key in fig.buttons)) {\n",
       "            continue;\n",
       "        }\n",
       "        fig.buttons[key].disabled = !msg[key];\n",
       "        fig.buttons[key].setAttribute('aria-disabled', !msg[key]);\n",
       "    }\n",
       "};\n",
       "\n",
       "mpl.figure.prototype.handle_navigate_mode = function (fig, msg) {\n",
       "    if (msg['mode'] === 'PAN') {\n",
       "        fig.buttons['Pan'].classList.add('active');\n",
       "        fig.buttons['Zoom'].classList.remove('active');\n",
       "    } else if (msg['mode'] === 'ZOOM') {\n",
       "        fig.buttons['Pan'].classList.remove('active');\n",
       "        fig.buttons['Zoom'].classList.add('active');\n",
       "    } else {\n",
       "        fig.buttons['Pan'].classList.remove('active');\n",
       "        fig.buttons['Zoom'].classList.remove('active');\n",
       "    }\n",
       "};\n",
       "\n",
       "mpl.figure.prototype.updated_canvas_event = function () {\n",
       "    // Called whenever the canvas gets updated.\n",
       "    this.send_message('ack', {});\n",
       "};\n",
       "\n",
       "// A function to construct a web socket function for onmessage handling.\n",
       "// Called in the figure constructor.\n",
       "mpl.figure.prototype._make_on_message_function = function (fig) {\n",
       "    return function socket_on_message(evt) {\n",
       "        if (evt.data instanceof Blob) {\n",
       "            var img = evt.data;\n",
       "            if (img.type !== 'image/png') {\n",
       "                /* FIXME: We get \"Resource interpreted as Image but\n",
       "                 * transferred with MIME type text/plain:\" errors on\n",
       "                 * Chrome.  But how to set the MIME type?  It doesn't seem\n",
       "                 * to be part of the websocket stream */\n",
       "                img.type = 'image/png';\n",
       "            }\n",
       "\n",
       "            /* Free the memory for the previous frames */\n",
       "            if (fig.imageObj.src) {\n",
       "                (window.URL || window.webkitURL).revokeObjectURL(\n",
       "                    fig.imageObj.src\n",
       "                );\n",
       "            }\n",
       "\n",
       "            fig.imageObj.src = (window.URL || window.webkitURL).createObjectURL(\n",
       "                img\n",
       "            );\n",
       "            fig.updated_canvas_event();\n",
       "            fig.waiting = false;\n",
       "            return;\n",
       "        } else if (\n",
       "            typeof evt.data === 'string' &&\n",
       "            evt.data.slice(0, 21) === 'data:image/png;base64'\n",
       "        ) {\n",
       "            fig.imageObj.src = evt.data;\n",
       "            fig.updated_canvas_event();\n",
       "            fig.waiting = false;\n",
       "            return;\n",
       "        }\n",
       "\n",
       "        var msg = JSON.parse(evt.data);\n",
       "        var msg_type = msg['type'];\n",
       "\n",
       "        // Call the  \"handle_{type}\" callback, which takes\n",
       "        // the figure and JSON message as its only arguments.\n",
       "        try {\n",
       "            var callback = fig['handle_' + msg_type];\n",
       "        } catch (e) {\n",
       "            console.log(\n",
       "                \"No handler for the '\" + msg_type + \"' message type: \",\n",
       "                msg\n",
       "            );\n",
       "            return;\n",
       "        }\n",
       "\n",
       "        if (callback) {\n",
       "            try {\n",
       "                // console.log(\"Handling '\" + msg_type + \"' message: \", msg);\n",
       "                callback(fig, msg);\n",
       "            } catch (e) {\n",
       "                console.log(\n",
       "                    \"Exception inside the 'handler_\" + msg_type + \"' callback:\",\n",
       "                    e,\n",
       "                    e.stack,\n",
       "                    msg\n",
       "                );\n",
       "            }\n",
       "        }\n",
       "    };\n",
       "};\n",
       "\n",
       "// from http://stackoverflow.com/questions/1114465/getting-mouse-location-in-canvas\n",
       "mpl.findpos = function (e) {\n",
       "    //this section is from http://www.quirksmode.org/js/events_properties.html\n",
       "    var targ;\n",
       "    if (!e) {\n",
       "        e = window.event;\n",
       "    }\n",
       "    if (e.target) {\n",
       "        targ = e.target;\n",
       "    } else if (e.srcElement) {\n",
       "        targ = e.srcElement;\n",
       "    }\n",
       "    if (targ.nodeType === 3) {\n",
       "        // defeat Safari bug\n",
       "        targ = targ.parentNode;\n",
       "    }\n",
       "\n",
       "    // pageX,Y are the mouse positions relative to the document\n",
       "    var boundingRect = targ.getBoundingClientRect();\n",
       "    var x = e.pageX - (boundingRect.left + document.body.scrollLeft);\n",
       "    var y = e.pageY - (boundingRect.top + document.body.scrollTop);\n",
       "\n",
       "    return { x: x, y: y };\n",
       "};\n",
       "\n",
       "/*\n",
       " * return a copy of an object with only non-object keys\n",
       " * we need this to avoid circular references\n",
       " * http://stackoverflow.com/a/24161582/3208463\n",
       " */\n",
       "function simpleKeys(original) {\n",
       "    return Object.keys(original).reduce(function (obj, key) {\n",
       "        if (typeof original[key] !== 'object') {\n",
       "            obj[key] = original[key];\n",
       "        }\n",
       "        return obj;\n",
       "    }, {});\n",
       "}\n",
       "\n",
       "mpl.figure.prototype.mouse_event = function (event, name) {\n",
       "    var canvas_pos = mpl.findpos(event);\n",
       "\n",
       "    if (name === 'button_press') {\n",
       "        this.canvas.focus();\n",
       "        this.canvas_div.focus();\n",
       "    }\n",
       "\n",
       "    var x = canvas_pos.x * this.ratio;\n",
       "    var y = canvas_pos.y * this.ratio;\n",
       "\n",
       "    this.send_message(name, {\n",
       "        x: x,\n",
       "        y: y,\n",
       "        button: event.button,\n",
       "        step: event.step,\n",
       "        guiEvent: simpleKeys(event),\n",
       "    });\n",
       "\n",
       "    /* This prevents the web browser from automatically changing to\n",
       "     * the text insertion cursor when the button is pressed.  We want\n",
       "     * to control all of the cursor setting manually through the\n",
       "     * 'cursor' event from matplotlib */\n",
       "    event.preventDefault();\n",
       "    return false;\n",
       "};\n",
       "\n",
       "mpl.figure.prototype._key_event_extra = function (_event, _name) {\n",
       "    // Handle any extra behaviour associated with a key event\n",
       "};\n",
       "\n",
       "mpl.figure.prototype.key_event = function (event, name) {\n",
       "    // Prevent repeat events\n",
       "    if (name === 'key_press') {\n",
       "        if (event.key === this._key) {\n",
       "            return;\n",
       "        } else {\n",
       "            this._key = event.key;\n",
       "        }\n",
       "    }\n",
       "    if (name === 'key_release') {\n",
       "        this._key = null;\n",
       "    }\n",
       "\n",
       "    var value = '';\n",
       "    if (event.ctrlKey && event.key !== 'Control') {\n",
       "        value += 'ctrl+';\n",
       "    }\n",
       "    else if (event.altKey && event.key !== 'Alt') {\n",
       "        value += 'alt+';\n",
       "    }\n",
       "    else if (event.shiftKey && event.key !== 'Shift') {\n",
       "        value += 'shift+';\n",
       "    }\n",
       "\n",
       "    value += 'k' + event.key;\n",
       "\n",
       "    this._key_event_extra(event, name);\n",
       "\n",
       "    this.send_message(name, { key: value, guiEvent: simpleKeys(event) });\n",
       "    return false;\n",
       "};\n",
       "\n",
       "mpl.figure.prototype.toolbar_button_onclick = function (name) {\n",
       "    if (name === 'download') {\n",
       "        this.handle_save(this, null);\n",
       "    } else {\n",
       "        this.send_message('toolbar_button', { name: name });\n",
       "    }\n",
       "};\n",
       "\n",
       "mpl.figure.prototype.toolbar_button_onmouseover = function (tooltip) {\n",
       "    this.message.textContent = tooltip;\n",
       "};\n",
       "\n",
       "///////////////// REMAINING CONTENT GENERATED BY embed_js.py /////////////////\n",
       "// prettier-ignore\n",
       "var _JSXTOOLS_RESIZE_OBSERVER=function(A){var t,i=new WeakMap,n=new WeakMap,a=new WeakMap,r=new WeakMap,o=new Set;function s(e){if(!(this instanceof s))throw new TypeError(\"Constructor requires 'new' operator\");i.set(this,e)}function h(){throw new TypeError(\"Function is not a constructor\")}function c(e,t,i,n){e=0 in arguments?Number(arguments[0]):0,t=1 in arguments?Number(arguments[1]):0,i=2 in arguments?Number(arguments[2]):0,n=3 in arguments?Number(arguments[3]):0,this.right=(this.x=this.left=e)+(this.width=i),this.bottom=(this.y=this.top=t)+(this.height=n),Object.freeze(this)}function d(){t=requestAnimationFrame(d);var s=new WeakMap,p=new Set;o.forEach((function(t){r.get(t).forEach((function(i){var r=t instanceof window.SVGElement,o=a.get(t),d=r?0:parseFloat(o.paddingTop),f=r?0:parseFloat(o.paddingRight),l=r?0:parseFloat(o.paddingBottom),u=r?0:parseFloat(o.paddingLeft),g=r?0:parseFloat(o.borderTopWidth),m=r?0:parseFloat(o.borderRightWidth),w=r?0:parseFloat(o.borderBottomWidth),b=u+f,F=d+l,v=(r?0:parseFloat(o.borderLeftWidth))+m,W=g+w,y=r?0:t.offsetHeight-W-t.clientHeight,E=r?0:t.offsetWidth-v-t.clientWidth,R=b+v,z=F+W,M=r?t.width:parseFloat(o.width)-R-E,O=r?t.height:parseFloat(o.height)-z-y;if(n.has(t)){var k=n.get(t);if(k[0]===M&&k[1]===O)return}n.set(t,[M,O]);var S=Object.create(h.prototype);S.target=t,S.contentRect=new c(u,d,M,O),s.has(i)||(s.set(i,[]),p.add(i)),s.get(i).push(S)}))})),p.forEach((function(e){i.get(e).call(e,s.get(e),e)}))}return s.prototype.observe=function(i){if(i instanceof window.Element){r.has(i)||(r.set(i,new Set),o.add(i),a.set(i,window.getComputedStyle(i)));var n=r.get(i);n.has(this)||n.add(this),cancelAnimationFrame(t),t=requestAnimationFrame(d)}},s.prototype.unobserve=function(i){if(i instanceof window.Element&&r.has(i)){var n=r.get(i);n.has(this)&&(n.delete(this),n.size||(r.delete(i),o.delete(i))),n.size||r.delete(i),o.size||cancelAnimationFrame(t)}},A.DOMRectReadOnly=c,A.ResizeObserver=s,A.ResizeObserverEntry=h,A}; // eslint-disable-line\n",
       "mpl.toolbar_items = [[\"Home\", \"Reset original view\", \"fa fa-home icon-home\", \"home\"], [\"Back\", \"Back to previous view\", \"fa fa-arrow-left icon-arrow-left\", \"back\"], [\"Forward\", \"Forward to next view\", \"fa fa-arrow-right icon-arrow-right\", \"forward\"], [\"\", \"\", \"\", \"\"], [\"Pan\", \"Left button pans, Right button zooms\\nx/y fixes axis, CTRL fixes aspect\", \"fa fa-arrows icon-move\", \"pan\"], [\"Zoom\", \"Zoom to rectangle\\nx/y fixes axis, CTRL fixes aspect\", \"fa fa-square-o icon-check-empty\", \"zoom\"], [\"\", \"\", \"\", \"\"], [\"Download\", \"Download plot\", \"fa fa-floppy-o icon-save\", \"download\"]];\n",
       "\n",
       "mpl.extensions = [\"eps\", \"jpeg\", \"pgf\", \"pdf\", \"png\", \"ps\", \"raw\", \"svg\", \"tif\"];\n",
       "\n",
       "mpl.default_extension = \"png\";/* global mpl */\n",
       "\n",
       "var comm_websocket_adapter = function (comm) {\n",
       "    // Create a \"websocket\"-like object which calls the given IPython comm\n",
       "    // object with the appropriate methods. Currently this is a non binary\n",
       "    // socket, so there is still some room for performance tuning.\n",
       "    var ws = {};\n",
       "\n",
       "    ws.binaryType = comm.kernel.ws.binaryType;\n",
       "    ws.readyState = comm.kernel.ws.readyState;\n",
       "    function updateReadyState(_event) {\n",
       "        if (comm.kernel.ws) {\n",
       "            ws.readyState = comm.kernel.ws.readyState;\n",
       "        } else {\n",
       "            ws.readyState = 3; // Closed state.\n",
       "        }\n",
       "    }\n",
       "    comm.kernel.ws.addEventListener('open', updateReadyState);\n",
       "    comm.kernel.ws.addEventListener('close', updateReadyState);\n",
       "    comm.kernel.ws.addEventListener('error', updateReadyState);\n",
       "\n",
       "    ws.close = function () {\n",
       "        comm.close();\n",
       "    };\n",
       "    ws.send = function (m) {\n",
       "        //console.log('sending', m);\n",
       "        comm.send(m);\n",
       "    };\n",
       "    // Register the callback with on_msg.\n",
       "    comm.on_msg(function (msg) {\n",
       "        //console.log('receiving', msg['content']['data'], msg);\n",
       "        var data = msg['content']['data'];\n",
       "        if (data['blob'] !== undefined) {\n",
       "            data = {\n",
       "                data: new Blob(msg['buffers'], { type: data['blob'] }),\n",
       "            };\n",
       "        }\n",
       "        // Pass the mpl event to the overridden (by mpl) onmessage function.\n",
       "        ws.onmessage(data);\n",
       "    });\n",
       "    return ws;\n",
       "};\n",
       "\n",
       "mpl.mpl_figure_comm = function (comm, msg) {\n",
       "    // This is the function which gets called when the mpl process\n",
       "    // starts-up an IPython Comm through the \"matplotlib\" channel.\n",
       "\n",
       "    var id = msg.content.data.id;\n",
       "    // Get hold of the div created by the display call when the Comm\n",
       "    // socket was opened in Python.\n",
       "    var element = document.getElementById(id);\n",
       "    var ws_proxy = comm_websocket_adapter(comm);\n",
       "\n",
       "    function ondownload(figure, _format) {\n",
       "        window.open(figure.canvas.toDataURL());\n",
       "    }\n",
       "\n",
       "    var fig = new mpl.figure(id, ws_proxy, ondownload, element);\n",
       "\n",
       "    // Call onopen now - mpl needs it, as it is assuming we've passed it a real\n",
       "    // web socket which is closed, not our websocket->open comm proxy.\n",
       "    ws_proxy.onopen();\n",
       "\n",
       "    fig.parent_element = element;\n",
       "    fig.cell_info = mpl.find_output_cell(\"<div id='\" + id + \"'></div>\");\n",
       "    if (!fig.cell_info) {\n",
       "        console.error('Failed to find cell for figure', id, fig);\n",
       "        return;\n",
       "    }\n",
       "    fig.cell_info[0].output_area.element.on(\n",
       "        'cleared',\n",
       "        { fig: fig },\n",
       "        fig._remove_fig_handler\n",
       "    );\n",
       "};\n",
       "\n",
       "mpl.figure.prototype.handle_close = function (fig, msg) {\n",
       "    var width = fig.canvas.width / fig.ratio;\n",
       "    fig.cell_info[0].output_area.element.off(\n",
       "        'cleared',\n",
       "        fig._remove_fig_handler\n",
       "    );\n",
       "    fig.resizeObserverInstance.unobserve(fig.canvas_div);\n",
       "\n",
       "    // Update the output cell to use the data from the current canvas.\n",
       "    fig.push_to_output();\n",
       "    var dataURL = fig.canvas.toDataURL();\n",
       "    // Re-enable the keyboard manager in IPython - without this line, in FF,\n",
       "    // the notebook keyboard shortcuts fail.\n",
       "    IPython.keyboard_manager.enable();\n",
       "    fig.parent_element.innerHTML =\n",
       "        '<img src=\"' + dataURL + '\" width=\"' + width + '\">';\n",
       "    fig.close_ws(fig, msg);\n",
       "};\n",
       "\n",
       "mpl.figure.prototype.close_ws = function (fig, msg) {\n",
       "    fig.send_message('closing', msg);\n",
       "    // fig.ws.close()\n",
       "};\n",
       "\n",
       "mpl.figure.prototype.push_to_output = function (_remove_interactive) {\n",
       "    // Turn the data on the canvas into data in the output cell.\n",
       "    var width = this.canvas.width / this.ratio;\n",
       "    var dataURL = this.canvas.toDataURL();\n",
       "    this.cell_info[1]['text/html'] =\n",
       "        '<img src=\"' + dataURL + '\" width=\"' + width + '\">';\n",
       "};\n",
       "\n",
       "mpl.figure.prototype.updated_canvas_event = function () {\n",
       "    // Tell IPython that the notebook contents must change.\n",
       "    IPython.notebook.set_dirty(true);\n",
       "    this.send_message('ack', {});\n",
       "    var fig = this;\n",
       "    // Wait a second, then push the new image to the DOM so\n",
       "    // that it is saved nicely (might be nice to debounce this).\n",
       "    setTimeout(function () {\n",
       "        fig.push_to_output();\n",
       "    }, 1000);\n",
       "};\n",
       "\n",
       "mpl.figure.prototype._init_toolbar = function () {\n",
       "    var fig = this;\n",
       "\n",
       "    var toolbar = document.createElement('div');\n",
       "    toolbar.classList = 'btn-toolbar';\n",
       "    this.root.appendChild(toolbar);\n",
       "\n",
       "    function on_click_closure(name) {\n",
       "        return function (_event) {\n",
       "            return fig.toolbar_button_onclick(name);\n",
       "        };\n",
       "    }\n",
       "\n",
       "    function on_mouseover_closure(tooltip) {\n",
       "        return function (event) {\n",
       "            if (!event.currentTarget.disabled) {\n",
       "                return fig.toolbar_button_onmouseover(tooltip);\n",
       "            }\n",
       "        };\n",
       "    }\n",
       "\n",
       "    fig.buttons = {};\n",
       "    var buttonGroup = document.createElement('div');\n",
       "    buttonGroup.classList = 'btn-group';\n",
       "    var button;\n",
       "    for (var toolbar_ind in mpl.toolbar_items) {\n",
       "        var name = mpl.toolbar_items[toolbar_ind][0];\n",
       "        var tooltip = mpl.toolbar_items[toolbar_ind][1];\n",
       "        var image = mpl.toolbar_items[toolbar_ind][2];\n",
       "        var method_name = mpl.toolbar_items[toolbar_ind][3];\n",
       "\n",
       "        if (!name) {\n",
       "            /* Instead of a spacer, we start a new button group. */\n",
       "            if (buttonGroup.hasChildNodes()) {\n",
       "                toolbar.appendChild(buttonGroup);\n",
       "            }\n",
       "            buttonGroup = document.createElement('div');\n",
       "            buttonGroup.classList = 'btn-group';\n",
       "            continue;\n",
       "        }\n",
       "\n",
       "        button = fig.buttons[name] = document.createElement('button');\n",
       "        button.classList = 'btn btn-default';\n",
       "        button.href = '#';\n",
       "        button.title = name;\n",
       "        button.innerHTML = '<i class=\"fa ' + image + ' fa-lg\"></i>';\n",
       "        button.addEventListener('click', on_click_closure(method_name));\n",
       "        button.addEventListener('mouseover', on_mouseover_closure(tooltip));\n",
       "        buttonGroup.appendChild(button);\n",
       "    }\n",
       "\n",
       "    if (buttonGroup.hasChildNodes()) {\n",
       "        toolbar.appendChild(buttonGroup);\n",
       "    }\n",
       "\n",
       "    // Add the status bar.\n",
       "    var status_bar = document.createElement('span');\n",
       "    status_bar.classList = 'mpl-message pull-right';\n",
       "    toolbar.appendChild(status_bar);\n",
       "    this.message = status_bar;\n",
       "\n",
       "    // Add the close button to the window.\n",
       "    var buttongrp = document.createElement('div');\n",
       "    buttongrp.classList = 'btn-group inline pull-right';\n",
       "    button = document.createElement('button');\n",
       "    button.classList = 'btn btn-mini btn-primary';\n",
       "    button.href = '#';\n",
       "    button.title = 'Stop Interaction';\n",
       "    button.innerHTML = '<i class=\"fa fa-power-off icon-remove icon-large\"></i>';\n",
       "    button.addEventListener('click', function (_evt) {\n",
       "        fig.handle_close(fig, {});\n",
       "    });\n",
       "    button.addEventListener(\n",
       "        'mouseover',\n",
       "        on_mouseover_closure('Stop Interaction')\n",
       "    );\n",
       "    buttongrp.appendChild(button);\n",
       "    var titlebar = this.root.querySelector('.ui-dialog-titlebar');\n",
       "    titlebar.insertBefore(buttongrp, titlebar.firstChild);\n",
       "};\n",
       "\n",
       "mpl.figure.prototype._remove_fig_handler = function (event) {\n",
       "    var fig = event.data.fig;\n",
       "    if (event.target !== this) {\n",
       "        // Ignore bubbled events from children.\n",
       "        return;\n",
       "    }\n",
       "    fig.close_ws(fig, {});\n",
       "};\n",
       "\n",
       "mpl.figure.prototype._root_extra_style = function (el) {\n",
       "    el.style.boxSizing = 'content-box'; // override notebook setting of border-box.\n",
       "};\n",
       "\n",
       "mpl.figure.prototype._canvas_extra_style = function (el) {\n",
       "    // this is important to make the div 'focusable\n",
       "    el.setAttribute('tabindex', 0);\n",
       "    // reach out to IPython and tell the keyboard manager to turn it's self\n",
       "    // off when our div gets focus\n",
       "\n",
       "    // location in version 3\n",
       "    if (IPython.notebook.keyboard_manager) {\n",
       "        IPython.notebook.keyboard_manager.register_events(el);\n",
       "    } else {\n",
       "        // location in version 2\n",
       "        IPython.keyboard_manager.register_events(el);\n",
       "    }\n",
       "};\n",
       "\n",
       "mpl.figure.prototype._key_event_extra = function (event, _name) {\n",
       "    var manager = IPython.notebook.keyboard_manager;\n",
       "    if (!manager) {\n",
       "        manager = IPython.keyboard_manager;\n",
       "    }\n",
       "\n",
       "    // Check for shift+enter\n",
       "    if (event.shiftKey && event.which === 13) {\n",
       "        this.canvas_div.blur();\n",
       "        // select the cell after this one\n",
       "        var index = IPython.notebook.find_cell_index(this.cell_info[0]);\n",
       "        IPython.notebook.select(index + 1);\n",
       "    }\n",
       "};\n",
       "\n",
       "mpl.figure.prototype.handle_save = function (fig, _msg) {\n",
       "    fig.ondownload(fig, null);\n",
       "};\n",
       "\n",
       "mpl.find_output_cell = function (html_output) {\n",
       "    // Return the cell and output element which can be found *uniquely* in the notebook.\n",
       "    // Note - this is a bit hacky, but it is done because the \"notebook_saving.Notebook\"\n",
       "    // IPython event is triggered only after the cells have been serialised, which for\n",
       "    // our purposes (turning an active figure into a static one), is too late.\n",
       "    var cells = IPython.notebook.get_cells();\n",
       "    var ncells = cells.length;\n",
       "    for (var i = 0; i < ncells; i++) {\n",
       "        var cell = cells[i];\n",
       "        if (cell.cell_type === 'code') {\n",
       "            for (var j = 0; j < cell.output_area.outputs.length; j++) {\n",
       "                var data = cell.output_area.outputs[j];\n",
       "                if (data.data) {\n",
       "                    // IPython >= 3 moved mimebundle to data attribute of output\n",
       "                    data = data.data;\n",
       "                }\n",
       "                if (data['text/html'] === html_output) {\n",
       "                    return [cell, data, j];\n",
       "                }\n",
       "            }\n",
       "        }\n",
       "    }\n",
       "};\n",
       "\n",
       "// Register the function which deals with the matplotlib target/channel.\n",
       "// The kernel may be null if the page has been refreshed.\n",
       "if (IPython.notebook.kernel !== null) {\n",
       "    IPython.notebook.kernel.comm_manager.register_target(\n",
       "        'matplotlib',\n",
       "        mpl.mpl_figure_comm\n",
       "    );\n",
       "}\n"
      ],
      "text/plain": [
       "<IPython.core.display.Javascript object>"
      ]
     },
     "metadata": {},
     "output_type": "display_data"
    },
    {
     "data": {
      "text/html": [
       "<img src=\"data:image/png;base64,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\" width=\"432\">"
      ],
      "text/plain": [
       "<IPython.core.display.HTML object>"
      ]
     },
     "metadata": {},
     "output_type": "display_data"
    },
    {
     "data": {
      "text/plain": [
       "Text(0.5, 0.92, '2D Multivariate Normal PDF')"
      ]
     },
     "execution_count": 39,
     "metadata": {},
     "output_type": "execute_result"
    }
   ],
   "source": [
    "mu = np.array([1.0, 1.0])\n",
    "sigma = random_2x2_covariance(); print(sigma)\n",
    "mvnorm = sp.stats.multivariate_normal(mean=mu, cov=sigma)\n",
    "\n",
    "x = np.linspace(-6., 6.); y = np.linspace(-6., 6.)\n",
    "xx, yy = np.meshgrid(x, y, indexing='ij') # Grid of |x| * |y| values\n",
    "zz = np.array([[mvnorm.pdf([xx[i, j], yy[i, j]]) for j in range(len(y))] for i in range(len(x))])\n",
    "\n",
    "%matplotlib notebook\n",
    "fig = plt.figure(figsize=(6,6)); ax = fig.add_subplot(111, projection='3d')\n",
    "ax.plot_surface(xx, yy, zz)\n",
    "plt.title('2D Multivariate Normal PDF')"
   ]
  },
  {
   "cell_type": "markdown",
   "id": "152b9e70",
   "metadata": {},
   "source": [
    "#### Aside: Contour Plot\n",
    "\n",
    "For a 2D surface embedded in 3D space, **contour** plot illustrates the curves where the z value is constant."
   ]
  },
  {
   "cell_type": "code",
   "execution_count": 40,
   "id": "f4ad2e8e",
   "metadata": {
    "scrolled": true
   },
   "outputs": [
    {
     "data": {
      "text/plain": [
       "Text(0.5, 1.0, 'Contour plot')"
      ]
     },
     "execution_count": 40,
     "metadata": {},
     "output_type": "execute_result"
    },
    {
     "data": {
      "image/png": "[encoded data removed]",
      "text/plain": [
       "<Figure size 432x432 with 1 Axes>"
      ]
     },
     "metadata": {
      "needs_background": "light"
     },
     "output_type": "display_data"
    }
   ],
   "source": [
    "%matplotlib inline\n",
    "\n",
    "fig = plt.figure(figsize=(6,6))\n",
    "plt.contour(xx, yy, zz)\n",
    "eigvals, eigvecs = np.linalg.eig(sigma)\n",
    "origin = np.array([mu, mu]) # origin point\n",
    "plt.quiver(*origin, eigvecs[0,:], eigvecs[1,:], angles='xy', scale_units='xy', color=['r', 'g', 'b'], scale=1, label='eigenvectors')\n",
    "plt.xlabel('1st component'); plt.ylabel('2nd component')\n",
    "plt.legend(); plt.title('Contour plot')"
   ]
  },
  {
   "cell_type": "markdown",
   "id": "e77a58dd",
   "metadata": {},
   "source": [
    "### Multivariate Normal: Marginal Distributions\n",
    "\n",
    "Recall that the joint density is\n",
    "$$\n",
    "p_{X}(x) = \\frac{1}{(2\\pi)^{D/2}\\sqrt{|\\Sigma|}}\\exp^{-(x - \\mu)^T \\Sigma^{-1} (x - \\mu)/2}\n",
    "$$\n",
    "where\n",
    "$$\n",
    "x = (x_1, \\dots, x_N, x_{N+1}, \\dots, x_{N+M}) \\,.\n",
    "$$\n",
    "\n",
    "We are going to break the vector $x$ into\n",
    "$$\n",
    "x^1 = (x_1, \\dots, x_N)\n",
    "$$\n",
    "and\n",
    "$$\n",
    "x^2 = (x_{N+1}, \\dots, x_{N+M})\n",
    "$$\n",
    "so that we have two parts. We can now choose to marginalize $x^1$ or $x^2$."
   ]
  },
  {
   "cell_type": "markdown",
   "id": "414f1966",
   "metadata": {},
   "source": [
    "#### Notation for marginals\n",
    "\n",
    "Let $$\n",
    "\\mu = \\begin{pmatrix}\n",
    "\\mu_1 \\\\\n",
    "\\mu_2\n",
    "\\end{pmatrix}\n",
    "$$\n",
    "be the mean vector where $\\mu_1$ has dimension $M$ and $\\mu_2$ as dimension $N$.\n",
    "Let $$\n",
    "\\Sigma = \\begin{pmatrix}\n",
    "\\Sigma_{11} & \\Sigma_{12} \\\\\n",
    "\\Sigma_{21} & \\Sigma_{22} \\\\\n",
    "\\end{pmatrix}^{(M + N) \\times (M + N)}\n",
    "$$ be the covariance matrix where $\\Sigma_{11}^{M \\times M}$, $\\Sigma_{12}^{M \\times N}$, $\\Sigma_{21}^{N \\times M}$, and $\\Sigma_{22}^{N \\times N}$.\n",
    "Let $$\n",
    "\\Lambda = \\Sigma^{-1} = \\begin{pmatrix}\n",
    "\\Lambda_{11} & \\Lambda_{12} \\\\\n",
    "\\Lambda_{11} & \\Lambda_{22} \\\\\n",
    "\\end{pmatrix}\n",
    "$$ be the **precision** matrix."
   ]
  },
  {
   "cell_type": "markdown",
   "id": "62a1b89e",
   "metadata": {},
   "source": [
    "#### Marginal distributions\n",
    "\n",
    "Then the marginal distributions are\n",
    "$$\n",
    "p(x^1) = \\mathcal{N}(\\mu_1, \\Sigma_{11})\n",
    "$$\n",
    "and\n",
    "$$\n",
    "p(x^2) = \\mathcal{N}(\\mu_2, \\Sigma_{22}) \\,.\n",
    "$$\n",
    "\n",
    "These marginals are computed by solving\n",
    "\\begin{align*}\n",
    "p(x^1) & = \\int p_X((x^1 \\, x^2))dx^2\n",
    "\\end{align*}\n",
    "and\n",
    "\\begin{align*}\n",
    "p(x^2) & = \\int p_X((x^1 \\, x^2))dx^1 \\,.\n",
    "\\end{align*}"
   ]
  },
  {
   "cell_type": "code",
   "execution_count": 41,
   "id": "2f52df70",
   "metadata": {},
   "outputs": [
    {
     "name": "stdout",
     "output_type": "stream",
     "text": [
      "[[0.79038209 2.31007733]\n",
      " [2.31007733 7.12901014]]\n"
     ]
    },
    {
     "data": {
      "text/plain": [
       "Text(0.5, 1.0, 'Samples from a Multivariate Normal')"
      ]
     },
     "execution_count": 41,
     "metadata": {},
     "output_type": "execute_result"
    },
    {
     "data": {
      "image/png": "[encoded data removed]",
      "text/plain": [
       "<Figure size 432x432 with 1 Axes>"
      ]
     },
     "metadata": {
      "needs_background": "light"
     },
     "output_type": "display_data"
    }
   ],
   "source": [
    "%matplotlib inline\n",
    "\n",
    "mu = np.array([1.0, 1.0])\n",
    "sigma = random_2x2_covariance(); print(sigma)\n",
    "mvnorm = sp.stats.multivariate_normal(mean=mu, cov=sigma)\n",
    "Xs = mvnorm.rvs(size=100)\n",
    "fig = plt.figure(figsize=(6,6))\n",
    "plt.scatter(Xs[:,0], Xs[:, 1], s=10)\n",
    "plt.xlabel('1st component'); plt.ylabel('2nd component')\n",
    "plt.title('Samples from a Multivariate Normal')"
   ]
  },
  {
   "cell_type": "markdown",
   "id": "0e93a750",
   "metadata": {},
   "source": [
    "#### Quick spot check of marginal distributions by sampling"
   ]
  },
  {
   "cell_type": "code",
   "execution_count": 42,
   "id": "ad4c28b5",
   "metadata": {
    "scrolled": true
   },
   "outputs": [
    {
     "data": {
      "text/plain": [
       "Text(0.5, 1.0, 'Histogram of 1st Component')"
      ]
     },
     "execution_count": 42,
     "metadata": {},
     "output_type": "execute_result"
    },
    {
     "data": {
      "image/png": "[encoded data removed]",
      "text/plain": [
       "<Figure size 432x288 with 1 Axes>"
      ]
     },
     "metadata": {
      "needs_background": "light"
     },
     "output_type": "display_data"
    }
   ],
   "source": [
    "# Marginalizing out Y means drop the Y component for the sampling view\n",
    "margy_mean = np.array([mu[0]])          # Getting mu_1\n",
    "margy_cov = np.array([[sigma[0, 0]]])   # Getting Sigma_{11}\n",
    "mvnorm_margy = sp.stats.multivariate_normal(mean=margy_mean, cov=margy_cov)\n",
    "Xs2 = mvnorm_margy.rvs(size=100)\n",
    "\n",
    "plt.hist(Xs[:,0], label='marginalizing joint')\n",
    "plt.hist(Xs2, alpha=0.2, label='marginal directly')\n",
    "plt.title('Histogram of 1st Component')"
   ]
  },
  {
   "cell_type": "code",
   "execution_count": 43,
   "id": "4fcc2c55",
   "metadata": {},
   "outputs": [
    {
     "data": {
      "text/plain": [
       "Text(0.5, 1.0, 'Histogram of 1st Component')"
      ]
     },
     "execution_count": 43,
     "metadata": {},
     "output_type": "execute_result"
    },
    {
     "data": {
      "image/png": "[encoded data removed]",
      "text/plain": [
       "<Figure size 432x288 with 1 Axes>"
      ]
     },
     "metadata": {
      "needs_background": "light"
     },
     "output_type": "display_data"
    }
   ],
   "source": [
    "# Marginalizing out X means drop the X component for the sampling view\n",
    "margy_mean = np.array([mu[1]])         # Getting mu_2\n",
    "margy_cov = np.array([[sigma[1, 1]]])  # Getting Sigma_{22}\n",
    "mvnorm_margy = sp.stats.multivariate_normal(mean=margy_mean, cov=margy_cov)\n",
    "Xs2 = mvnorm_margy.rvs(size=100)\n",
    "\n",
    "plt.hist(Xs[:,1], label='marginalizing joint')\n",
    "plt.hist(Xs2, alpha=0.2, label='marginal directly')\n",
    "plt.title('Histogram of 1st Component')"
   ]
  },
  {
   "cell_type": "markdown",
   "id": "5ea43f23",
   "metadata": {},
   "source": [
    "### Multivariate Normal: Conditional Distributions\n",
    "\n",
    "\n",
    "Recall that the joint density is\n",
    "$$\n",
    "p_{X}(x) = \\frac{1}{(2\\pi)^{D/2}\\sqrt{|\\Sigma|}}\\exp^{-(x - \\mu)^T \\Sigma^{-1} (x - \\mu)/2}\n",
    "$$\n",
    "where\n",
    "$$\n",
    "x = (x_1, \\dots, x_N, x_{N+1}, \\dots, x_{N+M}) \\,.\n",
    "$$\n",
    "\n",
    "We are going to break the vector $x$ into\n",
    "$$\n",
    "x^1 = (x_1, \\dots, x_N)\n",
    "$$\n",
    "and\n",
    "$$\n",
    "x^2 = (x_{N+1}, \\dots, x_{N+M})\n",
    "$$\n",
    "so that we have two parts. We can now choose to condition on $x^1$ or $x^2$."
   ]
  },
  {
   "cell_type": "markdown",
   "id": "cbbd98ed",
   "metadata": {},
   "source": [
    "#### Notation for conditional\n",
    "\n",
    "Let $$\n",
    "\\mu = \\begin{pmatrix}\n",
    "\\mu_1 \\\\\n",
    "\\mu_2\n",
    "\\end{pmatrix}\n",
    "$$\n",
    "be the mean vector where $\\mu_1$ has dimension $M$ and $\\mu_2$ as dimension $N$.\n",
    "Let $$\n",
    "\\Sigma = \\begin{pmatrix}\n",
    "\\Sigma_{11} & \\Sigma_{12} \\\\\n",
    "\\Sigma_{21} & \\Sigma_{22} \\\\\n",
    "\\end{pmatrix}^{(M + N) \\times (M + N)}\n",
    "$$ be the covariance matrix where $\\Sigma_{11}^{M \\times M}$, $\\Sigma_{12}^{M \\times N}$, $\\Sigma_{21}^{N \\times M}$, and $\\Sigma_{22}^{N \\times N}$."
   ]
  },
  {
   "cell_type": "markdown",
   "id": "462b1b41",
   "metadata": {},
   "source": [
    "### Multivariate Normal: Conditional Distributions\n",
    "\n",
    "The conditional of $x^1$ given $x^2$ is\n",
    "$$\n",
    "p(x^1 | x^2) = \\mathcal{N}(x^1 | \\mu_{1|2}, \\Sigma_{1|2})\n",
    "$$\n",
    "where\n",
    "1.\n",
    "\\begin{align*}\n",
    "\\mu_{1|2} & = \\mu_1 + \\Sigma_{12}\\Sigma_{22}^{-1}(y_2 - \\mu_2) \\\\\n",
    "& = \\Sigma_{1|2}(\\Lambda_{11}\\mu_1 - \\Lambda_{12}(y_2 - \\mu_2))\n",
    "\\end{align*}\n",
    "2.\n",
    "$$\n",
    "\\Sigma_{12} = \\Sigma_{11} - \\Sigma_{12}\\Sigma_{22}^{-1}\\Sigma_{21}\n",
    "$$"
   ]
  },
  {
   "cell_type": "markdown",
   "id": "454d2142",
   "metadata": {},
   "source": [
    "#### In terms of precision matrices\n",
    "\n",
    "Recall $$\n",
    "\\Lambda = \\Sigma^{-1} = \\begin{pmatrix}\n",
    "\\Lambda_{11} & \\Lambda_{12} \\\\\n",
    "\\Lambda_{11} & \\Lambda_{22} \\\\\n",
    "\\end{pmatrix}\n",
    "$$ is the precision matrix. In terms of precision matrices,\n",
    "1. \n",
    "$$\n",
    "\\mu_{1|2} = \\mu_1 - \\Lambda_{11}^{-1}\\Lambda_{12}(y_2 - \\mu_2)\n",
    "$$\n",
    "2. \n",
    "$$\n",
    "\\Sigma_{12} = \\Lambda_{11}^{-1}\n",
    "$$"
   ]
  },
  {
   "cell_type": "markdown",
   "id": "81f31451",
   "metadata": {},
   "source": [
    "#### How can we derive this?\n",
    "\n",
    "1. Schur complements\n",
    "2. Inverting a Partitioned Matrix\n",
    "3. Matrix inversion lemma, aka, the Sherman-Morrison-Woodbury formula."
   ]
  },
  {
   "cell_type": "markdown",
   "id": "c1777207",
   "metadata": {},
   "source": [
    "#### Definition: Schur complements\n",
    "\n",
    "Let \n",
    "$$\n",
    "M = \\begin{pmatrix}\n",
    "E & F \\\\\n",
    "G & H\n",
    "\\end{pmatrix}\n",
    "$$\n",
    "We define the **Schur complement** of $M$ with respect to invertible $H$ to be\n",
    "$$\n",
    "M/H = E - FH^{-1}G \\,.\n",
    "$$\n",
    "We define the **Schur complement** of $M$ with respect to invertible $E$ to be\n",
    "$$\n",
    "M/E = H - GE^{-1}F \\,.\n",
    "$$"
   ]
  },
  {
   "cell_type": "markdown",
   "id": "bf454847",
   "metadata": {},
   "source": [
    "#### Inverting a partioned matrix\n",
    "\n",
    "Let \n",
    "$$\n",
    "M = \\begin{pmatrix}\n",
    "E & F \\\\\n",
    "G & H\n",
    "\\end{pmatrix}\n",
    "$$\n",
    "be a matrix where $E$ and $H$ are invertible. Then\n",
    "$$\n",
    "M^{-1} = \\begin{pmatrix}\n",
    "(M/H)^{-1} & - (M/H)^{-1}FH^{-1} \\\\\n",
    "-H^{-1}G(M/H)^{-1} & H^{-1} + H^{-1}G(M/H)^{-1}FH^{-1}\n",
    "\\end{pmatrix}\n",
    "$$\n",
    "if $(M/H)^{-1}$ is invertible."
   ]
  },
  {
   "cell_type": "markdown",
   "id": "a09797e4",
   "metadata": {},
   "source": [
    "#### Proof\n",
    "\n",
    "We want to rearrange the matrices so that we can easy inversions as below\n",
    "$$\n",
    "\\begin{pmatrix}\n",
    "I & -FH^{-1} \\\\\n",
    "0 & I \n",
    "\\end{pmatrix}\n",
    "\\begin{pmatrix}\n",
    "E & F \\\\\n",
    "G & H \n",
    "\\end{pmatrix}\n",
    "\\begin{pmatrix}\n",
    "I & 0 \\\\\n",
    "-H^{-1}G & I\n",
    "\\end{pmatrix}\n",
    "=\n",
    "\\begin{pmatrix}\n",
    "E - FH^{-1}G & 0 \\\\\n",
    "0 & H\n",
    "\\end{pmatrix}\n",
    "$$\n",
    "where we use the assumption that $H$ is invertible."
   ]
  },
  {
   "cell_type": "markdown",
   "id": "9c0dadb2",
   "metadata": {},
   "source": [
    "Inverting both sides gives\n",
    "$$\n",
    "\\begin{pmatrix}\n",
    "I & 0 \\\\\n",
    "-H^{-1}G & I\n",
    "\\end{pmatrix}^{-1}\n",
    "\\begin{pmatrix}\n",
    "E & F \\\\\n",
    "G & H \n",
    "\\end{pmatrix}^{-1}\n",
    "\\begin{pmatrix}\n",
    "I & -FH^{-1} \\\\\n",
    "0 & I \n",
    "\\end{pmatrix}^{-1}\n",
    "=\n",
    "\\begin{pmatrix}\n",
    "M/H & 0 \\\\\n",
    "0 & H\n",
    "\\end{pmatrix}^{-1}\n",
    "$$\n",
    "where we have also used the definition of Schur's complement."
   ]
  },
  {
   "cell_type": "markdown",
   "id": "0486c3f3",
   "metadata": {},
   "source": [
    "Thus\n",
    "\\begin{align*}\n",
    "\\begin{pmatrix}\n",
    "E & F \\\\\n",
    "G & H \n",
    "\\end{pmatrix}^{-1}\n",
    "& =\n",
    "\\begin{pmatrix}\n",
    "I & 0 \\\\\n",
    "-H^{-1}G & I\n",
    "\\end{pmatrix}\n",
    "\\begin{pmatrix}\n",
    "M/H & 0 \\\\\n",
    "0 & H\n",
    "\\end{pmatrix}^{-1}\n",
    "\\begin{pmatrix}\n",
    "I & -FH^{-1} \\\\\n",
    "0 & I \n",
    "\\end{pmatrix} \\\\\n",
    "& =\n",
    "\\begin{pmatrix}\n",
    "I & 0 \\\\\n",
    "-H^{-1}G & I\n",
    "\\end{pmatrix}\n",
    "\\begin{pmatrix}\n",
    "(M/H)^{-1} & 0 \\\\\n",
    "0 & H^{-1}\n",
    "\\end{pmatrix}\n",
    "\\begin{pmatrix}\n",
    "I & -FH^{-1} \\\\\n",
    "0 & I \n",
    "\\end{pmatrix} \\\\\n",
    "& = \\begin{pmatrix}\n",
    "(M/H)^{-1} & - (M/H)^{-1}FH^{-1} \\\\\n",
    "-H^{-1}G(M/H)^{-1} & H^{-1} + H^{-1}G(M/H)^{-1}FH^{-1}\n",
    "\\end{pmatrix}\n",
    "\\end{align*}\n",
    "under the assumption that $(M/H)$ is invertible."
   ]
  },
  {
   "cell_type": "markdown",
   "id": "83d4c50c",
   "metadata": {},
   "source": [
    "#### This idea is symmetric\n",
    "\n",
    "$$\n",
    "\\begin{pmatrix}\n",
    "E & F \\\\\n",
    "G & H \n",
    "\\end{pmatrix}^{-1} = \n",
    "\\begin{pmatrix}\n",
    "E^{-1} + E^{-1}F(M/E)^{-1}GE^{-1} & -E^{-1}F(M/E)^{-1} \\\\\n",
    "-(M/E)^{-1}GE^{-1} & (M/E)^{-1}\n",
    "\\end{pmatrix}\n",
    "$$"
   ]
  },
  {
   "cell_type": "markdown",
   "id": "2e5b48b7",
   "metadata": {},
   "source": [
    "#### Matrix Inversion Lemma \n",
    "\n",
    "The Sherman-Morrison-Woodbury formula\n",
    "$$\n",
    "(M/H)^{-1} = E^{-1} + E^{-1}F(M/E)^{-1}GE^{-1}\n",
    "$$\n",
    "is obtained by matching the corresponding entries of inverting a partioned matrix."
   ]
  },
  {
   "cell_type": "markdown",
   "id": "8440fc3a",
   "metadata": {},
   "source": [
    "#### Derivation of Conditional of Multivariate Normal\n",
    "\n",
    "Recall that the joint density is\n",
    "$$\n",
    "p_{X}(x^1, x^2) \\propto exp\\left(\n",
    "-\\frac{1}{2}\n",
    "\\begin{pmatrix}\n",
    "x^1 - \\mu_1 \\\\\n",
    "x^2 - \\mu_2 \\\\\n",
    "\\end{pmatrix}^T\n",
    "\\begin{pmatrix}\n",
    "\\Sigma_{11} & \\Sigma_{12} \\\\\n",
    "\\Sigma_{21} & \\Sigma_{22}\n",
    "\\end{pmatrix}^{-1}\n",
    "\\begin{pmatrix}\n",
    "x^1 - \\mu_1 \\\\\n",
    "x^2 - \\mu_2 \\\\\n",
    "\\end{pmatrix}\\right)\n",
    "$$\n",
    "where $\\propto$ means proportional to."
   ]
  },
  {
   "cell_type": "markdown",
   "id": "f29c5506",
   "metadata": {},
   "source": [
    "#### Goal\n",
    "\n",
    "We will factor $p(x^1, x^2) = p(x^1|x^2) p(x^2)$."
   ]
  },
  {
   "cell_type": "markdown",
   "id": "33d3fd9f",
   "metadata": {},
   "source": [
    "#### Derivation\n",
    "\n",
    "\\begin{align*}\n",
    "p(x^1, x^2) & \\propto exp\\left(\n",
    "-\\frac{1}{2}\n",
    "\\begin{pmatrix}\n",
    "x^1 - \\mu_1 \\\\\n",
    "x^2 - \\mu_2 \\\\\n",
    "\\end{pmatrix}^T\n",
    "\\begin{pmatrix}\n",
    "I & 0 \\\\\n",
    "-\\Sigma_{22}^{-1}\\Sigma_{21} & I\n",
    "\\end{pmatrix}\n",
    "\\begin{pmatrix}\n",
    "(\\Sigma/\\Sigma_{22})^{-1} & 0 \\\\\n",
    "0 & \\Sigma_{22}^{-1}\n",
    "\\end{pmatrix}\n",
    "\\begin{pmatrix}\n",
    "I & -\\Sigma_{12}\\Sigma_{22}^{-1} \\\\\n",
    "0 & I\n",
    "\\end{pmatrix}^{-1}\n",
    "\\begin{pmatrix}\n",
    "x^1 - \\mu_1 \\\\\n",
    "x^2 - \\mu_2 \\\\\n",
    "\\end{pmatrix}\\right) \\\\\n",
    "& = exp\\left(\n",
    "-\\frac{1}{2}\n",
    "(x_1 - \\mu_1 - \\Sigma_{12}\\Sigma_{22}^{-1}(x_2 -\\mu_2)^T(\\Sigma/\\Sigma_{22})^{-1}(x_1 - \\mu_1 - \\Sigma_{12}\\Sigma_{22}^{-1}(x_2 -\\mu_2))\n",
    "\\right) \\\\\n",
    "& \\phantom{=} \\cdot exp\\left(-\\frac{1}{2}(x_2 - \\mu_2)^T\\Sigma_{22}^{-1}(x_2 - \\mu_2)\\right) \\\\\n",
    "& = p(x^1|x^2) p(x^2)\n",
    "\\end{align*}"
   ]
  },
  {
   "cell_type": "markdown",
   "id": "7224e90a",
   "metadata": {},
   "source": [
    "### Multivariate Normal Distribution Summary\n",
    "\n",
    "1. A **multivariate normal** distribution is notated $\\mathcal{N}(\\mu, \\Sigma)$, and is parameterized by a $D$-dimensional mean vector $\\mu$ and a $D \\times D$ **covariance matrix** $\\Sigma$.\n",
    "$$\n",
    "X \\sim \\mathcal{N}(\\mu, \\Sigma)\n",
    "$$\n",
    "2. A multivariate normal enables us to model $D$-dimensional data.\n",
    "3. We we were introduced the covariance matrix, which enabled us to model correlations between data.\n",
    "4. Along the way we saw a bunch of connections of the covariance matrix with linear algebra: unitary matrices, positive semi-definite matrices, determinants, Schur's complement, the matrix inversion lemma.\n",
    "5. Finally, we saw the connection back to probability with concepts such as the marginal distributions and conditional distributions of multivariate normals."
   ]
  },
  {
   "cell_type": "markdown",
   "id": "308c9a53",
   "metadata": {},
   "source": [
    "## Back to Linear Regression\n",
    "\n",
    "We will apply everything we've learned about multivariate normal distributions back to linear regression."
   ]
  },
  {
   "cell_type": "markdown",
   "id": "87074afc",
   "metadata": {},
   "source": [
    "### Recalling our 3 point dataset\n",
    "\n",
    "Suppose we want to fit a model through a dataset of three points."
   ]
  },
  {
   "cell_type": "code",
   "execution_count": 44,
   "id": "281a03c2",
   "metadata": {},
   "outputs": [
    {
     "data": {
      "text/plain": [
       "[<matplotlib.lines.Line2D at 0x157a2f9d0>]"
      ]
     },
     "execution_count": 44,
     "metadata": {},
     "output_type": "execute_result"
    },
    {
     "data": {
      "image/png": "[encoded data removed]",
      "text/plain": [
       "<Figure size 432x288 with 1 Axes>"
      ]
     },
     "metadata": {
      "needs_background": "light"
     },
     "output_type": "display_data"
    }
   ],
   "source": [
    "x1 = [0.3]; x2 = [-0.5]; x3 = [.1]                \n",
    "X = np.array([x1, x2, x3])   # each row is one point\n",
    "Y = [0.2, -.1, 1.3]\n",
    "plt.xlabel('Feature'); plt.ylabel('Label')\n",
    "plt.plot(X[:,0], Y, marker='o', linestyle='none')"
   ]
  },
  {
   "cell_type": "markdown",
   "id": "55d8979b",
   "metadata": {},
   "source": [
    "### Recall the Probabilistic Model\n",
    "\n",
    "Given dataset $(y^i, x^i)$ and parameters $\\theta$, we have\n",
    "\\begin{align*}\n",
    "p(y^i | x^i; \\theta) & = \\frac{1}{\\sqrt{2\\pi\\sigma^2}}e^{(y^i - (\\sum_{d=1}^D \\theta_d x_d^i + \\theta_{d+1}))^2/(2\\sigma^2)} \\\\\n",
    "p(y | x; \\theta) & = \\prod_{i=1}^N p(y^i | x^i; \\theta)\n",
    "\\end{align*}"
   ]
  },
  {
   "cell_type": "markdown",
   "id": "0405d6d2",
   "metadata": {},
   "source": [
    "### Modeling with a Multivariate Normal Distribution\n",
    "\n",
    "$$\n",
    "p(y | x; \\theta) = \\frac{1}{(2\\pi)^{N/2}\\sqrt{|\\Sigma|}}\\exp^{-(y - \\mu)^T \\Sigma^{-1} (x - \\mu)/2}\n",
    "$$\n",
    "where\n",
    "$$\n",
    "\\mu = \\begin{pmatrix}\n",
    "\\sum_{d=1}^D \\theta_d x^1_d + \\theta_{d+1} \\\\\n",
    "\\vdots \\\\\n",
    "\\sum_{d=1}^D \\theta_d x^N_d + \\theta_{d+1}\n",
    "\\end{pmatrix}\n",
    "$$\n",
    "and\n",
    "$$\n",
    "\\Sigma = \\begin{pmatrix}\n",
    "\\sigma^2 & \\dots & 0 \\\\\n",
    "0 & \\ddots & 0 \\\\\n",
    "0 & \\dots & \\sigma^2 \\\\\n",
    "\\end{pmatrix} = \\sigma^2I\n",
    "$$"
   ]
  },
  {
   "cell_type": "markdown",
   "id": "d9229023",
   "metadata": {},
   "source": [
    "#### Observation 1: Marginals are identical\n",
    "\n",
    "Note that each \n",
    "$$\n",
    "p(y^i | x^i; \\theta) = \\mathcal{N}(\\sum_{d=1}^D \\theta_d x^i_d + \\theta_{d+1}, \\sigma^2)\n",
    "$$\n",
    "by the marginal property of multivariate normal distributions."
   ]
  },
  {
   "cell_type": "markdown",
   "id": "3e780dd0",
   "metadata": {},
   "source": [
    "#### Observation 2: The Probability Density is Identical\n",
    "\n",
    "$$\n",
    "\\begin{align*}\n",
    "p(y | x; \\theta) & = \\frac{1}{(2\\pi)^{N/2}\\sqrt{|\\Sigma|}} \\exp^{-(y - \\mu)^T \\Sigma^{-1} (y - \\mu)/2}\\\\\n",
    "& = \\frac{1}{\\sqrt{2\\pi^N\\sigma^{2N}}} \\exp^{-(y - \\mu)^T(y - \\mu)/(2\\sigma^2)} \\\\\n",
    "& = \\prod_{i=1}^N \\frac{1}{\\sqrt{2\\pi\\sigma^2}}\\exp^{-(y^i - \\mu_i)^2/(2\\sigma^2)} \\\\\n",
    "& = \\prod_{i=1}^N p(y^i | x^i; \\theta)\n",
    "\\end{align*}\n",
    "$$\n",
    "where\n",
    "$$\n",
    "p(y^i | x^i; \\theta) = \\mathcal{N}(\\sum_{d=1}^D \\theta_d x^i_d + \\theta_{d+1}, \\sigma^2)\n",
    "$$"
   ]
  },
  {
   "cell_type": "markdown",
   "id": "9fa8c30b",
   "metadata": {},
   "source": [
    "#### Observation 3: Independent and identically distributed datapoints encoded with identity covariance\n",
    "\n",
    "$$\n",
    "\\Sigma = \\begin{pmatrix}\n",
    "\\sigma^2 & \\dots & 0 \\\\\n",
    "0 & \\ddots & 0 \\\\\n",
    "0 & \\dots & \\sigma^2 \\\\\n",
    "\\end{pmatrix} = \\sigma^2I\n",
    "$$"
   ]
  },
  {
   "cell_type": "markdown",
   "id": "ea27b7a1",
   "metadata": {},
   "source": [
    "#### Aside: Covariance and Independence"
   ]
  },
  {
   "cell_type": "code",
   "execution_count": 45,
   "id": "b7b70038",
   "metadata": {},
   "outputs": [],
   "source": [
    "def cross_covariance(X: np.ndarray, Y: np.ndarray) -> np.ndarray:\n",
    "    return (X - X.mean(axis=0)).transpose() @ (Y - Y.mean(axis=0)) / (Y.shape[0] - 1)"
   ]
  },
  {
   "cell_type": "markdown",
   "id": "3ef0b4c1",
   "metadata": {},
   "source": [
    "#### Independence implies 0 covariance"
   ]
  },
  {
   "cell_type": "code",
   "execution_count": 46,
   "id": "541f4c96",
   "metadata": {},
   "outputs": [
    {
     "name": "stdout",
     "output_type": "stream",
     "text": [
      "Variance 1st component 1.1628104906799168\n",
      "Variance 2n component 0.9250601527574263\n",
      "Cross Covariance between 1st and 2nd component 0.05762173656732321 0.05762173656732321\n"
     ]
    },
    {
     "data": {
      "image/png": "[encoded data removed]",
      "text/plain": [
       "<Figure size 432x432 with 1 Axes>"
      ]
     },
     "metadata": {
      "needs_background": "light"
     },
     "output_type": "display_data"
    }
   ],
   "source": [
    "mu = np.array([0.0, 0.0])\n",
    "sigma = np.eye(2)\n",
    "mvnorm = sp.stats.multivariate_normal(mean=mu, cov=sigma)\n",
    "eigvals, eigvecs = np.linalg.eig(sigma)\n",
    "\n",
    "fig = plt.figure(figsize=(6,6))\n",
    "plt.quiver(*np.array([mu, mu]), eigvecs[0,:], eigvecs[1,:], angles='xy', scale_units='xy', color=['r'], scale=1, label='eigenvectors')\n",
    "Xs = mvnorm.rvs(size=100)\n",
    "plt.scatter(Xs[:,0], Xs[:,1])\n",
    "plt.xlim(-3, 3); plt.ylim(-3, 3)\n",
    "plt.xlabel('1st component'); plt.ylabel('2nd component'); plt.title('0 Covariance, Independent')\n",
    "Cov = cross_covariance(Xs, Xs)\n",
    "print(\"Variance 1st component\", Cov[0, 0])\n",
    "print(\"Variance 2n component\", Cov[1, 1])\n",
    "print(\"Cross Covariance between 1st and 2nd component\", Cov[0, 1], Cov[1, 0])"
   ]
  },
  {
   "cell_type": "markdown",
   "id": "c23363fb",
   "metadata": {},
   "source": [
    "#### 0 covariance does not imply independence"
   ]
  },
  {
   "cell_type": "code",
   "execution_count": 47,
   "id": "449e85d4",
   "metadata": {},
   "outputs": [
    {
     "name": "stdout",
     "output_type": "stream",
     "text": [
      "Variance 1st component 1.1628104906799168\n",
      "Variance 2nd component 0.9250601527574263\n",
      "Cross Covariance between 1st and 2nd component 0.05762173656732321 0.05762173656732321\n"
     ]
    },
    {
     "data": {
      "image/png": "[encoded data removed]",
      "text/plain": [
       "<Figure size 432x432 with 1 Axes>"
      ]
     },
     "metadata": {
      "needs_background": "light"
     },
     "output_type": "display_data"
    }
   ],
   "source": [
    "X1s = sp.stats.uniform(-1, 1).rvs(size=100)\n",
    "X2s = X1s**2\n",
    "\n",
    "fig = plt.figure(figsize=(6,6))\n",
    "plt.scatter(X1s, X2s)\n",
    "plt.xlim(-3, 3); plt.ylim(-3, 3)\n",
    "plt.xlabel('1st component'); plt.ylabel('2nd component'); plt.title('0 Covariance, dependent')\n",
    "Cov = cross_covariance(Xs, Xs)\n",
    "print(\"Variance 1st component\", Cov[0, 0])\n",
    "print(\"Variance 2nd component\", Cov[1, 1])\n",
    "print(\"Cross Covariance between 1st and 2nd component\", Cov[0, 1], Cov[1, 0])"
   ]
  },
  {
   "cell_type": "markdown",
   "id": "40030bdf",
   "metadata": {},
   "source": [
    "#### Positive covariance"
   ]
  },
  {
   "cell_type": "code",
   "execution_count": 48,
   "id": "8971f871",
   "metadata": {},
   "outputs": [
    {
     "name": "stdout",
     "output_type": "stream",
     "text": [
      "Variance 1st component 0.7182726930392782\n",
      "Variance 2nd component 0.7385081906945763\n",
      "Cross Covariance between 1st and 2nd component 0.5508045283616927 0.5508045283616927\n"
     ]
    },
    {
     "data": {
      "image/png": "[encoded data removed]",
      "text/plain": [
       "<Figure size 432x432 with 1 Axes>"
      ]
     },
     "metadata": {
      "needs_background": "light"
     },
     "output_type": "display_data"
    }
   ],
   "source": [
    "mu = np.array([0.0, 0.0])\n",
    "sigma = np.array([[.707, -.707], [.707, .707]]) @ np.diag([1.0, .2]) @ np.array([[.707, -.707], [.707, .707]]).transpose()\n",
    "mvnorm = sp.stats.multivariate_normal(mean=mu, cov=sigma)\n",
    "eigvals, eigvecs = np.linalg.eig(sigma)\n",
    "\n",
    "fig = plt.figure(figsize=(6,6))\n",
    "plt.quiver(*np.array([mu, mu]), eigvecs[0,:], eigvecs[1,:], angles='xy', scale_units='xy', color=['r'], scale=1, label='eigenvectors')\n",
    "Xs = mvnorm.rvs(size=100)\n",
    "plt.scatter(Xs[:,0], Xs[:,1])\n",
    "plt.xlim(-3, 3); plt.ylim(-3, 3)\n",
    "plt.xlabel('1st component'); plt.ylabel('2nd component'); plt.title('Positive Covariance')\n",
    "Cov = cross_covariance(Xs, Xs)\n",
    "print(\"Variance 1st component\", Cov[0, 0])\n",
    "print(\"Variance 2nd component\", Cov[1, 1])\n",
    "print(\"Cross Covariance between 1st and 2nd component\", Cov[0, 1], Cov[1, 0])"
   ]
  },
  {
   "cell_type": "markdown",
   "id": "10ec2a71",
   "metadata": {},
   "source": [
    "#### Negative covariance"
   ]
  },
  {
   "cell_type": "code",
   "execution_count": 49,
   "id": "14990790",
   "metadata": {},
   "outputs": [
    {
     "name": "stdout",
     "output_type": "stream",
     "text": [
      "Variance 1st component 0.6922698759029854\n",
      "Variance 2nd component 0.5976412486882785\n",
      "Cross Covariance between 1st and 2nd component -0.39882672640906525 -0.39882672640906525\n"
     ]
    },
    {
     "data": {
      "image/png": "[encoded data removed]",
      "text/plain": [
       "<Figure size 432x432 with 1 Axes>"
      ]
     },
     "metadata": {
      "needs_background": "light"
     },
     "output_type": "display_data"
    }
   ],
   "source": [
    "mu = np.array([0.0, 0.0])\n",
    "sigma = np.array([[.707, -.707], [.707, .707]]) @ np.diag([.2, 1.0]) @ np.array([[.707, -.707], [.707, .707]]).transpose()\n",
    "mvnorm = sp.stats.multivariate_normal(mean=mu, cov=sigma)\n",
    "eigvals, eigvecs = np.linalg.eig(sigma)\n",
    "\n",
    "fig = plt.figure(figsize=(6,6))\n",
    "plt.quiver(*np.array([mu, mu]), eigvecs[0,:], eigvecs[1,:], angles='xy', scale_units='xy', color=['r'], scale=1, label='eigenvectors')\n",
    "Xs = mvnorm.rvs(size=100)\n",
    "plt.scatter(Xs[:,0], Xs[:,1])\n",
    "plt.xlim(-3, 3); plt.ylim(-3, 3)\n",
    "plt.xlabel('1st component'); plt.ylabel('2nd component'); plt.title('Negative Covariance')\n",
    "Cov = cross_covariance(Xs, Xs)\n",
    "print(\"Variance 1st component\", Cov[0, 0])\n",
    "print(\"Variance 2nd component\", Cov[1, 1])\n",
    "print(\"Cross Covariance between 1st and 2nd component\", Cov[0, 1], Cov[1, 0])"
   ]
  },
  {
   "cell_type": "markdown",
   "id": "cbb4dcab",
   "metadata": {},
   "source": [
    "## Summary\n",
    "\n",
    "1. We saw that random variables formed a vector space.\n",
    "    - This is our first example of a vector space that we couldn't visualize as a base point + direction.\n",
    "    - We defined expectation which we saw was linear.\n",
    "    - This enabled us to define the notion of covariance.\n",
    "2. We then looked at multivariate normal distributions.\n",
    "    - A multivariate normal distribution defines a distribution on vectors. It produces a random vector.\n",
    "    - A random vector is a vector in the space of random variables!\n",
    "    - We saw that the notion of covariance matrix tied together many ideas in linear algebra and probability.\n",
    "3. Finally we saw that a multivariate normal distribution could be used to explain a linear regression."
   ]
  },
  {
   "cell_type": "markdown",
   "id": "ea8a2ae6",
   "metadata": {},
   "source": [
    "## Gaussian Process Regression\n",
    "\n",
    "1. We've built up a lot of powerful machinery.\n",
    "2. We can now use this machinery to begin creating non-linear models.\n",
    "3. The first one we will look at is called a Gaussian Process (GP) regression."
   ]
  },
  {
   "cell_type": "markdown",
   "id": "87029409",
   "metadata": {},
   "source": [
    "### Problem\n",
    "\n",
    "A linear model can only fit the data if the underlying model is generated by a line."
   ]
  },
  {
   "cell_type": "code",
   "execution_count": 50,
   "id": "76a6dc7b",
   "metadata": {},
   "outputs": [
    {
     "data": {
      "text/plain": [
       "Text(0.5, 1.0, 'Example Data')"
      ]
     },
     "execution_count": 50,
     "metadata": {},
     "output_type": "execute_result"
    },
    {
     "data": {
      "image/png": "[encoded data removed]",
      "text/plain": [
       "<Figure size 432x288 with 1 Axes>"
      ]
     },
     "metadata": {
      "needs_background": "light"
     },
     "output_type": "display_data"
    }
   ],
   "source": [
    "def nonlinear_f(x):\n",
    "    return x**2\n",
    "\n",
    "xs = np.linspace(-10, 10)\n",
    "ys = np.array([nonlinear_f(x) for x in xs])\n",
    "plt.plot(xs, ys, marker='o', linestyle='None', label='data')\n",
    "plt.xlabel('Features'); plt.ylabel('Label'); plt.title('Example Data')"
   ]
  },
  {
   "cell_type": "code",
   "execution_count": 51,
   "id": "da6552ed",
   "metadata": {},
   "outputs": [],
   "source": [
    "# Our simple linear model again\n",
    "def linear_algebra_solve(X, Y):\n",
    "    X_p = np.concatenate([X, np.ones((X.shape[0], 1))], axis=1)\n",
    "    return np.linalg.solve(X_p.transpose() @ X_p, X_p.transpose() @ Y)\n",
    "\n",
    "def linear_predict(weights, x):\n",
    "    return np.dot(weights[:-1], x) + weights[-1]"
   ]
  },
  {
   "cell_type": "code",
   "execution_count": 52,
   "id": "570332b7",
   "metadata": {},
   "outputs": [
    {
     "data": {
      "text/plain": [
       "Text(0.5, 1.0, 'Failure of Linear Model')"
      ]
     },
     "execution_count": 52,
     "metadata": {},
     "output_type": "execute_result"
    },
    {
     "data": {
      "image/png": "[encoded data removed]",
      "text/plain": [
       "<Figure size 432x288 with 1 Axes>"
      ]
     },
     "metadata": {
      "needs_background": "light"
     },
     "output_type": "display_data"
    }
   ],
   "source": [
    "xs = np.linspace(-3, 3)\n",
    "ys = np.array([nonlinear_f(x) for x in xs])\n",
    "weights = linear_algebra_solve(xs.reshape(-1, 1), ys)\n",
    "ys_pred = np.array([linear_predict(weights, np.array([x])) for x in xs])\n",
    "plt.plot(xs, ys, marker='o', linestyle='None', label='data')\n",
    "plt.plot(xs, ys_pred, label='prediction')\n",
    "plt.xlabel('Features'); plt.ylabel('Label')\n",
    "plt.legend(); plt.title('Failure of Linear Model')"
   ]
  },
  {
   "cell_type": "markdown",
   "id": "e2de872a",
   "metadata": {},
   "source": [
    "### Many Possible Solutions\n",
    "\n",
    "1. Make our model more powerful by making it non-linear.\n",
    "2. Use a linear model in a higher dimensional space. This is called the **kernel trick**."
   ]
  },
  {
   "cell_type": "markdown",
   "id": "7664a857",
   "metadata": {},
   "source": [
    "### Solution 1: Kernel Trick with Linear Regression\n",
    "\n",
    "1. Choose a set $\\phi_i$ of **feature mappings** that map the original input into a higher dimensional output space.\n",
    "2. Perform a linear regression in the higher dimensional output space.\n",
    "3. The idea is that the function may be linear in the higher dimensional output space.\n",
    "\n",
    "Use\n",
    "$$\n",
    "\\begin{pmatrix}\n",
    "| & \\dots & | \\\\\n",
    "\\phi_1(X) & \\dots & \\phi_M(X) \\\\\n",
    "| & \\dots & |\n",
    "\\end{pmatrix}\n",
    "$$\n",
    "instead of original data matrix $X$.\n",
    "\n",
    "Solve\n",
    "$$\n",
    "\\begin{pmatrix}\n",
    "| & \\dots & | & 1 \\\\\n",
    "\\phi_1(X) & \\dots & \\phi_M(X) & 1 \\\\\n",
    "| & \\dots & | & 1\n",
    "\\end{pmatrix} \\theta = Y\n",
    "$$\n",
    "for weights $\\theta$."
   ]
  },
  {
   "cell_type": "code",
   "execution_count": 53,
   "id": "6df5aca3",
   "metadata": {},
   "outputs": [],
   "source": [
    "def feature_1(x):\n",
    "    return x\n",
    "\n",
    "def feature_2(x):\n",
    "    return x**2"
   ]
  },
  {
   "cell_type": "code",
   "execution_count": 54,
   "id": "e93ca3b9",
   "metadata": {},
   "outputs": [],
   "source": [
    "xs1 = np.array([feature_1(x) for x in np.linspace(-10, 10)])\n",
    "xs2 = np.array([feature_2(x) for x in np.linspace(-10, 10)])\n",
    "ys = np.array([nonlinear_f(x) for x in xs])"
   ]
  },
  {
   "cell_type": "code",
   "execution_count": 55,
   "id": "d2c1ac67",
   "metadata": {},
   "outputs": [
    {
     "data": {
      "text/plain": [
       "Text(0.5, 0.92, 'Kernel Trick')"
      ]
     },
     "execution_count": 55,
     "metadata": {},
     "output_type": "execute_result"
    },
    {
     "data": {
      "image/png": "[encoded data removed]",
      "text/plain": [
       "<Figure size 432x432 with 1 Axes>"
      ]
     },
     "metadata": {
      "needs_background": "light"
     },
     "output_type": "display_data"
    }
   ],
   "source": [
    "fig = plt.figure(figsize=(6,6))\n",
    "ax = fig.add_subplot(111, projection='3d')\n",
    "ax.scatter(xs1, xs2, ys)\n",
    "plt.xlabel('basis1'); plt.xlabel('basis2'); plt.xlabel('y value')\n",
    "plt.title('Kernel Trick')"
   ]
  },
  {
   "cell_type": "code",
   "execution_count": 56,
   "id": "f0debedb",
   "metadata": {},
   "outputs": [
    {
     "name": "stdout",
     "output_type": "stream",
     "text": [
      "Weights [-1.01865145e-31  1.00000000e+00 -5.62469594e-15]\n"
     ]
    },
    {
     "data": {
      "text/plain": [
       "Text(0.5, 0.92, 'Kernel Trick with Fitted Linear Regression')"
      ]
     },
     "execution_count": 56,
     "metadata": {},
     "output_type": "execute_result"
    },
    {
     "data": {
      "image/png": "[encoded data removed]",
      "text/plain": [
       "<Figure size 432x432 with 1 Axes>"
      ]
     },
     "metadata": {
      "needs_background": "light"
     },
     "output_type": "display_data"
    }
   ],
   "source": [
    "X = np.stack([xs1, xs2], axis=1)\n",
    "Y = np.array([nonlinear_f(x) for x in xs1])\n",
    "weights = linear_algebra_solve(X, Y)\n",
    "print(\"Weights\", weights)\n",
    "\n",
    "xx, yy = np.meshgrid(xs1, xs2, indexing='ij')\n",
    "zz = np.array([[linear_predict(weights, np.array([x1, x2])) for x2 in xs2] for x1 in xs1])\n",
    "\n",
    "fig = plt.figure(figsize=(6,6))\n",
    "ax = fig.add_subplot(111, projection='3d')\n",
    "ax.scatter(xs1, xs2, Y, 'Data')\n",
    "ax.plot_surface(xx, yy, zz, alpha=0.1, label='Linear Regression')\n",
    "plt.title('Kernel Trick with Fitted Linear Regression')"
   ]
  },
  {
   "cell_type": "markdown",
   "id": "c9a8e708",
   "metadata": {},
   "source": [
    "### Probabilistic View of Kernel Trick\n",
    "\n",
    "1. Let's interpret the kernel trick with linear regression in terms of the probabilistic view again.\n",
    "2. We get that the standard linear regression solution is the maximum of\n",
    "$$\n",
    "p(y| x; \\theta) = \\mathcal{N}(\\sum_{i=1}^M\\theta_i\\phi_i(x) + \\theta_{i+1}, \\sigma^2I) \\,.\n",
    "$$\n",
    "3. Notice that the mean of the multivariate normal is where the non-linearity in terms of our function parameters shows up."
   ]
  },
  {
   "cell_type": "markdown",
   "id": "23c9d5e4",
   "metadata": {},
   "source": [
    "### Solution 2: More Powerful Model\n",
    "\n",
    "1. Is there another way to create a nonlinear model with a multivariate normal?\n",
    "2. Let's start with the model\n",
    "$$\n",
    "p\\left(\\begin{pmatrix}\n",
    "y \\\\\n",
    "y^*\n",
    "\\end{pmatrix}\n",
    "| \n",
    "\\begin{pmatrix}\n",
    "x \\\\\n",
    "x^*\n",
    "\\end{pmatrix}\n",
    "\\right) = \\mathcal{N}(\\mu, \\Sigma)\n",
    "$$\n",
    "where $x = (x^i, y^i)_{1 \\leq i \\leq N}$ are data,\n",
    "$\\mu \\in \\mathbb{R}^D$ is a mean, $\\phi: \\mathbb{R}^D \\rightarrow \\mathbb{R}^M$ is a feature map,\n",
    "$$\n",
    "\\Sigma = \\begin{pmatrix}\n",
    "- & \\phi(x^1) & - \\\\\n",
    "- & \\vdots & - \\\\\n",
    "- & \\phi(x^N) & - \\\\\n",
    "- & \\phi(x^*) & -\n",
    "\\end{pmatrix}\n",
    "\\begin{pmatrix}\n",
    "| & \\dots & | & |\\\\\n",
    "\\phi(x^1) & \\dots & \\phi(x^N) & \\phi(x^*) \\\\\n",
    "| & \\dots & | & | \\\\\n",
    "\\end{pmatrix} \\,.\n",
    "$$\n",
    "\n",
    "1. The matrix is clearly a covariance matrix as $A^TA$ is always positive semi-definite.\n",
    "2. Notice that we no longer have any parameters $\\theta$. Such a method is called a **kernel method** (not to be confused with kernel trick) because it uses all the data points in the training dataset.\n",
    "3. Notice that we are also modeling the distribution of $y^*$ given $x^*$ which did not happen in our previous models. We do this because instead of learning parameters $\\theta$ and using it to construct a prediction $y^*$ given an $x^*$, we are going to construct a distribution by conditioning."
   ]
  },
  {
   "cell_type": "markdown",
   "id": "4fc4dede",
   "metadata": {},
   "source": [
    "#### Conditioning\n",
    "\n",
    "Construct a model by conditioning on the dataset $(x^i, y^i)_{1 \\leq i \\leq N}$.\n",
    "Suppose\n",
    "$$\n",
    "\\Sigma = \\begin{pmatrix}\n",
    "\\Sigma_{X, X} & \\Sigma_{*, X} \\\\\n",
    "\\Sigma_{X, *}&* \\Sigma_{*, *}\n",
    "\\end{pmatrix}\n",
    "$$\n",
    "where\n",
    "$$\n",
    "\\Sigma_{X, *} = \\begin{pmatrix}\n",
    "- & \\phi(x^*) & -\n",
    "\\end{pmatrix}\n",
    "\\begin{pmatrix}\n",
    "| & \\dots & | \\\\\n",
    "\\phi(x^1) & \\dots & \\phi(x^N) \\\\\n",
    "| & \\dots & | & \\\\\n",
    "\\end{pmatrix} = \\Sigma_{*, X}^T \\,,\n",
    "$$\n",
    "$$\n",
    "\\Sigma_{X, X } = \\begin{pmatrix}\n",
    "- & \\phi(x^1) & - \\\\\n",
    "- & \\vdots & - \\\\\n",
    "- & \\phi(x^N) & - \\\\\n",
    "\\end{pmatrix}\n",
    "\\begin{pmatrix}\n",
    "| & \\dots & | \\\\\n",
    "\\phi(x^1) & \\dots & \\phi(x^N) \\\\\n",
    "| & \\dots & | \\\\\n",
    "\\end{pmatrix} \\,,\n",
    "$$\n",
    "and\n",
    "$$\n",
    "\\Sigma_{*, *} = \\begin{pmatrix}\n",
    "- & \\phi(x^*) & -\n",
    "\\end{pmatrix}\n",
    "\\begin{pmatrix}\n",
    "| \\\\\n",
    "\\phi(x^*) \\\\\n",
    "| \\\\\n",
    "\\end{pmatrix} \\,.\n",
    "$$.\n",
    "\n",
    "Then\n",
    "$$\n",
    "p\\left(\\begin{pmatrix}\n",
    "y^*\n",
    "\\end{pmatrix}\n",
    "| \n",
    "\\begin{pmatrix}\n",
    "X \\\\\n",
    "x^*\n",
    "\\end{pmatrix}, y\n",
    "\\right) = \\mathcal{N}(\\Sigma^{T}_{X, *}\\Sigma^{-1}_{X, X}(y - \\mu(X)) + \\mu(x^*), \\Sigma_{*, *} - \\Sigma_{X,*}\\Sigma^{-1}_{X, X}\\Sigma_{X, *})\n",
    "$$\n",
    "which follows from the conditional of a multivariate normal."
   ]
  },
  {
   "cell_type": "markdown",
   "id": "1c08e88a",
   "metadata": {},
   "source": [
    "#### Conditioning creates nonlinearity\n",
    "\n",
    "The **posterior predictive mean**\n",
    "$$\n",
    "\\int y^* p\\left(\\begin{pmatrix}\n",
    "y^*\n",
    "\\end{pmatrix}\n",
    "| \n",
    "\\begin{pmatrix}\n",
    "X \\\\\n",
    "x^*\n",
    "\\end{pmatrix}, y\n",
    "\\right) dy^* = \\Sigma^{T}_{X, *}\\Sigma^{-1}_{X, X}(y - \\mu(X))\n",
    "$$\n",
    "is nonlinear because $\\Sigma^{T}_{X, *}$ is a nonlinear combination of $y^*$."
   ]
  },
  {
   "cell_type": "markdown",
   "id": "d1a24d69",
   "metadata": {},
   "source": [
    "### Definition: Gaussian Process\n",
    "\n",
    "We have just constructed what is known as a **Gaussian Process** (GP). A GP is a model parameterized by\n",
    "1. a **mean function** $\\mu: \\mathbb{R}^D \\rightarrow \\mathbb{R}$ and\n",
    "2. a positive definite **kernel function** $k: \\mathbb{R}^D \\times \\mathbb{R}^D \\rightarrow \\mathbb{R}$ such that $k(x, y) = \\langle \\phi(x), \\phi(y) \\rangle$ for some feature map $\\phi: \\mathbb{R}^D \\rightarrow \\mathbb{H}$ where $\\mathbb{H}$ is a **Hilbert space** that allows for infinite dimensional features. Under this parameterization, $k$ is a function that measures the similarity between the two inputs $x$ and $y$. $k(x, y) = 0$ means completely dissimilar and $k(x, y) = 1$ means identical.\n",
    "\n",
    "The **posterior predictive distribution** is given as\n",
    "$$\n",
    "p\\left(\\begin{pmatrix}\n",
    "y^*\n",
    "\\end{pmatrix}\n",
    "| \n",
    "\\begin{pmatrix}\n",
    "X \\\\\n",
    "x^*\n",
    "\\end{pmatrix}, y\n",
    "\\right) = \\mathcal{N}(\\Sigma^{T}_{X, *}\\Sigma^{-1}_{X, X}(y - \\mu(X)), \\Sigma_{*, *} - \\Sigma_{X,*}\\Sigma^{-1}_{X, X}\\Sigma_{X, *}) \\,.\n",
    "$$\n",
    "\n",
    "The quantity \n",
    "$$\n",
    "\\alpha = \\Sigma^{-1}_{X, X}(y - \\mu(X))\n",
    "$$\n",
    "are called the **weights** of the GP regression.\n",
    "\n",
    "Observe that\n",
    "$$\n",
    "\\Sigma = \\begin{pmatrix}\n",
    "- & \\phi(x^1) & - \\\\\n",
    "- & \\vdots & - \\\\\n",
    "- & \\phi(x^N) & - \\\\\n",
    "- & \\phi(x^*) & -\n",
    "\\end{pmatrix}\n",
    "\\begin{pmatrix}\n",
    "| & \\dots & | & |\\\\\n",
    "\\phi(x^1) & \\dots & \\phi(x^N) & \\phi(x^*) \\\\\n",
    "| & \\dots & | & | \\\\\n",
    "\\end{pmatrix} = \\begin{pmatrix}\n",
    "k(x^1, x^1) & \\dots & k(x^1, x^N) & k(x^1, x^*)\\\\\n",
    "\\vdots & \\dots & \\vdots & \\vdots \\\\\n",
    "k(x^N, x^1) & \\dots & k(x^N, x^N) & k(x^N, x^*) \\\\\n",
    "k(x^*, x^1) & \\dots & k(x^*, x^N) & k(x^*, x^*) \\\\\n",
    "\\end{pmatrix}\n",
    "$$"
   ]
  },
  {
   "cell_type": "code",
   "execution_count": 57,
   "id": "08c3fece",
   "metadata": {},
   "outputs": [
    {
     "data": {
      "text/plain": [
       "[<matplotlib.lines.Line2D at 0x168a6df10>]"
      ]
     },
     "execution_count": 57,
     "metadata": {},
     "output_type": "execute_result"
    },
    {
     "data": {
      "image/png": "[encoded data removed]",
      "text/plain": [
       "<Figure size 432x288 with 1 Axes>"
      ]
     },
     "metadata": {
      "needs_background": "light"
     },
     "output_type": "display_data"
    }
   ],
   "source": [
    "x1 = [0.3]; x2 = [-0.5]; x3 = [.1]                \n",
    "X = np.array([x1, x2, x3])   # each row is one point\n",
    "Y = [0.2, -.1, 1.3]\n",
    "plt.xlabel('Feature'); plt.ylabel('Label')\n",
    "plt.plot(X[:,0], Y, marker='o', linestyle='none')"
   ]
  },
  {
   "cell_type": "code",
   "execution_count": 58,
   "id": "12679aed",
   "metadata": {},
   "outputs": [],
   "source": [
    "# GP Mean\n",
    "def mean(x: np.ndarray) -> np.ndarray:\n",
    "    return np.zeros(x.shape[0])\n",
    "\n",
    "# GP Kernel (radial basis function)\n",
    "def kernel(lengthscale: float, x: np.ndarray, y: np.ndarray) -> float:\n",
    "    return np.exp(-(x - y)**2/(2. * lengthscale))"
   ]
  },
  {
   "cell_type": "code",
   "execution_count": 59,
   "id": "c756135e",
   "metadata": {},
   "outputs": [
    {
     "data": {
      "text/plain": [
       "[<matplotlib.lines.Line2D at 0x168aa8eb0>]"
      ]
     },
     "execution_count": 59,
     "metadata": {},
     "output_type": "execute_result"
    },
    {
     "data": {
      "image/png": "[encoded data removed]",
      "text/plain": [
       "<Figure size 432x288 with 1 Axes>"
      ]
     },
     "metadata": {
      "needs_background": "light"
     },
     "output_type": "display_data"
    }
   ],
   "source": [
    "rs = np.linspace(0.0, 3.0)\n",
    "plt.xlabel('radius'); plt.ylabel('kernel'); plt.title('Radial Basis Function')\n",
    "plt.plot(rs, [kernel(1.0, np.array([0.0]), np.array([r])) for r in rs])"
   ]
  },
  {
   "cell_type": "code",
   "execution_count": 60,
   "id": "dd25cc67",
   "metadata": {},
   "outputs": [],
   "source": [
    "def solve_posterior_predictive_mean(lengthscale: float,\n",
    "                                    mean: Callable[[np.ndarray], np.ndarray],\n",
    "                                    kernel: Callable[[float, np.ndarray, np.ndarray], np.ndarray],\n",
    "                                    X: np.ndarray,\n",
    "                                    Y: np.ndarray) -> np.ndarray:\n",
    "    K = np.stack([np.array([kernel(lengthscale, x1, x2) for x2 in X]).reshape(-1) for x1 in X])\n",
    "    # Adding noise to the covariance matrix\n",
    "    K = K + 1e-7*np.eye(K.shape[0])\n",
    "    b = Y - mean(X)\n",
    "    # NOTE: this is a naive implementation , typically we can use the special properties of\n",
    "    # the covariance matrix    \n",
    "    return np.linalg.solve(K, b)\n",
    "\n",
    "def predict_posterior_predictive_mean(lengthscale: float,\n",
    "                                      mean: Callable[[np.ndarray], np.ndarray],\n",
    "                                      kernel: Callable[[float, np.ndarray, np.ndarray], np.ndarray],\n",
    "                                      X: np.ndarray,\n",
    "                                      alpha: np.ndarray,\n",
    "                                      xstar: np.ndarray) -> np.ndarray:\n",
    "    return np.dot(np.array([kernel(lengthscale, x, xstar) for x in X]).reshape(-1), alpha) + mean(xstar)"
   ]
  },
  {
   "cell_type": "markdown",
   "id": "ddb25cfa",
   "metadata": {},
   "source": [
    "#### Aside: Solving linear equations involving covariance matrices\n",
    "\n",
    "We want to solve\n",
    "$$\n",
    "Kx = b\n",
    "$$\n",
    "for $x$ given $K$ and $b$.\n",
    "\n",
    "Observe that\n",
    "$$\n",
    "LL^Tx = b\n",
    "$$\n",
    "where $K = LL^T$ by Cholesky.\n",
    "\n",
    "Thus we can\n",
    "1. Perform Cholesky decomposition to obtain $K = LL^T$.\n",
    "2. Solve $Ly = b$ for y.\n",
    "3. Now we observe that $L^Tx = y$ and so we solve this for $x$."
   ]
  },
  {
   "cell_type": "code",
   "execution_count": 61,
   "id": "6e6a5966",
   "metadata": {},
   "outputs": [
    {
     "data": {
      "text/plain": [
       "(array([413.61129869, -41.40736335]), array([413.61129869, -41.40736335]))"
      ]
     },
     "execution_count": 61,
     "metadata": {},
     "output_type": "execute_result"
    }
   ],
   "source": [
    "def covariance_solve(K, b):\n",
    "    L = np.linalg.cholesky(K)\n",
    "    y = sp.linalg.solve_triangular(L, b, lower=True)\n",
    "    return sp.linalg.solve_triangular(L.transpose(), y)\n",
    "\n",
    "K = random_2x2_covariance()\n",
    "b = np.array([1.0, 0.0])\n",
    "covariance_solve(K, b), np.linalg.solve(K, b)"
   ]
  },
  {
   "cell_type": "markdown",
   "id": "da41d9df",
   "metadata": {},
   "source": [
    "#### Observation 1: Perfect Interpolation\n",
    "\n",
    "A GP exactly interpolates the points in the dataset."
   ]
  },
  {
   "cell_type": "code",
   "execution_count": 70,
   "id": "be811e0b",
   "metadata": {},
   "outputs": [
    {
     "name": "stdout",
     "output_type": "stream",
     "text": [
      "Weights [-132.3678069   -44.45788619  168.1810799 ]\n"
     ]
    },
    {
     "data": {
      "text/plain": [
       "Text(0, 0.5, 'Label')"
      ]
     },
     "execution_count": 70,
     "metadata": {},
     "output_type": "execute_result"
    },
    {
     "data": {
      "image/png": "[encoded data removed]",
      "text/plain": [
       "<Figure size 432x288 with 1 Axes>"
      ]
     },
     "metadata": {
      "needs_background": "light"
     },
     "output_type": "display_data"
    }
   ],
   "source": [
    "lengthscale = 1.\n",
    "alpha = solve_posterior_predictive_mean(lengthscale, mean, kernel, X, Y)\n",
    "print(\"Weights\", alpha)\n",
    "plt.plot(X[:,0], Y, marker='o', linestyle='none')\n",
    "pred = partial(predict_posterior_predictive_mean, lengthscale, mean, kernel, X, alpha)\n",
    "xs = np.linspace(-5, 5)\n",
    "y_preds = [pred(np.array([x])) for x in xs]\n",
    "plt.plot(xs, y_preds); plt.title('Gaussian Process Regression')\n",
    "plt.xlabel('Feature'); plt.ylabel('Label')"
   ]
  },
  {
   "cell_type": "markdown",
   "id": "9e77cd42",
   "metadata": {},
   "source": [
    "#### Observation 2: Effect of Mean\n",
    "\n",
    "1. A GP reverts to the mean on a point far away from points in the dataset.\n",
    "2. Recall\n",
    "\\begin{align*}\n",
    "f(x^*) & = \\Sigma^{T}_{X, *}\\Sigma^{-1}_{X, X}(y - \\mu(X)) + \\mu(x^*) \\\\\n",
    " & = \\sum_{i=1}^N \\alpha_i k(x_i, x^*) + \\mu(x^*)\n",
    "\\end{align*}\n",
    "where $\\alpha = \\Sigma^{-1}_{X, X}(y - \\mu(X))$.\n",
    "3. Thus $f(x^*) \\approx \\mu(x^*)$ when $k(x_i, x^*) \\approx 0$ for every $i$."
   ]
  },
  {
   "cell_type": "code",
   "execution_count": 71,
   "id": "fbd016d8",
   "metadata": {},
   "outputs": [
    {
     "name": "stdout",
     "output_type": "stream",
     "text": [
      "Weights [-132.3678069   -44.45788619  168.1810799 ]\n"
     ]
    },
    {
     "data": {
      "text/plain": [
       "Text(0.5, 1.0, 'Gaussian Process Regression')"
      ]
     },
     "execution_count": 71,
     "metadata": {},
     "output_type": "execute_result"
    },
    {
     "data": {
      "image/png": "[encoded data removed]",
      "text/plain": [
       "<Figure size 432x288 with 1 Axes>"
      ]
     },
     "metadata": {
      "needs_background": "light"
     },
     "output_type": "display_data"
    }
   ],
   "source": [
    "lengthscale = 1.\n",
    "alpha = solve_posterior_predictive_mean(lengthscale, mean, kernel, X, Y)\n",
    "print(\"Weights\", alpha)\n",
    "plt.plot(X[:,0], Y, marker='o', linestyle='none', label='Dataset')\n",
    "pred = partial(predict_posterior_predictive_mean, lengthscale, mean, kernel, X, alpha)\n",
    "xs = np.linspace(-5, 5)\n",
    "y_preds = [pred(np.array([x])) for x in xs]\n",
    "plt.plot(xs, y_preds, label='GPR'); \n",
    "plt.plot(xs, np.zeros(xs.shape[0]), label='mean');\n",
    "plt.xlabel('Feature'); plt.ylabel('Label')\n",
    "plt.legend(); plt.title('Gaussian Process Regression')"
   ]
  },
  {
   "cell_type": "markdown",
   "id": "0e21df76",
   "metadata": {},
   "source": [
    "#### Observation 3: Effect of Lengthscale\n",
    "\n",
    "1. The lengthscale controls the influence of points in the dataset.\n",
    "2. Longer lengthscales means that we want our models to have larger influence."
   ]
  },
  {
   "cell_type": "code",
   "execution_count": 72,
   "id": "3a92a92d",
   "metadata": {},
   "outputs": [
    {
     "data": {
      "text/plain": [
       "Text(0.5, 1.0, 'Gaussian Process Regression')"
      ]
     },
     "execution_count": 72,
     "metadata": {},
     "output_type": "execute_result"
    },
    {
     "data": {
      "image/png": "[encoded data removed]",
      "text/plain": [
       "<Figure size 432x288 with 1 Axes>"
      ]
     },
     "metadata": {
      "needs_background": "light"
     },
     "output_type": "display_data"
    }
   ],
   "source": [
    "plt.plot(X[:,0], Y, marker='o', linestyle='none', label='Dataset')\n",
    "\n",
    "for lengthscale in [.1, 1., 2.]:\n",
    "    alpha = solve_posterior_predictive_mean(lengthscale, mean, kernel, X, Y)\n",
    "    pred = partial(predict_posterior_predictive_mean, lengthscale, mean, kernel, X, alpha)\n",
    "    xs = np.linspace(-5, 5)\n",
    "    y_preds = [pred(np.array([x])) for x in xs]\n",
    "    plt.plot(xs, y_preds, label=f'GPR lengthscale={lengthscale}'); \n",
    "plt.xlabel('Feature'); plt.ylabel('Label')\n",
    "plt.legend(); plt.title('Gaussian Process Regression')"
   ]
  },
  {
   "cell_type": "markdown",
   "id": "10548c8d",
   "metadata": {},
   "source": [
    "#### Observation 4: A fitted GP is a GP"
   ]
  }
 ],
 "metadata": {
  "kernelspec": {
   "display_name": "Python 3 (ipykernel)",
   "language": "python",
   "name": "python3"
  },
  "language_info": {
   "codemirror_mode": {
    "name": "ipython",
    "version": 3
   },
   "file_extension": ".py",
   "mimetype": "text/x-python",
   "name": "python",
   "nbconvert_exporter": "python",
   "pygments_lexer": "ipython3",
   "version": "3.7.3"
  }
 },
 "nbformat": 4,
 "nbformat_minor": 5
}
