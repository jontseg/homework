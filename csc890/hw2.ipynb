{
 "cells": [
  {
   "cell_type": "code",
   "execution_count": 71,
   "id": "40b8b45a",
   "metadata": {},
   "outputs": [],
   "source": [
    "from os.path import exists\n",
    "import requests\n",
    "from typing import *\n",
    "\n",
    "import math \n",
    "import numpy as np\n",
    "import pandas as pd\n",
    "import scipy as sp\n",
    "import scipy.stats   # statistics package\n",
    "from tqdm.notebook import trange, tqdm"
   ]
  },
  {
   "cell_type": "markdown",
   "id": "1c3591ce",
   "metadata": {},
   "source": [
    "# Homework 2: Probability and Linear Regression\n",
    "\n",
    "1. Answer each question.\n",
    "2. Feel free to leave in testing code and other visualization code."
   ]
  },
  {
   "cell_type": "markdown",
   "id": "d053f01d",
   "metadata": {},
   "source": [
    "### Normal Distribution\n",
    "\n",
    "The famous Normal distribution or Gaussian distribution.\n",
    "\n",
    "$$\n",
    "X \\sim \\mathcal{N}(\\mu, \\sigma^2)\n",
    "$$\n",
    "\n",
    "means thats $X$ is a random variable with normal distribution with mean $\\mu$ and scale $\\sigma$."
   ]
  },
  {
   "cell_type": "markdown",
   "id": "d21bcc09",
   "metadata": {},
   "source": [
    "### Bayes Rule: Continuous Version\n",
    "\n",
    "Suppose $X$ and $Y$ are continuous random variables with joint density $p_{X, Y}(x, y)$.\n",
    "1. Then\n",
    "$$\n",
    "p_{X, Y}(x, y) = p_{X|Y}(x | y) p(y)\n",
    "$$\n",
    "when $p_{X|Y}(x | y)$ exists.\n",
    "2. Then\n",
    "$$\n",
    "p_{X, Y}(x, y) = p_{Y|X}(y | x) p(x)\n",
    "$$\n",
    "when $p_{Y|X}(y | x)$ exists."
   ]
  },
  {
   "cell_type": "markdown",
   "id": "742401d0",
   "metadata": {},
   "source": [
    "### Joint Density\n",
    "\n",
    "1. Like before we would like to talk about multiple continuous random variables.\n",
    "\n",
    "2. The **joint probability density function** (when it exists) of two random variables $X$ and $Y$ is written\n",
    "$$\n",
    "p_{X, Y}(x, y)\n",
    "$$\n",
    "and has the property that\n",
    "$$\n",
    "\\int_{\\infty}^\\infty \\int_{\\infty}^\\infty p_{X, Y}(x, y) dx dy = 1 \\,.\n",
    "$$\n",
    "\n",
    "3. The marginal probability density functions can be obtained by integration\n",
    "    - $p_X(x) = \\int_{-\\infty}^{\\infty} p_{X, Y}(x, y) dy$\n",
    "    - $p_Y(y) = \\int_{-\\infty}^{\\infty} p_{X, Y}(x, y) dx$"
   ]
  },
  {
   "cell_type": "markdown",
   "id": "916d1cfa",
   "metadata": {},
   "source": [
    "## Problem 1 (40 pts): A Strange Regression Model\n",
    "\n",
    "Suppose we are fitting a regression model to a dataset $(x_i, y_i)_{1 \\leq i \\leq N}$\n",
    "\\begin{align*}\n",
    "p(y^i|x^i; \\theta) & = \\mathcal{N}(f_1(x_1^i) \\theta_1 + f_2(x_2^i) \\theta_2 + \\theta_3, 1) \\\\\n",
    "p(y |x; \\theta) & = \\prod_{i=1}^N p(y^i|x^i; \\theta)\n",
    "\\end{align*}\n",
    "where\n",
    "1. the inputs $x^i \\in \\mathbb{R}^2$ are 2-D vectors\n",
    "2. $f_1, f_2, f_3: \\mathbb{R} \\rightarrow \\mathbb{R}$ are arbitrary functions.\n",
    "3. $\\theta = (\\theta_1, \\theta_2, \\theta_3)$ is a vector of weights"
   ]
  },
  {
   "cell_type": "markdown",
   "id": "e48dd24a",
   "metadata": {},
   "source": [
    "### Problem 1a (10 pts)\n",
    "\n",
    "Implement the conditional density given below."
   ]
  },
  {
   "cell_type": "code",
   "execution_count": 106,
   "id": "e8e29e5e",
   "metadata": {},
   "outputs": [],
   "source": [
    "def construct_distribution(theta, x,scale):\n",
    "    x = np.concatenate([x, np.ones((3, 1))], axis=1)\n",
    "    normals = [\n",
    "        sp.stats.norm(loc=np.dot(theta, x[0]), scale=scale),\n",
    "        sp.stats.norm(loc=np.dot(theta, x[1]), scale=scale),\n",
    "        sp.stats.norm(loc=np.dot(theta,x[2]), scale=scale)\n",
    "    ]\n",
    "    return normals\n"
   ]
  },
  {
   "cell_type": "code",
   "execution_count": 107,
   "id": "9fc8623d",
   "metadata": {},
   "outputs": [],
   "source": [
    "def model1_density(f1: Callable[[float], float], f2: Callable[[float], float], theta: np.ndarray, x: np.ndarray) -> Callable[[float], float]:\n",
    "    # f1 is function f_1\n",
    "    # f2 is function f_2\n",
    "    # theta is some choice of weights\n",
    "    # x is an input\n",
    "    # return a function from y to density\n",
    "    def y_toDensity(y:np.ndarray):\n",
    "        scale = 1\n",
    "        f1v = np.vectorize(f1)\n",
    "        f2v = np.vectorize(f2)\n",
    "        x[0] = f1v(x[0])\n",
    "        x[1] = f2v(x[1])\n",
    "        normals = construct_distribution(theta, x,scale)\n",
    "        res = 1\n",
    "        yIdx = 0\n",
    "        for norm in normals:\n",
    "            res *= norm.pdf(y[yIdx])\n",
    "            yIdx += 1\n",
    "        return res\n",
    "    return y_toDensity"
   ]
  },
  {
   "cell_type": "markdown",
   "id": "068d0eee",
   "metadata": {},
   "source": [
    "### Problem 1b (15 pts)\n",
    "\n",
    "Write a function that solves for the weights by finding the approximate minimum of the conditional density, i.e., solve\n",
    "$$\n",
    "\\operatorname{argmin}_{\\theta} -p(y | x; \\theta)\n",
    "$$\n",
    "1. The input $X^{N \\times 2}$ is a $N \\times 2$ matrix where row $i$ of the matrix contains the input $x^i$.\n",
    "2. The input $Y^N$ is a length $N$ vector where each entry contains the corresponding value $y^i$."
   ]
  },
  {
   "cell_type": "code",
   "execution_count": 108,
   "id": "c5e242c5",
   "metadata": {},
   "outputs": [
    {
     "data": {
      "text/plain": [
       "array([  2.,   4., -28.])"
      ]
     },
     "execution_count": 108,
     "metadata": {},
     "output_type": "execute_result"
    }
   ],
   "source": [
    "def solve_for_weights1(f1: Callable[[float], float], f2: Callable[[float], float], X: np.ndarray, Y: np.ndarray) -> np.ndarray:\n",
    "    thetas1 = np.linspace(-50., 50.,num=200)\n",
    "    thetas2 = np.linspace(-50., 50., num=200)\n",
    "    thetas3 = np.linspace(-50., 50., num=200)\n",
    "    best_theta = np.array([2., 4., -28.])\n",
    "    best_val = model1_density(f1, f2, best_theta, x)(Y)-1\n",
    "    for theta3 in thetas3:\n",
    "        curr_theta = np.array([best_theta[0], best_theta[1], theta3])\n",
    "        curr_val = model1_density(f1,f2, curr_theta, X)(Y)-1\n",
    "        if curr_val < best_val:\n",
    "            best_val = curr_val\n",
    "            best_theta[2] = theta3\n",
    "    for theta1 in thetas1:\n",
    "        for theta2 in thetas2:\n",
    "            curr_theta = np.array([theta1, theta2, best_theta[2]])\n",
    "            curr_val = model1_density(f1,f2, curr_theta, X)(Y)*-1\n",
    "            if curr_val < best_val:\n",
    "                best_val = curr_val\n",
    "                best_theta[0] = theta1\n",
    "                best_theta[1] = theta2\n",
    "\n",
    "\n",
    "    # We are doing an argmin\n",
    "    return best_theta\n",
    "\n",
    "\n",
    "def f1(x):\n",
    "    return x\n",
    "def f2(x):\n",
    "    return x\n",
    "theta = np.array([1.,2.,3.])\n",
    "x=np.array([[1.,2.],[3.,4.],[5.,6.]])\n",
    "x_q = x.copy()\n",
    "x_q = np.concatenate([x_q, np.ones((3, 1))], axis=1)\n",
    "x_q[:,0] = f1(x_q[:,0])\n",
    "x_q[:,1] = f2(x_q[:,1])\n",
    "y = np.dot(x_q, theta)\n",
    "solve_for_weights1(f1,f2,x,y)"
   ]
  },
  {
   "cell_type": "markdown",
   "id": "9bb5a24b",
   "metadata": {},
   "source": [
    "### Problem 1c (15 pts)\n",
    "\n",
    "Transform the probabilistic model into a system that can be solved with linear algebra.\n",
    "```ts\n",
    "def linear_algebra_solve(X, Y):\n",
    "    X_p = np.concatenate([X, np.ones((Y.size[0], 1))], axis=1)\n",
    "    return np.linalg.solve(X_p.transpose() @ X_p, X_p.transpose() @ Y)\n",
    "```\n",
    "That is, come up with new matrix $X'$ and vector $Y'$ such that it can be input into `linear_algebra_solve`ts to produce the same set of weights.\n"
   ]
  },
  {
   "cell_type": "code",
   "execution_count": 111,
   "id": "38d3e4c3",
   "metadata": {},
   "outputs": [
    {
     "data": {
      "text/plain": [
       "(array([[1., 2.],\n",
       "        [3., 4.],\n",
       "        [5., 6.]]),\n",
       " array([ 8., 14., 20.]))"
      ]
     },
     "execution_count": 111,
     "metadata": {},
     "output_type": "execute_result"
    }
   ],
   "source": [
    "def transform(f1: Callable[[float], float], f2: Callable[[float], float], X: np.ndarray, Y: np.ndarray) -> Tuple[np.ndarray, np.ndarray]:\n",
    "    X_p = X.copy()\n",
    "    X_p[:,0] = f1(X_p[:,0])\n",
    "    X_p[:,1] = f2(X_p[:,1])\n",
    "    return X_p, Y # TODO: change me\n",
    "\n",
    "transform(f1, f2, x,y)"
   ]
  },
  {
   "cell_type": "code",
   "execution_count": 121,
   "id": "1a6e2f09",
   "metadata": {},
   "outputs": [],
   "source": [
    "def linear_algebra_solve(X, Y):\n",
    "    print(X)\n",
    "    X_p = np.concatenate([X, np.ones((Y.shape[0], 1))], axis=1)\n",
    "    return np.linalg.solve(X_p.transpose() @ X_p, X_p.transpose() @ Y)"
   ]
  },
  {
   "cell_type": "code",
   "execution_count": null,
   "id": "4806d125",
   "metadata": {},
   "outputs": [],
   "source": []
  },
  {
   "cell_type": "code",
   "execution_count": 122,
   "id": "5986c448",
   "metadata": {},
   "outputs": [
    {
     "name": "stdout",
     "output_type": "stream",
     "text": [
      "[[1. 2.]\n",
      " [3. 4.]\n",
      " [5. 6.]]\n"
     ]
    },
    {
     "data": {
      "text/plain": [
       "array([-30.,  33., -28.])"
      ]
     },
     "execution_count": 122,
     "metadata": {},
     "output_type": "execute_result"
    }
   ],
   "source": [
    "X , Y = transform(f1, f2, x,y)\n",
    "linear_algebra_solve(X, Y)"
   ]
  },
  {
   "cell_type": "markdown",
   "id": "d4526ee4",
   "metadata": {},
   "source": [
    "## Problem 2 (40 pts): Mixture Model\n",
    "\n",
    "Suppose that we are performing regression in a setting with the following density\n",
    "$$\n",
    "p(y|x; \\theta, \\beta) = \\frac{1}{2}p_1(y|x; \\theta) + \\frac{1}{2}p_2(y|x; \\beta)\n",
    "$$\n",
    "where both $p_1(y|x; \\theta)$ and $p_2(y|x; \\theta)$ are linear regressions."
   ]
  },
  {
   "cell_type": "markdown",
   "id": "55784262",
   "metadata": {},
   "source": [
    "### Problem 2a (10 pts)\n",
    "\n",
    "Write a function that generates synthetic data according to the following probabilistic model.\n",
    "\\begin{align*}\n",
    "z^i & \\sim Bern(0.5) \\\\\n",
    "y^i & \\sim \\begin{cases}\n",
    "\\mathcal{N}(\\theta x, 1) & \\mbox{when $Z^i = 0$} \\\\\n",
    "\\mathcal{N}(\\beta x, 1) & \\mbox{when $Z^i = 1$}\n",
    "\\end{cases}\n",
    "\\end{align*}\n",
    "In this example, we are assuming that the inputs are a single real number."
   ]
  },
  {
   "cell_type": "code",
   "execution_count": 126,
   "id": "0c337a40",
   "metadata": {},
   "outputs": [
    {
     "data": {
      "text/plain": [
       "[-0.1010237877876598,\n",
       " -0.2857986159026535,\n",
       " -1.1615849831802425,\n",
       " -0.8830828961232033,\n",
       " -0.5268558893763522,\n",
       " -0.47730744574892997,\n",
       " -0.5787691845198843,\n",
       " 1.296466714388593,\n",
       " 0.0987417205343534,\n",
       " -1.9663954365626044,\n",
       " 0.7967556925582787,\n",
       " -0.15356213359522208,\n",
       " 0.5245865643691608,\n",
       " 0.8700192609197923,\n",
       " 0.7171277146922352,\n",
       " 1.9232101881524624,\n",
       " 0.6660864824356139,\n",
       " 0.7930097935159054,\n",
       " -0.8992087390160495,\n",
       " 1.266571717485329,\n",
       " 1.5991391847828653,\n",
       " 0.4079412126610349,\n",
       " 0.36506375940400543,\n",
       " -0.9969978797662336,\n",
       " -1.272274217227195,\n",
       " -0.20037593386097402,\n",
       " 0.5674285728903488,\n",
       " 0.4605138636702868,\n",
       " 0.15177975749182732,\n",
       " 0.9050173536388963,\n",
       " -1.2151789245560582,\n",
       " 1.0341208154473736,\n",
       " -0.4435216406762849,\n",
       " -0.23369134918701612,\n",
       " -1.014905496845928,\n",
       " -0.9311516258117278,\n",
       " 2.5476194458109886,\n",
       " -0.4838631646235166,\n",
       " -0.39682929008060114,\n",
       " -0.018267840417143688,\n",
       " 1.432614685563641,\n",
       " -0.09381540656088017,\n",
       " 0.7890727351235456,\n",
       " -0.10752425614426658,\n",
       " 0.6347644405284665,\n",
       " 0.21394699814747656,\n",
       " 1.7106728880464435,\n",
       " 0.2313905304924112,\n",
       " 0.2703550589134771,\n",
       " 0.09477608962621661,\n",
       " 1.0185750602107773,\n",
       " -0.8185988877291566,\n",
       " -1.5100750845019915,\n",
       " -0.16797361638757952,\n",
       " 0.7638672373660431,\n",
       " 0.8236816092558137,\n",
       " -1.2550247021888148,\n",
       " 0.9813466243211864,\n",
       " 0.18496379681189815,\n",
       " 0.048524970015181856,\n",
       " 0.834935779667695,\n",
       " 0.8712226768498319,\n",
       " 0.5302310340707763,\n",
       " -0.24851441966491272,\n",
       " 0.20088659548180376,\n",
       " -0.37289071462251794,\n",
       " -1.2078419264646076,\n",
       " 1.6991135814470006,\n",
       " -0.561930151176653,\n",
       " 2.1965876514487896,\n",
       " 0.5039219792484922,\n",
       " 0.2790176471252099,\n",
       " 1.905777384999571,\n",
       " 0.9884842516892527,\n",
       " 0.6651433442577805,\n",
       " 0.7414957892391769,\n",
       " 0.37770571824626054,\n",
       " -0.354578546684216,\n",
       " -0.1417190854023645,\n",
       " 0.8562199726289272,\n",
       " 0.2540456100501291,\n",
       " -1.6987822934642265,\n",
       " -0.0409058156851716,\n",
       " 0.8407035008561918,\n",
       " 0.7245257405283392,\n",
       " 0.7047363067299113,\n",
       " 2.1650487960184104,\n",
       " 1.1501898818517953,\n",
       " 1.3846516874208823,\n",
       " -0.2519403447963396,\n",
       " -1.5132645462914096,\n",
       " 0.27805922947729117,\n",
       " -0.20781828683697345,\n",
       " -0.4872554376312071,\n",
       " 0.16314778348524223,\n",
       " -0.6834326569065488,\n",
       " -0.6186562195152081,\n",
       " -0.2927630800420615,\n",
       " 0.3534310007009676,\n",
       " 1.2428884780793916]"
      ]
     },
     "execution_count": 126,
     "metadata": {},
     "output_type": "execute_result"
    }
   ],
   "source": [
    "def generate_dataset(theta: np.ndarray, beta: np.ndarray, size) -> np.ndarray:\n",
    "    bern = sp.stats.bernoulli(0.5)\n",
    "    norm1 = sp.stats.norm(theta, 1)\n",
    "    norm2 = sp.stats.norm(beta, 1)\n",
    "    y = []\n",
    "    \n",
    "    \n",
    "    for i in range(size):\n",
    "        z = bern.rvs()\n",
    "        if (z == 0):\n",
    "            y.append(norm1.rvs())\n",
    "        else:\n",
    "            y.append(norm2.rvs())\n",
    "    return y\n",
    "theta = np.array([0.2])\n",
    "beta = np.array([0.3])\n",
    "generate_dataset(theta, beta,100)"
   ]
  },
  {
   "cell_type": "markdown",
   "id": "d93bb271",
   "metadata": {},
   "source": [
    "### Problem 2b (15 pts)\n",
    "\n",
    "Write a function that implements the conditional density\n",
    "$$\n",
    "p(y | x; \\theta, \\beta)\n",
    "$$\n",
    "assuming that each $y^i$ is conditionally independent of each other given $z_i$.\n"
   ]
  },
  {
   "cell_type": "code",
   "execution_count": 137,
   "id": "6dab3da4",
   "metadata": {},
   "outputs": [
    {
     "name": "stdout",
     "output_type": "stream",
     "text": [
      "[0.28952351 0.29413858]\n",
      "[0.39880698 0.39851958]\n"
     ]
    },
    {
     "data": {
      "text/plain": [
       "array([0.11634232, 0.11847346])"
      ]
     },
     "execution_count": 137,
     "metadata": {},
     "output_type": "execute_result"
    }
   ],
   "source": [
    "def mixture_model_density(theta: float, beta: float, X: np.ndarray, y: np.ndarray) -> float:\n",
    "    # X is a one dimensional array of x values\n",
    "    norm1 = sp.stats.norm(loc=np.dot(theta,X), scale=1)\n",
    "    norm2 = sp.stats.norm(loc=np.dot(beta,X), scale=1)\n",
    "    res = 1\n",
    "    for yi in y:\n",
    "        print(norm1.pdf(yi))\n",
    "        res *= (0.5)*(norm1.pdf(yi) + norm2.pdf(yi)) \n",
    "    return res\n",
    "theta = 0.2\n",
    "beta = 0.3\n",
    "x = np.array([0.2,0.3])\n",
    "y = generate_dataset(theta,beta,2)\n",
    "mixture_model_density(theta, beta, x, y)"
   ]
  },
  {
   "cell_type": "markdown",
   "id": "f6c57116",
   "metadata": {},
   "source": [
    "### Problem 2c (15 pts)\n",
    "\n",
    "Write a function that finds the optimal parameters of $\\theta$ and $\\beta$, i.e., \n",
    "$$\n",
    "\\operatorname{argmin}_{\\theta} p(y | x; \\theta, \\beta) \\,.\n",
    "$$\n",
    "You can use `generate_dataset` to test if your code is working."
   ]
  },
  {
   "cell_type": "code",
   "execution_count": 7,
   "id": "287fb2ce",
   "metadata": {},
   "outputs": [],
   "source": [
    "def solve_mixture_model_density(X: np.ndarray, Y: np.ndarray) -> Tuple[float, float]:\n",
    "    # X contains a length N array of inputs of dimension 1\n",
    "    # Y contains a length N array of outputs\n",
    "    theta = 0.0\n",
    "    beta = 0.0\n",
    "    \n",
    "    # TODO: FILL ME IN\n",
    "    \n",
    "    return theta, beta"
   ]
  },
  {
   "cell_type": "markdown",
   "id": "bb03b443",
   "metadata": {},
   "source": [
    "## Problem 3 (20 pts): Linear Regression, Duplicate Data\n",
    "\n",
    "Suppose we have a dataset $(x_i, y_i)_{1 \\leq i \\leq N}$.\n",
    "Suppose we duplicate this dataset so that it now contains a copy of each item.\n",
    "Explain in words what happens to the weights of the linear regression in terms of the linear algebra solution and in terms of the probabilistic interpretation. Compare and contrast the two solutions. You can additionally write code and give experimental evidence as well."
   ]
  },
  {
   "cell_type": "markdown",
   "id": "1d4f78cf",
   "metadata": {},
   "source": [
    "FILL ME IN"
   ]
  }
 ],
 "metadata": {
  "kernelspec": {
   "display_name": "Python 3 (ipykernel)",
   "language": "python",
   "name": "python3"
  },
  "language_info": {
   "codemirror_mode": {
    "name": "ipython",
    "version": 3
   },
   "file_extension": ".py",
   "mimetype": "text/x-python",
   "name": "python",
   "nbconvert_exporter": "python",
   "pygments_lexer": "ipython3",
   "version": "3.9.7"
  }
 },
 "nbformat": 4,
 "nbformat_minor": 5
}
